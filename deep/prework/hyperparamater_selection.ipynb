{
  "nbformat": 4,
  "nbformat_minor": 0,
  "metadata": {
    "colab": {
      "provenance": []
    },
    "kernelspec": {
      "name": "python3",
      "display_name": "Python 3"
    },
    "language_info": {
      "name": "python"
    },
    "accelerator": "GPU"
  },
  "cells": [
    {
      "cell_type": "markdown",
      "metadata": {
        "id": "FRbIcCiotoce"
      },
      "source": [
        "<a name=\"TF-KS\"></a>\n",
        "## **Hyperparameter Selection**"
      ]
    },
    {
      "cell_type": "markdown",
      "metadata": {
        "id": "dXGcc1OtBa63"
      },
      "source": [
        "Table of contents:\n",
        "- [Learning Curve](#Loss-plot)\n",
        "- [Hyperparameter Tuning](#Tuning)"
      ]
    },
    {
      "cell_type": "code",
      "source": [
        "#! pip install scikeras[tensorflow]"
      ],
      "metadata": {
        "id": "L34KBNFdCyu3"
      },
      "execution_count": 5,
      "outputs": []
    },
    {
      "cell_type": "code",
      "metadata": {
        "id": "Dcy-aryLxrCj"
      },
      "source": [
        "#import numpy as np\n",
        "import pandas as pd\n",
        "\n",
        "import tensorflow as tf\n",
        "from tensorflow.keras.layers import Dense, Input, InputLayer\n",
        "from tensorflow.keras.optimizers import Adam\n",
        "\n",
        "#from tensorflow.keras import initializers\n",
        "\n",
        "from sklearn.metrics import accuracy_score#confusion_matrix,\n",
        "#import seaborn as sns\n",
        "import matplotlib.pyplot as plt\n",
        "\n",
        "from sklearn.model_selection import GridSearchCV\n",
        "#from keras.models import Sequential\n",
        "#from keras.layers import Dense\n",
        "from scikeras.wrappers import KerasClassifier,KerasRegressor # for this line work first execute  pip install scikeras[tensorflow]\n"
      ],
      "execution_count": 6,
      "outputs": []
    },
    {
      "cell_type": "markdown",
      "metadata": {
        "id": "mR78a4QIbEow"
      },
      "source": [
        "<a name=\"Dataset\"></a>\n",
        "## **Dataset**\n"
      ]
    },
    {
      "cell_type": "code",
      "metadata": {
        "colab": {
          "base_uri": "https://localhost:8080/"
        },
        "id": "tVe2wKVGSwIV",
        "outputId": "06886918-021b-431d-acb1-aa995c2d10dc"
      },
      "source": [
        "from google.colab import drive\n",
        "drive.mount('/content/drive/')"
      ],
      "execution_count": 7,
      "outputs": [
        {
          "output_type": "stream",
          "name": "stdout",
          "text": [
            "Mounted at /content/drive/\n"
          ]
        }
      ]
    },
    {
      "cell_type": "code",
      "metadata": {
        "colab": {
          "base_uri": "https://localhost:8080/",
          "height": 206
        },
        "id": "59_A44_uS6PP",
        "outputId": "a7e0af1a-fb7e-478d-a97d-65283e9d248a"
      },
      "source": [
        "import pandas as pd\n",
        "data = pd.read_csv(\"/content/drive/MyDrive/auto-mpg.csv\", na_values='?', usecols=[\"MPG\",\"Cylinders\",\"Displacement\",\"Horsepower\",\"Weight\",\"Acceleration\",\"Model year\"])\n",
        "data = data.dropna()\n",
        "data.head()"
      ],
      "execution_count": 8,
      "outputs": [
        {
          "output_type": "execute_result",
          "data": {
            "text/plain": [
              "    MPG  Cylinders  Displacement  Horsepower  Weight  Acceleration  Model year\n",
              "0  18.0          8         307.0       130.0    3504          12.0          70\n",
              "1  15.0          8         350.0       165.0    3693          11.5          70\n",
              "2  18.0          8         318.0       150.0    3436          11.0          70\n",
              "3  16.0          8         304.0       150.0    3433          12.0          70\n",
              "4  17.0          8         302.0       140.0    3449          10.5          70"
            ],
            "text/html": [
              "\n",
              "\n",
              "  <div id=\"df-b7e9b1a2-07f1-499d-81aa-2cfcf486adea\">\n",
              "    <div class=\"colab-df-container\">\n",
              "      <div>\n",
              "<style scoped>\n",
              "    .dataframe tbody tr th:only-of-type {\n",
              "        vertical-align: middle;\n",
              "    }\n",
              "\n",
              "    .dataframe tbody tr th {\n",
              "        vertical-align: top;\n",
              "    }\n",
              "\n",
              "    .dataframe thead th {\n",
              "        text-align: right;\n",
              "    }\n",
              "</style>\n",
              "<table border=\"1\" class=\"dataframe\">\n",
              "  <thead>\n",
              "    <tr style=\"text-align: right;\">\n",
              "      <th></th>\n",
              "      <th>MPG</th>\n",
              "      <th>Cylinders</th>\n",
              "      <th>Displacement</th>\n",
              "      <th>Horsepower</th>\n",
              "      <th>Weight</th>\n",
              "      <th>Acceleration</th>\n",
              "      <th>Model year</th>\n",
              "    </tr>\n",
              "  </thead>\n",
              "  <tbody>\n",
              "    <tr>\n",
              "      <th>0</th>\n",
              "      <td>18.0</td>\n",
              "      <td>8</td>\n",
              "      <td>307.0</td>\n",
              "      <td>130.0</td>\n",
              "      <td>3504</td>\n",
              "      <td>12.0</td>\n",
              "      <td>70</td>\n",
              "    </tr>\n",
              "    <tr>\n",
              "      <th>1</th>\n",
              "      <td>15.0</td>\n",
              "      <td>8</td>\n",
              "      <td>350.0</td>\n",
              "      <td>165.0</td>\n",
              "      <td>3693</td>\n",
              "      <td>11.5</td>\n",
              "      <td>70</td>\n",
              "    </tr>\n",
              "    <tr>\n",
              "      <th>2</th>\n",
              "      <td>18.0</td>\n",
              "      <td>8</td>\n",
              "      <td>318.0</td>\n",
              "      <td>150.0</td>\n",
              "      <td>3436</td>\n",
              "      <td>11.0</td>\n",
              "      <td>70</td>\n",
              "    </tr>\n",
              "    <tr>\n",
              "      <th>3</th>\n",
              "      <td>16.0</td>\n",
              "      <td>8</td>\n",
              "      <td>304.0</td>\n",
              "      <td>150.0</td>\n",
              "      <td>3433</td>\n",
              "      <td>12.0</td>\n",
              "      <td>70</td>\n",
              "    </tr>\n",
              "    <tr>\n",
              "      <th>4</th>\n",
              "      <td>17.0</td>\n",
              "      <td>8</td>\n",
              "      <td>302.0</td>\n",
              "      <td>140.0</td>\n",
              "      <td>3449</td>\n",
              "      <td>10.5</td>\n",
              "      <td>70</td>\n",
              "    </tr>\n",
              "  </tbody>\n",
              "</table>\n",
              "</div>\n",
              "      <button class=\"colab-df-convert\" onclick=\"convertToInteractive('df-b7e9b1a2-07f1-499d-81aa-2cfcf486adea')\"\n",
              "              title=\"Convert this dataframe to an interactive table.\"\n",
              "              style=\"display:none;\">\n",
              "\n",
              "  <svg xmlns=\"http://www.w3.org/2000/svg\" height=\"24px\"viewBox=\"0 0 24 24\"\n",
              "       width=\"24px\">\n",
              "    <path d=\"M0 0h24v24H0V0z\" fill=\"none\"/>\n",
              "    <path d=\"M18.56 5.44l.94 2.06.94-2.06 2.06-.94-2.06-.94-.94-2.06-.94 2.06-2.06.94zm-11 1L8.5 8.5l.94-2.06 2.06-.94-2.06-.94L8.5 2.5l-.94 2.06-2.06.94zm10 10l.94 2.06.94-2.06 2.06-.94-2.06-.94-.94-2.06-.94 2.06-2.06.94z\"/><path d=\"M17.41 7.96l-1.37-1.37c-.4-.4-.92-.59-1.43-.59-.52 0-1.04.2-1.43.59L10.3 9.45l-7.72 7.72c-.78.78-.78 2.05 0 2.83L4 21.41c.39.39.9.59 1.41.59.51 0 1.02-.2 1.41-.59l7.78-7.78 2.81-2.81c.8-.78.8-2.07 0-2.86zM5.41 20L4 18.59l7.72-7.72 1.47 1.35L5.41 20z\"/>\n",
              "  </svg>\n",
              "      </button>\n",
              "\n",
              "\n",
              "\n",
              "    <div id=\"df-a63c9494-62f3-4148-a6ab-e6bd13d03339\">\n",
              "      <button class=\"colab-df-quickchart\" onclick=\"quickchart('df-a63c9494-62f3-4148-a6ab-e6bd13d03339')\"\n",
              "              title=\"Suggest charts.\"\n",
              "              style=\"display:none;\">\n",
              "\n",
              "<svg xmlns=\"http://www.w3.org/2000/svg\" height=\"24px\"viewBox=\"0 0 24 24\"\n",
              "     width=\"24px\">\n",
              "    <g>\n",
              "        <path d=\"M19 3H5c-1.1 0-2 .9-2 2v14c0 1.1.9 2 2 2h14c1.1 0 2-.9 2-2V5c0-1.1-.9-2-2-2zM9 17H7v-7h2v7zm4 0h-2V7h2v10zm4 0h-2v-4h2v4z\"/>\n",
              "    </g>\n",
              "</svg>\n",
              "      </button>\n",
              "    </div>\n",
              "\n",
              "<style>\n",
              "  .colab-df-quickchart {\n",
              "    background-color: #E8F0FE;\n",
              "    border: none;\n",
              "    border-radius: 50%;\n",
              "    cursor: pointer;\n",
              "    display: none;\n",
              "    fill: #1967D2;\n",
              "    height: 32px;\n",
              "    padding: 0 0 0 0;\n",
              "    width: 32px;\n",
              "  }\n",
              "\n",
              "  .colab-df-quickchart:hover {\n",
              "    background-color: #E2EBFA;\n",
              "    box-shadow: 0px 1px 2px rgba(60, 64, 67, 0.3), 0px 1px 3px 1px rgba(60, 64, 67, 0.15);\n",
              "    fill: #174EA6;\n",
              "  }\n",
              "\n",
              "  [theme=dark] .colab-df-quickchart {\n",
              "    background-color: #3B4455;\n",
              "    fill: #D2E3FC;\n",
              "  }\n",
              "\n",
              "  [theme=dark] .colab-df-quickchart:hover {\n",
              "    background-color: #434B5C;\n",
              "    box-shadow: 0px 1px 3px 1px rgba(0, 0, 0, 0.15);\n",
              "    filter: drop-shadow(0px 1px 2px rgba(0, 0, 0, 0.3));\n",
              "    fill: #FFFFFF;\n",
              "  }\n",
              "</style>\n",
              "\n",
              "    <script>\n",
              "      async function quickchart(key) {\n",
              "        const containerElement = document.querySelector('#' + key);\n",
              "        const charts = await google.colab.kernel.invokeFunction(\n",
              "            'suggestCharts', [key], {});\n",
              "      }\n",
              "    </script>\n",
              "\n",
              "      <script>\n",
              "\n",
              "function displayQuickchartButton(domScope) {\n",
              "  let quickchartButtonEl =\n",
              "    domScope.querySelector('#df-a63c9494-62f3-4148-a6ab-e6bd13d03339 button.colab-df-quickchart');\n",
              "  quickchartButtonEl.style.display =\n",
              "    google.colab.kernel.accessAllowed ? 'block' : 'none';\n",
              "}\n",
              "\n",
              "        displayQuickchartButton(document);\n",
              "      </script>\n",
              "      <style>\n",
              "    .colab-df-container {\n",
              "      display:flex;\n",
              "      flex-wrap:wrap;\n",
              "      gap: 12px;\n",
              "    }\n",
              "\n",
              "    .colab-df-convert {\n",
              "      background-color: #E8F0FE;\n",
              "      border: none;\n",
              "      border-radius: 50%;\n",
              "      cursor: pointer;\n",
              "      display: none;\n",
              "      fill: #1967D2;\n",
              "      height: 32px;\n",
              "      padding: 0 0 0 0;\n",
              "      width: 32px;\n",
              "    }\n",
              "\n",
              "    .colab-df-convert:hover {\n",
              "      background-color: #E2EBFA;\n",
              "      box-shadow: 0px 1px 2px rgba(60, 64, 67, 0.3), 0px 1px 3px 1px rgba(60, 64, 67, 0.15);\n",
              "      fill: #174EA6;\n",
              "    }\n",
              "\n",
              "    [theme=dark] .colab-df-convert {\n",
              "      background-color: #3B4455;\n",
              "      fill: #D2E3FC;\n",
              "    }\n",
              "\n",
              "    [theme=dark] .colab-df-convert:hover {\n",
              "      background-color: #434B5C;\n",
              "      box-shadow: 0px 1px 3px 1px rgba(0, 0, 0, 0.15);\n",
              "      filter: drop-shadow(0px 1px 2px rgba(0, 0, 0, 0.3));\n",
              "      fill: #FFFFFF;\n",
              "    }\n",
              "  </style>\n",
              "\n",
              "      <script>\n",
              "        const buttonEl =\n",
              "          document.querySelector('#df-b7e9b1a2-07f1-499d-81aa-2cfcf486adea button.colab-df-convert');\n",
              "        buttonEl.style.display =\n",
              "          google.colab.kernel.accessAllowed ? 'block' : 'none';\n",
              "\n",
              "        async function convertToInteractive(key) {\n",
              "          const element = document.querySelector('#df-b7e9b1a2-07f1-499d-81aa-2cfcf486adea');\n",
              "          const dataTable =\n",
              "            await google.colab.kernel.invokeFunction('convertToInteractive',\n",
              "                                                     [key], {});\n",
              "          if (!dataTable) return;\n",
              "\n",
              "          const docLinkHtml = 'Like what you see? Visit the ' +\n",
              "            '<a target=\"_blank\" href=https://colab.research.google.com/notebooks/data_table.ipynb>data table notebook</a>'\n",
              "            + ' to learn more about interactive tables.';\n",
              "          element.innerHTML = '';\n",
              "          dataTable['output_type'] = 'display_data';\n",
              "          await google.colab.output.renderOutput(dataTable, element);\n",
              "          const docLink = document.createElement('div');\n",
              "          docLink.innerHTML = docLinkHtml;\n",
              "          element.appendChild(docLink);\n",
              "        }\n",
              "      </script>\n",
              "    </div>\n",
              "  </div>\n"
            ]
          },
          "metadata": {},
          "execution_count": 8
        }
      ]
    },
    {
      "cell_type": "code",
      "metadata": {
        "colab": {
          "base_uri": "https://localhost:8080/"
        },
        "id": "ZK4MsOdEaih_",
        "outputId": "2a9ee39f-5031-47d9-c5f2-39034fa0a650"
      },
      "source": [
        "data.shape"
      ],
      "execution_count": 9,
      "outputs": [
        {
          "output_type": "execute_result",
          "data": {
            "text/plain": [
              "(392, 7)"
            ]
          },
          "metadata": {},
          "execution_count": 9
        }
      ]
    },
    {
      "cell_type": "code",
      "metadata": {
        "id": "EzhIT6VBLMOc"
      },
      "source": [
        "from sklearn.model_selection import train_test_split\n",
        "X_train, X_test, y_train, y_test = train_test_split(data.drop('MPG', axis=1), data['MPG'], test_size=0.3, random_state=42)"
      ],
      "execution_count": 10,
      "outputs": []
    },
    {
      "cell_type": "code",
      "metadata": {
        "id": "SkeUqEPIfLmw"
      },
      "source": [
        "X_test, X_val, y_test, y_val = train_test_split(X_test, y_test, test_size = 0.5)"
      ],
      "execution_count": 11,
      "outputs": []
    },
    {
      "cell_type": "code",
      "metadata": {
        "id": "pcvklOjkAVJs"
      },
      "source": [
        "#Z-score Normalizing\n",
        "from sklearn import preprocessing\n",
        "X_train = preprocessing.scale(X_train)\n",
        "X_val = preprocessing.scale(X_val)\n",
        "X_test = preprocessing.scale(X_test)"
      ],
      "execution_count": 12,
      "outputs": []
    },
    {
      "cell_type": "markdown",
      "metadata": {
        "id": "qbwcucURbJRM"
      },
      "source": [
        "<a name=\"Loss-plot\"></a>\n",
        "## **Learning Curve**\n"
      ]
    },
    {
      "cell_type": "code",
      "metadata": {
        "id": "Mv6zdwwf04s2"
      },
      "source": [
        "model = tf.keras.Sequential()\n",
        "model.add(InputLayer(input_shape=X_train.shape[1]))\n",
        "model.add(Dense(4, activation = 'relu')) # kernel_initializer= initializers.glorot_uniform(seed=42)\n",
        "model.add(Dense(2, activation = 'relu')) # 64, kernel_initializer= initializers.glorot_uniform(seed=42)\n",
        "model.add(Dense(1, activation='relu'))"
      ],
      "execution_count": 13,
      "outputs": []
    },
    {
      "cell_type": "code",
      "metadata": {
        "id": "DMOOF_LV-kuH"
      },
      "source": [
        "model.compile(loss=\"mean_absolute_error\")"
      ],
      "execution_count": 14,
      "outputs": []
    },
    {
      "cell_type": "code",
      "metadata": {
        "colab": {
          "base_uri": "https://localhost:8080/"
        },
        "id": "AedK9hZm-knD",
        "outputId": "1f522e75-4043-449f-80f1-1e06214f691b"
      },
      "source": [
        "history = model.fit(X_train, y_train, epochs=20, validation_data=(X_val,y_val))"
      ],
      "execution_count": 15,
      "outputs": [
        {
          "output_type": "stream",
          "name": "stdout",
          "text": [
            "Epoch 1/20\n",
            "9/9 [==============================] - 6s 24ms/step - loss: 23.2806 - val_loss: 21.6768\n",
            "Epoch 2/20\n",
            "9/9 [==============================] - 0s 6ms/step - loss: 23.2117 - val_loss: 21.6139\n",
            "Epoch 3/20\n",
            "9/9 [==============================] - 0s 6ms/step - loss: 23.1508 - val_loss: 21.5539\n",
            "Epoch 4/20\n",
            "9/9 [==============================] - 0s 6ms/step - loss: 23.0896 - val_loss: 21.4919\n",
            "Epoch 5/20\n",
            "9/9 [==============================] - 0s 6ms/step - loss: 23.0271 - val_loss: 21.4307\n",
            "Epoch 6/20\n",
            "9/9 [==============================] - 0s 9ms/step - loss: 22.9633 - val_loss: 21.3655\n",
            "Epoch 7/20\n",
            "9/9 [==============================] - 0s 6ms/step - loss: 22.8954 - val_loss: 21.2951\n",
            "Epoch 8/20\n",
            "9/9 [==============================] - 0s 6ms/step - loss: 22.8250 - val_loss: 21.2254\n",
            "Epoch 9/20\n",
            "9/9 [==============================] - 0s 6ms/step - loss: 22.7527 - val_loss: 21.1519\n",
            "Epoch 10/20\n",
            "9/9 [==============================] - 0s 6ms/step - loss: 22.6771 - val_loss: 21.0743\n",
            "Epoch 11/20\n",
            "9/9 [==============================] - 0s 6ms/step - loss: 22.5963 - val_loss: 20.9933\n",
            "Epoch 12/20\n",
            "9/9 [==============================] - 0s 6ms/step - loss: 22.5126 - val_loss: 20.9081\n",
            "Epoch 13/20\n",
            "9/9 [==============================] - 0s 8ms/step - loss: 22.4252 - val_loss: 20.8193\n",
            "Epoch 14/20\n",
            "9/9 [==============================] - 0s 7ms/step - loss: 22.3336 - val_loss: 20.7294\n",
            "Epoch 15/20\n",
            "9/9 [==============================] - 0s 6ms/step - loss: 22.2408 - val_loss: 20.6358\n",
            "Epoch 16/20\n",
            "9/9 [==============================] - 0s 6ms/step - loss: 22.1451 - val_loss: 20.5407\n",
            "Epoch 17/20\n",
            "9/9 [==============================] - 0s 8ms/step - loss: 22.0439 - val_loss: 20.4369\n",
            "Epoch 18/20\n",
            "9/9 [==============================] - 0s 6ms/step - loss: 21.9361 - val_loss: 20.3297\n",
            "Epoch 19/20\n",
            "9/9 [==============================] - 0s 6ms/step - loss: 21.8249 - val_loss: 20.2201\n",
            "Epoch 20/20\n",
            "9/9 [==============================] - 0s 6ms/step - loss: 21.7125 - val_loss: 20.1106\n"
          ]
        }
      ]
    },
    {
      "cell_type": "code",
      "metadata": {
        "colab": {
          "base_uri": "https://localhost:8080/",
          "height": 449
        },
        "id": "5cBFvBVicCp_",
        "outputId": "f3148a23-6389-4446-b0d4-ba67455a46e6"
      },
      "source": [
        "# plot training history\n",
        "plt.plot(history.history['loss'], label='train')\n",
        "plt.plot(history.history['val_loss'], label='validate')\n",
        "plt.xlabel(\"epochs\")\n",
        "plt.ylabel(\"Loss\")\n",
        "plt.legend()\n",
        "plt.show()"
      ],
      "execution_count": 16,
      "outputs": [
        {
          "output_type": "display_data",
          "data": {
            "text/plain": [
              "<Figure size 640x480 with 1 Axes>"
            ],
            "image/png": "[encoded data removed]"
          },
          "metadata": {}
        }
      ]
    },
    {
      "cell_type": "code",
      "metadata": {
        "colab": {
          "base_uri": "https://localhost:8080/"
        },
        "id": "RdhNDOhfGsjR",
        "outputId": "1c2461f5-746f-48af-b260-219402e37161"
      },
      "source": [
        "# Accuracy (Root Mean Squared Error)\n",
        "y_pred = model.predict(X_test)\n",
        "from sklearn.metrics import mean_squared_error\n",
        "mean_squared_error(y_test, y_pred, squared=False)"
      ],
      "execution_count": 17,
      "outputs": [
        {
          "output_type": "stream",
          "name": "stdout",
          "text": [
            "2/2 [==============================] - 0s 3ms/step\n"
          ]
        },
        {
          "output_type": "execute_result",
          "data": {
            "text/plain": [
              "23.6071099885402"
            ]
          },
          "metadata": {},
          "execution_count": 17
        }
      ]
    },
    {
      "cell_type": "markdown",
      "metadata": {
        "id": "VYFViN_2aJVr"
      },
      "source": [
        "<a name=\"Tuning\"></a>\n",
        "<h1> Hyperparameter Tuning </h1>\n",
        "<a href=\"https://imgbb.com/\"><img src=\"https://i.ibb.co/W3WZC8d/tune.png\" alt=\"tune\" border=\"0\"></a>"
      ]
    },
    {
      "cell_type": "code",
      "metadata": {
        "id": "clxJlJM2no6m"
      },
      "source": [
        "# Function to create model, required for KerasClassifier\n",
        "def create_model(learn_rate,hidden_unit1,hidden_unit2):\n",
        "  # create model\n",
        "  model = tf.keras.Sequential()\n",
        "  model.add(InputLayer(input_shape=X_train.shape[1]))\n",
        "  model.add(Dense(hidden_unit1, activation = 'relu'))\n",
        "  model.add(Dense(hidden_unit1, activation = 'relu'))\n",
        "  model.add(Dense(1, activation='relu'))\n",
        "\n",
        "\t# Compile model\n",
        "  optimizer = Adam(learning_rate=learn_rate)\n",
        "  model.compile(loss='mean_absolute_error', optimizer= optimizer, metrics=[tf.keras.metrics.MeanSquaredError()])\n",
        "  return model"
      ],
      "execution_count": 18,
      "outputs": []
    },
    {
      "cell_type": "code",
      "metadata": {
        "id": "oBVgR1jFuvvc"
      },
      "source": [
        "# define the grid search parameters\n",
        "hidden_unit1=[4,32]\n",
        "hidden_unit2=[2,16]\n",
        "learn_rate = [0.001, 0.01]\n",
        "hyperparameters = dict(learn_rate = learn_rate,\n",
        "                       hidden_unit1=hidden_unit1,\n",
        "                       hidden_unit2=hidden_unit2)"
      ],
      "execution_count": 19,
      "outputs": []
    },
    {
      "cell_type": "code",
      "source": [
        "hyperparameters"
      ],
      "metadata": {
        "colab": {
          "base_uri": "https://localhost:8080/"
        },
        "id": "CCQ7nsfpNQ1v",
        "outputId": "5e810086-ccb5-4822-f621-b6700cd3d7c1"
      },
      "execution_count": 20,
      "outputs": [
        {
          "output_type": "execute_result",
          "data": {
            "text/plain": [
              "{'learn_rate': [0.001, 0.01], 'hidden_unit1': [4, 32], 'hidden_unit2': [2, 16]}"
            ]
          },
          "metadata": {},
          "execution_count": 20
        }
      ]
    },
    {
      "cell_type": "code",
      "metadata": {
        "id": "ijZzSZRCno3W"
      },
      "source": [
        "# Wrap model so it can be used by scikit-learn\n",
        "neural_network = KerasRegressor(model=create_model,hidden_unit1=hidden_unit1,hidden_unit2=hidden_unit2,learn_rate=learn_rate)"
      ],
      "execution_count": 21,
      "outputs": []
    },
    {
      "cell_type": "code",
      "metadata": {
        "id": "6MdSbL4HcziG",
        "colab": {
          "base_uri": "https://localhost:8080/"
        },
        "outputId": "bade9327-2482-4e29-e8bd-873f80fd2d56"
      },
      "source": [
        "# Conduct Grid Search\n",
        "\n",
        "# Create grid search\n",
        "grid = GridSearchCV(estimator=neural_network, param_grid=hyperparameters, n_jobs=-1, cv=5)\n",
        "\n",
        "# Fit grid search\n",
        "grid_result = grid.fit(X_train, y_train)"
      ],
      "execution_count": 22,
      "outputs": [
        {
          "output_type": "stream",
          "name": "stdout",
          "text": [
            "9/9 [==============================] - 1s 5ms/step - loss: 22.6708 - mean_squared_error: 588.0558\n"
          ]
        }
      ]
    },
    {
      "cell_type": "code",
      "source": [
        "neural_network.get_params().keys()"
      ],
      "metadata": {
        "colab": {
          "base_uri": "https://localhost:8080/"
        },
        "id": "X-E6eiI-Fe9R",
        "outputId": "32b27d01-216c-4081-f76b-f6f9daeac0c9"
      },
      "execution_count": 23,
      "outputs": [
        {
          "output_type": "execute_result",
          "data": {
            "text/plain": [
              "dict_keys(['model', 'build_fn', 'warm_start', 'random_state', 'optimizer', 'loss', 'metrics', 'batch_size', 'validation_batch_size', 'verbose', 'callbacks', 'validation_split', 'shuffle', 'run_eagerly', 'epochs', 'hidden_unit1', 'hidden_unit2', 'learn_rate'])"
            ]
          },
          "metadata": {},
          "execution_count": 23
        }
      ]
    },
    {
      "cell_type": "code",
      "metadata": {
        "colab": {
          "base_uri": "https://localhost:8080/"
        },
        "id": "e5vFmvGScrh6",
        "outputId": "054ba573-59a6-400f-cc3b-fcf87f897a4f"
      },
      "source": [
        "# Find best model's hyperparameters\n",
        "means = grid_result.cv_results_['mean_test_score']\n",
        "stds = grid_result.cv_results_['std_test_score']\n",
        "params = grid_result.cv_results_['params']\n",
        "\n",
        "for mean, stdev, param in zip(means, stds, params):\n",
        "    print(\"%f (%f) with: %r\" % (mean, stdev, param))\n",
        "\n",
        "print(\"\\nBest: %f using %s\" % (grid_result.best_score_, grid_result.best_params_))"
      ],
      "execution_count": 24,
      "outputs": [
        {
          "output_type": "stream",
          "name": "stdout",
          "text": [
            "-8.724654 (1.551152) with: {'hidden_unit1': 4, 'hidden_unit2': 2, 'learn_rate': 0.001}\n",
            "-8.677710 (1.622190) with: {'hidden_unit1': 4, 'hidden_unit2': 2, 'learn_rate': 0.01}\n",
            "-9.109790 (1.371602) with: {'hidden_unit1': 4, 'hidden_unit2': 16, 'learn_rate': 0.001}\n",
            "-8.994298 (1.530739) with: {'hidden_unit1': 4, 'hidden_unit2': 16, 'learn_rate': 0.01}\n",
            "-8.978090 (1.425764) with: {'hidden_unit1': 32, 'hidden_unit2': 2, 'learn_rate': 0.001}\n",
            "-6.799330 (1.062494) with: {'hidden_unit1': 32, 'hidden_unit2': 2, 'learn_rate': 0.01}\n",
            "-8.768886 (1.425942) with: {'hidden_unit1': 32, 'hidden_unit2': 16, 'learn_rate': 0.001}\n",
            "-6.661263 (1.563718) with: {'hidden_unit1': 32, 'hidden_unit2': 16, 'learn_rate': 0.01}\n",
            "\n",
            "Best: -6.661263 using {'hidden_unit1': 32, 'hidden_unit2': 16, 'learn_rate': 0.01}\n"
          ]
        }
      ]
    },
    {
      "cell_type": "markdown",
      "metadata": {
        "id": "bot1SFcx4Pjb"
      },
      "source": [
        "<a name=\"Final\"></a>\n",
        "## **Create final model**"
      ]
    },
    {
      "cell_type": "code",
      "metadata": {
        "colab": {
          "base_uri": "https://localhost:8080/"
        },
        "id": "2xUQ7uiIMium",
        "outputId": "01326650-1252-4750-90f6-4016d58e9875"
      },
      "source": [
        "# create model\n",
        "model = tf.keras.Sequential()\n",
        "model.add(InputLayer(input_shape=X_train.shape[1]))\n",
        "model.add(Dense(grid_result.best_params_['hidden_unit1'], activation = 'relu'))\n",
        "model.add(Dense(grid_result.best_params_['hidden_unit2'], activation = 'relu'))\n",
        "model.add(Dense(1, activation='relu'))\n",
        "\n",
        "# Compile model\n",
        "optimizer = Adam(learning_rate=grid_result.best_params_['learn_rate'])\n",
        "model.compile(loss='mean_squared_error', optimizer='adam', metrics=[tf.keras.metrics.MeanSquaredError()])\n",
        "history = model.fit(X_train, y_train, epochs = 100, verbose = 1, validation_data=(X_val,y_val)) # batch_size = grid_result.best_params_['batch_size']"
      ],
      "execution_count": 25,
      "outputs": [
        {
          "output_type": "stream",
          "name": "stdout",
          "text": [
            "Epoch 1/100\n",
            "9/9 [==============================] - 2s 30ms/step - loss: 591.9542 - mean_squared_error: 591.9542 - val_loss: 506.4740 - val_mean_squared_error: 506.4740\n",
            "Epoch 2/100\n",
            "9/9 [==============================] - 0s 10ms/step - loss: 577.9414 - mean_squared_error: 577.9414 - val_loss: 493.3227 - val_mean_squared_error: 493.3227\n",
            "Epoch 3/100\n",
            "9/9 [==============================] - 0s 9ms/step - loss: 563.0071 - mean_squared_error: 563.0071 - val_loss: 478.8061 - val_mean_squared_error: 478.8061\n",
            "Epoch 4/100\n",
            "9/9 [==============================] - 0s 9ms/step - loss: 546.3445 - mean_squared_error: 546.3445 - val_loss: 462.4266 - val_mean_squared_error: 462.4266\n",
            "Epoch 5/100\n",
            "9/9 [==============================] - 0s 11ms/step - loss: 527.0045 - mean_squared_error: 527.0045 - val_loss: 443.6186 - val_mean_squared_error: 443.6186\n",
            "Epoch 6/100\n",
            "9/9 [==============================] - 0s 9ms/step - loss: 505.8406 - mean_squared_error: 505.8406 - val_loss: 421.5705 - val_mean_squared_error: 421.5705\n",
            "Epoch 7/100\n",
            "9/9 [==============================] - 0s 12ms/step - loss: 480.1227 - mean_squared_error: 480.1227 - val_loss: 396.4493 - val_mean_squared_error: 396.4493\n",
            "Epoch 8/100\n",
            "9/9 [==============================] - 0s 11ms/step - loss: 451.2452 - mean_squared_error: 451.2452 - val_loss: 368.4091 - val_mean_squared_error: 368.4091\n",
            "Epoch 9/100\n",
            "9/9 [==============================] - 0s 10ms/step - loss: 419.3192 - mean_squared_error: 419.3192 - val_loss: 337.4361 - val_mean_squared_error: 337.4361\n",
            "Epoch 10/100\n",
            "9/9 [==============================] - 0s 11ms/step - loss: 384.3854 - mean_squared_error: 384.3854 - val_loss: 304.0520 - val_mean_squared_error: 304.0520\n",
            "Epoch 11/100\n",
            "9/9 [==============================] - 0s 6ms/step - loss: 347.0150 - mean_squared_error: 347.0150 - val_loss: 268.8860 - val_mean_squared_error: 268.8860\n",
            "Epoch 12/100\n",
            "9/9 [==============================] - 0s 6ms/step - loss: 306.9399 - mean_squared_error: 306.9399 - val_loss: 233.3353 - val_mean_squared_error: 233.3353\n",
            "Epoch 13/100\n",
            "9/9 [==============================] - 0s 6ms/step - loss: 266.4127 - mean_squared_error: 266.4127 - val_loss: 197.9865 - val_mean_squared_error: 197.9865\n",
            "Epoch 14/100\n",
            "9/9 [==============================] - 0s 8ms/step - loss: 225.9397 - mean_squared_error: 225.9397 - val_loss: 164.0032 - val_mean_squared_error: 164.0032\n",
            "Epoch 15/100\n",
            "9/9 [==============================] - 0s 6ms/step - loss: 187.4896 - mean_squared_error: 187.4896 - val_loss: 132.2167 - val_mean_squared_error: 132.2167\n",
            "Epoch 16/100\n",
            "9/9 [==============================] - 0s 6ms/step - loss: 152.3904 - mean_squared_error: 152.3904 - val_loss: 103.8715 - val_mean_squared_error: 103.8715\n",
            "Epoch 17/100\n",
            "9/9 [==============================] - 0s 6ms/step - loss: 120.1893 - mean_squared_error: 120.1893 - val_loss: 81.4687 - val_mean_squared_error: 81.4687\n",
            "Epoch 18/100\n",
            "9/9 [==============================] - 0s 6ms/step - loss: 95.8811 - mean_squared_error: 95.8811 - val_loss: 63.9111 - val_mean_squared_error: 63.9111\n",
            "Epoch 19/100\n",
            "9/9 [==============================] - 0s 6ms/step - loss: 75.8474 - mean_squared_error: 75.8474 - val_loss: 52.1780 - val_mean_squared_error: 52.1780\n",
            "Epoch 20/100\n",
            "9/9 [==============================] - 0s 8ms/step - loss: 62.4979 - mean_squared_error: 62.4979 - val_loss: 45.2122 - val_mean_squared_error: 45.2122\n",
            "Epoch 21/100\n",
            "9/9 [==============================] - 0s 8ms/step - loss: 54.0513 - mean_squared_error: 54.0513 - val_loss: 41.5628 - val_mean_squared_error: 41.5628\n",
            "Epoch 22/100\n",
            "9/9 [==============================] - 0s 7ms/step - loss: 48.9232 - mean_squared_error: 48.9232 - val_loss: 39.8328 - val_mean_squared_error: 39.8328\n",
            "Epoch 23/100\n",
            "9/9 [==============================] - 0s 9ms/step - loss: 45.8698 - mean_squared_error: 45.8698 - val_loss: 38.7372 - val_mean_squared_error: 38.7372\n",
            "Epoch 24/100\n",
            "9/9 [==============================] - 0s 6ms/step - loss: 44.0078 - mean_squared_error: 44.0078 - val_loss: 37.7111 - val_mean_squared_error: 37.7111\n",
            "Epoch 25/100\n",
            "9/9 [==============================] - 0s 6ms/step - loss: 42.3482 - mean_squared_error: 42.3482 - val_loss: 36.6103 - val_mean_squared_error: 36.6103\n",
            "Epoch 26/100\n",
            "9/9 [==============================] - 0s 8ms/step - loss: 40.8923 - mean_squared_error: 40.8923 - val_loss: 35.1984 - val_mean_squared_error: 35.1984\n",
            "Epoch 27/100\n",
            "9/9 [==============================] - 0s 8ms/step - loss: 39.4645 - mean_squared_error: 39.4645 - val_loss: 33.9110 - val_mean_squared_error: 33.9110\n",
            "Epoch 28/100\n",
            "9/9 [==============================] - 0s 7ms/step - loss: 38.1349 - mean_squared_error: 38.1349 - val_loss: 32.4319 - val_mean_squared_error: 32.4319\n",
            "Epoch 29/100\n",
            "9/9 [==============================] - 0s 6ms/step - loss: 36.7815 - mean_squared_error: 36.7815 - val_loss: 31.1512 - val_mean_squared_error: 31.1512\n",
            "Epoch 30/100\n",
            "9/9 [==============================] - 0s 6ms/step - loss: 35.4563 - mean_squared_error: 35.4563 - val_loss: 29.8917 - val_mean_squared_error: 29.8917\n",
            "Epoch 31/100\n",
            "9/9 [==============================] - 0s 8ms/step - loss: 34.2319 - mean_squared_error: 34.2319 - val_loss: 28.7634 - val_mean_squared_error: 28.7634\n",
            "Epoch 32/100\n",
            "9/9 [==============================] - 0s 6ms/step - loss: 32.9619 - mean_squared_error: 32.9619 - val_loss: 27.6786 - val_mean_squared_error: 27.6786\n",
            "Epoch 33/100\n",
            "9/9 [==============================] - 0s 8ms/step - loss: 31.8402 - mean_squared_error: 31.8402 - val_loss: 26.4290 - val_mean_squared_error: 26.4290\n",
            "Epoch 34/100\n",
            "9/9 [==============================] - 0s 6ms/step - loss: 30.6554 - mean_squared_error: 30.6554 - val_loss: 25.2902 - val_mean_squared_error: 25.2902\n",
            "Epoch 35/100\n",
            "9/9 [==============================] - 0s 6ms/step - loss: 29.4905 - mean_squared_error: 29.4905 - val_loss: 24.2201 - val_mean_squared_error: 24.2201\n",
            "Epoch 36/100\n",
            "9/9 [==============================] - 0s 8ms/step - loss: 28.4063 - mean_squared_error: 28.4063 - val_loss: 23.0649 - val_mean_squared_error: 23.0649\n",
            "Epoch 37/100\n",
            "9/9 [==============================] - 0s 7ms/step - loss: 27.3843 - mean_squared_error: 27.3843 - val_loss: 22.0354 - val_mean_squared_error: 22.0354\n",
            "Epoch 38/100\n",
            "9/9 [==============================] - 0s 6ms/step - loss: 26.4499 - mean_squared_error: 26.4499 - val_loss: 21.1511 - val_mean_squared_error: 21.1511\n",
            "Epoch 39/100\n",
            "9/9 [==============================] - 0s 6ms/step - loss: 25.4626 - mean_squared_error: 25.4626 - val_loss: 20.2921 - val_mean_squared_error: 20.2921\n",
            "Epoch 40/100\n",
            "9/9 [==============================] - 0s 6ms/step - loss: 24.6123 - mean_squared_error: 24.6123 - val_loss: 19.5149 - val_mean_squared_error: 19.5149\n",
            "Epoch 41/100\n",
            "9/9 [==============================] - 0s 7ms/step - loss: 23.7419 - mean_squared_error: 23.7419 - val_loss: 18.7057 - val_mean_squared_error: 18.7057\n",
            "Epoch 42/100\n",
            "9/9 [==============================] - 0s 8ms/step - loss: 22.9632 - mean_squared_error: 22.9632 - val_loss: 18.0487 - val_mean_squared_error: 18.0487\n",
            "Epoch 43/100\n",
            "9/9 [==============================] - 0s 6ms/step - loss: 22.1976 - mean_squared_error: 22.1976 - val_loss: 17.3734 - val_mean_squared_error: 17.3734\n",
            "Epoch 44/100\n",
            "9/9 [==============================] - 0s 6ms/step - loss: 21.5004 - mean_squared_error: 21.5004 - val_loss: 16.7045 - val_mean_squared_error: 16.7045\n",
            "Epoch 45/100\n",
            "9/9 [==============================] - 0s 7ms/step - loss: 20.7926 - mean_squared_error: 20.7926 - val_loss: 15.9135 - val_mean_squared_error: 15.9135\n",
            "Epoch 46/100\n",
            "9/9 [==============================] - 0s 6ms/step - loss: 20.1248 - mean_squared_error: 20.1248 - val_loss: 15.6103 - val_mean_squared_error: 15.6103\n",
            "Epoch 47/100\n",
            "9/9 [==============================] - 0s 6ms/step - loss: 19.5349 - mean_squared_error: 19.5349 - val_loss: 15.1441 - val_mean_squared_error: 15.1441\n",
            "Epoch 48/100\n",
            "9/9 [==============================] - 0s 6ms/step - loss: 18.9568 - mean_squared_error: 18.9568 - val_loss: 14.5760 - val_mean_squared_error: 14.5760\n",
            "Epoch 49/100\n",
            "9/9 [==============================] - 0s 7ms/step - loss: 18.3904 - mean_squared_error: 18.3904 - val_loss: 14.1205 - val_mean_squared_error: 14.1205\n",
            "Epoch 50/100\n",
            "9/9 [==============================] - 0s 6ms/step - loss: 17.8256 - mean_squared_error: 17.8256 - val_loss: 13.8009 - val_mean_squared_error: 13.8009\n",
            "Epoch 51/100\n",
            "9/9 [==============================] - 0s 8ms/step - loss: 17.3353 - mean_squared_error: 17.3353 - val_loss: 13.3069 - val_mean_squared_error: 13.3069\n",
            "Epoch 52/100\n",
            "9/9 [==============================] - 0s 6ms/step - loss: 16.8839 - mean_squared_error: 16.8839 - val_loss: 12.8351 - val_mean_squared_error: 12.8351\n",
            "Epoch 53/100\n",
            "9/9 [==============================] - 0s 8ms/step - loss: 16.4258 - mean_squared_error: 16.4258 - val_loss: 12.5589 - val_mean_squared_error: 12.5589\n",
            "Epoch 54/100\n",
            "9/9 [==============================] - 0s 9ms/step - loss: 16.0015 - mean_squared_error: 16.0015 - val_loss: 12.3482 - val_mean_squared_error: 12.3482\n",
            "Epoch 55/100\n",
            "9/9 [==============================] - 0s 6ms/step - loss: 15.6324 - mean_squared_error: 15.6324 - val_loss: 11.9440 - val_mean_squared_error: 11.9440\n",
            "Epoch 56/100\n",
            "9/9 [==============================] - 0s 8ms/step - loss: 15.2562 - mean_squared_error: 15.2562 - val_loss: 11.7464 - val_mean_squared_error: 11.7464\n",
            "Epoch 57/100\n",
            "9/9 [==============================] - 0s 6ms/step - loss: 14.9124 - mean_squared_error: 14.9124 - val_loss: 11.3845 - val_mean_squared_error: 11.3845\n",
            "Epoch 58/100\n",
            "9/9 [==============================] - 0s 8ms/step - loss: 14.5661 - mean_squared_error: 14.5661 - val_loss: 10.9617 - val_mean_squared_error: 10.9617\n",
            "Epoch 59/100\n",
            "9/9 [==============================] - 0s 6ms/step - loss: 14.2961 - mean_squared_error: 14.2961 - val_loss: 10.6499 - val_mean_squared_error: 10.6499\n",
            "Epoch 60/100\n",
            "9/9 [==============================] - 0s 6ms/step - loss: 13.9879 - mean_squared_error: 13.9879 - val_loss: 10.5035 - val_mean_squared_error: 10.5035\n",
            "Epoch 61/100\n",
            "9/9 [==============================] - 0s 8ms/step - loss: 13.7215 - mean_squared_error: 13.7215 - val_loss: 10.2107 - val_mean_squared_error: 10.2107\n",
            "Epoch 62/100\n",
            "9/9 [==============================] - 0s 8ms/step - loss: 13.4809 - mean_squared_error: 13.4809 - val_loss: 9.8085 - val_mean_squared_error: 9.8085\n",
            "Epoch 63/100\n",
            "9/9 [==============================] - 0s 6ms/step - loss: 13.2356 - mean_squared_error: 13.2356 - val_loss: 9.7495 - val_mean_squared_error: 9.7495\n",
            "Epoch 64/100\n",
            "9/9 [==============================] - 0s 6ms/step - loss: 13.0150 - mean_squared_error: 13.0150 - val_loss: 9.7666 - val_mean_squared_error: 9.7666\n",
            "Epoch 65/100\n",
            "9/9 [==============================] - 0s 8ms/step - loss: 12.7960 - mean_squared_error: 12.7960 - val_loss: 9.6415 - val_mean_squared_error: 9.6415\n",
            "Epoch 66/100\n",
            "9/9 [==============================] - 0s 6ms/step - loss: 12.6148 - mean_squared_error: 12.6148 - val_loss: 9.3880 - val_mean_squared_error: 9.3880\n",
            "Epoch 67/100\n",
            "9/9 [==============================] - 0s 7ms/step - loss: 12.4260 - mean_squared_error: 12.4260 - val_loss: 9.3146 - val_mean_squared_error: 9.3146\n",
            "Epoch 68/100\n",
            "9/9 [==============================] - 0s 10ms/step - loss: 12.2543 - mean_squared_error: 12.2543 - val_loss: 9.1294 - val_mean_squared_error: 9.1294\n",
            "Epoch 69/100\n",
            "9/9 [==============================] - 0s 8ms/step - loss: 12.0899 - mean_squared_error: 12.0899 - val_loss: 8.9635 - val_mean_squared_error: 8.9635\n",
            "Epoch 70/100\n",
            "9/9 [==============================] - 0s 6ms/step - loss: 11.9369 - mean_squared_error: 11.9369 - val_loss: 8.8235 - val_mean_squared_error: 8.8235\n",
            "Epoch 71/100\n",
            "9/9 [==============================] - 0s 8ms/step - loss: 11.7591 - mean_squared_error: 11.7591 - val_loss: 8.8925 - val_mean_squared_error: 8.8925\n",
            "Epoch 72/100\n",
            "9/9 [==============================] - 0s 6ms/step - loss: 11.6686 - mean_squared_error: 11.6686 - val_loss: 9.2480 - val_mean_squared_error: 9.2480\n",
            "Epoch 73/100\n",
            "9/9 [==============================] - 0s 6ms/step - loss: 11.5357 - mean_squared_error: 11.5357 - val_loss: 8.7246 - val_mean_squared_error: 8.7246\n",
            "Epoch 74/100\n",
            "9/9 [==============================] - 0s 6ms/step - loss: 11.3658 - mean_squared_error: 11.3658 - val_loss: 8.6699 - val_mean_squared_error: 8.6699\n",
            "Epoch 75/100\n",
            "9/9 [==============================] - 0s 6ms/step - loss: 11.2390 - mean_squared_error: 11.2390 - val_loss: 8.6083 - val_mean_squared_error: 8.6083\n",
            "Epoch 76/100\n",
            "9/9 [==============================] - 0s 6ms/step - loss: 11.1184 - mean_squared_error: 11.1184 - val_loss: 8.5348 - val_mean_squared_error: 8.5348\n",
            "Epoch 77/100\n",
            "9/9 [==============================] - 0s 6ms/step - loss: 11.0250 - mean_squared_error: 11.0250 - val_loss: 8.4931 - val_mean_squared_error: 8.4931\n",
            "Epoch 78/100\n",
            "9/9 [==============================] - 0s 6ms/step - loss: 10.9177 - mean_squared_error: 10.9177 - val_loss: 8.4274 - val_mean_squared_error: 8.4274\n",
            "Epoch 79/100\n",
            "9/9 [==============================] - 0s 6ms/step - loss: 10.8122 - mean_squared_error: 10.8122 - val_loss: 8.0855 - val_mean_squared_error: 8.0855\n",
            "Epoch 80/100\n",
            "9/9 [==============================] - 0s 6ms/step - loss: 10.7224 - mean_squared_error: 10.7224 - val_loss: 8.0680 - val_mean_squared_error: 8.0680\n",
            "Epoch 81/100\n",
            "9/9 [==============================] - 0s 6ms/step - loss: 10.6221 - mean_squared_error: 10.6221 - val_loss: 8.0849 - val_mean_squared_error: 8.0849\n",
            "Epoch 82/100\n",
            "9/9 [==============================] - 0s 6ms/step - loss: 10.5212 - mean_squared_error: 10.5212 - val_loss: 8.0050 - val_mean_squared_error: 8.0050\n",
            "Epoch 83/100\n",
            "9/9 [==============================] - 0s 6ms/step - loss: 10.4404 - mean_squared_error: 10.4404 - val_loss: 7.9536 - val_mean_squared_error: 7.9536\n",
            "Epoch 84/100\n",
            "9/9 [==============================] - 0s 9ms/step - loss: 10.3514 - mean_squared_error: 10.3514 - val_loss: 7.8608 - val_mean_squared_error: 7.8608\n",
            "Epoch 85/100\n",
            "9/9 [==============================] - 0s 6ms/step - loss: 10.2799 - mean_squared_error: 10.2799 - val_loss: 8.0868 - val_mean_squared_error: 8.0868\n",
            "Epoch 86/100\n",
            "9/9 [==============================] - 0s 8ms/step - loss: 10.2077 - mean_squared_error: 10.2077 - val_loss: 7.9829 - val_mean_squared_error: 7.9829\n",
            "Epoch 87/100\n",
            "9/9 [==============================] - 0s 8ms/step - loss: 10.1299 - mean_squared_error: 10.1299 - val_loss: 8.0008 - val_mean_squared_error: 8.0008\n",
            "Epoch 88/100\n",
            "9/9 [==============================] - 0s 8ms/step - loss: 10.0658 - mean_squared_error: 10.0658 - val_loss: 7.8179 - val_mean_squared_error: 7.8179\n",
            "Epoch 89/100\n",
            "9/9 [==============================] - 0s 8ms/step - loss: 9.9969 - mean_squared_error: 9.9969 - val_loss: 7.6247 - val_mean_squared_error: 7.6247\n",
            "Epoch 90/100\n",
            "9/9 [==============================] - 0s 7ms/step - loss: 9.9150 - mean_squared_error: 9.9150 - val_loss: 7.8346 - val_mean_squared_error: 7.8346\n",
            "Epoch 91/100\n",
            "9/9 [==============================] - 0s 8ms/step - loss: 9.8453 - mean_squared_error: 9.8453 - val_loss: 7.7341 - val_mean_squared_error: 7.7341\n",
            "Epoch 92/100\n",
            "9/9 [==============================] - 0s 6ms/step - loss: 9.8085 - mean_squared_error: 9.8085 - val_loss: 7.8394 - val_mean_squared_error: 7.8394\n",
            "Epoch 93/100\n",
            "9/9 [==============================] - 0s 6ms/step - loss: 9.7151 - mean_squared_error: 9.7151 - val_loss: 7.6574 - val_mean_squared_error: 7.6574\n",
            "Epoch 94/100\n",
            "9/9 [==============================] - 0s 6ms/step - loss: 9.6505 - mean_squared_error: 9.6505 - val_loss: 7.6914 - val_mean_squared_error: 7.6914\n",
            "Epoch 95/100\n",
            "9/9 [==============================] - 0s 8ms/step - loss: 9.6087 - mean_squared_error: 9.6087 - val_loss: 7.6446 - val_mean_squared_error: 7.6446\n",
            "Epoch 96/100\n",
            "9/9 [==============================] - 0s 6ms/step - loss: 9.5534 - mean_squared_error: 9.5534 - val_loss: 7.6183 - val_mean_squared_error: 7.6183\n",
            "Epoch 97/100\n",
            "9/9 [==============================] - 0s 8ms/step - loss: 9.5091 - mean_squared_error: 9.5091 - val_loss: 7.7192 - val_mean_squared_error: 7.7192\n",
            "Epoch 98/100\n",
            "9/9 [==============================] - 0s 6ms/step - loss: 9.4509 - mean_squared_error: 9.4509 - val_loss: 7.5402 - val_mean_squared_error: 7.5402\n",
            "Epoch 99/100\n",
            "9/9 [==============================] - 0s 9ms/step - loss: 9.3869 - mean_squared_error: 9.3869 - val_loss: 7.5640 - val_mean_squared_error: 7.5640\n",
            "Epoch 100/100\n",
            "9/9 [==============================] - 0s 6ms/step - loss: 9.3495 - mean_squared_error: 9.3495 - val_loss: 7.5784 - val_mean_squared_error: 7.5784\n"
          ]
        }
      ]
    },
    {
      "cell_type": "code",
      "metadata": {
        "colab": {
          "base_uri": "https://localhost:8080/"
        },
        "id": "wTIw6GGSRWRT",
        "outputId": "1b453c4d-4170-4616-8444-46a9601ac37b"
      },
      "source": [
        "# Accuracy (Root Mean Squared Error)\n",
        "y_pred = model.predict(X_test)\n",
        "from sklearn.metrics import mean_squared_error\n",
        "mean_squared_error(y_test, y_pred, squared=False)"
      ],
      "execution_count": 26,
      "outputs": [
        {
          "output_type": "stream",
          "name": "stdout",
          "text": [
            "2/2 [==============================] - 0s 5ms/step\n"
          ]
        },
        {
          "output_type": "execute_result",
          "data": {
            "text/plain": [
              "3.053339230916917"
            ]
          },
          "metadata": {},
          "execution_count": 26
        }
      ]
    },
    {
      "cell_type": "code",
      "metadata": {
        "id": "utMnBQYMB6ns"
      },
      "source": [],
      "execution_count": 26,
      "outputs": []
    }
  ]
}