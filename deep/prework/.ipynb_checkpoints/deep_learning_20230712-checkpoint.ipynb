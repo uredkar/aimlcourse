{
 "cells": [
  {
   "cell_type": "markdown",
   "metadata": {
    "id": "2mVv7fsv-38a"
   },
   "source": [
    "## **Deep Learning**\n"
   ]
  },
  {
   "cell_type": "markdown",
   "metadata": {
    "id": "v2FBjRMcN5O4"
   },
   "source": [
    "## Table of Contents:\n",
    "* [Dataset](#data)\n",
    "* [Training (0 hidden layers)](#zero)\n",
    "* [Training (1 hidden layer)](#one)\n",
    "* [Training (2 hidden layers)](#two)\n",
    "* [Training (3 hidden layers)](#three)\n"
   ]
  },
  {
   "cell_type": "code",
   "execution_count": 1,
   "metadata": {
    "colab": {
     "base_uri": "https://localhost:8080/"
    },
    "id": "c36LtnDC_4_P",
    "outputId": "805b9afb-bc3f-44cf-ec33-a418060fe8dc"
   },
   "outputs": [
    {
     "name": "stdout",
     "output_type": "stream",
     "text": [
      "2.12.0\n"
     ]
    }
   ],
   "source": [
    "import tensorflow as tf\n",
    "print(tf.__version__)"
   ]
  },
  {
   "cell_type": "markdown",
   "metadata": {
    "id": "LinRYkydAocE"
   },
   "source": [
    "<a name=\"data\"></a>\n",
    "## Dataset"
   ]
  },
  {
   "cell_type": "code",
   "execution_count": 2,
   "metadata": {
    "colab": {
     "base_uri": "https://localhost:8080/",
     "height": 206
    },
    "id": "o040SBcTB8OR",
    "outputId": "aec6f91a-e3a1-43b5-e3a1-6bab3803d555"
   },
   "outputs": [
    {
     "data": {
      "text/html": [
       "<div>\n",
       "<style scoped>\n",
       "    .dataframe tbody tr th:only-of-type {\n",
       "        vertical-align: middle;\n",
       "    }\n",
       "\n",
       "    .dataframe tbody tr th {\n",
       "        vertical-align: top;\n",
       "    }\n",
       "\n",
       "    .dataframe thead th {\n",
       "        text-align: right;\n",
       "    }\n",
       "</style>\n",
       "<table border=\"1\" class=\"dataframe\">\n",
       "  <thead>\n",
       "    <tr style=\"text-align: right;\">\n",
       "      <th></th>\n",
       "      <th>MPG</th>\n",
       "      <th>Horsepower</th>\n",
       "    </tr>\n",
       "  </thead>\n",
       "  <tbody>\n",
       "    <tr>\n",
       "      <th>0</th>\n",
       "      <td>18.0</td>\n",
       "      <td>130.0</td>\n",
       "    </tr>\n",
       "    <tr>\n",
       "      <th>1</th>\n",
       "      <td>15.0</td>\n",
       "      <td>165.0</td>\n",
       "    </tr>\n",
       "    <tr>\n",
       "      <th>2</th>\n",
       "      <td>18.0</td>\n",
       "      <td>150.0</td>\n",
       "    </tr>\n",
       "    <tr>\n",
       "      <th>3</th>\n",
       "      <td>16.0</td>\n",
       "      <td>150.0</td>\n",
       "    </tr>\n",
       "    <tr>\n",
       "      <th>4</th>\n",
       "      <td>17.0</td>\n",
       "      <td>140.0</td>\n",
       "    </tr>\n",
       "  </tbody>\n",
       "</table>\n",
       "</div>"
      ],
      "text/plain": [
       "    MPG  Horsepower\n",
       "0  18.0       130.0\n",
       "1  15.0       165.0\n",
       "2  18.0       150.0\n",
       "3  16.0       150.0\n",
       "4  17.0       140.0"
      ]
     },
     "execution_count": 2,
     "metadata": {},
     "output_type": "execute_result"
    }
   ],
   "source": [
    "import pandas as pd\n",
    "data = pd.read_csv(\"auto-mpg.csv\", na_values='?', usecols=[\"Horsepower\",\"MPG\"])\n",
    "data = data.dropna()\n",
    "data.head()"
   ]
  },
  {
   "cell_type": "code",
   "execution_count": 4,
   "metadata": {
    "colab": {
     "base_uri": "https://localhost:8080/",
     "height": 473
    },
    "id": "5_2M8ccPN0Hn",
    "outputId": "10406f35-a8cc-4191-baa5-0806d37b9f7f"
   },
   "outputs": [
    {
     "data": {
      "text/plain": [
       "(0.0, 50.0)"
      ]
     },
     "execution_count": 4,
     "metadata": {},
     "output_type": "execute_result"
    },
    {
     "data": {
      "image/png": "[encoded data removed]",
      "text/plain": [
       "<Figure size 640x480 with 1 Axes>"
      ]
     },
     "metadata": {},
     "output_type": "display_data"
    }
   ],
   "source": [
    "import matplotlib.pyplot as plt\n",
    "\n",
    "plt.scatter(data['Horsepower'],data['MPG'], label='Data')\n",
    "plt.xlabel('Horsepower')\n",
    "plt.ylabel('MPG')\n",
    "plt.xlim(0, 250)\n",
    "plt.ylim(0, 50)"
   ]
  },
  {
   "cell_type": "code",
   "execution_count": 5,
   "metadata": {
    "id": "N510UalSCbDp"
   },
   "outputs": [],
   "source": [
    "from sklearn.model_selection import train_test_split\n",
    "X_train, X_test, y_train, y_test = train_test_split(data['Horsepower'], data['MPG'], test_size=0.3, random_state=42)"
   ]
  },
  {
   "cell_type": "markdown",
   "metadata": {
    "id": "haWmmbyfCk5r"
   },
   "source": [
    "<a name=\"no\"></a>\n",
    "## Training (0 hidden layers)\n"
   ]
  },
  {
   "cell_type": "code",
   "execution_count": 6,
   "metadata": {
    "id": "WI_pEkk3C0sf"
   },
   "outputs": [],
   "source": [
    "from tensorflow.keras.layers import Dense, Input, InputLayer\n",
    "from tensorflow.keras import layers\n",
    "\n",
    "model0 = tf.keras.Sequential()\n",
    "model0.add(layers.BatchNormalization())\n",
    "model0.add(InputLayer(input_shape=(1,)))\n",
    "model0.add(Dense(1))"
   ]
  },
  {
   "cell_type": "code",
   "execution_count": 7,
   "metadata": {
    "id": "4UK6Rj5dDXsL"
   },
   "outputs": [],
   "source": [
    "model0.compile(loss='mean_absolute_error', optimizer=tf.optimizers.Adam(learning_rate=0.1))"
   ]
  },
  {
   "cell_type": "code",
   "execution_count": 8,
   "metadata": {
    "colab": {
     "base_uri": "https://localhost:8080/"
    },
    "id": "FlZ4xm-MDkRW",
    "outputId": "ae7bff03-859d-4928-c46c-37ffcd2a9552"
   },
   "outputs": [
    {
     "data": {
      "text/plain": [
       "<keras.callbacks.History at 0x1ac8b03f490>"
      ]
     },
     "execution_count": 8,
     "metadata": {},
     "output_type": "execute_result"
    }
   ],
   "source": [
    "model0.fit(X_train, y_train, epochs=100,verbose=0,validation_split = 0.2)"
   ]
  },
  {
   "cell_type": "code",
   "execution_count": 9,
   "metadata": {
    "colab": {
     "base_uri": "https://localhost:8080/",
     "height": 485
    },
    "id": "uWKmE9dURzHk",
    "outputId": "5bef0d5c-98f7-44f3-acb7-6f5429fb57c2"
   },
   "outputs": [
    {
     "name": "stdout",
     "output_type": "stream",
     "text": [
      "8/8 [==============================] - 0s 2ms/step\n"
     ]
    },
    {
     "data": {
      "text/plain": [
       "<matplotlib.legend.Legend at 0x1ac8c33b5e0>"
      ]
     },
     "execution_count": 9,
     "metadata": {},
     "output_type": "execute_result"
    },
    {
     "data": {
      "image/png": "[encoded data removed]",
      "text/plain": [
       "<Figure size 640x480 with 1 Axes>"
      ]
     },
     "metadata": {},
     "output_type": "display_data"
    }
   ],
   "source": [
    "x = tf.linspace(0.0, 250, 251)\n",
    "y = model0.predict(x)\n",
    "\n",
    "plt.scatter(X_train, y_train, label='Data')\n",
    "plt.plot(x, y, color='k', label='Predictions')\n",
    "plt.xlabel('Horsepower')\n",
    "plt.ylabel('MPG')\n",
    "plt.legend()"
   ]
  },
  {
   "cell_type": "code",
   "execution_count": 10,
   "metadata": {
    "colab": {
     "base_uri": "https://localhost:8080/"
    },
    "id": "-5bdOJknn5cG",
    "outputId": "e1ce17a7-e4af-4025-ef76-8cc869aedab7"
   },
   "outputs": [
    {
     "name": "stdout",
     "output_type": "stream",
     "text": [
      "4/4 [==============================] - 0s 2ms/step\n"
     ]
    },
    {
     "data": {
      "text/plain": [
       "4.991487052055789"
      ]
     },
     "execution_count": 10,
     "metadata": {},
     "output_type": "execute_result"
    }
   ],
   "source": [
    "# Accuracy (Root Mean Squared Error)\n",
    "tensor1 = tf.convert_to_tensor(X_test)\n",
    "y_pred = model0.predict(tensor1).reshape(-1)\n",
    "from sklearn.metrics import mean_squared_error\n",
    "mean_squared_error(y_test, y_pred, squared=False)"
   ]
  },
  {
   "cell_type": "markdown",
   "metadata": {
    "id": "UvRl-tyeSdhY"
   },
   "source": [
    "<a name=\"one\"></a>\n",
    "## Training (1 hidden layer)"
   ]
  },
  {
   "cell_type": "code",
   "execution_count": 11,
   "metadata": {
    "id": "EIsDB7nqSFcm"
   },
   "outputs": [],
   "source": [
    "model1 = tf.keras.Sequential()\n",
    "model1.add(layers.BatchNormalization())\n",
    "model1.add(InputLayer(input_shape=1))\n",
    "model1.add(Dense(64, activation = 'relu'))\n",
    "model1.add(Dense(1))"
   ]
  },
  {
   "cell_type": "code",
   "execution_count": 12,
   "metadata": {
    "id": "Af87ks3PTStt"
   },
   "outputs": [],
   "source": [
    "model1.compile(loss='mean_absolute_error', optimizer=tf.optimizers.Adam(learning_rate=0.001))"
   ]
  },
  {
   "cell_type": "code",
   "execution_count": 13,
   "metadata": {
    "colab": {
     "base_uri": "https://localhost:8080/"
    },
    "id": "I-37-XdcTX5X",
    "outputId": "f42f98b7-cf14-4647-b41e-65c7a38884ba"
   },
   "outputs": [
    {
     "data": {
      "text/plain": [
       "<keras.callbacks.History at 0x1ac8d391c90>"
      ]
     },
     "execution_count": 13,
     "metadata": {},
     "output_type": "execute_result"
    }
   ],
   "source": [
    "model1.fit(X_train, y_train,validation_split=0.2,verbose=0, epochs=100)"
   ]
  },
  {
   "cell_type": "code",
   "execution_count": 14,
   "metadata": {
    "colab": {
     "base_uri": "https://localhost:8080/",
     "height": 485
    },
    "id": "-4gnWZZuSFkI",
    "outputId": "d15348ba-91ae-4fec-ad65-ffc533e4aa06"
   },
   "outputs": [
    {
     "name": "stdout",
     "output_type": "stream",
     "text": [
      "8/8 [==============================] - 0s 2ms/step\n"
     ]
    },
    {
     "data": {
      "text/plain": [
       "<matplotlib.legend.Legend at 0x1ac8d522530>"
      ]
     },
     "execution_count": 14,
     "metadata": {},
     "output_type": "execute_result"
    },
    {
     "data": {
      "image/png": "[encoded data removed]",
      "text/plain": [
       "<Figure size 640x480 with 1 Axes>"
      ]
     },
     "metadata": {},
     "output_type": "display_data"
    }
   ],
   "source": [
    "x = tf.linspace(0.0, 250, 251)\n",
    "y = model1.predict(x)\n",
    "\n",
    "plt.scatter(X_train, y_train, label='Data')\n",
    "plt.plot(x, y, color='k', label='Predictions')\n",
    "plt.xlabel('Horsepower')\n",
    "plt.ylabel('MPG')\n",
    "plt.legend()"
   ]
  },
  {
   "cell_type": "code",
   "execution_count": 15,
   "metadata": {
    "colab": {
     "base_uri": "https://localhost:8080/"
    },
    "id": "kreboYldcHE7",
    "outputId": "63ebb154-6c49-42a5-929b-eaefab6293a1"
   },
   "outputs": [
    {
     "name": "stdout",
     "output_type": "stream",
     "text": [
      "4/4 [==============================] - 0s 2ms/step\n"
     ]
    },
    {
     "data": {
      "text/plain": [
       "4.867192249565395"
      ]
     },
     "execution_count": 15,
     "metadata": {},
     "output_type": "execute_result"
    }
   ],
   "source": [
    "# Accuracy (Root Mean Squared Error)\n",
    "tensor1 = tf.convert_to_tensor(X_test)\n",
    "y_pred = model1.predict(tensor1).reshape(-1)\n",
    "from sklearn.metrics import mean_squared_error\n",
    "mean_squared_error(y_test, y_pred, squared=False)"
   ]
  },
  {
   "cell_type": "markdown",
   "metadata": {
    "id": "EN2QPSkZbPTD"
   },
   "source": [
    "<a name=\"two\"></a>\n",
    "## Training (2 hidden layers)\n",
    "\n"
   ]
  },
  {
   "cell_type": "code",
   "execution_count": 16,
   "metadata": {
    "id": "6ybwQQVCbOOK"
   },
   "outputs": [],
   "source": [
    "model2 = tf.keras.Sequential()\n",
    "model2.add(layers.BatchNormalization())\n",
    "model2.add(InputLayer(input_shape=1))\n",
    "model2.add(Dense(64, activation = 'relu'))\n",
    "model2.add(Dense(64, activation = 'relu'))\n",
    "model2.add(Dense(1))"
   ]
  },
  {
   "cell_type": "code",
   "execution_count": 17,
   "metadata": {
    "id": "_P_yYMpSbOOa"
   },
   "outputs": [],
   "source": [
    "model2.compile(loss='mean_absolute_error', optimizer=tf.optimizers.Adam(learning_rate=0.001))"
   ]
  },
  {
   "cell_type": "code",
   "execution_count": null,
   "metadata": {
    "colab": {
     "base_uri": "https://localhost:8080/"
    },
    "id": "VJT1ntxvbOOd",
    "outputId": "34bcddd5-488f-4476-a265-2b50f06e3d8a"
   },
   "outputs": [],
   "source": [
    "model2.fit(X_train, y_train,validation_split=0.2,verbose=0, epochs=100)"
   ]
  },
  {
   "cell_type": "code",
   "execution_count": null,
   "metadata": {
    "colab": {
     "base_uri": "https://localhost:8080/",
     "height": 485
    },
    "id": "oVIX4hqFbOOe",
    "outputId": "e1c99fe7-daa4-43f8-c215-45d585b2f15c"
   },
   "outputs": [],
   "source": [
    "x = tf.linspace(0.0, 250, 251)\n",
    "y = model2.predict(x)\n",
    "\n",
    "plt.scatter(X_train, y_train, label='Data')\n",
    "plt.plot(x, y, color='k', label='Predictions')\n",
    "plt.xlabel('Horsepower')\n",
    "plt.ylabel('MPG')\n",
    "plt.legend()"
   ]
  },
  {
   "cell_type": "code",
   "execution_count": null,
   "metadata": {
    "colab": {
     "base_uri": "https://localhost:8080/"
    },
    "id": "uqq4_z5cbkvU",
    "outputId": "29a7096b-27be-4d2c-9ae7-47d8a150a054"
   },
   "outputs": [],
   "source": [
    "# Accuracy (Root Mean Squared Error)\n",
    "tensor1 = tf.convert_to_tensor(X_test)\n",
    "y_pred = model2.predict(tensor1).reshape(-1)\n",
    "from sklearn.metrics import mean_squared_error\n",
    "mean_squared_error(y_test, y_pred, squared=False)"
   ]
  },
  {
   "cell_type": "markdown",
   "metadata": {
    "id": "rU182IAiPEES"
   },
   "source": [
    "<a name=\"three\"></a>\n",
    "## Training (3 hidden layers)\n",
    "\n"
   ]
  },
  {
   "cell_type": "code",
   "execution_count": null,
   "metadata": {
    "id": "cHEW1z3ZPEEv"
   },
   "outputs": [],
   "source": [
    "model3 = tf.keras.Sequential()\n",
    "model3.add(layers.BatchNormalization())\n",
    "model3.add(InputLayer(input_shape=1))\n",
    "model3.add(Dense(64, activation = 'relu'))\n",
    "model3.add(Dense(64, activation = 'relu'))\n",
    "model3.add(Dense(64, activation = 'relu'))\n",
    "model3.add(Dense(1))"
   ]
  },
  {
   "cell_type": "code",
   "execution_count": null,
   "metadata": {
    "id": "SJvrSirKPEEw"
   },
   "outputs": [],
   "source": [
    "model3.compile(loss='mean_absolute_error', optimizer=tf.optimizers.Adam(learning_rate=0.001))"
   ]
  },
  {
   "cell_type": "code",
   "execution_count": null,
   "metadata": {
    "colab": {
     "base_uri": "https://localhost:8080/"
    },
    "id": "fe3ZF3BWPEEw",
    "outputId": "d6d65624-1723-42f2-cd50-82ab70020961"
   },
   "outputs": [],
   "source": [
    "model3.fit(X_train, y_train,validation_split=0.2,verbose=0, epochs=100)"
   ]
  },
  {
   "cell_type": "code",
   "execution_count": null,
   "metadata": {
    "colab": {
     "base_uri": "https://localhost:8080/",
     "height": 485
    },
    "id": "UOoswn0uPEEw",
    "outputId": "abccb79b-c969-48cc-9c3f-f0c9400978cc"
   },
   "outputs": [],
   "source": [
    "x = tf.linspace(0.0, 250, 251)\n",
    "y = model3.predict(x)\n",
    "\n",
    "plt.scatter(X_train, y_train, label='Data')\n",
    "plt.plot(x, y, color='k', label='Predictions')\n",
    "plt.xlabel('Horsepower')\n",
    "plt.ylabel('MPG')\n",
    "plt.legend()"
   ]
  },
  {
   "cell_type": "code",
   "execution_count": null,
   "metadata": {
    "colab": {
     "base_uri": "https://localhost:8080/"
    },
    "id": "7xhwsFb7PEEw",
    "outputId": "9775349c-be29-4378-d48b-28f2cd6c1240"
   },
   "outputs": [],
   "source": [
    "# Accuracy (Root Mean Squared Error)\n",
    "tensor1 = tf.convert_to_tensor(X_test)\n",
    "y_pred = model3.predict(tensor1).reshape(-1)\n",
    "from sklearn.metrics import mean_squared_error\n",
    "mean_squared_error(y_test, y_pred, squared=False)"
   ]
  },
  {
   "cell_type": "code",
   "execution_count": null,
   "metadata": {
    "id": "gkfdF6HamLki"
   },
   "outputs": [],
   "source": []
  },
  {
   "cell_type": "code",
   "execution_count": null,
   "metadata": {},
   "outputs": [],
   "source": []
  }
 ],
 "metadata": {
  "accelerator": "GPU",
  "colab": {
   "provenance": []
  },
  "kernelspec": {
   "display_name": "Python 3 (ipykernel)",
   "language": "python",
   "name": "python3"
  },
  "language_info": {
   "codemirror_mode": {
    "name": "ipython",
    "version": 3
   },
   "file_extension": ".py",
   "mimetype": "text/x-python",
   "name": "python",
   "nbconvert_exporter": "python",
   "pygments_lexer": "ipython3",
   "version": "3.10.12"
  }
 },
 "nbformat": 4,
 "nbformat_minor": 4
}
