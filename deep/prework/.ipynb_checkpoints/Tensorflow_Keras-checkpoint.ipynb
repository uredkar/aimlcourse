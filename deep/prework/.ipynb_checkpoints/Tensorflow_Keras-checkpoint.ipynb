{
 "cells": [
  {
   "cell_type": "markdown",
   "metadata": {
    "id": "aq32tNFIerwJ"
   },
   "source": [
    "<p><img alt=\"Colaboratory logo\" height=\"55px\" src=\"https://www.gstatic.com/devrel-devsite/prod/vf0396724755d04dbab75050e6812ced8fb2ab11d424163deba5826536b4b1964/tensorflow/images/lockup.svg\" align=\"left\" hspace=\"10px\" vspace=\"0px\"></p>\n",
    "\n",
    "<p><img alt=\"Colaboratory logo\" height=\"55px\" src=\"https://keras.io/img/logo.png\" align=\"left\" hspace=\"10px\" vspace=\"0px\"></p>\n",
    "\n"
   ]
  },
  {
   "cell_type": "markdown",
   "metadata": {
    "id": "bhniAXPDYmxJ"
   },
   "source": [
    "Table of contents:\n",
    "- [Tensorflow & Keras](#TF-KS)\n",
    "- [Dataset](#Dataset)\n",
    "- [Training](#Training)\n"
   ]
  },
  {
   "cell_type": "markdown",
   "metadata": {
    "id": "n0Ct1ml0a0FB"
   },
   "source": [
    "<a name=\"TF-KS\"></a>\n",
    "## **Tensorflow and Keras**\n",
    "\n"
   ]
  },
  {
   "cell_type": "code",
   "execution_count": 1,
   "metadata": {
    "colab": {
     "base_uri": "https://localhost:8080/"
    },
    "id": "HQ_CtusmnLpd",
    "outputId": "f90628f8-926c-4766-82db-23397406a3b2"
   },
   "outputs": [
    {
     "name": "stdout",
     "output_type": "stream",
     "text": [
      "2.12.0\n"
     ]
    }
   ],
   "source": [
    "import tensorflow as tf\n",
    "print(tf.__version__)"
   ]
  },
  {
   "cell_type": "markdown",
   "metadata": {
    "id": "mR78a4QIbEow"
   },
   "source": [
    "<a name=\"Dataset\"></a>\n",
    "## **Dataset**\n"
   ]
  },
  {
   "cell_type": "markdown",
   "metadata": {
    "id": "SGHwaOOxQXJe"
   },
   "source": [
    "> Used Cars\n",
    "<p><img alt=\"Colaboratory logo\" height=\"55px\" src=\"https://upload.wikimedia.org/wikipedia/commons/thumb/9/99/GAZ-24_Volga.svg/640px-GAZ-24_Volga.svg.png\" align=\"left\" hspace=\"10px\" vspace=\"0px\"></p>"
   ]
  },
  {
   "cell_type": "code",
   "execution_count": null,
   "metadata": {
    "colab": {
     "base_uri": "https://localhost:8080/"
    },
    "id": "tVe2wKVGSwIV",
    "outputId": "d40ddee2-8b09-40e5-9bb8-375ce11681d1"
   },
   "outputs": [
    {
     "name": "stdout",
     "output_type": "stream",
     "text": [
      "Mounted at /content/drive/\n"
     ]
    }
   ],
   "source": [
    "#from google.colab import drive\n",
    "#drive.mount('/content/drive/')"
   ]
  },
  {
   "cell_type": "code",
   "execution_count": 5,
   "metadata": {},
   "outputs": [
    {
     "data": {
      "text/html": [
       "<div>\n",
       "<style scoped>\n",
       "    .dataframe tbody tr th:only-of-type {\n",
       "        vertical-align: middle;\n",
       "    }\n",
       "\n",
       "    .dataframe tbody tr th {\n",
       "        vertical-align: top;\n",
       "    }\n",
       "\n",
       "    .dataframe thead th {\n",
       "        text-align: right;\n",
       "    }\n",
       "</style>\n",
       "<table border=\"1\" class=\"dataframe\">\n",
       "  <thead>\n",
       "    <tr style=\"text-align: right;\">\n",
       "      <th></th>\n",
       "      <th>mileage</th>\n",
       "      <th>year</th>\n",
       "      <th>price</th>\n",
       "      <th>sold</th>\n",
       "      <th>car_outcome</th>\n",
       "    </tr>\n",
       "  </thead>\n",
       "  <tbody>\n",
       "    <tr>\n",
       "      <th>0</th>\n",
       "      <td>7413</td>\n",
       "      <td>2011</td>\n",
       "      <td>21992</td>\n",
       "      <td>0</td>\n",
       "      <td>3</td>\n",
       "    </tr>\n",
       "    <tr>\n",
       "      <th>1</th>\n",
       "      <td>10926</td>\n",
       "      <td>2011</td>\n",
       "      <td>20995</td>\n",
       "      <td>0</td>\n",
       "      <td>3</td>\n",
       "    </tr>\n",
       "    <tr>\n",
       "      <th>2</th>\n",
       "      <td>7351</td>\n",
       "      <td>2011</td>\n",
       "      <td>19995</td>\n",
       "      <td>0</td>\n",
       "      <td>3</td>\n",
       "    </tr>\n",
       "    <tr>\n",
       "      <th>3</th>\n",
       "      <td>11613</td>\n",
       "      <td>2011</td>\n",
       "      <td>17809</td>\n",
       "      <td>0</td>\n",
       "      <td>3</td>\n",
       "    </tr>\n",
       "    <tr>\n",
       "      <th>4</th>\n",
       "      <td>8367</td>\n",
       "      <td>2012</td>\n",
       "      <td>17500</td>\n",
       "      <td>0</td>\n",
       "      <td>3</td>\n",
       "    </tr>\n",
       "  </tbody>\n",
       "</table>\n",
       "</div>"
      ],
      "text/plain": [
       "   mileage  year  price  sold  car_outcome\n",
       "0     7413  2011  21992     0            3\n",
       "1    10926  2011  20995     0            3\n",
       "2     7351  2011  19995     0            3\n",
       "3    11613  2011  17809     0            3\n",
       "4     8367  2012  17500     0            3"
      ]
     },
     "execution_count": 5,
     "metadata": {},
     "output_type": "execute_result"
    }
   ],
   "source": [
    "import pandas as pd\n",
    "data = pd.read_csv(\"ann_used_cars.csv\")\n",
    "data.head()"
   ]
  },
  {
   "cell_type": "code",
   "execution_count": null,
   "metadata": {
    "colab": {
     "base_uri": "https://localhost:8080/",
     "height": 205
    },
    "id": "59_A44_uS6PP",
    "outputId": "b4153157-98a0-46ef-a963-f98738b899b4"
   },
   "outputs": [
    {
     "data": {
      "text/html": [
       "<div>\n",
       "<style scoped>\n",
       "    .dataframe tbody tr th:only-of-type {\n",
       "        vertical-align: middle;\n",
       "    }\n",
       "\n",
       "    .dataframe tbody tr th {\n",
       "        vertical-align: top;\n",
       "    }\n",
       "\n",
       "    .dataframe thead th {\n",
       "        text-align: right;\n",
       "    }\n",
       "</style>\n",
       "<table border=\"1\" class=\"dataframe\">\n",
       "  <thead>\n",
       "    <tr style=\"text-align: right;\">\n",
       "      <th></th>\n",
       "      <th>mileage</th>\n",
       "      <th>year</th>\n",
       "      <th>price</th>\n",
       "    </tr>\n",
       "  </thead>\n",
       "  <tbody>\n",
       "    <tr>\n",
       "      <th>0</th>\n",
       "      <td>7413</td>\n",
       "      <td>2011</td>\n",
       "      <td>21992</td>\n",
       "    </tr>\n",
       "    <tr>\n",
       "      <th>1</th>\n",
       "      <td>10926</td>\n",
       "      <td>2011</td>\n",
       "      <td>20995</td>\n",
       "    </tr>\n",
       "    <tr>\n",
       "      <th>2</th>\n",
       "      <td>7351</td>\n",
       "      <td>2011</td>\n",
       "      <td>19995</td>\n",
       "    </tr>\n",
       "    <tr>\n",
       "      <th>3</th>\n",
       "      <td>11613</td>\n",
       "      <td>2011</td>\n",
       "      <td>17809</td>\n",
       "    </tr>\n",
       "    <tr>\n",
       "      <th>4</th>\n",
       "      <td>8367</td>\n",
       "      <td>2012</td>\n",
       "      <td>17500</td>\n",
       "    </tr>\n",
       "  </tbody>\n",
       "</table>\n",
       "</div>"
      ],
      "text/plain": [
       "   mileage  year  price\n",
       "0     7413  2011  21992\n",
       "1    10926  2011  20995\n",
       "2     7351  2011  19995\n",
       "3    11613  2011  17809\n",
       "4     8367  2012  17500"
      ]
     },
     "execution_count": 3,
     "metadata": {},
     "output_type": "execute_result"
    }
   ],
   "source": [
    "#import pandas as pd\n",
    "#data = pd.read_csv(\"/content/drive/My Drive/ann_used_cars.csv\", usecols=[\"mileage\", 'year', \"price\"])\n",
    "#data.head()"
   ]
  },
  {
   "cell_type": "code",
   "execution_count": 6,
   "metadata": {
    "id": "xm04xHez9rF_"
   },
   "outputs": [],
   "source": [
    "from sklearn.model_selection import train_test_split\n",
    "X_train, X_test, y_train, y_test = train_test_split(data[['mileage','year']], data['price'], test_size=0.3, random_state=42)"
   ]
  },
  {
   "cell_type": "markdown",
   "metadata": {
    "id": "qbwcucURbJRM"
   },
   "source": [
    "<a name=\"Training\"></a>\n",
    "## **Training**\n"
   ]
  },
  {
   "cell_type": "markdown",
   "metadata": {
    "id": "Mr7zZtenR8sh"
   },
   "source": [
    "<a href=\"https://ibb.co/gV2rqgz\"><img src=\"https://i.ibb.co/FVrhZ7g/bias-weights2.png\" alt=\"bias-weights2\" border=\"0\"></a>\n"
   ]
  },
  {
   "cell_type": "code",
   "execution_count": 7,
   "metadata": {
    "id": "YEwUgPH-ozUA"
   },
   "outputs": [],
   "source": [
    "from tensorflow.keras.layers import Dense, Input, InputLayer\n",
    "\n",
    "model = tf.keras.Sequential()\n",
    "model.add(InputLayer(input_shape=2))\n",
    "model.add(Dense(1))"
   ]
  },
  {
   "cell_type": "code",
   "execution_count": 8,
   "metadata": {
    "id": "MLByc9DT9uyC"
   },
   "outputs": [],
   "source": [
    "model.compile(loss='mean_squared_error')"
   ]
  },
  {
   "cell_type": "code",
   "execution_count": 9,
   "metadata": {
    "colab": {
     "base_uri": "https://localhost:8080/"
    },
    "id": "INjyXbMx9wbP",
    "outputId": "b536a1b0-54da-4683-9334-d7e9bd8c87d8"
   },
   "outputs": [
    {
     "name": "stdout",
     "output_type": "stream",
     "text": [
      "Epoch 1/100\n",
      "3/3 [==============================] - 1s 94ms/step - loss: 3196485888.0000 - val_loss: 2755396608.0000\n",
      "Epoch 2/100\n",
      "3/3 [==============================] - 0s 24ms/step - loss: 3160285952.0000 - val_loss: 2731409664.0000\n",
      "Epoch 3/100\n",
      "3/3 [==============================] - 0s 20ms/step - loss: 3134419456.0000 - val_loss: 2711108096.0000\n",
      "Epoch 4/100\n",
      "3/3 [==============================] - 0s 22ms/step - loss: 3111495936.0000 - val_loss: 2692100352.0000\n",
      "Epoch 5/100\n",
      "3/3 [==============================] - 0s 24ms/step - loss: 3090214400.0000 - val_loss: 2674457600.0000\n",
      "Epoch 6/100\n",
      "3/3 [==============================] - 0s 26ms/step - loss: 3070389504.0000 - val_loss: 2657583104.0000\n",
      "Epoch 7/100\n",
      "3/3 [==============================] - 0s 22ms/step - loss: 3051633920.0000 - val_loss: 2641793536.0000\n",
      "Epoch 8/100\n",
      "3/3 [==============================] - 0s 23ms/step - loss: 3033330944.0000 - val_loss: 2625876992.0000\n",
      "Epoch 9/100\n",
      "3/3 [==============================] - 0s 21ms/step - loss: 3015246080.0000 - val_loss: 2610019584.0000\n",
      "Epoch 10/100\n",
      "3/3 [==============================] - 0s 21ms/step - loss: 2997223680.0000 - val_loss: 2594786816.0000\n",
      "Epoch 11/100\n",
      "3/3 [==============================] - 0s 19ms/step - loss: 2980102912.0000 - val_loss: 2580005632.0000\n",
      "Epoch 12/100\n",
      "3/3 [==============================] - 0s 28ms/step - loss: 2962835200.0000 - val_loss: 2564747264.0000\n",
      "Epoch 13/100\n",
      "3/3 [==============================] - 0s 28ms/step - loss: 2945473024.0000 - val_loss: 2549640704.0000\n",
      "Epoch 14/100\n",
      "3/3 [==============================] - 0s 20ms/step - loss: 2928245760.0000 - val_loss: 2534808320.0000\n",
      "Epoch 15/100\n",
      "3/3 [==============================] - 0s 26ms/step - loss: 2911163648.0000 - val_loss: 2519779584.0000\n",
      "Epoch 16/100\n",
      "3/3 [==============================] - 0s 22ms/step - loss: 2894053120.0000 - val_loss: 2504754176.0000\n",
      "Epoch 17/100\n",
      "3/3 [==============================] - 0s 18ms/step - loss: 2876865024.0000 - val_loss: 2489909248.0000\n",
      "Epoch 18/100\n",
      "3/3 [==============================] - 0s 19ms/step - loss: 2859891968.0000 - val_loss: 2475212032.0000\n",
      "Epoch 19/100\n",
      "3/3 [==============================] - 0s 22ms/step - loss: 2843084800.0000 - val_loss: 2460500736.0000\n",
      "Epoch 20/100\n",
      "3/3 [==============================] - 0s 20ms/step - loss: 2826313984.0000 - val_loss: 2446113024.0000\n",
      "Epoch 21/100\n",
      "3/3 [==============================] - 0s 32ms/step - loss: 2809818368.0000 - val_loss: 2431692544.0000\n",
      "Epoch 22/100\n",
      "3/3 [==============================] - 0s 23ms/step - loss: 2793225216.0000 - val_loss: 2417114880.0000\n",
      "Epoch 23/100\n",
      "3/3 [==============================] - 0s 31ms/step - loss: 2776543488.0000 - val_loss: 2402550784.0000\n",
      "Epoch 24/100\n",
      "3/3 [==============================] - 0s 18ms/step - loss: 2759996160.0000 - val_loss: 2388167680.0000\n",
      "Epoch 25/100\n",
      "3/3 [==============================] - 0s 26ms/step - loss: 2743602688.0000 - val_loss: 2374004480.0000\n",
      "Epoch 26/100\n",
      "3/3 [==============================] - 0s 23ms/step - loss: 2727273216.0000 - val_loss: 2359698432.0000\n",
      "Epoch 27/100\n",
      "3/3 [==============================] - 0s 21ms/step - loss: 2711044864.0000 - val_loss: 2345389824.0000\n",
      "Epoch 28/100\n",
      "3/3 [==============================] - 0s 20ms/step - loss: 2694665216.0000 - val_loss: 2331368704.0000\n",
      "Epoch 29/100\n",
      "3/3 [==============================] - 0s 20ms/step - loss: 2678566400.0000 - val_loss: 2317288704.0000\n",
      "Epoch 30/100\n",
      "3/3 [==============================] - 0s 31ms/step - loss: 2662281216.0000 - val_loss: 2302914304.0000\n",
      "Epoch 31/100\n",
      "3/3 [==============================] - 0s 32ms/step - loss: 2645902080.0000 - val_loss: 2288769792.0000\n",
      "Epoch 32/100\n",
      "3/3 [==============================] - 0s 48ms/step - loss: 2629657344.0000 - val_loss: 2274616320.0000\n",
      "Epoch 33/100\n",
      "3/3 [==============================] - 0s 35ms/step - loss: 2613435136.0000 - val_loss: 2260390912.0000\n",
      "Epoch 34/100\n",
      "3/3 [==============================] - 0s 30ms/step - loss: 2597179904.0000 - val_loss: 2246325504.0000\n",
      "Epoch 35/100\n",
      "3/3 [==============================] - 0s 28ms/step - loss: 2581246464.0000 - val_loss: 2232552192.0000\n",
      "Epoch 36/100\n",
      "3/3 [==============================] - 0s 37ms/step - loss: 2565364992.0000 - val_loss: 2218582272.0000\n",
      "Epoch 37/100\n",
      "3/3 [==============================] - 0s 22ms/step - loss: 2549511424.0000 - val_loss: 2204913920.0000\n",
      "Epoch 38/100\n",
      "3/3 [==============================] - 0s 18ms/step - loss: 2533933824.0000 - val_loss: 2191257344.0000\n",
      "Epoch 39/100\n",
      "3/3 [==============================] - 0s 31ms/step - loss: 2518263552.0000 - val_loss: 2177708288.0000\n",
      "Epoch 40/100\n",
      "3/3 [==============================] - 0s 21ms/step - loss: 2502530816.0000 - val_loss: 2163766272.0000\n",
      "Epoch 41/100\n",
      "3/3 [==============================] - 0s 24ms/step - loss: 2486585600.0000 - val_loss: 2150043392.0000\n",
      "Epoch 42/100\n",
      "3/3 [==============================] - 0s 29ms/step - loss: 2470861568.0000 - val_loss: 2136284672.0000\n",
      "Epoch 43/100\n",
      "3/3 [==============================] - 0s 25ms/step - loss: 2455441408.0000 - val_loss: 2123037952.0000\n",
      "Epoch 44/100\n",
      "3/3 [==============================] - 0s 31ms/step - loss: 2440026880.0000 - val_loss: 2109540352.0000\n",
      "Epoch 45/100\n",
      "3/3 [==============================] - 0s 30ms/step - loss: 2424537856.0000 - val_loss: 2095944448.0000\n",
      "Epoch 46/100\n",
      "3/3 [==============================] - 0s 28ms/step - loss: 2408948992.0000 - val_loss: 2082447232.0000\n",
      "Epoch 47/100\n",
      "3/3 [==============================] - 0s 28ms/step - loss: 2393443328.0000 - val_loss: 2068879360.0000\n",
      "Epoch 48/100\n",
      "3/3 [==============================] - 0s 23ms/step - loss: 2378005760.0000 - val_loss: 2055238528.0000\n",
      "Epoch 49/100\n",
      "3/3 [==============================] - 0s 28ms/step - loss: 2362673664.0000 - val_loss: 2042263040.0000\n",
      "Epoch 50/100\n",
      "3/3 [==============================] - 0s 29ms/step - loss: 2347556096.0000 - val_loss: 2029134976.0000\n",
      "Epoch 51/100\n",
      "3/3 [==============================] - 0s 22ms/step - loss: 2332617984.0000 - val_loss: 2016100864.0000\n",
      "Epoch 52/100\n",
      "3/3 [==============================] - 0s 26ms/step - loss: 2317631488.0000 - val_loss: 2003066880.0000\n",
      "Epoch 53/100\n",
      "3/3 [==============================] - 0s 27ms/step - loss: 2302821120.0000 - val_loss: 1990170112.0000\n",
      "Epoch 54/100\n",
      "3/3 [==============================] - 0s 33ms/step - loss: 2287910144.0000 - val_loss: 1977098368.0000\n",
      "Epoch 55/100\n",
      "3/3 [==============================] - 0s 29ms/step - loss: 2272912896.0000 - val_loss: 1964061952.0000\n",
      "Epoch 56/100\n",
      "3/3 [==============================] - 0s 22ms/step - loss: 2257915904.0000 - val_loss: 1950951808.0000\n",
      "Epoch 57/100\n",
      "3/3 [==============================] - 0s 23ms/step - loss: 2242900736.0000 - val_loss: 1937874944.0000\n",
      "Epoch 58/100\n",
      "3/3 [==============================] - 0s 25ms/step - loss: 2227881472.0000 - val_loss: 1924738944.0000\n",
      "Epoch 59/100\n",
      "3/3 [==============================] - 0s 17ms/step - loss: 2212896000.0000 - val_loss: 1911799808.0000\n",
      "Epoch 60/100\n",
      "3/3 [==============================] - 0s 22ms/step - loss: 2198065664.0000 - val_loss: 1898796544.0000\n",
      "Epoch 61/100\n",
      "3/3 [==============================] - 0s 22ms/step - loss: 2183174912.0000 - val_loss: 1885933696.0000\n",
      "Epoch 62/100\n",
      "3/3 [==============================] - 0s 24ms/step - loss: 2168679680.0000 - val_loss: 1873221760.0000\n",
      "Epoch 63/100\n",
      "3/3 [==============================] - 0s 32ms/step - loss: 2154001408.0000 - val_loss: 1860659968.0000\n",
      "Epoch 64/100\n",
      "3/3 [==============================] - 0s 28ms/step - loss: 2139876992.0000 - val_loss: 1848401152.0000\n",
      "Epoch 65/100\n",
      "3/3 [==============================] - 0s 31ms/step - loss: 2125739264.0000 - val_loss: 1836102784.0000\n",
      "Epoch 66/100\n",
      "3/3 [==============================] - 0s 38ms/step - loss: 2111639296.0000 - val_loss: 1823736704.0000\n",
      "Epoch 67/100\n",
      "3/3 [==============================] - 0s 20ms/step - loss: 2097191680.0000 - val_loss: 1811090944.0000\n",
      "Epoch 68/100\n",
      "3/3 [==============================] - 0s 19ms/step - loss: 2082716672.0000 - val_loss: 1798486912.0000\n",
      "Epoch 69/100\n",
      "3/3 [==============================] - 0s 24ms/step - loss: 2068327296.0000 - val_loss: 1786064000.0000\n",
      "Epoch 70/100\n",
      "3/3 [==============================] - 0s 20ms/step - loss: 2054051456.0000 - val_loss: 1773568384.0000\n",
      "Epoch 71/100\n",
      "3/3 [==============================] - 0s 22ms/step - loss: 2039800320.0000 - val_loss: 1761293056.0000\n",
      "Epoch 72/100\n",
      "3/3 [==============================] - 0s 21ms/step - loss: 2025781248.0000 - val_loss: 1748873600.0000\n",
      "Epoch 73/100\n",
      "3/3 [==============================] - 0s 29ms/step - loss: 2011519488.0000 - val_loss: 1736552064.0000\n",
      "Epoch 74/100\n",
      "3/3 [==============================] - 0s 23ms/step - loss: 1997456896.0000 - val_loss: 1724500352.0000\n",
      "Epoch 75/100\n",
      "3/3 [==============================] - 0s 22ms/step - loss: 1983723136.0000 - val_loss: 1712646528.0000\n",
      "Epoch 76/100\n",
      "3/3 [==============================] - 0s 23ms/step - loss: 1970141824.0000 - val_loss: 1700695936.0000\n",
      "Epoch 77/100\n",
      "3/3 [==============================] - 0s 23ms/step - loss: 1956381568.0000 - val_loss: 1688770944.0000\n",
      "Epoch 78/100\n",
      "3/3 [==============================] - 0s 23ms/step - loss: 1942784512.0000 - val_loss: 1676851200.0000\n",
      "Epoch 79/100\n",
      "3/3 [==============================] - 0s 22ms/step - loss: 1928968704.0000 - val_loss: 1664882688.0000\n",
      "Epoch 80/100\n",
      "3/3 [==============================] - 0s 22ms/step - loss: 1915250560.0000 - val_loss: 1652967424.0000\n",
      "Epoch 81/100\n",
      "3/3 [==============================] - 0s 23ms/step - loss: 1901653888.0000 - val_loss: 1641102848.0000\n",
      "Epoch 82/100\n",
      "3/3 [==============================] - 0s 23ms/step - loss: 1887998080.0000 - val_loss: 1629271296.0000\n",
      "Epoch 83/100\n",
      "3/3 [==============================] - 0s 25ms/step - loss: 1874497664.0000 - val_loss: 1617485824.0000\n",
      "Epoch 84/100\n",
      "3/3 [==============================] - 0s 30ms/step - loss: 1860962304.0000 - val_loss: 1605755264.0000\n",
      "Epoch 85/100\n",
      "3/3 [==============================] - 0s 28ms/step - loss: 1847487744.0000 - val_loss: 1594040320.0000\n",
      "Epoch 86/100\n",
      "3/3 [==============================] - 0s 31ms/step - loss: 1834001664.0000 - val_loss: 1582234752.0000\n",
      "Epoch 87/100\n",
      "3/3 [==============================] - 0s 26ms/step - loss: 1820587520.0000 - val_loss: 1570660864.0000\n",
      "Epoch 88/100\n",
      "3/3 [==============================] - 0s 18ms/step - loss: 1807211008.0000 - val_loss: 1558977920.0000\n",
      "Epoch 89/100\n",
      "3/3 [==============================] - 0s 21ms/step - loss: 1793828352.0000 - val_loss: 1547337856.0000\n",
      "Epoch 90/100\n",
      "3/3 [==============================] - 0s 24ms/step - loss: 1780520064.0000 - val_loss: 1535825280.0000\n",
      "Epoch 91/100\n",
      "3/3 [==============================] - 0s 19ms/step - loss: 1767405312.0000 - val_loss: 1524361472.0000\n",
      "Epoch 92/100\n",
      "3/3 [==============================] - 0s 23ms/step - loss: 1754180992.0000 - val_loss: 1512923520.0000\n",
      "Epoch 93/100\n",
      "3/3 [==============================] - 0s 22ms/step - loss: 1741099648.0000 - val_loss: 1501632512.0000\n",
      "Epoch 94/100\n",
      "3/3 [==============================] - 0s 22ms/step - loss: 1728287872.0000 - val_loss: 1490569600.0000\n",
      "Epoch 95/100\n",
      "3/3 [==============================] - 0s 23ms/step - loss: 1715535232.0000 - val_loss: 1479316224.0000\n",
      "Epoch 96/100\n",
      "3/3 [==============================] - 0s 25ms/step - loss: 1702546560.0000 - val_loss: 1468094976.0000\n",
      "Epoch 97/100\n",
      "3/3 [==============================] - 0s 25ms/step - loss: 1689840512.0000 - val_loss: 1457043840.0000\n",
      "Epoch 98/100\n",
      "3/3 [==============================] - 0s 23ms/step - loss: 1677114112.0000 - val_loss: 1446077312.0000\n",
      "Epoch 99/100\n",
      "3/3 [==============================] - 0s 24ms/step - loss: 1664463488.0000 - val_loss: 1435004800.0000\n",
      "Epoch 100/100\n",
      "3/3 [==============================] - 0s 21ms/step - loss: 1651713280.0000 - val_loss: 1423916928.0000\n",
      "Finished training the model\n"
     ]
    }
   ],
   "source": [
    "model.fit(X_train, y_train, epochs=100, verbose=True, validation_split=0.1)\n",
    "print(\"Finished training the model\")"
   ]
  },
  {
   "cell_type": "markdown",
   "metadata": {
    "id": "PeDTcLsryA5l"
   },
   "source": [
    "<a href=\"https://ibb.co/gV2rqgz\"><img src=\"https://i.ibb.co/FVrhZ7g/bias-weights2.png\" alt=\"bias-weights2\" border=\"0\"></a>"
   ]
  },
  {
   "cell_type": "code",
   "execution_count": 10,
   "metadata": {
    "colab": {
     "base_uri": "https://localhost:8080/"
    },
    "id": "tZcz-SttqoCw",
    "outputId": "91f312ac-93a2-4c1d-fb79-8138354023bf"
   },
   "outputs": [
    {
     "data": {
      "text/plain": [
       "array([[-0.57112473],\n",
       "       [ 0.18980683]], dtype=float32)"
      ]
     },
     "execution_count": 10,
     "metadata": {},
     "output_type": "execute_result"
    }
   ],
   "source": [
    "# Weight\n",
    "model.layers[0].get_weights()[0]"
   ]
  },
  {
   "cell_type": "code",
   "execution_count": 11,
   "metadata": {
    "colab": {
     "base_uri": "https://localhost:8080/"
    },
    "id": "UXmZbC4Xqpce",
    "outputId": "3f8b4822-85c4-463b-ee5b-81902fdc8829"
   },
   "outputs": [
    {
     "data": {
      "text/plain": [
       "array([0.3058335], dtype=float32)"
      ]
     },
     "execution_count": 11,
     "metadata": {},
     "output_type": "execute_result"
    }
   ],
   "source": [
    "# Bias\n",
    "model.layers[0].get_weights()[1]"
   ]
  },
  {
   "cell_type": "code",
   "execution_count": 12,
   "metadata": {
    "colab": {
     "base_uri": "https://localhost:8080/"
    },
    "id": "MEA_UFbZ0vHA",
    "outputId": "046e74f9-c0f3-4c4c-8a66-d5417c010f65"
   },
   "outputs": [
    {
     "name": "stdout",
     "output_type": "stream",
     "text": [
      "2/2 [==============================] - 0s 3ms/step\n",
      "Predicted Values [[-15340.0], [-6278.0], [-43727.0], [-19324.0], [-36202.0]]\n",
      "Actual Values [13663, 15992, 10815, 13383, 13425]\n"
     ]
    }
   ],
   "source": [
    "y_pred = model.predict(X_test)\n",
    "print('Predicted Values', y_pred[0:5].round().tolist())\n",
    "print('Actual Values', y_test[0:5].tolist())"
   ]
  },
  {
   "cell_type": "code",
   "execution_count": 13,
   "metadata": {
    "colab": {
     "base_uri": "https://localhost:8080/"
    },
    "id": "-5bdOJknn5cG",
    "outputId": "550a4839-83a1-4593-eb24-b46aae3e4ee7"
   },
   "outputs": [
    {
     "data": {
      "text/plain": [
       "39483.39967914718"
      ]
     },
     "execution_count": 13,
     "metadata": {},
     "output_type": "execute_result"
    }
   ],
   "source": [
    "# Accuracy (Root Mean Squared Error)\n",
    "from sklearn.metrics import mean_squared_error\n",
    "mean_squared_error(y_test, y_pred, squared=False)"
   ]
  },
  {
   "cell_type": "code",
   "execution_count": null,
   "metadata": {
    "id": "chtfUjAZJ6bQ"
   },
   "outputs": [],
   "source": []
  },
  {
   "cell_type": "code",
   "execution_count": null,
   "metadata": {},
   "outputs": [],
   "source": []
  },
  {
   "cell_type": "code",
   "execution_count": null,
   "metadata": {},
   "outputs": [],
   "source": []
  }
 ],
 "metadata": {
  "accelerator": "GPU",
  "colab": {
   "name": "Tensorflow_&_Keras.ipynb",
   "provenance": []
  },
  "kernelspec": {
   "display_name": "Python 3 (ipykernel)",
   "language": "python",
   "name": "python3"
  },
  "language_info": {
   "codemirror_mode": {
    "name": "ipython",
    "version": 3
   },
   "file_extension": ".py",
   "mimetype": "text/x-python",
   "name": "python",
   "nbconvert_exporter": "python",
   "pygments_lexer": "ipython3",
   "version": "3.10.12"
  }
 },
 "nbformat": 4,
 "nbformat_minor": 4
}
