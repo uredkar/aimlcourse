{
  "cells": [
    {
      "cell_type": "markdown",
      "metadata": {
        "id": "kf37d5GRU4PU"
      },
      "source": [
        "### **Context**\n",
        "\n",
        "The production rates of cars have been rising progressively during the past decade, with almost 92 million cars\n",
        "being produced in the year 2019. This big rise has allowed the used car market to now come\n",
        "into the picture as a growing industry. The manufacture fixes the costs of recent cars within the industry together with some additional costs that are\n",
        "incurred by the govt. majorly within the various types of taxes. So, customers that buy a replacement car remain\n",
        "assured of the money that they invest to be righteous. But because of such increase in prices of the new\n",
        "cars and therefore the inability of the many customers to shop for a replacement car thanks to the dearth of\n",
        "sufficient funds, they like used cars which has resulted into a world increase within the sales of used cars.\n",
        "Therefore, there's a necessity to possess a second hand car price prediction model to accurately determine the\n",
        "worthiness of the car considering a range of features."
      ]
    },
    {
      "cell_type": "markdown",
      "metadata": {
        "id": "783YLK7Fe7yV"
      },
      "source": [
        "## **Problem statement**\n",
        "\n",
        "A company named **Ucars** predicts the price of used cars. Lots of customers approach them to get an estimate of the price of the used car that they want to buy. You working aa a Data Scientist in the Ucars team developing the model that can predict the price of these used cars."
      ]
    },
    {
      "cell_type": "markdown",
      "metadata": {
        "id": "IwAnuKeBgyhF"
      },
      "source": [
        "#### **Data Dictionary**\n",
        "\n",
        "We are using the cars dataset from Kaggle, and the description of the features is given below:\n",
        "\n",
        "**Model**: The brand and model of the car\n",
        "\n",
        "**Year**: The year or edition of the model\n",
        "\n",
        "**Transmission**: The type of transmission used by the car (Automatic / Manual)\n",
        "\n",
        "**Mileage**: The standard mileage offered by the car company in kmpl or km/kg\n",
        "\n",
        "**Price**: The price of the car\n",
        "\n",
        "**Color**: Color of the car"
      ]
    },
    {
      "cell_type": "markdown",
      "metadata": {
        "id": "ykQXiPSPF_rf"
      },
      "source": [
        " Now, let us install the latest version of tensorflow.\n"
      ]
    },
    {
      "cell_type": "code",
      "execution_count": null,
      "metadata": {
        "id": "tvNefLdVoZNz"
      },
      "outputs": [],
      "source": [
        "# !pip install tensorflow"
      ]
    },
    {
      "cell_type": "markdown",
      "metadata": {
        "id": "ycFapGk6GTSi"
      },
      "source": [
        "#### Import required libraries"
      ]
    },
    {
      "cell_type": "code",
      "execution_count": 1,
      "metadata": {
        "id": "8ldz5K4Qvs-h"
      },
      "outputs": [],
      "source": [
        "# Libraries to help with reading and manipulating data\n",
        "import pandas as pd\n",
        "import numpy as np\n",
        "\n",
        "# Library to split data\n",
        "from sklearn.model_selection import train_test_split\n",
        "\n",
        "# Library to encode the variables\n",
        "from sklearn import preprocessing\n",
        "\n",
        "# To plot confusion matrix\n",
        "from sklearn.metrics import confusion_matrix\n",
        "\n",
        "# libaries to help with data visualization\n",
        "import matplotlib.pyplot as plt\n",
        "import seaborn as sns\n",
        "import plotly.express as px\n",
        "\n",
        "# library to import to standardize the data\n",
        "from sklearn.preprocessing import StandardScaler\n",
        "\n",
        "#To import different metrics\n",
        "from sklearn import metrics\n",
        "import sklearn\n",
        "from tensorflow.keras import backend\n",
        "\n",
        "# Library to avoid the warnings\n",
        "import warnings\n",
        "warnings.filterwarnings(\"ignore\")\n",
        "\n",
        "# importing different functions to build models\n",
        "from tensorflow.keras.models import Sequential\n",
        "from tensorflow.keras.layers import Dense\n",
        "import tensorflow as tf"
      ]
    },
    {
      "cell_type": "markdown",
      "metadata": {
        "id": "fBYVOvFIkfdm"
      },
      "source": [
        "#### Reading the Dataset"
      ]
    },
    {
      "cell_type": "code",
      "execution_count": 2,
      "metadata": {
        "colab": {
          "base_uri": "https://localhost:8080/",
          "height": 206
        },
        "id": "Q_ppdA16vs-h",
        "outputId": "c2d934b5-9c8e-41ba-c3e6-4f329dd93893"
      },
      "outputs": [
        {
          "output_type": "execute_result",
          "data": {
            "text/plain": [
              "   year model  price  mileage   color transmission\n",
              "0  2011   SEL  21992     7413    Gray         AUTO\n",
              "1  2011   SEL  20995    10926    Gray         AUTO\n",
              "2  2011   SEL  19995     7351  Silver         AUTO\n",
              "3  2011   SEL  17809    11613    Gray         AUTO\n",
              "4  2011    SE  17500     8367   White         AUTO"
            ],
            "text/html": [
              "\n",
              "  <div id=\"df-e73918ba-8283-48b8-b90d-37e1ed4505be\" class=\"colab-df-container\">\n",
              "    <div>\n",
              "<style scoped>\n",
              "    .dataframe tbody tr th:only-of-type {\n",
              "        vertical-align: middle;\n",
              "    }\n",
              "\n",
              "    .dataframe tbody tr th {\n",
              "        vertical-align: top;\n",
              "    }\n",
              "\n",
              "    .dataframe thead th {\n",
              "        text-align: right;\n",
              "    }\n",
              "</style>\n",
              "<table border=\"1\" class=\"dataframe\">\n",
              "  <thead>\n",
              "    <tr style=\"text-align: right;\">\n",
              "      <th></th>\n",
              "      <th>year</th>\n",
              "      <th>model</th>\n",
              "      <th>price</th>\n",
              "      <th>mileage</th>\n",
              "      <th>color</th>\n",
              "      <th>transmission</th>\n",
              "    </tr>\n",
              "  </thead>\n",
              "  <tbody>\n",
              "    <tr>\n",
              "      <th>0</th>\n",
              "      <td>2011</td>\n",
              "      <td>SEL</td>\n",
              "      <td>21992</td>\n",
              "      <td>7413</td>\n",
              "      <td>Gray</td>\n",
              "      <td>AUTO</td>\n",
              "    </tr>\n",
              "    <tr>\n",
              "      <th>1</th>\n",
              "      <td>2011</td>\n",
              "      <td>SEL</td>\n",
              "      <td>20995</td>\n",
              "      <td>10926</td>\n",
              "      <td>Gray</td>\n",
              "      <td>AUTO</td>\n",
              "    </tr>\n",
              "    <tr>\n",
              "      <th>2</th>\n",
              "      <td>2011</td>\n",
              "      <td>SEL</td>\n",
              "      <td>19995</td>\n",
              "      <td>7351</td>\n",
              "      <td>Silver</td>\n",
              "      <td>AUTO</td>\n",
              "    </tr>\n",
              "    <tr>\n",
              "      <th>3</th>\n",
              "      <td>2011</td>\n",
              "      <td>SEL</td>\n",
              "      <td>17809</td>\n",
              "      <td>11613</td>\n",
              "      <td>Gray</td>\n",
              "      <td>AUTO</td>\n",
              "    </tr>\n",
              "    <tr>\n",
              "      <th>4</th>\n",
              "      <td>2011</td>\n",
              "      <td>SE</td>\n",
              "      <td>17500</td>\n",
              "      <td>8367</td>\n",
              "      <td>White</td>\n",
              "      <td>AUTO</td>\n",
              "    </tr>\n",
              "  </tbody>\n",
              "</table>\n",
              "</div>\n",
              "    <div class=\"colab-df-buttons\">\n",
              "\n",
              "  <div class=\"colab-df-container\">\n",
              "    <button class=\"colab-df-convert\" onclick=\"convertToInteractive('df-e73918ba-8283-48b8-b90d-37e1ed4505be')\"\n",
              "            title=\"Convert this dataframe to an interactive table.\"\n",
              "            style=\"display:none;\">\n",
              "\n",
              "  <svg xmlns=\"http://www.w3.org/2000/svg\" height=\"24px\" viewBox=\"0 -960 960 960\">\n",
              "    <path d=\"M120-120v-720h720v720H120Zm60-500h600v-160H180v160Zm220 220h160v-160H400v160Zm0 220h160v-160H400v160ZM180-400h160v-160H180v160Zm440 0h160v-160H620v160ZM180-180h160v-160H180v160Zm440 0h160v-160H620v160Z\"/>\n",
              "  </svg>\n",
              "    </button>\n",
              "\n",
              "  <style>\n",
              "    .colab-df-container {\n",
              "      display:flex;\n",
              "      gap: 12px;\n",
              "    }\n",
              "\n",
              "    .colab-df-convert {\n",
              "      background-color: #E8F0FE;\n",
              "      border: none;\n",
              "      border-radius: 50%;\n",
              "      cursor: pointer;\n",
              "      display: none;\n",
              "      fill: #1967D2;\n",
              "      height: 32px;\n",
              "      padding: 0 0 0 0;\n",
              "      width: 32px;\n",
              "    }\n",
              "\n",
              "    .colab-df-convert:hover {\n",
              "      background-color: #E2EBFA;\n",
              "      box-shadow: 0px 1px 2px rgba(60, 64, 67, 0.3), 0px 1px 3px 1px rgba(60, 64, 67, 0.15);\n",
              "      fill: #174EA6;\n",
              "    }\n",
              "\n",
              "    .colab-df-buttons div {\n",
              "      margin-bottom: 4px;\n",
              "    }\n",
              "\n",
              "    [theme=dark] .colab-df-convert {\n",
              "      background-color: #3B4455;\n",
              "      fill: #D2E3FC;\n",
              "    }\n",
              "\n",
              "    [theme=dark] .colab-df-convert:hover {\n",
              "      background-color: #434B5C;\n",
              "      box-shadow: 0px 1px 3px 1px rgba(0, 0, 0, 0.15);\n",
              "      filter: drop-shadow(0px 1px 2px rgba(0, 0, 0, 0.3));\n",
              "      fill: #FFFFFF;\n",
              "    }\n",
              "  </style>\n",
              "\n",
              "    <script>\n",
              "      const buttonEl =\n",
              "        document.querySelector('#df-e73918ba-8283-48b8-b90d-37e1ed4505be button.colab-df-convert');\n",
              "      buttonEl.style.display =\n",
              "        google.colab.kernel.accessAllowed ? 'block' : 'none';\n",
              "\n",
              "      async function convertToInteractive(key) {\n",
              "        const element = document.querySelector('#df-e73918ba-8283-48b8-b90d-37e1ed4505be');\n",
              "        const dataTable =\n",
              "          await google.colab.kernel.invokeFunction('convertToInteractive',\n",
              "                                                    [key], {});\n",
              "        if (!dataTable) return;\n",
              "\n",
              "        const docLinkHtml = 'Like what you see? Visit the ' +\n",
              "          '<a target=\"_blank\" href=https://colab.research.google.com/notebooks/data_table.ipynb>data table notebook</a>'\n",
              "          + ' to learn more about interactive tables.';\n",
              "        element.innerHTML = '';\n",
              "        dataTable['output_type'] = 'display_data';\n",
              "        await google.colab.output.renderOutput(dataTable, element);\n",
              "        const docLink = document.createElement('div');\n",
              "        docLink.innerHTML = docLinkHtml;\n",
              "        element.appendChild(docLink);\n",
              "      }\n",
              "    </script>\n",
              "  </div>\n",
              "\n",
              "\n",
              "<div id=\"df-326944fb-79ad-4037-97b5-6cf8fa3b613f\">\n",
              "  <button class=\"colab-df-quickchart\" onclick=\"quickchart('df-326944fb-79ad-4037-97b5-6cf8fa3b613f')\"\n",
              "            title=\"Suggest charts.\"\n",
              "            style=\"display:none;\">\n",
              "\n",
              "<svg xmlns=\"http://www.w3.org/2000/svg\" height=\"24px\"viewBox=\"0 0 24 24\"\n",
              "     width=\"24px\">\n",
              "    <g>\n",
              "        <path d=\"M19 3H5c-1.1 0-2 .9-2 2v14c0 1.1.9 2 2 2h14c1.1 0 2-.9 2-2V5c0-1.1-.9-2-2-2zM9 17H7v-7h2v7zm4 0h-2V7h2v10zm4 0h-2v-4h2v4z\"/>\n",
              "    </g>\n",
              "</svg>\n",
              "  </button>\n",
              "\n",
              "<style>\n",
              "  .colab-df-quickchart {\n",
              "      --bg-color: #E8F0FE;\n",
              "      --fill-color: #1967D2;\n",
              "      --hover-bg-color: #E2EBFA;\n",
              "      --hover-fill-color: #174EA6;\n",
              "      --disabled-fill-color: #AAA;\n",
              "      --disabled-bg-color: #DDD;\n",
              "  }\n",
              "\n",
              "  [theme=dark] .colab-df-quickchart {\n",
              "      --bg-color: #3B4455;\n",
              "      --fill-color: #D2E3FC;\n",
              "      --hover-bg-color: #434B5C;\n",
              "      --hover-fill-color: #FFFFFF;\n",
              "      --disabled-bg-color: #3B4455;\n",
              "      --disabled-fill-color: #666;\n",
              "  }\n",
              "\n",
              "  .colab-df-quickchart {\n",
              "    background-color: var(--bg-color);\n",
              "    border: none;\n",
              "    border-radius: 50%;\n",
              "    cursor: pointer;\n",
              "    display: none;\n",
              "    fill: var(--fill-color);\n",
              "    height: 32px;\n",
              "    padding: 0;\n",
              "    width: 32px;\n",
              "  }\n",
              "\n",
              "  .colab-df-quickchart:hover {\n",
              "    background-color: var(--hover-bg-color);\n",
              "    box-shadow: 0 1px 2px rgba(60, 64, 67, 0.3), 0 1px 3px 1px rgba(60, 64, 67, 0.15);\n",
              "    fill: var(--button-hover-fill-color);\n",
              "  }\n",
              "\n",
              "  .colab-df-quickchart-complete:disabled,\n",
              "  .colab-df-quickchart-complete:disabled:hover {\n",
              "    background-color: var(--disabled-bg-color);\n",
              "    fill: var(--disabled-fill-color);\n",
              "    box-shadow: none;\n",
              "  }\n",
              "\n",
              "  .colab-df-spinner {\n",
              "    border: 2px solid var(--fill-color);\n",
              "    border-color: transparent;\n",
              "    border-bottom-color: var(--fill-color);\n",
              "    animation:\n",
              "      spin 1s steps(1) infinite;\n",
              "  }\n",
              "\n",
              "  @keyframes spin {\n",
              "    0% {\n",
              "      border-color: transparent;\n",
              "      border-bottom-color: var(--fill-color);\n",
              "      border-left-color: var(--fill-color);\n",
              "    }\n",
              "    20% {\n",
              "      border-color: transparent;\n",
              "      border-left-color: var(--fill-color);\n",
              "      border-top-color: var(--fill-color);\n",
              "    }\n",
              "    30% {\n",
              "      border-color: transparent;\n",
              "      border-left-color: var(--fill-color);\n",
              "      border-top-color: var(--fill-color);\n",
              "      border-right-color: var(--fill-color);\n",
              "    }\n",
              "    40% {\n",
              "      border-color: transparent;\n",
              "      border-right-color: var(--fill-color);\n",
              "      border-top-color: var(--fill-color);\n",
              "    }\n",
              "    60% {\n",
              "      border-color: transparent;\n",
              "      border-right-color: var(--fill-color);\n",
              "    }\n",
              "    80% {\n",
              "      border-color: transparent;\n",
              "      border-right-color: var(--fill-color);\n",
              "      border-bottom-color: var(--fill-color);\n",
              "    }\n",
              "    90% {\n",
              "      border-color: transparent;\n",
              "      border-bottom-color: var(--fill-color);\n",
              "    }\n",
              "  }\n",
              "</style>\n",
              "\n",
              "  <script>\n",
              "    async function quickchart(key) {\n",
              "      const quickchartButtonEl =\n",
              "        document.querySelector('#' + key + ' button');\n",
              "      quickchartButtonEl.disabled = true;  // To prevent multiple clicks.\n",
              "      quickchartButtonEl.classList.add('colab-df-spinner');\n",
              "      try {\n",
              "        const charts = await google.colab.kernel.invokeFunction(\n",
              "            'suggestCharts', [key], {});\n",
              "      } catch (error) {\n",
              "        console.error('Error during call to suggestCharts:', error);\n",
              "      }\n",
              "      quickchartButtonEl.classList.remove('colab-df-spinner');\n",
              "      quickchartButtonEl.classList.add('colab-df-quickchart-complete');\n",
              "    }\n",
              "    (() => {\n",
              "      let quickchartButtonEl =\n",
              "        document.querySelector('#df-326944fb-79ad-4037-97b5-6cf8fa3b613f button');\n",
              "      quickchartButtonEl.style.display =\n",
              "        google.colab.kernel.accessAllowed ? 'block' : 'none';\n",
              "    })();\n",
              "  </script>\n",
              "</div>\n",
              "    </div>\n",
              "  </div>\n"
            ]
          },
          "metadata": {},
          "execution_count": 2
        }
      ],
      "source": [
        "cars_data = pd.read_csv('usedcars.csv')\n",
        "cars_data.head()"
      ]
    },
    {
      "cell_type": "markdown",
      "metadata": {
        "id": "TSs1V-H6Mqpl"
      },
      "source": [
        "##### Overview of Dataset"
      ]
    },
    {
      "cell_type": "markdown",
      "metadata": {
        "id": "0-FOadOi4aU1"
      },
      "source": [
        "Let's check the null values in each column of the dataset"
      ]
    },
    {
      "cell_type": "code",
      "execution_count": 3,
      "metadata": {
        "colab": {
          "base_uri": "https://localhost:8080/"
        },
        "id": "nX1zbyI75RMi",
        "outputId": "b4a59ff8-8816-4e2b-8946-32e2da50bce4"
      },
      "outputs": [
        {
          "output_type": "execute_result",
          "data": {
            "text/plain": [
              "year            0\n",
              "model           0\n",
              "price           0\n",
              "mileage         0\n",
              "color           0\n",
              "transmission    0\n",
              "dtype: int64"
            ]
          },
          "metadata": {},
          "execution_count": 3
        }
      ],
      "source": [
        "cars_data.isna().sum()"
      ]
    },
    {
      "cell_type": "markdown",
      "metadata": {
        "id": "EqHbbtu2ii7k"
      },
      "source": [
        "* As you can see, there are no null values in any of the column"
      ]
    },
    {
      "cell_type": "markdown",
      "metadata": {
        "id": "OKflWRQOkUyJ"
      },
      "source": [
        "Exploring the column names"
      ]
    },
    {
      "cell_type": "code",
      "execution_count": 4,
      "metadata": {
        "colab": {
          "base_uri": "https://localhost:8080/"
        },
        "id": "y4YBIUaZ5zG4",
        "outputId": "5396cfae-6e0a-4afe-af61-cea00098ff85"
      },
      "outputs": [
        {
          "output_type": "execute_result",
          "data": {
            "text/plain": [
              "Index(['year', 'model', 'price', 'mileage', 'color', 'transmission'], dtype='object')"
            ]
          },
          "metadata": {},
          "execution_count": 4
        }
      ],
      "source": [
        "cars_data.columns"
      ]
    },
    {
      "cell_type": "markdown",
      "metadata": {
        "id": "2LzGCuYnieMm"
      },
      "source": [
        "### Univariate Analysis"
      ]
    },
    {
      "cell_type": "markdown",
      "metadata": {
        "id": "Yn6vpOVVFpeP"
      },
      "source": [
        "It’s always good to get some insight about the target variable. The target or dependent variable is price in our case.\n"
      ]
    },
    {
      "cell_type": "code",
      "execution_count": 5,
      "metadata": {
        "colab": {
          "base_uri": "https://localhost:8080/"
        },
        "id": "_ggwGlB_E_mD",
        "outputId": "64e2c410-a032-418d-aa8b-d5f719d979ce"
      },
      "outputs": [
        {
          "output_type": "stream",
          "name": "stdout",
          "text": [
            "12961.933333333332\n",
            "13591.5\n"
          ]
        }
      ],
      "source": [
        "df=cars_data\n",
        "print(df.price.mean())\n",
        "print(df.price.median())"
      ]
    },
    {
      "cell_type": "markdown",
      "metadata": {
        "id": "jP0_SbMEFx68"
      },
      "source": [
        "Mean is slightly  lesser than median which indicates there are few outliers or extreme values. Let’s also check maximum and minimum values:"
      ]
    },
    {
      "cell_type": "code",
      "execution_count": 6,
      "metadata": {
        "colab": {
          "base_uri": "https://localhost:8080/"
        },
        "id": "zMfZWVhYFCzL",
        "outputId": "7bae9883-c5aa-44e3-d247-61bc4d09591d"
      },
      "outputs": [
        {
          "output_type": "stream",
          "name": "stdout",
          "text": [
            "21992\n",
            "3800\n"
          ]
        }
      ],
      "source": [
        "print(df.price.max())\n",
        "print(df.price.min())"
      ]
    },
    {
      "cell_type": "code",
      "execution_count": 7,
      "metadata": {
        "id": "-HV0zdqSo0xO"
      },
      "outputs": [],
      "source": [
        "# function to plot a boxplot and a histogram along the same scale.\n",
        "\n",
        "\n",
        "def histogram_boxplot(data, feature, figsize=(12, 7), kde=False, bins=None):\n",
        "    \"\"\"\n",
        "    Boxplot and histogram combined\n",
        "\n",
        "    data: dataframe\n",
        "    feature: dataframe column\n",
        "    figsize: size of figure (default (12,7))\n",
        "    kde: whether to show the density curve (default False)\n",
        "    bins: number of bins for histogram (default None)\n",
        "    \"\"\"\n",
        "    f2, (ax_box2, ax_hist2) = plt.subplots(\n",
        "        nrows=2,  # Number of rows of the subplot grid= 2\n",
        "        sharex=True,  # x-axis will be shared among all subplots\n",
        "        gridspec_kw={\"height_ratios\": (0.25, 0.75)},\n",
        "        figsize=figsize,\n",
        "    )  # creating the 2 subplots\n",
        "    sns.boxplot(\n",
        "        data=data, x=feature, ax=ax_box2, showmeans=True, color=\"violet\"\n",
        "    )  # boxplot will be created and a star will indicate the mean value of the column\n",
        "    sns.histplot(\n",
        "        data=data, x=feature, kde=kde, ax=ax_hist2, bins=bins, palette=\"winter\"\n",
        "    ) if bins else sns.histplot(\n",
        "        data=data, x=feature, kde=kde, ax=ax_hist2\n",
        "    )  # For histogram\n",
        "    ax_hist2.axvline(\n",
        "        data[feature].mean(), color=\"green\", linestyle=\"--\"\n",
        "    )  # Add mean to the histogram\n",
        "    ax_hist2.axvline(\n",
        "        data[feature].median(), color=\"black\", linestyle=\"-\"\n",
        "    )  # Add median to the histogram"
      ]
    },
    {
      "cell_type": "code",
      "execution_count": null,
      "metadata": {
        "id": "bFWNtRk4o8Ud"
      },
      "outputs": [],
      "source": [
        "histogram_boxplot(df, \"price\")"
      ]
    },
    {
      "cell_type": "code",
      "source": [
        "fig = (\n",
        "    px.histogram(\n",
        "        df,\n",
        "        x = \"price\",\n",
        "        marginal = \"box\",\n",
        "        template = \"presentation\"\n",
        "    )\n",
        "    .update_layout(bargap = 0.1)\n",
        "    .show()\n",
        ")"
      ],
      "metadata": {
        "colab": {
          "base_uri": "https://localhost:8080/",
          "height": 542
        },
        "id": "9ijGRswD__TO",
        "outputId": "6c6e4273-ce75-4670-d537-4c54c6b3e770"
      },
      "execution_count": 8,
      "outputs": [
        {
          "output_type": "display_data",
          "data": {
            "text/html": [
              "<html>\n",
              "<head><meta charset=\"utf-8\" /></head>\n",
              "<body>\n",
              "    <div>            <script src=\"https://cdnjs.cloudflare.com/ajax/libs/mathjax/2.7.5/MathJax.js?config=TeX-AMS-MML_SVG\"></script><script type=\"text/javascript\">if (window.MathJax && window.MathJax.Hub && window.MathJax.Hub.Config) {window.MathJax.Hub.Config({SVG: {font: \"STIX-Web\"}});}</script>                <script type=\"text/javascript\">window.PlotlyConfig = {MathJaxConfig: 'local'};</script>\n",
              "        <script charset=\"utf-8\" src=\"https://cdn.plot.ly/plotly-2.24.1.min.js\"></script>                <div id=\"7a8325a8-9a35-4e68-8791-37e3a528cfd4\" class=\"plotly-graph-div\" style=\"height:525px; width:100%;\"></div>            <script type=\"text/javascript\">                                    window.PLOTLYENV=window.PLOTLYENV || {};                                    if (document.getElementById(\"7a8325a8-9a35-4e68-8791-37e3a528cfd4\")) {                    Plotly.newPlot(                        \"7a8325a8-9a35-4e68-8791-37e3a528cfd4\",                        [{\"alignmentgroup\":\"True\",\"bingroup\":\"x\",\"hovertemplate\":\"price=%{x}\\u003cbr\\u003ecount=%{y}\\u003cextra\\u003e\\u003c\\u002fextra\\u003e\",\"legendgroup\":\"\",\"marker\":{\"color\":\"#1F77B4\",\"pattern\":{\"shape\":\"\"}},\"name\":\"\",\"offsetgroup\":\"\",\"orientation\":\"v\",\"showlegend\":false,\"x\":[21992,20995,19995,17809,17500,17495,17000,16995,16995,16995,16995,16992,16950,16950,16000,15999,15999,15995,15992,15992,15988,15980,15899,15889,15688,15500,15499,15499,15298,14999,14999,14995,14992,14992,14992,14990,14989,14906,14900,14893,14761,14699,14677,14549,14499,14495,14495,14480,14477,14355,14299,14275,14000,13999,13997,13995,13995,13995,13995,13992,13992,13992,13992,13991,13950,13950,13950,13895,13888,13845,13799,13742,13687,13663,13599,13584,13425,13384,13383,13350,12999,12998,12997,12995,12995,12995,12995,12995,12995,12995,12992,12990,12988,12849,12780,12777,12704,12595,12507,12500,12500,12280,11999,11992,11984,11980,11792,11754,11749,11495,11450,10995,10995,10995,10979,10955,10955,10836,10815,10770,10717,10000,9999,9999,9995,9995,9992,9651,9000,8999,8996,8800,8495,8494,8480,7999,7995,7995,7900,7488,6999,6995,6980,6980,6950,6200,5995,5980,4899,3800],\"xaxis\":\"x\",\"yaxis\":\"y\",\"type\":\"histogram\"},{\"alignmentgroup\":\"True\",\"hovertemplate\":\"price=%{x}\\u003cextra\\u003e\\u003c\\u002fextra\\u003e\",\"legendgroup\":\"\",\"marker\":{\"color\":\"#1F77B4\"},\"name\":\"\",\"notched\":true,\"offsetgroup\":\"\",\"showlegend\":false,\"x\":[21992,20995,19995,17809,17500,17495,17000,16995,16995,16995,16995,16992,16950,16950,16000,15999,15999,15995,15992,15992,15988,15980,15899,15889,15688,15500,15499,15499,15298,14999,14999,14995,14992,14992,14992,14990,14989,14906,14900,14893,14761,14699,14677,14549,14499,14495,14495,14480,14477,14355,14299,14275,14000,13999,13997,13995,13995,13995,13995,13992,13992,13992,13992,13991,13950,13950,13950,13895,13888,13845,13799,13742,13687,13663,13599,13584,13425,13384,13383,13350,12999,12998,12997,12995,12995,12995,12995,12995,12995,12995,12992,12990,12988,12849,12780,12777,12704,12595,12507,12500,12500,12280,11999,11992,11984,11980,11792,11754,11749,11495,11450,10995,10995,10995,10979,10955,10955,10836,10815,10770,10717,10000,9999,9999,9995,9995,9992,9651,9000,8999,8996,8800,8495,8494,8480,7999,7995,7995,7900,7488,6999,6995,6980,6980,6950,6200,5995,5980,4899,3800],\"xaxis\":\"x2\",\"yaxis\":\"y2\",\"type\":\"box\"}],                        {\"template\":{\"data\":{\"pie\":[{\"automargin\":true,\"type\":\"pie\"}],\"scatter3d\":[{\"line\":{\"width\":3},\"marker\":{\"size\":9},\"type\":\"scatter3d\"}],\"scattergeo\":[{\"line\":{\"width\":3},\"marker\":{\"size\":9},\"type\":\"scattergeo\"}],\"scattergl\":[{\"line\":{\"width\":3},\"marker\":{\"size\":9},\"type\":\"scattergl\"}],\"scatterpolargl\":[{\"line\":{\"width\":3},\"marker\":{\"size\":9},\"type\":\"scatterpolargl\"}],\"scatterpolar\":[{\"line\":{\"width\":3},\"marker\":{\"size\":9},\"type\":\"scatterpolar\"}],\"scatter\":[{\"line\":{\"width\":3},\"marker\":{\"size\":9},\"type\":\"scatter\"}],\"scatterternary\":[{\"line\":{\"width\":3},\"marker\":{\"size\":9},\"type\":\"scatterternary\"}],\"table\":[{\"cells\":{\"height\":30},\"header\":{\"height\":36},\"type\":\"table\"}]},\"layout\":{\"font\":{\"size\":18},\"xaxis\":{\"title\":{\"standoff\":15}},\"yaxis\":{\"title\":{\"standoff\":15}}}},\"xaxis\":{\"anchor\":\"y\",\"domain\":[0.0,1.0],\"title\":{\"text\":\"price\"}},\"yaxis\":{\"anchor\":\"x\",\"domain\":[0.0,0.8316],\"title\":{\"text\":\"count\"}},\"xaxis2\":{\"anchor\":\"y2\",\"domain\":[0.0,1.0],\"matches\":\"x\",\"showticklabels\":false,\"showgrid\":true},\"yaxis2\":{\"anchor\":\"x2\",\"domain\":[0.8416,1.0],\"matches\":\"y2\",\"showticklabels\":false,\"showline\":false,\"ticks\":\"\",\"showgrid\":false},\"legend\":{\"tracegroupgap\":0},\"margin\":{\"t\":60},\"barmode\":\"relative\",\"bargap\":0.1},                        {\"responsive\": true}                    ).then(function(){\n",
              "                            \n",
              "var gd = document.getElementById('7a8325a8-9a35-4e68-8791-37e3a528cfd4');\n",
              "var x = new MutationObserver(function (mutations, observer) {{\n",
              "        var display = window.getComputedStyle(gd).display;\n",
              "        if (!display || display === 'none') {{\n",
              "            console.log([gd, 'removed!']);\n",
              "            Plotly.purge(gd);\n",
              "            observer.disconnect();\n",
              "        }}\n",
              "}});\n",
              "\n",
              "// Listen for the removal of the full notebook cells\n",
              "var notebookContainer = gd.closest('#notebook-container');\n",
              "if (notebookContainer) {{\n",
              "    x.observe(notebookContainer, {childList: true});\n",
              "}}\n",
              "\n",
              "// Listen for the clearing of the current output cell\n",
              "var outputEl = gd.closest('.output');\n",
              "if (outputEl) {{\n",
              "    x.observe(outputEl, {childList: true});\n",
              "}}\n",
              "\n",
              "                        })                };                            </script>        </div>\n",
              "</body>\n",
              "</html>"
            ]
          },
          "metadata": {}
        }
      ]
    },
    {
      "cell_type": "code",
      "source": [
        "fig = (\n",
        "    px.histogram(\n",
        "        df,\n",
        "        x = \"year\",\n",
        "        marginal = \"box\",\n",
        "        template = \"presentation\"\n",
        "    )\n",
        "    .update_layout(bargap = 0.1)\n",
        "    .show()\n",
        ")"
      ],
      "metadata": {
        "colab": {
          "base_uri": "https://localhost:8080/",
          "height": 542
        },
        "id": "gBzQdVkcAYrF",
        "outputId": "fa05aefd-38aa-4fb2-960a-0201765b9c76"
      },
      "execution_count": 9,
      "outputs": [
        {
          "output_type": "display_data",
          "data": {
            "text/html": [
              "<html>\n",
              "<head><meta charset=\"utf-8\" /></head>\n",
              "<body>\n",
              "    <div>            <script src=\"https://cdnjs.cloudflare.com/ajax/libs/mathjax/2.7.5/MathJax.js?config=TeX-AMS-MML_SVG\"></script><script type=\"text/javascript\">if (window.MathJax && window.MathJax.Hub && window.MathJax.Hub.Config) {window.MathJax.Hub.Config({SVG: {font: \"STIX-Web\"}});}</script>                <script type=\"text/javascript\">window.PlotlyConfig = {MathJaxConfig: 'local'};</script>\n",
              "        <script charset=\"utf-8\" src=\"https://cdn.plot.ly/plotly-2.24.1.min.js\"></script>                <div id=\"c65139de-1e98-4547-aa0b-205c894d2f83\" class=\"plotly-graph-div\" style=\"height:525px; width:100%;\"></div>            <script type=\"text/javascript\">                                    window.PLOTLYENV=window.PLOTLYENV || {};                                    if (document.getElementById(\"c65139de-1e98-4547-aa0b-205c894d2f83\")) {                    Plotly.newPlot(                        \"c65139de-1e98-4547-aa0b-205c894d2f83\",                        [{\"alignmentgroup\":\"True\",\"bingroup\":\"x\",\"hovertemplate\":\"year=%{x}\\u003cbr\\u003ecount=%{y}\\u003cextra\\u003e\\u003c\\u002fextra\\u003e\",\"legendgroup\":\"\",\"marker\":{\"color\":\"#1F77B4\",\"pattern\":{\"shape\":\"\"}},\"name\":\"\",\"offsetgroup\":\"\",\"orientation\":\"v\",\"showlegend\":false,\"x\":[2011,2011,2011,2011,2011,2010,2011,2010,2011,2010,2010,2011,2011,2010,2011,2011,2010,2010,2011,2011,2010,2010,2011,2010,2009,2010,2010,2010,2010,2009,2010,2009,2011,2011,2009,2010,2011,2010,2010,2010,2010,2010,2010,2009,2010,2010,2010,2010,2009,2009,2010,2010,2010,2009,2010,2010,2010,2009,2009,2009,2010,2010,2009,2009,2009,2010,2010,2010,2009,2009,2009,2009,2010,2009,2010,2009,2009,2010,2010,2010,2009,2009,2007,2010,2010,2010,2009,2009,2009,2008,2009,2009,2009,2010,2010,2008,2008,2009,2009,2008,2009,2009,2009,2009,2009,2009,2010,2008,2008,2008,2008,2009,2006,2009,2009,2008,2009,2008,2007,2007,2010,2007,2007,2007,2006,2008,2008,2007,2007,2006,2007,2006,2008,2008,2009,2007,2006,2006,2006,2006,2006,2007,2006,2006,2006,2006,2006,2006,2006,2006],\"xaxis\":\"x\",\"yaxis\":\"y\",\"type\":\"histogram\"},{\"alignmentgroup\":\"True\",\"hovertemplate\":\"year=%{x}\\u003cextra\\u003e\\u003c\\u002fextra\\u003e\",\"legendgroup\":\"\",\"marker\":{\"color\":\"#1F77B4\"},\"name\":\"\",\"notched\":true,\"offsetgroup\":\"\",\"showlegend\":false,\"x\":[2011,2011,2011,2011,2011,2010,2011,2010,2011,2010,2010,2011,2011,2010,2011,2011,2010,2010,2011,2011,2010,2010,2011,2010,2009,2010,2010,2010,2010,2009,2010,2009,2011,2011,2009,2010,2011,2010,2010,2010,2010,2010,2010,2009,2010,2010,2010,2010,2009,2009,2010,2010,2010,2009,2010,2010,2010,2009,2009,2009,2010,2010,2009,2009,2009,2010,2010,2010,2009,2009,2009,2009,2010,2009,2010,2009,2009,2010,2010,2010,2009,2009,2007,2010,2010,2010,2009,2009,2009,2008,2009,2009,2009,2010,2010,2008,2008,2009,2009,2008,2009,2009,2009,2009,2009,2009,2010,2008,2008,2008,2008,2009,2006,2009,2009,2008,2009,2008,2007,2007,2010,2007,2007,2007,2006,2008,2008,2007,2007,2006,2007,2006,2008,2008,2009,2007,2006,2006,2006,2006,2006,2007,2006,2006,2006,2006,2006,2006,2006,2006],\"xaxis\":\"x2\",\"yaxis\":\"y2\",\"type\":\"box\"}],                        {\"template\":{\"data\":{\"pie\":[{\"automargin\":true,\"type\":\"pie\"}],\"scatter3d\":[{\"line\":{\"width\":3},\"marker\":{\"size\":9},\"type\":\"scatter3d\"}],\"scattergeo\":[{\"line\":{\"width\":3},\"marker\":{\"size\":9},\"type\":\"scattergeo\"}],\"scattergl\":[{\"line\":{\"width\":3},\"marker\":{\"size\":9},\"type\":\"scattergl\"}],\"scatterpolargl\":[{\"line\":{\"width\":3},\"marker\":{\"size\":9},\"type\":\"scatterpolargl\"}],\"scatterpolar\":[{\"line\":{\"width\":3},\"marker\":{\"size\":9},\"type\":\"scatterpolar\"}],\"scatter\":[{\"line\":{\"width\":3},\"marker\":{\"size\":9},\"type\":\"scatter\"}],\"scatterternary\":[{\"line\":{\"width\":3},\"marker\":{\"size\":9},\"type\":\"scatterternary\"}],\"table\":[{\"cells\":{\"height\":30},\"header\":{\"height\":36},\"type\":\"table\"}]},\"layout\":{\"font\":{\"size\":18},\"xaxis\":{\"title\":{\"standoff\":15}},\"yaxis\":{\"title\":{\"standoff\":15}}}},\"xaxis\":{\"anchor\":\"y\",\"domain\":[0.0,1.0],\"title\":{\"text\":\"year\"}},\"yaxis\":{\"anchor\":\"x\",\"domain\":[0.0,0.8316],\"title\":{\"text\":\"count\"}},\"xaxis2\":{\"anchor\":\"y2\",\"domain\":[0.0,1.0],\"matches\":\"x\",\"showticklabels\":false,\"showgrid\":true},\"yaxis2\":{\"anchor\":\"x2\",\"domain\":[0.8416,1.0],\"matches\":\"y2\",\"showticklabels\":false,\"showline\":false,\"ticks\":\"\",\"showgrid\":false},\"legend\":{\"tracegroupgap\":0},\"margin\":{\"t\":60},\"barmode\":\"relative\",\"bargap\":0.1},                        {\"responsive\": true}                    ).then(function(){\n",
              "                            \n",
              "var gd = document.getElementById('c65139de-1e98-4547-aa0b-205c894d2f83');\n",
              "var x = new MutationObserver(function (mutations, observer) {{\n",
              "        var display = window.getComputedStyle(gd).display;\n",
              "        if (!display || display === 'none') {{\n",
              "            console.log([gd, 'removed!']);\n",
              "            Plotly.purge(gd);\n",
              "            observer.disconnect();\n",
              "        }}\n",
              "}});\n",
              "\n",
              "// Listen for the removal of the full notebook cells\n",
              "var notebookContainer = gd.closest('#notebook-container');\n",
              "if (notebookContainer) {{\n",
              "    x.observe(notebookContainer, {childList: true});\n",
              "}}\n",
              "\n",
              "// Listen for the clearing of the current output cell\n",
              "var outputEl = gd.closest('.output');\n",
              "if (outputEl) {{\n",
              "    x.observe(outputEl, {childList: true});\n",
              "}}\n",
              "\n",
              "                        })                };                            </script>        </div>\n",
              "</body>\n",
              "</html>"
            ]
          },
          "metadata": {}
        }
      ]
    },
    {
      "cell_type": "code",
      "source": [
        "fig = (\n",
        "    px.histogram(\n",
        "        df,\n",
        "        x = \"mileage\",\n",
        "        marginal = \"box\",\n",
        "        template = \"presentation\"\n",
        "    )\n",
        "    .update_layout(bargap = 0.1)\n",
        "    .show()\n",
        ")"
      ],
      "metadata": {
        "colab": {
          "base_uri": "https://localhost:8080/",
          "height": 542
        },
        "id": "Eg52g3PgAcq0",
        "outputId": "c53cae56-737a-40bc-f09a-e226a514fba5"
      },
      "execution_count": 11,
      "outputs": [
        {
          "output_type": "display_data",
          "data": {
            "text/html": [
              "<html>\n",
              "<head><meta charset=\"utf-8\" /></head>\n",
              "<body>\n",
              "    <div>            <script src=\"https://cdnjs.cloudflare.com/ajax/libs/mathjax/2.7.5/MathJax.js?config=TeX-AMS-MML_SVG\"></script><script type=\"text/javascript\">if (window.MathJax && window.MathJax.Hub && window.MathJax.Hub.Config) {window.MathJax.Hub.Config({SVG: {font: \"STIX-Web\"}});}</script>                <script type=\"text/javascript\">window.PlotlyConfig = {MathJaxConfig: 'local'};</script>\n",
              "        <script charset=\"utf-8\" src=\"https://cdn.plot.ly/plotly-2.24.1.min.js\"></script>                <div id=\"f44c2ffa-79b4-4d95-848b-477f1d155c04\" class=\"plotly-graph-div\" style=\"height:525px; width:100%;\"></div>            <script type=\"text/javascript\">                                    window.PLOTLYENV=window.PLOTLYENV || {};                                    if (document.getElementById(\"f44c2ffa-79b4-4d95-848b-477f1d155c04\")) {                    Plotly.newPlot(                        \"f44c2ffa-79b4-4d95-848b-477f1d155c04\",                        [{\"alignmentgroup\":\"True\",\"bingroup\":\"x\",\"hovertemplate\":\"mileage=%{x}\\u003cbr\\u003ecount=%{y}\\u003cextra\\u003e\\u003c\\u002fextra\\u003e\",\"legendgroup\":\"\",\"marker\":{\"color\":\"#1F77B4\",\"pattern\":{\"shape\":\"\"}},\"name\":\"\",\"offsetgroup\":\"\",\"orientation\":\"v\",\"showlegend\":false,\"x\":[7413,10926,7351,11613,8367,25125,27393,21026,32655,36116,40539,9199,9388,32058,15367,16368,19926,36049,11662,32069,16035,39943,36685,24920,20019,29338,7784,35636,22029,33107,36306,34419,4867,18948,24030,33036,23967,37905,28955,11165,44813,36469,22143,34046,32703,35894,38275,24855,29501,35394,36447,35318,24929,23785,15167,13541,20278,46126,53733,21108,21721,26716,26887,36252,9450,31414,37185,48174,50533,36713,34888,38380,35574,27528,33302,43369,64055,41342,34503,16573,32403,34846,39665,21325,32743,40058,42325,44518,53902,127327,27136,45813,31538,29517,35871,49787,36323,39211,44789,45996,54988,29288,36124,32559,59048,55170,39722,38286,57341,82221,85229,42834,69415,78264,60709,39643,40180,40330,77231,72937,64199,63926,74427,78948,51311,95364,74109,63296,80605,49656,48652,71331,106171,68901,70036,81596,35000,97987,96000,59013,105714,86862,60161,101130,119720,95000,87003,96841,151479,109259],\"xaxis\":\"x\",\"yaxis\":\"y\",\"type\":\"histogram\"},{\"alignmentgroup\":\"True\",\"hovertemplate\":\"mileage=%{x}\\u003cextra\\u003e\\u003c\\u002fextra\\u003e\",\"legendgroup\":\"\",\"marker\":{\"color\":\"#1F77B4\"},\"name\":\"\",\"notched\":true,\"offsetgroup\":\"\",\"showlegend\":false,\"x\":[7413,10926,7351,11613,8367,25125,27393,21026,32655,36116,40539,9199,9388,32058,15367,16368,19926,36049,11662,32069,16035,39943,36685,24920,20019,29338,7784,35636,22029,33107,36306,34419,4867,18948,24030,33036,23967,37905,28955,11165,44813,36469,22143,34046,32703,35894,38275,24855,29501,35394,36447,35318,24929,23785,15167,13541,20278,46126,53733,21108,21721,26716,26887,36252,9450,31414,37185,48174,50533,36713,34888,38380,35574,27528,33302,43369,64055,41342,34503,16573,32403,34846,39665,21325,32743,40058,42325,44518,53902,127327,27136,45813,31538,29517,35871,49787,36323,39211,44789,45996,54988,29288,36124,32559,59048,55170,39722,38286,57341,82221,85229,42834,69415,78264,60709,39643,40180,40330,77231,72937,64199,63926,74427,78948,51311,95364,74109,63296,80605,49656,48652,71331,106171,68901,70036,81596,35000,97987,96000,59013,105714,86862,60161,101130,119720,95000,87003,96841,151479,109259],\"xaxis\":\"x2\",\"yaxis\":\"y2\",\"type\":\"box\"}],                        {\"template\":{\"data\":{\"pie\":[{\"automargin\":true,\"type\":\"pie\"}],\"scatter3d\":[{\"line\":{\"width\":3},\"marker\":{\"size\":9},\"type\":\"scatter3d\"}],\"scattergeo\":[{\"line\":{\"width\":3},\"marker\":{\"size\":9},\"type\":\"scattergeo\"}],\"scattergl\":[{\"line\":{\"width\":3},\"marker\":{\"size\":9},\"type\":\"scattergl\"}],\"scatterpolargl\":[{\"line\":{\"width\":3},\"marker\":{\"size\":9},\"type\":\"scatterpolargl\"}],\"scatterpolar\":[{\"line\":{\"width\":3},\"marker\":{\"size\":9},\"type\":\"scatterpolar\"}],\"scatter\":[{\"line\":{\"width\":3},\"marker\":{\"size\":9},\"type\":\"scatter\"}],\"scatterternary\":[{\"line\":{\"width\":3},\"marker\":{\"size\":9},\"type\":\"scatterternary\"}],\"table\":[{\"cells\":{\"height\":30},\"header\":{\"height\":36},\"type\":\"table\"}]},\"layout\":{\"font\":{\"size\":18},\"xaxis\":{\"title\":{\"standoff\":15}},\"yaxis\":{\"title\":{\"standoff\":15}}}},\"xaxis\":{\"anchor\":\"y\",\"domain\":[0.0,1.0],\"title\":{\"text\":\"mileage\"}},\"yaxis\":{\"anchor\":\"x\",\"domain\":[0.0,0.8316],\"title\":{\"text\":\"count\"}},\"xaxis2\":{\"anchor\":\"y2\",\"domain\":[0.0,1.0],\"matches\":\"x\",\"showticklabels\":false,\"showgrid\":true},\"yaxis2\":{\"anchor\":\"x2\",\"domain\":[0.8416,1.0],\"matches\":\"y2\",\"showticklabels\":false,\"showline\":false,\"ticks\":\"\",\"showgrid\":false},\"legend\":{\"tracegroupgap\":0},\"margin\":{\"t\":60},\"barmode\":\"relative\",\"bargap\":0.1},                        {\"responsive\": true}                    ).then(function(){\n",
              "                            \n",
              "var gd = document.getElementById('f44c2ffa-79b4-4d95-848b-477f1d155c04');\n",
              "var x = new MutationObserver(function (mutations, observer) {{\n",
              "        var display = window.getComputedStyle(gd).display;\n",
              "        if (!display || display === 'none') {{\n",
              "            console.log([gd, 'removed!']);\n",
              "            Plotly.purge(gd);\n",
              "            observer.disconnect();\n",
              "        }}\n",
              "}});\n",
              "\n",
              "// Listen for the removal of the full notebook cells\n",
              "var notebookContainer = gd.closest('#notebook-container');\n",
              "if (notebookContainer) {{\n",
              "    x.observe(notebookContainer, {childList: true});\n",
              "}}\n",
              "\n",
              "// Listen for the clearing of the current output cell\n",
              "var outputEl = gd.closest('.output');\n",
              "if (outputEl) {{\n",
              "    x.observe(outputEl, {childList: true});\n",
              "}}\n",
              "\n",
              "                        })                };                            </script>        </div>\n",
              "</body>\n",
              "</html>"
            ]
          },
          "metadata": {}
        }
      ]
    },
    {
      "cell_type": "markdown",
      "metadata": {
        "id": "DpPhF8aZGeL8"
      },
      "source": [
        "It can be seen from the graph that the data is looking approx symmetric and the peak is around 10000-15000. Another way of checking the distribution and outliers is boxplot:"
      ]
    },
    {
      "cell_type": "markdown",
      "metadata": {
        "id": "6FEJ78DGLoVP"
      },
      "source": [
        "#### Removing Outliers\n",
        "\n",
        "Dependent variable \"price\" contains  4 data points which are outliers. The loss function which will be used for regression is MSE and it tries to model the mean of the dependent variable. Having outliers in the response variable might give biased model. Let's remove these data points .\n",
        "\n",
        "\n",
        "\n"
      ]
    },
    {
      "cell_type": "code",
      "execution_count": null,
      "metadata": {
        "id": "yI8NP_tGKC-k"
      },
      "outputs": [],
      "source": [
        "#Removing the outlier datapoints because these point might disrupt the modelling\n",
        "# df.drop(df[df.price>20000].index,inplace=True,axis=0)"
      ]
    },
    {
      "cell_type": "markdown",
      "metadata": {
        "id": "7u__iOsOijWW"
      },
      "source": [
        "### Bivariate analysis"
      ]
    },
    {
      "cell_type": "markdown",
      "metadata": {
        "id": "eGEUMkqqX6DZ"
      },
      "source": [
        "Manual and Automatic Cars"
      ]
    },
    {
      "cell_type": "code",
      "execution_count": 12,
      "metadata": {
        "colab": {
          "base_uri": "https://localhost:8080/",
          "height": 983
        },
        "id": "ILfsLrekURMt",
        "outputId": "1f3a06b1-c344-442d-9beb-23f3c54d4bf7"
      },
      "outputs": [
        {
          "output_type": "display_data",
          "data": {
            "text/plain": [
              "<Figure size 1159.25x1050 with 12 Axes>"
            ],
            "image/png": "[encoded data removed]"
          },
          "metadata": {}
        }
      ],
      "source": [
        "sns.pairplot(df,hue = 'transmission',diag_kind = \"kde\",kind = \"scatter\",palette = \"husl\",height=3.5)\n",
        "plt.show()"
      ]
    },
    {
      "cell_type": "markdown",
      "metadata": {
        "id": "OlKxUNMtWEem"
      },
      "source": [
        "We can see that automatic cars have higher price range than manual type cars though the distribution of automatic cars were skewed to the right. We can also see the increament in price of automatic cars between 2010 and 2015."
      ]
    },
    {
      "cell_type": "markdown",
      "metadata": {
        "id": "Ee3q4POBFDFo"
      },
      "source": [
        "Let’s try to have a quick look at the joint distribution of a few pairs of columns from the training set."
      ]
    },
    {
      "cell_type": "code",
      "execution_count": 13,
      "metadata": {
        "colab": {
          "base_uri": "https://localhost:8080/",
          "height": 775
        },
        "id": "LaOcz09Dk2Ql",
        "outputId": "dd9dcf28-aa68-4bd3-b2be-a8fdb089f253"
      },
      "outputs": [
        {
          "output_type": "execute_result",
          "data": {
            "text/plain": [
              "<seaborn.axisgrid.PairGrid at 0x7bbbfbd83eb0>"
            ]
          },
          "metadata": {},
          "execution_count": 13
        },
        {
          "output_type": "display_data",
          "data": {
            "text/plain": [
              "<Figure size 750x750 with 12 Axes>"
            ],
            "image/png": "[encoded data removed]"
          },
          "metadata": {}
        }
      ],
      "source": [
        "sns.pairplot(df[['year', 'price', 'mileage']], diag_kind=\"kde\")"
      ]
    },
    {
      "cell_type": "markdown",
      "metadata": {
        "id": "3HECmt2Wpmx0"
      },
      "source": [
        "* year and price have some amount of linear relationship which means cars which are manufactured recently are costly\n",
        "\n",
        "* price and mileage are having linear relationship with negative slope which means costly cars have less mileage."
      ]
    },
    {
      "cell_type": "markdown",
      "metadata": {
        "id": "3ltIeMQD6zK5"
      },
      "source": [
        "Lets visualize  the correlation between the features"
      ]
    },
    {
      "cell_type": "code",
      "execution_count": 17,
      "metadata": {
        "colab": {
          "base_uri": "https://localhost:8080/",
          "height": 545
        },
        "id": "s7QcebJxvs-m",
        "outputId": "f4841c8b-1ee4-4ed2-abdf-68fa9d07fc6e"
      },
      "outputs": [
        {
          "output_type": "execute_result",
          "data": {
            "text/plain": [
              "<Axes: >"
            ]
          },
          "metadata": {},
          "execution_count": 17
        },
        {
          "output_type": "display_data",
          "data": {
            "text/plain": [
              "<Figure size 700x600 with 2 Axes>"
            ],
            "image/png": "[encoded data removed]"
          },
          "metadata": {}
        }
      ],
      "source": [
        "fig, ax = plt.subplots(figsize=(7,6))\n",
        "sns.heatmap(df.corr(),cmap=\"Spectral\",ax=ax,annot=True)"
      ]
    },
    {
      "cell_type": "markdown",
      "metadata": {
        "id": "Up-Jb9QmoV2V"
      },
      "source": [
        "* year and price are having high positive correlation.\n",
        "\n",
        "* mileage and price are having high negative corrlation.\n",
        "\n",
        "* year and mileage are having high negative correlation.\n"
      ]
    },
    {
      "cell_type": "code",
      "source": [
        "df[\"year\"].max()"
      ],
      "metadata": {
        "colab": {
          "base_uri": "https://localhost:8080/"
        },
        "id": "XWaJV4lNBcHv",
        "outputId": "0fe81e32-c681-446b-a1ca-6d865b8281b3"
      },
      "execution_count": 18,
      "outputs": [
        {
          "output_type": "execute_result",
          "data": {
            "text/plain": [
              "2011"
            ]
          },
          "metadata": {},
          "execution_count": 18
        }
      ]
    },
    {
      "cell_type": "code",
      "source": [
        "df[\"age\"] = 2012 - df[\"year\"]\n",
        "df"
      ],
      "metadata": {
        "colab": {
          "base_uri": "https://localhost:8080/",
          "height": 423
        },
        "id": "Y3p1gZedBjlE",
        "outputId": "f11391db-2ccb-4c77-e4bf-435fb4334a30"
      },
      "execution_count": 19,
      "outputs": [
        {
          "output_type": "execute_result",
          "data": {
            "text/plain": [
              "     year model  price  mileage   color transmission  age\n",
              "0    2011   SEL  21992     7413    Gray         AUTO    1\n",
              "1    2011   SEL  20995    10926    Gray         AUTO    1\n",
              "2    2011   SEL  19995     7351  Silver         AUTO    1\n",
              "3    2011   SEL  17809    11613    Gray         AUTO    1\n",
              "4    2011    SE  17500     8367   White         AUTO    1\n",
              "..    ...   ...    ...      ...     ...          ...  ...\n",
              "145  2006   SES   6200    95000  Silver         AUTO    6\n",
              "146  2006    SE   5995    87003     Red         AUTO    6\n",
              "147  2006    SE   5980    96841     Red         AUTO    6\n",
              "148  2006    SE   4899   151479    Gray         AUTO    6\n",
              "149  2006    SE   3800   109259     Red         AUTO    6\n",
              "\n",
              "[150 rows x 7 columns]"
            ],
            "text/html": [
              "\n",
              "  <div id=\"df-2afb7dd5-69aa-445c-9a3d-ce6a922d3943\" class=\"colab-df-container\">\n",
              "    <div>\n",
              "<style scoped>\n",
              "    .dataframe tbody tr th:only-of-type {\n",
              "        vertical-align: middle;\n",
              "    }\n",
              "\n",
              "    .dataframe tbody tr th {\n",
              "        vertical-align: top;\n",
              "    }\n",
              "\n",
              "    .dataframe thead th {\n",
              "        text-align: right;\n",
              "    }\n",
              "</style>\n",
              "<table border=\"1\" class=\"dataframe\">\n",
              "  <thead>\n",
              "    <tr style=\"text-align: right;\">\n",
              "      <th></th>\n",
              "      <th>year</th>\n",
              "      <th>model</th>\n",
              "      <th>price</th>\n",
              "      <th>mileage</th>\n",
              "      <th>color</th>\n",
              "      <th>transmission</th>\n",
              "      <th>age</th>\n",
              "    </tr>\n",
              "  </thead>\n",
              "  <tbody>\n",
              "    <tr>\n",
              "      <th>0</th>\n",
              "      <td>2011</td>\n",
              "      <td>SEL</td>\n",
              "      <td>21992</td>\n",
              "      <td>7413</td>\n",
              "      <td>Gray</td>\n",
              "      <td>AUTO</td>\n",
              "      <td>1</td>\n",
              "    </tr>\n",
              "    <tr>\n",
              "      <th>1</th>\n",
              "      <td>2011</td>\n",
              "      <td>SEL</td>\n",
              "      <td>20995</td>\n",
              "      <td>10926</td>\n",
              "      <td>Gray</td>\n",
              "      <td>AUTO</td>\n",
              "      <td>1</td>\n",
              "    </tr>\n",
              "    <tr>\n",
              "      <th>2</th>\n",
              "      <td>2011</td>\n",
              "      <td>SEL</td>\n",
              "      <td>19995</td>\n",
              "      <td>7351</td>\n",
              "      <td>Silver</td>\n",
              "      <td>AUTO</td>\n",
              "      <td>1</td>\n",
              "    </tr>\n",
              "    <tr>\n",
              "      <th>3</th>\n",
              "      <td>2011</td>\n",
              "      <td>SEL</td>\n",
              "      <td>17809</td>\n",
              "      <td>11613</td>\n",
              "      <td>Gray</td>\n",
              "      <td>AUTO</td>\n",
              "      <td>1</td>\n",
              "    </tr>\n",
              "    <tr>\n",
              "      <th>4</th>\n",
              "      <td>2011</td>\n",
              "      <td>SE</td>\n",
              "      <td>17500</td>\n",
              "      <td>8367</td>\n",
              "      <td>White</td>\n",
              "      <td>AUTO</td>\n",
              "      <td>1</td>\n",
              "    </tr>\n",
              "    <tr>\n",
              "      <th>...</th>\n",
              "      <td>...</td>\n",
              "      <td>...</td>\n",
              "      <td>...</td>\n",
              "      <td>...</td>\n",
              "      <td>...</td>\n",
              "      <td>...</td>\n",
              "      <td>...</td>\n",
              "    </tr>\n",
              "    <tr>\n",
              "      <th>145</th>\n",
              "      <td>2006</td>\n",
              "      <td>SES</td>\n",
              "      <td>6200</td>\n",
              "      <td>95000</td>\n",
              "      <td>Silver</td>\n",
              "      <td>AUTO</td>\n",
              "      <td>6</td>\n",
              "    </tr>\n",
              "    <tr>\n",
              "      <th>146</th>\n",
              "      <td>2006</td>\n",
              "      <td>SE</td>\n",
              "      <td>5995</td>\n",
              "      <td>87003</td>\n",
              "      <td>Red</td>\n",
              "      <td>AUTO</td>\n",
              "      <td>6</td>\n",
              "    </tr>\n",
              "    <tr>\n",
              "      <th>147</th>\n",
              "      <td>2006</td>\n",
              "      <td>SE</td>\n",
              "      <td>5980</td>\n",
              "      <td>96841</td>\n",
              "      <td>Red</td>\n",
              "      <td>AUTO</td>\n",
              "      <td>6</td>\n",
              "    </tr>\n",
              "    <tr>\n",
              "      <th>148</th>\n",
              "      <td>2006</td>\n",
              "      <td>SE</td>\n",
              "      <td>4899</td>\n",
              "      <td>151479</td>\n",
              "      <td>Gray</td>\n",
              "      <td>AUTO</td>\n",
              "      <td>6</td>\n",
              "    </tr>\n",
              "    <tr>\n",
              "      <th>149</th>\n",
              "      <td>2006</td>\n",
              "      <td>SE</td>\n",
              "      <td>3800</td>\n",
              "      <td>109259</td>\n",
              "      <td>Red</td>\n",
              "      <td>AUTO</td>\n",
              "      <td>6</td>\n",
              "    </tr>\n",
              "  </tbody>\n",
              "</table>\n",
              "<p>150 rows × 7 columns</p>\n",
              "</div>\n",
              "    <div class=\"colab-df-buttons\">\n",
              "\n",
              "  <div class=\"colab-df-container\">\n",
              "    <button class=\"colab-df-convert\" onclick=\"convertToInteractive('df-2afb7dd5-69aa-445c-9a3d-ce6a922d3943')\"\n",
              "            title=\"Convert this dataframe to an interactive table.\"\n",
              "            style=\"display:none;\">\n",
              "\n",
              "  <svg xmlns=\"http://www.w3.org/2000/svg\" height=\"24px\" viewBox=\"0 -960 960 960\">\n",
              "    <path d=\"M120-120v-720h720v720H120Zm60-500h600v-160H180v160Zm220 220h160v-160H400v160Zm0 220h160v-160H400v160ZM180-400h160v-160H180v160Zm440 0h160v-160H620v160ZM180-180h160v-160H180v160Zm440 0h160v-160H620v160Z\"/>\n",
              "  </svg>\n",
              "    </button>\n",
              "\n",
              "  <style>\n",
              "    .colab-df-container {\n",
              "      display:flex;\n",
              "      gap: 12px;\n",
              "    }\n",
              "\n",
              "    .colab-df-convert {\n",
              "      background-color: #E8F0FE;\n",
              "      border: none;\n",
              "      border-radius: 50%;\n",
              "      cursor: pointer;\n",
              "      display: none;\n",
              "      fill: #1967D2;\n",
              "      height: 32px;\n",
              "      padding: 0 0 0 0;\n",
              "      width: 32px;\n",
              "    }\n",
              "\n",
              "    .colab-df-convert:hover {\n",
              "      background-color: #E2EBFA;\n",
              "      box-shadow: 0px 1px 2px rgba(60, 64, 67, 0.3), 0px 1px 3px 1px rgba(60, 64, 67, 0.15);\n",
              "      fill: #174EA6;\n",
              "    }\n",
              "\n",
              "    .colab-df-buttons div {\n",
              "      margin-bottom: 4px;\n",
              "    }\n",
              "\n",
              "    [theme=dark] .colab-df-convert {\n",
              "      background-color: #3B4455;\n",
              "      fill: #D2E3FC;\n",
              "    }\n",
              "\n",
              "    [theme=dark] .colab-df-convert:hover {\n",
              "      background-color: #434B5C;\n",
              "      box-shadow: 0px 1px 3px 1px rgba(0, 0, 0, 0.15);\n",
              "      filter: drop-shadow(0px 1px 2px rgba(0, 0, 0, 0.3));\n",
              "      fill: #FFFFFF;\n",
              "    }\n",
              "  </style>\n",
              "\n",
              "    <script>\n",
              "      const buttonEl =\n",
              "        document.querySelector('#df-2afb7dd5-69aa-445c-9a3d-ce6a922d3943 button.colab-df-convert');\n",
              "      buttonEl.style.display =\n",
              "        google.colab.kernel.accessAllowed ? 'block' : 'none';\n",
              "\n",
              "      async function convertToInteractive(key) {\n",
              "        const element = document.querySelector('#df-2afb7dd5-69aa-445c-9a3d-ce6a922d3943');\n",
              "        const dataTable =\n",
              "          await google.colab.kernel.invokeFunction('convertToInteractive',\n",
              "                                                    [key], {});\n",
              "        if (!dataTable) return;\n",
              "\n",
              "        const docLinkHtml = 'Like what you see? Visit the ' +\n",
              "          '<a target=\"_blank\" href=https://colab.research.google.com/notebooks/data_table.ipynb>data table notebook</a>'\n",
              "          + ' to learn more about interactive tables.';\n",
              "        element.innerHTML = '';\n",
              "        dataTable['output_type'] = 'display_data';\n",
              "        await google.colab.output.renderOutput(dataTable, element);\n",
              "        const docLink = document.createElement('div');\n",
              "        docLink.innerHTML = docLinkHtml;\n",
              "        element.appendChild(docLink);\n",
              "      }\n",
              "    </script>\n",
              "  </div>\n",
              "\n",
              "\n",
              "<div id=\"df-637cb459-536f-46e1-a833-34ecc1edf74b\">\n",
              "  <button class=\"colab-df-quickchart\" onclick=\"quickchart('df-637cb459-536f-46e1-a833-34ecc1edf74b')\"\n",
              "            title=\"Suggest charts.\"\n",
              "            style=\"display:none;\">\n",
              "\n",
              "<svg xmlns=\"http://www.w3.org/2000/svg\" height=\"24px\"viewBox=\"0 0 24 24\"\n",
              "     width=\"24px\">\n",
              "    <g>\n",
              "        <path d=\"M19 3H5c-1.1 0-2 .9-2 2v14c0 1.1.9 2 2 2h14c1.1 0 2-.9 2-2V5c0-1.1-.9-2-2-2zM9 17H7v-7h2v7zm4 0h-2V7h2v10zm4 0h-2v-4h2v4z\"/>\n",
              "    </g>\n",
              "</svg>\n",
              "  </button>\n",
              "\n",
              "<style>\n",
              "  .colab-df-quickchart {\n",
              "      --bg-color: #E8F0FE;\n",
              "      --fill-color: #1967D2;\n",
              "      --hover-bg-color: #E2EBFA;\n",
              "      --hover-fill-color: #174EA6;\n",
              "      --disabled-fill-color: #AAA;\n",
              "      --disabled-bg-color: #DDD;\n",
              "  }\n",
              "\n",
              "  [theme=dark] .colab-df-quickchart {\n",
              "      --bg-color: #3B4455;\n",
              "      --fill-color: #D2E3FC;\n",
              "      --hover-bg-color: #434B5C;\n",
              "      --hover-fill-color: #FFFFFF;\n",
              "      --disabled-bg-color: #3B4455;\n",
              "      --disabled-fill-color: #666;\n",
              "  }\n",
              "\n",
              "  .colab-df-quickchart {\n",
              "    background-color: var(--bg-color);\n",
              "    border: none;\n",
              "    border-radius: 50%;\n",
              "    cursor: pointer;\n",
              "    display: none;\n",
              "    fill: var(--fill-color);\n",
              "    height: 32px;\n",
              "    padding: 0;\n",
              "    width: 32px;\n",
              "  }\n",
              "\n",
              "  .colab-df-quickchart:hover {\n",
              "    background-color: var(--hover-bg-color);\n",
              "    box-shadow: 0 1px 2px rgba(60, 64, 67, 0.3), 0 1px 3px 1px rgba(60, 64, 67, 0.15);\n",
              "    fill: var(--button-hover-fill-color);\n",
              "  }\n",
              "\n",
              "  .colab-df-quickchart-complete:disabled,\n",
              "  .colab-df-quickchart-complete:disabled:hover {\n",
              "    background-color: var(--disabled-bg-color);\n",
              "    fill: var(--disabled-fill-color);\n",
              "    box-shadow: none;\n",
              "  }\n",
              "\n",
              "  .colab-df-spinner {\n",
              "    border: 2px solid var(--fill-color);\n",
              "    border-color: transparent;\n",
              "    border-bottom-color: var(--fill-color);\n",
              "    animation:\n",
              "      spin 1s steps(1) infinite;\n",
              "  }\n",
              "\n",
              "  @keyframes spin {\n",
              "    0% {\n",
              "      border-color: transparent;\n",
              "      border-bottom-color: var(--fill-color);\n",
              "      border-left-color: var(--fill-color);\n",
              "    }\n",
              "    20% {\n",
              "      border-color: transparent;\n",
              "      border-left-color: var(--fill-color);\n",
              "      border-top-color: var(--fill-color);\n",
              "    }\n",
              "    30% {\n",
              "      border-color: transparent;\n",
              "      border-left-color: var(--fill-color);\n",
              "      border-top-color: var(--fill-color);\n",
              "      border-right-color: var(--fill-color);\n",
              "    }\n",
              "    40% {\n",
              "      border-color: transparent;\n",
              "      border-right-color: var(--fill-color);\n",
              "      border-top-color: var(--fill-color);\n",
              "    }\n",
              "    60% {\n",
              "      border-color: transparent;\n",
              "      border-right-color: var(--fill-color);\n",
              "    }\n",
              "    80% {\n",
              "      border-color: transparent;\n",
              "      border-right-color: var(--fill-color);\n",
              "      border-bottom-color: var(--fill-color);\n",
              "    }\n",
              "    90% {\n",
              "      border-color: transparent;\n",
              "      border-bottom-color: var(--fill-color);\n",
              "    }\n",
              "  }\n",
              "</style>\n",
              "\n",
              "  <script>\n",
              "    async function quickchart(key) {\n",
              "      const quickchartButtonEl =\n",
              "        document.querySelector('#' + key + ' button');\n",
              "      quickchartButtonEl.disabled = true;  // To prevent multiple clicks.\n",
              "      quickchartButtonEl.classList.add('colab-df-spinner');\n",
              "      try {\n",
              "        const charts = await google.colab.kernel.invokeFunction(\n",
              "            'suggestCharts', [key], {});\n",
              "      } catch (error) {\n",
              "        console.error('Error during call to suggestCharts:', error);\n",
              "      }\n",
              "      quickchartButtonEl.classList.remove('colab-df-spinner');\n",
              "      quickchartButtonEl.classList.add('colab-df-quickchart-complete');\n",
              "    }\n",
              "    (() => {\n",
              "      let quickchartButtonEl =\n",
              "        document.querySelector('#df-637cb459-536f-46e1-a833-34ecc1edf74b button');\n",
              "      quickchartButtonEl.style.display =\n",
              "        google.colab.kernel.accessAllowed ? 'block' : 'none';\n",
              "    })();\n",
              "  </script>\n",
              "</div>\n",
              "    </div>\n",
              "  </div>\n"
            ]
          },
          "metadata": {},
          "execution_count": 19
        }
      ]
    },
    {
      "cell_type": "code",
      "source": [
        "df.drop(columns = [\"year\"], inplace = True)"
      ],
      "metadata": {
        "id": "0M6XuDRHBsl5"
      },
      "execution_count": 20,
      "outputs": []
    },
    {
      "cell_type": "code",
      "source": [
        "df"
      ],
      "metadata": {
        "colab": {
          "base_uri": "https://localhost:8080/",
          "height": 423
        },
        "id": "i4lqyrcDByG-",
        "outputId": "ab42f477-dcc2-4eb6-8d96-73b025a0cefb"
      },
      "execution_count": 21,
      "outputs": [
        {
          "output_type": "execute_result",
          "data": {
            "text/plain": [
              "    model  price  mileage   color transmission  age\n",
              "0     SEL  21992     7413    Gray         AUTO    1\n",
              "1     SEL  20995    10926    Gray         AUTO    1\n",
              "2     SEL  19995     7351  Silver         AUTO    1\n",
              "3     SEL  17809    11613    Gray         AUTO    1\n",
              "4      SE  17500     8367   White         AUTO    1\n",
              "..    ...    ...      ...     ...          ...  ...\n",
              "145   SES   6200    95000  Silver         AUTO    6\n",
              "146    SE   5995    87003     Red         AUTO    6\n",
              "147    SE   5980    96841     Red         AUTO    6\n",
              "148    SE   4899   151479    Gray         AUTO    6\n",
              "149    SE   3800   109259     Red         AUTO    6\n",
              "\n",
              "[150 rows x 6 columns]"
            ],
            "text/html": [
              "\n",
              "  <div id=\"df-ce47530e-bbff-4338-a732-1a9581163a53\" class=\"colab-df-container\">\n",
              "    <div>\n",
              "<style scoped>\n",
              "    .dataframe tbody tr th:only-of-type {\n",
              "        vertical-align: middle;\n",
              "    }\n",
              "\n",
              "    .dataframe tbody tr th {\n",
              "        vertical-align: top;\n",
              "    }\n",
              "\n",
              "    .dataframe thead th {\n",
              "        text-align: right;\n",
              "    }\n",
              "</style>\n",
              "<table border=\"1\" class=\"dataframe\">\n",
              "  <thead>\n",
              "    <tr style=\"text-align: right;\">\n",
              "      <th></th>\n",
              "      <th>model</th>\n",
              "      <th>price</th>\n",
              "      <th>mileage</th>\n",
              "      <th>color</th>\n",
              "      <th>transmission</th>\n",
              "      <th>age</th>\n",
              "    </tr>\n",
              "  </thead>\n",
              "  <tbody>\n",
              "    <tr>\n",
              "      <th>0</th>\n",
              "      <td>SEL</td>\n",
              "      <td>21992</td>\n",
              "      <td>7413</td>\n",
              "      <td>Gray</td>\n",
              "      <td>AUTO</td>\n",
              "      <td>1</td>\n",
              "    </tr>\n",
              "    <tr>\n",
              "      <th>1</th>\n",
              "      <td>SEL</td>\n",
              "      <td>20995</td>\n",
              "      <td>10926</td>\n",
              "      <td>Gray</td>\n",
              "      <td>AUTO</td>\n",
              "      <td>1</td>\n",
              "    </tr>\n",
              "    <tr>\n",
              "      <th>2</th>\n",
              "      <td>SEL</td>\n",
              "      <td>19995</td>\n",
              "      <td>7351</td>\n",
              "      <td>Silver</td>\n",
              "      <td>AUTO</td>\n",
              "      <td>1</td>\n",
              "    </tr>\n",
              "    <tr>\n",
              "      <th>3</th>\n",
              "      <td>SEL</td>\n",
              "      <td>17809</td>\n",
              "      <td>11613</td>\n",
              "      <td>Gray</td>\n",
              "      <td>AUTO</td>\n",
              "      <td>1</td>\n",
              "    </tr>\n",
              "    <tr>\n",
              "      <th>4</th>\n",
              "      <td>SE</td>\n",
              "      <td>17500</td>\n",
              "      <td>8367</td>\n",
              "      <td>White</td>\n",
              "      <td>AUTO</td>\n",
              "      <td>1</td>\n",
              "    </tr>\n",
              "    <tr>\n",
              "      <th>...</th>\n",
              "      <td>...</td>\n",
              "      <td>...</td>\n",
              "      <td>...</td>\n",
              "      <td>...</td>\n",
              "      <td>...</td>\n",
              "      <td>...</td>\n",
              "    </tr>\n",
              "    <tr>\n",
              "      <th>145</th>\n",
              "      <td>SES</td>\n",
              "      <td>6200</td>\n",
              "      <td>95000</td>\n",
              "      <td>Silver</td>\n",
              "      <td>AUTO</td>\n",
              "      <td>6</td>\n",
              "    </tr>\n",
              "    <tr>\n",
              "      <th>146</th>\n",
              "      <td>SE</td>\n",
              "      <td>5995</td>\n",
              "      <td>87003</td>\n",
              "      <td>Red</td>\n",
              "      <td>AUTO</td>\n",
              "      <td>6</td>\n",
              "    </tr>\n",
              "    <tr>\n",
              "      <th>147</th>\n",
              "      <td>SE</td>\n",
              "      <td>5980</td>\n",
              "      <td>96841</td>\n",
              "      <td>Red</td>\n",
              "      <td>AUTO</td>\n",
              "      <td>6</td>\n",
              "    </tr>\n",
              "    <tr>\n",
              "      <th>148</th>\n",
              "      <td>SE</td>\n",
              "      <td>4899</td>\n",
              "      <td>151479</td>\n",
              "      <td>Gray</td>\n",
              "      <td>AUTO</td>\n",
              "      <td>6</td>\n",
              "    </tr>\n",
              "    <tr>\n",
              "      <th>149</th>\n",
              "      <td>SE</td>\n",
              "      <td>3800</td>\n",
              "      <td>109259</td>\n",
              "      <td>Red</td>\n",
              "      <td>AUTO</td>\n",
              "      <td>6</td>\n",
              "    </tr>\n",
              "  </tbody>\n",
              "</table>\n",
              "<p>150 rows × 6 columns</p>\n",
              "</div>\n",
              "    <div class=\"colab-df-buttons\">\n",
              "\n",
              "  <div class=\"colab-df-container\">\n",
              "    <button class=\"colab-df-convert\" onclick=\"convertToInteractive('df-ce47530e-bbff-4338-a732-1a9581163a53')\"\n",
              "            title=\"Convert this dataframe to an interactive table.\"\n",
              "            style=\"display:none;\">\n",
              "\n",
              "  <svg xmlns=\"http://www.w3.org/2000/svg\" height=\"24px\" viewBox=\"0 -960 960 960\">\n",
              "    <path d=\"M120-120v-720h720v720H120Zm60-500h600v-160H180v160Zm220 220h160v-160H400v160Zm0 220h160v-160H400v160ZM180-400h160v-160H180v160Zm440 0h160v-160H620v160ZM180-180h160v-160H180v160Zm440 0h160v-160H620v160Z\"/>\n",
              "  </svg>\n",
              "    </button>\n",
              "\n",
              "  <style>\n",
              "    .colab-df-container {\n",
              "      display:flex;\n",
              "      gap: 12px;\n",
              "    }\n",
              "\n",
              "    .colab-df-convert {\n",
              "      background-color: #E8F0FE;\n",
              "      border: none;\n",
              "      border-radius: 50%;\n",
              "      cursor: pointer;\n",
              "      display: none;\n",
              "      fill: #1967D2;\n",
              "      height: 32px;\n",
              "      padding: 0 0 0 0;\n",
              "      width: 32px;\n",
              "    }\n",
              "\n",
              "    .colab-df-convert:hover {\n",
              "      background-color: #E2EBFA;\n",
              "      box-shadow: 0px 1px 2px rgba(60, 64, 67, 0.3), 0px 1px 3px 1px rgba(60, 64, 67, 0.15);\n",
              "      fill: #174EA6;\n",
              "    }\n",
              "\n",
              "    .colab-df-buttons div {\n",
              "      margin-bottom: 4px;\n",
              "    }\n",
              "\n",
              "    [theme=dark] .colab-df-convert {\n",
              "      background-color: #3B4455;\n",
              "      fill: #D2E3FC;\n",
              "    }\n",
              "\n",
              "    [theme=dark] .colab-df-convert:hover {\n",
              "      background-color: #434B5C;\n",
              "      box-shadow: 0px 1px 3px 1px rgba(0, 0, 0, 0.15);\n",
              "      filter: drop-shadow(0px 1px 2px rgba(0, 0, 0, 0.3));\n",
              "      fill: #FFFFFF;\n",
              "    }\n",
              "  </style>\n",
              "\n",
              "    <script>\n",
              "      const buttonEl =\n",
              "        document.querySelector('#df-ce47530e-bbff-4338-a732-1a9581163a53 button.colab-df-convert');\n",
              "      buttonEl.style.display =\n",
              "        google.colab.kernel.accessAllowed ? 'block' : 'none';\n",
              "\n",
              "      async function convertToInteractive(key) {\n",
              "        const element = document.querySelector('#df-ce47530e-bbff-4338-a732-1a9581163a53');\n",
              "        const dataTable =\n",
              "          await google.colab.kernel.invokeFunction('convertToInteractive',\n",
              "                                                    [key], {});\n",
              "        if (!dataTable) return;\n",
              "\n",
              "        const docLinkHtml = 'Like what you see? Visit the ' +\n",
              "          '<a target=\"_blank\" href=https://colab.research.google.com/notebooks/data_table.ipynb>data table notebook</a>'\n",
              "          + ' to learn more about interactive tables.';\n",
              "        element.innerHTML = '';\n",
              "        dataTable['output_type'] = 'display_data';\n",
              "        await google.colab.output.renderOutput(dataTable, element);\n",
              "        const docLink = document.createElement('div');\n",
              "        docLink.innerHTML = docLinkHtml;\n",
              "        element.appendChild(docLink);\n",
              "      }\n",
              "    </script>\n",
              "  </div>\n",
              "\n",
              "\n",
              "<div id=\"df-bc9952e6-2ec1-4bae-a68c-899dd644934c\">\n",
              "  <button class=\"colab-df-quickchart\" onclick=\"quickchart('df-bc9952e6-2ec1-4bae-a68c-899dd644934c')\"\n",
              "            title=\"Suggest charts.\"\n",
              "            style=\"display:none;\">\n",
              "\n",
              "<svg xmlns=\"http://www.w3.org/2000/svg\" height=\"24px\"viewBox=\"0 0 24 24\"\n",
              "     width=\"24px\">\n",
              "    <g>\n",
              "        <path d=\"M19 3H5c-1.1 0-2 .9-2 2v14c0 1.1.9 2 2 2h14c1.1 0 2-.9 2-2V5c0-1.1-.9-2-2-2zM9 17H7v-7h2v7zm4 0h-2V7h2v10zm4 0h-2v-4h2v4z\"/>\n",
              "    </g>\n",
              "</svg>\n",
              "  </button>\n",
              "\n",
              "<style>\n",
              "  .colab-df-quickchart {\n",
              "      --bg-color: #E8F0FE;\n",
              "      --fill-color: #1967D2;\n",
              "      --hover-bg-color: #E2EBFA;\n",
              "      --hover-fill-color: #174EA6;\n",
              "      --disabled-fill-color: #AAA;\n",
              "      --disabled-bg-color: #DDD;\n",
              "  }\n",
              "\n",
              "  [theme=dark] .colab-df-quickchart {\n",
              "      --bg-color: #3B4455;\n",
              "      --fill-color: #D2E3FC;\n",
              "      --hover-bg-color: #434B5C;\n",
              "      --hover-fill-color: #FFFFFF;\n",
              "      --disabled-bg-color: #3B4455;\n",
              "      --disabled-fill-color: #666;\n",
              "  }\n",
              "\n",
              "  .colab-df-quickchart {\n",
              "    background-color: var(--bg-color);\n",
              "    border: none;\n",
              "    border-radius: 50%;\n",
              "    cursor: pointer;\n",
              "    display: none;\n",
              "    fill: var(--fill-color);\n",
              "    height: 32px;\n",
              "    padding: 0;\n",
              "    width: 32px;\n",
              "  }\n",
              "\n",
              "  .colab-df-quickchart:hover {\n",
              "    background-color: var(--hover-bg-color);\n",
              "    box-shadow: 0 1px 2px rgba(60, 64, 67, 0.3), 0 1px 3px 1px rgba(60, 64, 67, 0.15);\n",
              "    fill: var(--button-hover-fill-color);\n",
              "  }\n",
              "\n",
              "  .colab-df-quickchart-complete:disabled,\n",
              "  .colab-df-quickchart-complete:disabled:hover {\n",
              "    background-color: var(--disabled-bg-color);\n",
              "    fill: var(--disabled-fill-color);\n",
              "    box-shadow: none;\n",
              "  }\n",
              "\n",
              "  .colab-df-spinner {\n",
              "    border: 2px solid var(--fill-color);\n",
              "    border-color: transparent;\n",
              "    border-bottom-color: var(--fill-color);\n",
              "    animation:\n",
              "      spin 1s steps(1) infinite;\n",
              "  }\n",
              "\n",
              "  @keyframes spin {\n",
              "    0% {\n",
              "      border-color: transparent;\n",
              "      border-bottom-color: var(--fill-color);\n",
              "      border-left-color: var(--fill-color);\n",
              "    }\n",
              "    20% {\n",
              "      border-color: transparent;\n",
              "      border-left-color: var(--fill-color);\n",
              "      border-top-color: var(--fill-color);\n",
              "    }\n",
              "    30% {\n",
              "      border-color: transparent;\n",
              "      border-left-color: var(--fill-color);\n",
              "      border-top-color: var(--fill-color);\n",
              "      border-right-color: var(--fill-color);\n",
              "    }\n",
              "    40% {\n",
              "      border-color: transparent;\n",
              "      border-right-color: var(--fill-color);\n",
              "      border-top-color: var(--fill-color);\n",
              "    }\n",
              "    60% {\n",
              "      border-color: transparent;\n",
              "      border-right-color: var(--fill-color);\n",
              "    }\n",
              "    80% {\n",
              "      border-color: transparent;\n",
              "      border-right-color: var(--fill-color);\n",
              "      border-bottom-color: var(--fill-color);\n",
              "    }\n",
              "    90% {\n",
              "      border-color: transparent;\n",
              "      border-bottom-color: var(--fill-color);\n",
              "    }\n",
              "  }\n",
              "</style>\n",
              "\n",
              "  <script>\n",
              "    async function quickchart(key) {\n",
              "      const quickchartButtonEl =\n",
              "        document.querySelector('#' + key + ' button');\n",
              "      quickchartButtonEl.disabled = true;  // To prevent multiple clicks.\n",
              "      quickchartButtonEl.classList.add('colab-df-spinner');\n",
              "      try {\n",
              "        const charts = await google.colab.kernel.invokeFunction(\n",
              "            'suggestCharts', [key], {});\n",
              "      } catch (error) {\n",
              "        console.error('Error during call to suggestCharts:', error);\n",
              "      }\n",
              "      quickchartButtonEl.classList.remove('colab-df-spinner');\n",
              "      quickchartButtonEl.classList.add('colab-df-quickchart-complete');\n",
              "    }\n",
              "    (() => {\n",
              "      let quickchartButtonEl =\n",
              "        document.querySelector('#df-bc9952e6-2ec1-4bae-a68c-899dd644934c button');\n",
              "      quickchartButtonEl.style.display =\n",
              "        google.colab.kernel.accessAllowed ? 'block' : 'none';\n",
              "    })();\n",
              "  </script>\n",
              "</div>\n",
              "    </div>\n",
              "  </div>\n"
            ]
          },
          "metadata": {},
          "execution_count": 21
        }
      ]
    },
    {
      "cell_type": "markdown",
      "metadata": {
        "id": "ISvXubVWmeee"
      },
      "source": [
        "### Separate the features from labels\n",
        "\n"
      ]
    },
    {
      "cell_type": "code",
      "execution_count": 22,
      "metadata": {
        "id": "8Glng4BjmvBr"
      },
      "outputs": [],
      "source": [
        "#getting the features and labels and finally splitting the test and train data.\n",
        "X = df.drop('price',axis=1)\n",
        "Y = df['price']"
      ]
    },
    {
      "cell_type": "markdown",
      "metadata": {
        "id": "uA0vS4tHm4tg"
      },
      "source": [
        "#### Splitting the dataset"
      ]
    },
    {
      "cell_type": "code",
      "execution_count": 23,
      "metadata": {
        "id": "xhihQaPY6LfN"
      },
      "outputs": [],
      "source": [
        "#Splitting the training and test set\n",
        "X_train, X_test, y_train, y_test = train_test_split(X, Y, test_size=0.30, random_state=1,shuffle=True)"
      ]
    },
    {
      "cell_type": "markdown",
      "metadata": {
        "id": "hFQWBffmvs-r"
      },
      "source": [
        "Notice that the last three columns (color, Transmission, Model) are not numerical values, but categorical entries?\n",
        "\n",
        "To utilise the columns, we’ll need to find a way to make them numerical, and a perfect technique is One-hot Encoding"
      ]
    },
    {
      "cell_type": "code",
      "execution_count": 24,
      "metadata": {
        "id": "Kn1v_7ACvs-s"
      },
      "outputs": [],
      "source": [
        "X_train = pd.get_dummies(X_train,columns= ['model','color','transmission'],drop_first =True)\n",
        "X_test = pd.get_dummies(X_test,columns= ['model','color','transmission'],drop_first =True)"
      ]
    },
    {
      "cell_type": "code",
      "source": [
        "X_train"
      ],
      "metadata": {
        "colab": {
          "base_uri": "https://localhost:8080/",
          "height": 423
        },
        "id": "DULf3oeGCGEC",
        "outputId": "e63f2c7b-d619-42fd-aaab-f9d3ed561139"
      },
      "execution_count": 25,
      "outputs": [
        {
          "output_type": "execute_result",
          "data": {
            "text/plain": [
              "     mileage  age  model_SEL  model_SES  color_Blue  color_Gray  color_Red  \\\n",
              "118    77231    5          0          1           0           0          1   \n",
              "18     11662    1          1          0           1           0          0   \n",
              "4       8367    1          0          0           0           0          0   \n",
              "45     35894    2          0          1           0           0          0   \n",
              "59     21108    3          0          1           0           0          0   \n",
              "..       ...  ...        ...        ...         ...         ...        ...   \n",
              "133    68901    4          0          0           0           0          0   \n",
              "137    97987    6          0          1           0           0          1   \n",
              "72     35574    2          1          0           0           1          0   \n",
              "140   105714    6          0          0           0           0          0   \n",
              "37     37905    2          0          0           0           0          0   \n",
              "\n",
              "     color_Silver  color_White  transmission_MANUAL  \n",
              "118             0            0                    0  \n",
              "18              0            0                    0  \n",
              "4               0            1                    0  \n",
              "45              1            0                    0  \n",
              "59              1            0                    0  \n",
              "..            ...          ...                  ...  \n",
              "133             1            0                    0  \n",
              "137             0            0                    0  \n",
              "72              0            0                    0  \n",
              "140             1            0                    0  \n",
              "37              1            0                    0  \n",
              "\n",
              "[105 rows x 10 columns]"
            ],
            "text/html": [
              "\n",
              "  <div id=\"df-02c0b0fc-012f-4ed6-a938-e354e0edb742\" class=\"colab-df-container\">\n",
              "    <div>\n",
              "<style scoped>\n",
              "    .dataframe tbody tr th:only-of-type {\n",
              "        vertical-align: middle;\n",
              "    }\n",
              "\n",
              "    .dataframe tbody tr th {\n",
              "        vertical-align: top;\n",
              "    }\n",
              "\n",
              "    .dataframe thead th {\n",
              "        text-align: right;\n",
              "    }\n",
              "</style>\n",
              "<table border=\"1\" class=\"dataframe\">\n",
              "  <thead>\n",
              "    <tr style=\"text-align: right;\">\n",
              "      <th></th>\n",
              "      <th>mileage</th>\n",
              "      <th>age</th>\n",
              "      <th>model_SEL</th>\n",
              "      <th>model_SES</th>\n",
              "      <th>color_Blue</th>\n",
              "      <th>color_Gray</th>\n",
              "      <th>color_Red</th>\n",
              "      <th>color_Silver</th>\n",
              "      <th>color_White</th>\n",
              "      <th>transmission_MANUAL</th>\n",
              "    </tr>\n",
              "  </thead>\n",
              "  <tbody>\n",
              "    <tr>\n",
              "      <th>118</th>\n",
              "      <td>77231</td>\n",
              "      <td>5</td>\n",
              "      <td>0</td>\n",
              "      <td>1</td>\n",
              "      <td>0</td>\n",
              "      <td>0</td>\n",
              "      <td>1</td>\n",
              "      <td>0</td>\n",
              "      <td>0</td>\n",
              "      <td>0</td>\n",
              "    </tr>\n",
              "    <tr>\n",
              "      <th>18</th>\n",
              "      <td>11662</td>\n",
              "      <td>1</td>\n",
              "      <td>1</td>\n",
              "      <td>0</td>\n",
              "      <td>1</td>\n",
              "      <td>0</td>\n",
              "      <td>0</td>\n",
              "      <td>0</td>\n",
              "      <td>0</td>\n",
              "      <td>0</td>\n",
              "    </tr>\n",
              "    <tr>\n",
              "      <th>4</th>\n",
              "      <td>8367</td>\n",
              "      <td>1</td>\n",
              "      <td>0</td>\n",
              "      <td>0</td>\n",
              "      <td>0</td>\n",
              "      <td>0</td>\n",
              "      <td>0</td>\n",
              "      <td>0</td>\n",
              "      <td>1</td>\n",
              "      <td>0</td>\n",
              "    </tr>\n",
              "    <tr>\n",
              "      <th>45</th>\n",
              "      <td>35894</td>\n",
              "      <td>2</td>\n",
              "      <td>0</td>\n",
              "      <td>1</td>\n",
              "      <td>0</td>\n",
              "      <td>0</td>\n",
              "      <td>0</td>\n",
              "      <td>1</td>\n",
              "      <td>0</td>\n",
              "      <td>0</td>\n",
              "    </tr>\n",
              "    <tr>\n",
              "      <th>59</th>\n",
              "      <td>21108</td>\n",
              "      <td>3</td>\n",
              "      <td>0</td>\n",
              "      <td>1</td>\n",
              "      <td>0</td>\n",
              "      <td>0</td>\n",
              "      <td>0</td>\n",
              "      <td>1</td>\n",
              "      <td>0</td>\n",
              "      <td>0</td>\n",
              "    </tr>\n",
              "    <tr>\n",
              "      <th>...</th>\n",
              "      <td>...</td>\n",
              "      <td>...</td>\n",
              "      <td>...</td>\n",
              "      <td>...</td>\n",
              "      <td>...</td>\n",
              "      <td>...</td>\n",
              "      <td>...</td>\n",
              "      <td>...</td>\n",
              "      <td>...</td>\n",
              "      <td>...</td>\n",
              "    </tr>\n",
              "    <tr>\n",
              "      <th>133</th>\n",
              "      <td>68901</td>\n",
              "      <td>4</td>\n",
              "      <td>0</td>\n",
              "      <td>0</td>\n",
              "      <td>0</td>\n",
              "      <td>0</td>\n",
              "      <td>0</td>\n",
              "      <td>1</td>\n",
              "      <td>0</td>\n",
              "      <td>0</td>\n",
              "    </tr>\n",
              "    <tr>\n",
              "      <th>137</th>\n",
              "      <td>97987</td>\n",
              "      <td>6</td>\n",
              "      <td>0</td>\n",
              "      <td>1</td>\n",
              "      <td>0</td>\n",
              "      <td>0</td>\n",
              "      <td>1</td>\n",
              "      <td>0</td>\n",
              "      <td>0</td>\n",
              "      <td>0</td>\n",
              "    </tr>\n",
              "    <tr>\n",
              "      <th>72</th>\n",
              "      <td>35574</td>\n",
              "      <td>2</td>\n",
              "      <td>1</td>\n",
              "      <td>0</td>\n",
              "      <td>0</td>\n",
              "      <td>1</td>\n",
              "      <td>0</td>\n",
              "      <td>0</td>\n",
              "      <td>0</td>\n",
              "      <td>0</td>\n",
              "    </tr>\n",
              "    <tr>\n",
              "      <th>140</th>\n",
              "      <td>105714</td>\n",
              "      <td>6</td>\n",
              "      <td>0</td>\n",
              "      <td>0</td>\n",
              "      <td>0</td>\n",
              "      <td>0</td>\n",
              "      <td>0</td>\n",
              "      <td>1</td>\n",
              "      <td>0</td>\n",
              "      <td>0</td>\n",
              "    </tr>\n",
              "    <tr>\n",
              "      <th>37</th>\n",
              "      <td>37905</td>\n",
              "      <td>2</td>\n",
              "      <td>0</td>\n",
              "      <td>0</td>\n",
              "      <td>0</td>\n",
              "      <td>0</td>\n",
              "      <td>0</td>\n",
              "      <td>1</td>\n",
              "      <td>0</td>\n",
              "      <td>0</td>\n",
              "    </tr>\n",
              "  </tbody>\n",
              "</table>\n",
              "<p>105 rows × 10 columns</p>\n",
              "</div>\n",
              "    <div class=\"colab-df-buttons\">\n",
              "\n",
              "  <div class=\"colab-df-container\">\n",
              "    <button class=\"colab-df-convert\" onclick=\"convertToInteractive('df-02c0b0fc-012f-4ed6-a938-e354e0edb742')\"\n",
              "            title=\"Convert this dataframe to an interactive table.\"\n",
              "            style=\"display:none;\">\n",
              "\n",
              "  <svg xmlns=\"http://www.w3.org/2000/svg\" height=\"24px\" viewBox=\"0 -960 960 960\">\n",
              "    <path d=\"M120-120v-720h720v720H120Zm60-500h600v-160H180v160Zm220 220h160v-160H400v160Zm0 220h160v-160H400v160ZM180-400h160v-160H180v160Zm440 0h160v-160H620v160ZM180-180h160v-160H180v160Zm440 0h160v-160H620v160Z\"/>\n",
              "  </svg>\n",
              "    </button>\n",
              "\n",
              "  <style>\n",
              "    .colab-df-container {\n",
              "      display:flex;\n",
              "      gap: 12px;\n",
              "    }\n",
              "\n",
              "    .colab-df-convert {\n",
              "      background-color: #E8F0FE;\n",
              "      border: none;\n",
              "      border-radius: 50%;\n",
              "      cursor: pointer;\n",
              "      display: none;\n",
              "      fill: #1967D2;\n",
              "      height: 32px;\n",
              "      padding: 0 0 0 0;\n",
              "      width: 32px;\n",
              "    }\n",
              "\n",
              "    .colab-df-convert:hover {\n",
              "      background-color: #E2EBFA;\n",
              "      box-shadow: 0px 1px 2px rgba(60, 64, 67, 0.3), 0px 1px 3px 1px rgba(60, 64, 67, 0.15);\n",
              "      fill: #174EA6;\n",
              "    }\n",
              "\n",
              "    .colab-df-buttons div {\n",
              "      margin-bottom: 4px;\n",
              "    }\n",
              "\n",
              "    [theme=dark] .colab-df-convert {\n",
              "      background-color: #3B4455;\n",
              "      fill: #D2E3FC;\n",
              "    }\n",
              "\n",
              "    [theme=dark] .colab-df-convert:hover {\n",
              "      background-color: #434B5C;\n",
              "      box-shadow: 0px 1px 3px 1px rgba(0, 0, 0, 0.15);\n",
              "      filter: drop-shadow(0px 1px 2px rgba(0, 0, 0, 0.3));\n",
              "      fill: #FFFFFF;\n",
              "    }\n",
              "  </style>\n",
              "\n",
              "    <script>\n",
              "      const buttonEl =\n",
              "        document.querySelector('#df-02c0b0fc-012f-4ed6-a938-e354e0edb742 button.colab-df-convert');\n",
              "      buttonEl.style.display =\n",
              "        google.colab.kernel.accessAllowed ? 'block' : 'none';\n",
              "\n",
              "      async function convertToInteractive(key) {\n",
              "        const element = document.querySelector('#df-02c0b0fc-012f-4ed6-a938-e354e0edb742');\n",
              "        const dataTable =\n",
              "          await google.colab.kernel.invokeFunction('convertToInteractive',\n",
              "                                                    [key], {});\n",
              "        if (!dataTable) return;\n",
              "\n",
              "        const docLinkHtml = 'Like what you see? Visit the ' +\n",
              "          '<a target=\"_blank\" href=https://colab.research.google.com/notebooks/data_table.ipynb>data table notebook</a>'\n",
              "          + ' to learn more about interactive tables.';\n",
              "        element.innerHTML = '';\n",
              "        dataTable['output_type'] = 'display_data';\n",
              "        await google.colab.output.renderOutput(dataTable, element);\n",
              "        const docLink = document.createElement('div');\n",
              "        docLink.innerHTML = docLinkHtml;\n",
              "        element.appendChild(docLink);\n",
              "      }\n",
              "    </script>\n",
              "  </div>\n",
              "\n",
              "\n",
              "<div id=\"df-7b38d5a3-2371-4bde-8de4-2431fae516a4\">\n",
              "  <button class=\"colab-df-quickchart\" onclick=\"quickchart('df-7b38d5a3-2371-4bde-8de4-2431fae516a4')\"\n",
              "            title=\"Suggest charts.\"\n",
              "            style=\"display:none;\">\n",
              "\n",
              "<svg xmlns=\"http://www.w3.org/2000/svg\" height=\"24px\"viewBox=\"0 0 24 24\"\n",
              "     width=\"24px\">\n",
              "    <g>\n",
              "        <path d=\"M19 3H5c-1.1 0-2 .9-2 2v14c0 1.1.9 2 2 2h14c1.1 0 2-.9 2-2V5c0-1.1-.9-2-2-2zM9 17H7v-7h2v7zm4 0h-2V7h2v10zm4 0h-2v-4h2v4z\"/>\n",
              "    </g>\n",
              "</svg>\n",
              "  </button>\n",
              "\n",
              "<style>\n",
              "  .colab-df-quickchart {\n",
              "      --bg-color: #E8F0FE;\n",
              "      --fill-color: #1967D2;\n",
              "      --hover-bg-color: #E2EBFA;\n",
              "      --hover-fill-color: #174EA6;\n",
              "      --disabled-fill-color: #AAA;\n",
              "      --disabled-bg-color: #DDD;\n",
              "  }\n",
              "\n",
              "  [theme=dark] .colab-df-quickchart {\n",
              "      --bg-color: #3B4455;\n",
              "      --fill-color: #D2E3FC;\n",
              "      --hover-bg-color: #434B5C;\n",
              "      --hover-fill-color: #FFFFFF;\n",
              "      --disabled-bg-color: #3B4455;\n",
              "      --disabled-fill-color: #666;\n",
              "  }\n",
              "\n",
              "  .colab-df-quickchart {\n",
              "    background-color: var(--bg-color);\n",
              "    border: none;\n",
              "    border-radius: 50%;\n",
              "    cursor: pointer;\n",
              "    display: none;\n",
              "    fill: var(--fill-color);\n",
              "    height: 32px;\n",
              "    padding: 0;\n",
              "    width: 32px;\n",
              "  }\n",
              "\n",
              "  .colab-df-quickchart:hover {\n",
              "    background-color: var(--hover-bg-color);\n",
              "    box-shadow: 0 1px 2px rgba(60, 64, 67, 0.3), 0 1px 3px 1px rgba(60, 64, 67, 0.15);\n",
              "    fill: var(--button-hover-fill-color);\n",
              "  }\n",
              "\n",
              "  .colab-df-quickchart-complete:disabled,\n",
              "  .colab-df-quickchart-complete:disabled:hover {\n",
              "    background-color: var(--disabled-bg-color);\n",
              "    fill: var(--disabled-fill-color);\n",
              "    box-shadow: none;\n",
              "  }\n",
              "\n",
              "  .colab-df-spinner {\n",
              "    border: 2px solid var(--fill-color);\n",
              "    border-color: transparent;\n",
              "    border-bottom-color: var(--fill-color);\n",
              "    animation:\n",
              "      spin 1s steps(1) infinite;\n",
              "  }\n",
              "\n",
              "  @keyframes spin {\n",
              "    0% {\n",
              "      border-color: transparent;\n",
              "      border-bottom-color: var(--fill-color);\n",
              "      border-left-color: var(--fill-color);\n",
              "    }\n",
              "    20% {\n",
              "      border-color: transparent;\n",
              "      border-left-color: var(--fill-color);\n",
              "      border-top-color: var(--fill-color);\n",
              "    }\n",
              "    30% {\n",
              "      border-color: transparent;\n",
              "      border-left-color: var(--fill-color);\n",
              "      border-top-color: var(--fill-color);\n",
              "      border-right-color: var(--fill-color);\n",
              "    }\n",
              "    40% {\n",
              "      border-color: transparent;\n",
              "      border-right-color: var(--fill-color);\n",
              "      border-top-color: var(--fill-color);\n",
              "    }\n",
              "    60% {\n",
              "      border-color: transparent;\n",
              "      border-right-color: var(--fill-color);\n",
              "    }\n",
              "    80% {\n",
              "      border-color: transparent;\n",
              "      border-right-color: var(--fill-color);\n",
              "      border-bottom-color: var(--fill-color);\n",
              "    }\n",
              "    90% {\n",
              "      border-color: transparent;\n",
              "      border-bottom-color: var(--fill-color);\n",
              "    }\n",
              "  }\n",
              "</style>\n",
              "\n",
              "  <script>\n",
              "    async function quickchart(key) {\n",
              "      const quickchartButtonEl =\n",
              "        document.querySelector('#' + key + ' button');\n",
              "      quickchartButtonEl.disabled = true;  // To prevent multiple clicks.\n",
              "      quickchartButtonEl.classList.add('colab-df-spinner');\n",
              "      try {\n",
              "        const charts = await google.colab.kernel.invokeFunction(\n",
              "            'suggestCharts', [key], {});\n",
              "      } catch (error) {\n",
              "        console.error('Error during call to suggestCharts:', error);\n",
              "      }\n",
              "      quickchartButtonEl.classList.remove('colab-df-spinner');\n",
              "      quickchartButtonEl.classList.add('colab-df-quickchart-complete');\n",
              "    }\n",
              "    (() => {\n",
              "      let quickchartButtonEl =\n",
              "        document.querySelector('#df-7b38d5a3-2371-4bde-8de4-2431fae516a4 button');\n",
              "      quickchartButtonEl.style.display =\n",
              "        google.colab.kernel.accessAllowed ? 'block' : 'none';\n",
              "    })();\n",
              "  </script>\n",
              "</div>\n",
              "    </div>\n",
              "  </div>\n"
            ]
          },
          "metadata": {},
          "execution_count": 25
        }
      ]
    },
    {
      "cell_type": "code",
      "execution_count": 26,
      "metadata": {
        "colab": {
          "base_uri": "https://localhost:8080/"
        },
        "id": "IJZV3dauvs-s",
        "outputId": "77d13c5a-9f2d-45ff-af3c-517e3f599018"
      },
      "outputs": [
        {
          "output_type": "stream",
          "name": "stdout",
          "text": [
            "(105, 10)\n",
            "(45, 10)\n"
          ]
        }
      ],
      "source": [
        "# Checking the shape of train and test data\n",
        "print(X_train.shape)\n",
        "print(X_test.shape)"
      ]
    },
    {
      "cell_type": "markdown",
      "source": [
        "$$ Z(x_i) = \\frac{x_i - \\bar{x}}{\\sigma_x} $$\n",
        "\n",
        "- Average = 0\n",
        "- Variance = 1"
      ],
      "metadata": {
        "id": "SglmO-ssCkh2"
      }
    },
    {
      "cell_type": "markdown",
      "metadata": {
        "id": "LRffP2lZHIX_"
      },
      "source": [
        "#### Normalizing the train and test data separately"
      ]
    },
    {
      "cell_type": "code",
      "execution_count": 27,
      "metadata": {
        "id": "qsAyiCvBvs-s"
      },
      "outputs": [],
      "source": [
        "sc=StandardScaler()\n",
        "temp = sc.fit(X_train[[\"mileage\", \"age\"]])\n",
        "X_train[[\"mileage\", \"age\"]] = temp.transform(X_train[[\"mileage\", \"age\"]])\n",
        "X_test[[\"mileage\", \"age\"]] = temp.transform(X_test[[\"mileage\", \"age\"]])"
      ]
    },
    {
      "cell_type": "code",
      "source": [
        "X_train"
      ],
      "metadata": {
        "colab": {
          "base_uri": "https://localhost:8080/",
          "height": 423
        },
        "id": "MmmVuxTdCY90",
        "outputId": "4c142711-a141-470c-e223-437b1f7014ee"
      },
      "execution_count": 28,
      "outputs": [
        {
          "output_type": "execute_result",
          "data": {
            "text/plain": [
              "      mileage       age  model_SEL  model_SES  color_Blue  color_Gray  \\\n",
              "118  1.113259  1.246643          0          1           0           0   \n",
              "18  -1.142171 -1.332618          1          0           1           0   \n",
              "4   -1.255512 -1.332618          0          0           0           0   \n",
              "45  -0.308643 -0.687803          0          1           0           0   \n",
              "59  -0.817249 -0.042988          0          1           0           0   \n",
              "..        ...       ...        ...        ...         ...         ...   \n",
              "133  0.826725  0.601828          0          0           0           0   \n",
              "137  1.827219  1.891458          0          1           0           0   \n",
              "72  -0.319651 -0.687803          1          0           0           1   \n",
              "140  2.093011  1.891458          0          0           0           0   \n",
              "37  -0.239469 -0.687803          0          0           0           0   \n",
              "\n",
              "     color_Red  color_Silver  color_White  transmission_MANUAL  \n",
              "118          1             0            0                    0  \n",
              "18           0             0            0                    0  \n",
              "4            0             0            1                    0  \n",
              "45           0             1            0                    0  \n",
              "59           0             1            0                    0  \n",
              "..         ...           ...          ...                  ...  \n",
              "133          0             1            0                    0  \n",
              "137          1             0            0                    0  \n",
              "72           0             0            0                    0  \n",
              "140          0             1            0                    0  \n",
              "37           0             1            0                    0  \n",
              "\n",
              "[105 rows x 10 columns]"
            ],
            "text/html": [
              "\n",
              "  <div id=\"df-5d6b6464-df7c-4a6d-b70b-f318501665dc\" class=\"colab-df-container\">\n",
              "    <div>\n",
              "<style scoped>\n",
              "    .dataframe tbody tr th:only-of-type {\n",
              "        vertical-align: middle;\n",
              "    }\n",
              "\n",
              "    .dataframe tbody tr th {\n",
              "        vertical-align: top;\n",
              "    }\n",
              "\n",
              "    .dataframe thead th {\n",
              "        text-align: right;\n",
              "    }\n",
              "</style>\n",
              "<table border=\"1\" class=\"dataframe\">\n",
              "  <thead>\n",
              "    <tr style=\"text-align: right;\">\n",
              "      <th></th>\n",
              "      <th>mileage</th>\n",
              "      <th>age</th>\n",
              "      <th>model_SEL</th>\n",
              "      <th>model_SES</th>\n",
              "      <th>color_Blue</th>\n",
              "      <th>color_Gray</th>\n",
              "      <th>color_Red</th>\n",
              "      <th>color_Silver</th>\n",
              "      <th>color_White</th>\n",
              "      <th>transmission_MANUAL</th>\n",
              "    </tr>\n",
              "  </thead>\n",
              "  <tbody>\n",
              "    <tr>\n",
              "      <th>118</th>\n",
              "      <td>1.113259</td>\n",
              "      <td>1.246643</td>\n",
              "      <td>0</td>\n",
              "      <td>1</td>\n",
              "      <td>0</td>\n",
              "      <td>0</td>\n",
              "      <td>1</td>\n",
              "      <td>0</td>\n",
              "      <td>0</td>\n",
              "      <td>0</td>\n",
              "    </tr>\n",
              "    <tr>\n",
              "      <th>18</th>\n",
              "      <td>-1.142171</td>\n",
              "      <td>-1.332618</td>\n",
              "      <td>1</td>\n",
              "      <td>0</td>\n",
              "      <td>1</td>\n",
              "      <td>0</td>\n",
              "      <td>0</td>\n",
              "      <td>0</td>\n",
              "      <td>0</td>\n",
              "      <td>0</td>\n",
              "    </tr>\n",
              "    <tr>\n",
              "      <th>4</th>\n",
              "      <td>-1.255512</td>\n",
              "      <td>-1.332618</td>\n",
              "      <td>0</td>\n",
              "      <td>0</td>\n",
              "      <td>0</td>\n",
              "      <td>0</td>\n",
              "      <td>0</td>\n",
              "      <td>0</td>\n",
              "      <td>1</td>\n",
              "      <td>0</td>\n",
              "    </tr>\n",
              "    <tr>\n",
              "      <th>45</th>\n",
              "      <td>-0.308643</td>\n",
              "      <td>-0.687803</td>\n",
              "      <td>0</td>\n",
              "      <td>1</td>\n",
              "      <td>0</td>\n",
              "      <td>0</td>\n",
              "      <td>0</td>\n",
              "      <td>1</td>\n",
              "      <td>0</td>\n",
              "      <td>0</td>\n",
              "    </tr>\n",
              "    <tr>\n",
              "      <th>59</th>\n",
              "      <td>-0.817249</td>\n",
              "      <td>-0.042988</td>\n",
              "      <td>0</td>\n",
              "      <td>1</td>\n",
              "      <td>0</td>\n",
              "      <td>0</td>\n",
              "      <td>0</td>\n",
              "      <td>1</td>\n",
              "      <td>0</td>\n",
              "      <td>0</td>\n",
              "    </tr>\n",
              "    <tr>\n",
              "      <th>...</th>\n",
              "      <td>...</td>\n",
              "      <td>...</td>\n",
              "      <td>...</td>\n",
              "      <td>...</td>\n",
              "      <td>...</td>\n",
              "      <td>...</td>\n",
              "      <td>...</td>\n",
              "      <td>...</td>\n",
              "      <td>...</td>\n",
              "      <td>...</td>\n",
              "    </tr>\n",
              "    <tr>\n",
              "      <th>133</th>\n",
              "      <td>0.826725</td>\n",
              "      <td>0.601828</td>\n",
              "      <td>0</td>\n",
              "      <td>0</td>\n",
              "      <td>0</td>\n",
              "      <td>0</td>\n",
              "      <td>0</td>\n",
              "      <td>1</td>\n",
              "      <td>0</td>\n",
              "      <td>0</td>\n",
              "    </tr>\n",
              "    <tr>\n",
              "      <th>137</th>\n",
              "      <td>1.827219</td>\n",
              "      <td>1.891458</td>\n",
              "      <td>0</td>\n",
              "      <td>1</td>\n",
              "      <td>0</td>\n",
              "      <td>0</td>\n",
              "      <td>1</td>\n",
              "      <td>0</td>\n",
              "      <td>0</td>\n",
              "      <td>0</td>\n",
              "    </tr>\n",
              "    <tr>\n",
              "      <th>72</th>\n",
              "      <td>-0.319651</td>\n",
              "      <td>-0.687803</td>\n",
              "      <td>1</td>\n",
              "      <td>0</td>\n",
              "      <td>0</td>\n",
              "      <td>1</td>\n",
              "      <td>0</td>\n",
              "      <td>0</td>\n",
              "      <td>0</td>\n",
              "      <td>0</td>\n",
              "    </tr>\n",
              "    <tr>\n",
              "      <th>140</th>\n",
              "      <td>2.093011</td>\n",
              "      <td>1.891458</td>\n",
              "      <td>0</td>\n",
              "      <td>0</td>\n",
              "      <td>0</td>\n",
              "      <td>0</td>\n",
              "      <td>0</td>\n",
              "      <td>1</td>\n",
              "      <td>0</td>\n",
              "      <td>0</td>\n",
              "    </tr>\n",
              "    <tr>\n",
              "      <th>37</th>\n",
              "      <td>-0.239469</td>\n",
              "      <td>-0.687803</td>\n",
              "      <td>0</td>\n",
              "      <td>0</td>\n",
              "      <td>0</td>\n",
              "      <td>0</td>\n",
              "      <td>0</td>\n",
              "      <td>1</td>\n",
              "      <td>0</td>\n",
              "      <td>0</td>\n",
              "    </tr>\n",
              "  </tbody>\n",
              "</table>\n",
              "<p>105 rows × 10 columns</p>\n",
              "</div>\n",
              "    <div class=\"colab-df-buttons\">\n",
              "\n",
              "  <div class=\"colab-df-container\">\n",
              "    <button class=\"colab-df-convert\" onclick=\"convertToInteractive('df-5d6b6464-df7c-4a6d-b70b-f318501665dc')\"\n",
              "            title=\"Convert this dataframe to an interactive table.\"\n",
              "            style=\"display:none;\">\n",
              "\n",
              "  <svg xmlns=\"http://www.w3.org/2000/svg\" height=\"24px\" viewBox=\"0 -960 960 960\">\n",
              "    <path d=\"M120-120v-720h720v720H120Zm60-500h600v-160H180v160Zm220 220h160v-160H400v160Zm0 220h160v-160H400v160ZM180-400h160v-160H180v160Zm440 0h160v-160H620v160ZM180-180h160v-160H180v160Zm440 0h160v-160H620v160Z\"/>\n",
              "  </svg>\n",
              "    </button>\n",
              "\n",
              "  <style>\n",
              "    .colab-df-container {\n",
              "      display:flex;\n",
              "      gap: 12px;\n",
              "    }\n",
              "\n",
              "    .colab-df-convert {\n",
              "      background-color: #E8F0FE;\n",
              "      border: none;\n",
              "      border-radius: 50%;\n",
              "      cursor: pointer;\n",
              "      display: none;\n",
              "      fill: #1967D2;\n",
              "      height: 32px;\n",
              "      padding: 0 0 0 0;\n",
              "      width: 32px;\n",
              "    }\n",
              "\n",
              "    .colab-df-convert:hover {\n",
              "      background-color: #E2EBFA;\n",
              "      box-shadow: 0px 1px 2px rgba(60, 64, 67, 0.3), 0px 1px 3px 1px rgba(60, 64, 67, 0.15);\n",
              "      fill: #174EA6;\n",
              "    }\n",
              "\n",
              "    .colab-df-buttons div {\n",
              "      margin-bottom: 4px;\n",
              "    }\n",
              "\n",
              "    [theme=dark] .colab-df-convert {\n",
              "      background-color: #3B4455;\n",
              "      fill: #D2E3FC;\n",
              "    }\n",
              "\n",
              "    [theme=dark] .colab-df-convert:hover {\n",
              "      background-color: #434B5C;\n",
              "      box-shadow: 0px 1px 3px 1px rgba(0, 0, 0, 0.15);\n",
              "      filter: drop-shadow(0px 1px 2px rgba(0, 0, 0, 0.3));\n",
              "      fill: #FFFFFF;\n",
              "    }\n",
              "  </style>\n",
              "\n",
              "    <script>\n",
              "      const buttonEl =\n",
              "        document.querySelector('#df-5d6b6464-df7c-4a6d-b70b-f318501665dc button.colab-df-convert');\n",
              "      buttonEl.style.display =\n",
              "        google.colab.kernel.accessAllowed ? 'block' : 'none';\n",
              "\n",
              "      async function convertToInteractive(key) {\n",
              "        const element = document.querySelector('#df-5d6b6464-df7c-4a6d-b70b-f318501665dc');\n",
              "        const dataTable =\n",
              "          await google.colab.kernel.invokeFunction('convertToInteractive',\n",
              "                                                    [key], {});\n",
              "        if (!dataTable) return;\n",
              "\n",
              "        const docLinkHtml = 'Like what you see? Visit the ' +\n",
              "          '<a target=\"_blank\" href=https://colab.research.google.com/notebooks/data_table.ipynb>data table notebook</a>'\n",
              "          + ' to learn more about interactive tables.';\n",
              "        element.innerHTML = '';\n",
              "        dataTable['output_type'] = 'display_data';\n",
              "        await google.colab.output.renderOutput(dataTable, element);\n",
              "        const docLink = document.createElement('div');\n",
              "        docLink.innerHTML = docLinkHtml;\n",
              "        element.appendChild(docLink);\n",
              "      }\n",
              "    </script>\n",
              "  </div>\n",
              "\n",
              "\n",
              "<div id=\"df-fb5caa73-78d5-4963-9a4f-6568da32d915\">\n",
              "  <button class=\"colab-df-quickchart\" onclick=\"quickchart('df-fb5caa73-78d5-4963-9a4f-6568da32d915')\"\n",
              "            title=\"Suggest charts.\"\n",
              "            style=\"display:none;\">\n",
              "\n",
              "<svg xmlns=\"http://www.w3.org/2000/svg\" height=\"24px\"viewBox=\"0 0 24 24\"\n",
              "     width=\"24px\">\n",
              "    <g>\n",
              "        <path d=\"M19 3H5c-1.1 0-2 .9-2 2v14c0 1.1.9 2 2 2h14c1.1 0 2-.9 2-2V5c0-1.1-.9-2-2-2zM9 17H7v-7h2v7zm4 0h-2V7h2v10zm4 0h-2v-4h2v4z\"/>\n",
              "    </g>\n",
              "</svg>\n",
              "  </button>\n",
              "\n",
              "<style>\n",
              "  .colab-df-quickchart {\n",
              "      --bg-color: #E8F0FE;\n",
              "      --fill-color: #1967D2;\n",
              "      --hover-bg-color: #E2EBFA;\n",
              "      --hover-fill-color: #174EA6;\n",
              "      --disabled-fill-color: #AAA;\n",
              "      --disabled-bg-color: #DDD;\n",
              "  }\n",
              "\n",
              "  [theme=dark] .colab-df-quickchart {\n",
              "      --bg-color: #3B4455;\n",
              "      --fill-color: #D2E3FC;\n",
              "      --hover-bg-color: #434B5C;\n",
              "      --hover-fill-color: #FFFFFF;\n",
              "      --disabled-bg-color: #3B4455;\n",
              "      --disabled-fill-color: #666;\n",
              "  }\n",
              "\n",
              "  .colab-df-quickchart {\n",
              "    background-color: var(--bg-color);\n",
              "    border: none;\n",
              "    border-radius: 50%;\n",
              "    cursor: pointer;\n",
              "    display: none;\n",
              "    fill: var(--fill-color);\n",
              "    height: 32px;\n",
              "    padding: 0;\n",
              "    width: 32px;\n",
              "  }\n",
              "\n",
              "  .colab-df-quickchart:hover {\n",
              "    background-color: var(--hover-bg-color);\n",
              "    box-shadow: 0 1px 2px rgba(60, 64, 67, 0.3), 0 1px 3px 1px rgba(60, 64, 67, 0.15);\n",
              "    fill: var(--button-hover-fill-color);\n",
              "  }\n",
              "\n",
              "  .colab-df-quickchart-complete:disabled,\n",
              "  .colab-df-quickchart-complete:disabled:hover {\n",
              "    background-color: var(--disabled-bg-color);\n",
              "    fill: var(--disabled-fill-color);\n",
              "    box-shadow: none;\n",
              "  }\n",
              "\n",
              "  .colab-df-spinner {\n",
              "    border: 2px solid var(--fill-color);\n",
              "    border-color: transparent;\n",
              "    border-bottom-color: var(--fill-color);\n",
              "    animation:\n",
              "      spin 1s steps(1) infinite;\n",
              "  }\n",
              "\n",
              "  @keyframes spin {\n",
              "    0% {\n",
              "      border-color: transparent;\n",
              "      border-bottom-color: var(--fill-color);\n",
              "      border-left-color: var(--fill-color);\n",
              "    }\n",
              "    20% {\n",
              "      border-color: transparent;\n",
              "      border-left-color: var(--fill-color);\n",
              "      border-top-color: var(--fill-color);\n",
              "    }\n",
              "    30% {\n",
              "      border-color: transparent;\n",
              "      border-left-color: var(--fill-color);\n",
              "      border-top-color: var(--fill-color);\n",
              "      border-right-color: var(--fill-color);\n",
              "    }\n",
              "    40% {\n",
              "      border-color: transparent;\n",
              "      border-right-color: var(--fill-color);\n",
              "      border-top-color: var(--fill-color);\n",
              "    }\n",
              "    60% {\n",
              "      border-color: transparent;\n",
              "      border-right-color: var(--fill-color);\n",
              "    }\n",
              "    80% {\n",
              "      border-color: transparent;\n",
              "      border-right-color: var(--fill-color);\n",
              "      border-bottom-color: var(--fill-color);\n",
              "    }\n",
              "    90% {\n",
              "      border-color: transparent;\n",
              "      border-bottom-color: var(--fill-color);\n",
              "    }\n",
              "  }\n",
              "</style>\n",
              "\n",
              "  <script>\n",
              "    async function quickchart(key) {\n",
              "      const quickchartButtonEl =\n",
              "        document.querySelector('#' + key + ' button');\n",
              "      quickchartButtonEl.disabled = true;  // To prevent multiple clicks.\n",
              "      quickchartButtonEl.classList.add('colab-df-spinner');\n",
              "      try {\n",
              "        const charts = await google.colab.kernel.invokeFunction(\n",
              "            'suggestCharts', [key], {});\n",
              "      } catch (error) {\n",
              "        console.error('Error during call to suggestCharts:', error);\n",
              "      }\n",
              "      quickchartButtonEl.classList.remove('colab-df-spinner');\n",
              "      quickchartButtonEl.classList.add('colab-df-quickchart-complete');\n",
              "    }\n",
              "    (() => {\n",
              "      let quickchartButtonEl =\n",
              "        document.querySelector('#df-fb5caa73-78d5-4963-9a4f-6568da32d915 button');\n",
              "      quickchartButtonEl.style.display =\n",
              "        google.colab.kernel.accessAllowed ? 'block' : 'none';\n",
              "    })();\n",
              "  </script>\n",
              "</div>\n",
              "    </div>\n",
              "  </div>\n"
            ]
          },
          "metadata": {},
          "execution_count": 28
        }
      ]
    },
    {
      "cell_type": "code",
      "source": [
        "fig = (\n",
        "    px.histogram(\n",
        "        X_train,\n",
        "        x = \"mileage\",\n",
        "        template = \"presentation\",\n",
        "        marginal = \"box\"\n",
        "    )\n",
        "    .update_layout(bargap = 0.1)\n",
        "    .show()\n",
        ")"
      ],
      "metadata": {
        "colab": {
          "base_uri": "https://localhost:8080/",
          "height": 542
        },
        "id": "VZWwCmX5DSiF",
        "outputId": "282a71c1-f426-4ccc-cbcb-79b6423fcbdb"
      },
      "execution_count": 29,
      "outputs": [
        {
          "output_type": "display_data",
          "data": {
            "text/html": [
              "<html>\n",
              "<head><meta charset=\"utf-8\" /></head>\n",
              "<body>\n",
              "    <div>            <script src=\"https://cdnjs.cloudflare.com/ajax/libs/mathjax/2.7.5/MathJax.js?config=TeX-AMS-MML_SVG\"></script><script type=\"text/javascript\">if (window.MathJax && window.MathJax.Hub && window.MathJax.Hub.Config) {window.MathJax.Hub.Config({SVG: {font: \"STIX-Web\"}});}</script>                <script type=\"text/javascript\">window.PlotlyConfig = {MathJaxConfig: 'local'};</script>\n",
              "        <script charset=\"utf-8\" src=\"https://cdn.plot.ly/plotly-2.24.1.min.js\"></script>                <div id=\"4b2987ed-b824-4853-848c-8ce0627c2d68\" class=\"plotly-graph-div\" style=\"height:525px; width:100%;\"></div>            <script type=\"text/javascript\">                                    window.PLOTLYENV=window.PLOTLYENV || {};                                    if (document.getElementById(\"4b2987ed-b824-4853-848c-8ce0627c2d68\")) {                    Plotly.newPlot(                        \"4b2987ed-b824-4853-848c-8ce0627c2d68\",                        [{\"alignmentgroup\":\"True\",\"bingroup\":\"x\",\"hovertemplate\":\"mileage=%{x}\\u003cbr\\u003ecount=%{y}\\u003cextra\\u003e\\u003c\\u002fextra\\u003e\",\"legendgroup\":\"\",\"marker\":{\"color\":\"#1F77B4\",\"pattern\":{\"shape\":\"\"}},\"name\":\"\",\"offsetgroup\":\"\",\"orientation\":\"v\",\"showlegend\":false,\"x\":[1.113258585353336,-1.1421707551499105,-1.25551150576313,-0.30864326839436024,-0.81724913745872,-1.1592664616915707,-0.7189058275943209,-0.15605462811507578,0.48659946709183843,-0.22636373107514282,2.1087309139562422,1.0058686541198092,-0.16541082968314733,1.016807154482481,0.16924536537482346,-1.2268925362607936,1.1487915126320785,1.172319607751788,-1.2203913520829792,-1.290459670443868,0.48780339008773,-0.6010589651964786,0.6339252439890826,1.3883721888144986,-0.4627454118684798,-1.077537289170475,2.574786704565806,1.7588708913501554,-0.2267421068738516,-0.6184642519370823,-0.3978023656901008,-0.16121429809746818,-0.5279980382458023,0.3481483225643091,2.836450768272866,-0.14886548793960905,-0.7167387662017161,-1.375903805352286,0.2216676123959302,-0.5473296017798325,-0.8097848148841923,-0.06992253720900539,2.2149513199937605,-0.31751790076407516,-0.6861247243061879,0.1137617141641639,-0.3010069568204195,0.13020386250805432,-0.19454576618372305,0.3544087221429452,1.7244730914675395,-0.01199664220668009,3.6672264310378067,1.2849036067675899,-1.2182586884902569,-0.9802947089023197,-0.1789291650370154,-0.28886453346185603,-0.4287259877845726,-0.6858151441072443,-1.2755654230946951,0.6600331740999882,-0.37221040257743454,-0.8547083415308888,-0.3393949014894189,0.6555958579151306,1.9353316047479754,-0.3258421683356682,-0.16936657666964816,-0.3432474550762719,-1.1438562473441587,0.5260881413570816,-0.29447137484272246,1.7877994410514353,-0.1769684904437063,-0.6883605812985579,-0.17968591663443295,-0.4405932287440751,0.3107923118917882,-0.4200577422141534,-0.3446921626713418,-0.7961632861306764,-1.2883270068511457,-1.1674875358635157,0.04331502000456639,-0.281434608687211,-0.6243462757170096,-0.2963288560363837,-0.8200697570490945,-0.08743101734925691,-0.29388661224471796,0.19490612408725497,-0.2896212850592736,-0.5358751344189213,-0.9917491762632308,-0.5341552444247906,0.8657664151979143,-0.22313033788617692,0.16473925359020078,-0.9732431599263834,0.8267249123311451,1.8272193197169133,-0.31965056435679734,2.093011119409887,-0.2394692928304195],\"xaxis\":\"x\",\"yaxis\":\"y\",\"type\":\"histogram\"},{\"alignmentgroup\":\"True\",\"hovertemplate\":\"mileage=%{x}\\u003cextra\\u003e\\u003c\\u002fextra\\u003e\",\"legendgroup\":\"\",\"marker\":{\"color\":\"#1F77B4\"},\"name\":\"\",\"notched\":true,\"offsetgroup\":\"\",\"showlegend\":false,\"x\":[1.113258585353336,-1.1421707551499105,-1.25551150576313,-0.30864326839436024,-0.81724913745872,-1.1592664616915707,-0.7189058275943209,-0.15605462811507578,0.48659946709183843,-0.22636373107514282,2.1087309139562422,1.0058686541198092,-0.16541082968314733,1.016807154482481,0.16924536537482346,-1.2268925362607936,1.1487915126320785,1.172319607751788,-1.2203913520829792,-1.290459670443868,0.48780339008773,-0.6010589651964786,0.6339252439890826,1.3883721888144986,-0.4627454118684798,-1.077537289170475,2.574786704565806,1.7588708913501554,-0.2267421068738516,-0.6184642519370823,-0.3978023656901008,-0.16121429809746818,-0.5279980382458023,0.3481483225643091,2.836450768272866,-0.14886548793960905,-0.7167387662017161,-1.375903805352286,0.2216676123959302,-0.5473296017798325,-0.8097848148841923,-0.06992253720900539,2.2149513199937605,-0.31751790076407516,-0.6861247243061879,0.1137617141641639,-0.3010069568204195,0.13020386250805432,-0.19454576618372305,0.3544087221429452,1.7244730914675395,-0.01199664220668009,3.6672264310378067,1.2849036067675899,-1.2182586884902569,-0.9802947089023197,-0.1789291650370154,-0.28886453346185603,-0.4287259877845726,-0.6858151441072443,-1.2755654230946951,0.6600331740999882,-0.37221040257743454,-0.8547083415308888,-0.3393949014894189,0.6555958579151306,1.9353316047479754,-0.3258421683356682,-0.16936657666964816,-0.3432474550762719,-1.1438562473441587,0.5260881413570816,-0.29447137484272246,1.7877994410514353,-0.1769684904437063,-0.6883605812985579,-0.17968591663443295,-0.4405932287440751,0.3107923118917882,-0.4200577422141534,-0.3446921626713418,-0.7961632861306764,-1.2883270068511457,-1.1674875358635157,0.04331502000456639,-0.281434608687211,-0.6243462757170096,-0.2963288560363837,-0.8200697570490945,-0.08743101734925691,-0.29388661224471796,0.19490612408725497,-0.2896212850592736,-0.5358751344189213,-0.9917491762632308,-0.5341552444247906,0.8657664151979143,-0.22313033788617692,0.16473925359020078,-0.9732431599263834,0.8267249123311451,1.8272193197169133,-0.31965056435679734,2.093011119409887,-0.2394692928304195],\"xaxis\":\"x2\",\"yaxis\":\"y2\",\"type\":\"box\"}],                        {\"template\":{\"data\":{\"pie\":[{\"automargin\":true,\"type\":\"pie\"}],\"scatter3d\":[{\"line\":{\"width\":3},\"marker\":{\"size\":9},\"type\":\"scatter3d\"}],\"scattergeo\":[{\"line\":{\"width\":3},\"marker\":{\"size\":9},\"type\":\"scattergeo\"}],\"scattergl\":[{\"line\":{\"width\":3},\"marker\":{\"size\":9},\"type\":\"scattergl\"}],\"scatterpolargl\":[{\"line\":{\"width\":3},\"marker\":{\"size\":9},\"type\":\"scatterpolargl\"}],\"scatterpolar\":[{\"line\":{\"width\":3},\"marker\":{\"size\":9},\"type\":\"scatterpolar\"}],\"scatter\":[{\"line\":{\"width\":3},\"marker\":{\"size\":9},\"type\":\"scatter\"}],\"scatterternary\":[{\"line\":{\"width\":3},\"marker\":{\"size\":9},\"type\":\"scatterternary\"}],\"table\":[{\"cells\":{\"height\":30},\"header\":{\"height\":36},\"type\":\"table\"}]},\"layout\":{\"font\":{\"size\":18},\"xaxis\":{\"title\":{\"standoff\":15}},\"yaxis\":{\"title\":{\"standoff\":15}}}},\"xaxis\":{\"anchor\":\"y\",\"domain\":[0.0,1.0],\"title\":{\"text\":\"mileage\"}},\"yaxis\":{\"anchor\":\"x\",\"domain\":[0.0,0.8316],\"title\":{\"text\":\"count\"}},\"xaxis2\":{\"anchor\":\"y2\",\"domain\":[0.0,1.0],\"matches\":\"x\",\"showticklabels\":false,\"showgrid\":true},\"yaxis2\":{\"anchor\":\"x2\",\"domain\":[0.8416,1.0],\"matches\":\"y2\",\"showticklabels\":false,\"showline\":false,\"ticks\":\"\",\"showgrid\":false},\"legend\":{\"tracegroupgap\":0},\"margin\":{\"t\":60},\"barmode\":\"relative\",\"bargap\":0.1},                        {\"responsive\": true}                    ).then(function(){\n",
              "                            \n",
              "var gd = document.getElementById('4b2987ed-b824-4853-848c-8ce0627c2d68');\n",
              "var x = new MutationObserver(function (mutations, observer) {{\n",
              "        var display = window.getComputedStyle(gd).display;\n",
              "        if (!display || display === 'none') {{\n",
              "            console.log([gd, 'removed!']);\n",
              "            Plotly.purge(gd);\n",
              "            observer.disconnect();\n",
              "        }}\n",
              "}});\n",
              "\n",
              "// Listen for the removal of the full notebook cells\n",
              "var notebookContainer = gd.closest('#notebook-container');\n",
              "if (notebookContainer) {{\n",
              "    x.observe(notebookContainer, {childList: true});\n",
              "}}\n",
              "\n",
              "// Listen for the clearing of the current output cell\n",
              "var outputEl = gd.closest('.output');\n",
              "if (outputEl) {{\n",
              "    x.observe(outputEl, {childList: true});\n",
              "}}\n",
              "\n",
              "                        })                };                            </script>        </div>\n",
              "</body>\n",
              "</html>"
            ]
          },
          "metadata": {}
        }
      ]
    },
    {
      "cell_type": "markdown",
      "metadata": {
        "id": "Ky-E_vnevs-s"
      },
      "source": [
        "We need to scale the target column since it is a numerical column."
      ]
    },
    {
      "cell_type": "code",
      "execution_count": 30,
      "metadata": {
        "id": "rr_uUi6iHHnK"
      },
      "outputs": [],
      "source": [
        "# create target scaler object\n",
        "target_scaler = preprocessing.StandardScaler()\n",
        "y_train = target_scaler.fit_transform(y_train.values.reshape(-1,1))\n",
        "y_test = target_scaler.transform(y_test.values.reshape(-1,1))"
      ]
    },
    {
      "cell_type": "markdown",
      "metadata": {
        "id": "0-rlwxfvDBMd"
      },
      "source": [
        "### Model building"
      ]
    },
    {
      "cell_type": "markdown",
      "metadata": {
        "id": "XvxfRLOhDPin"
      },
      "source": [
        "#### Lets build a build using Keras"
      ]
    },
    {
      "cell_type": "markdown",
      "metadata": {
        "id": "aT-msCH6EN8x"
      },
      "source": [
        "We’ll use a Sequential model with  multiple connected hidden layers, and an output layer that returns a single, continuous value."
      ]
    },
    {
      "cell_type": "markdown",
      "metadata": {
        "id": "gxjwVDINfzbn"
      },
      "source": [
        "**What Are Keras and tf.keras?**\n",
        "\n",
        "\n",
        "Keras is an open-source deep learning library written in Python.\n",
        "\n",
        "The project was started in 2015 by Francois Chollet. It quickly became a popular framework for developers, becoming one of, if not the most, popular deep learning libraries.\n",
        "\n",
        "During the period of 2015-2019, developing deep learning models using mathematical libraries like TensorFlow, Theano, and PyTorch was cumbersome, requiring tens or even hundreds of lines of code to achieve the simplest tasks. The focus of these libraries was on research, flexibility, and speed, not ease of use.\n",
        "\n",
        "Keras was popular because the API was clean and simple, allowing standard deep learning models to be defined, fit, and evaluated in just a few lines of code.\n",
        "\n",
        "A secondary reason Keras took-off was because it allowed you to use any one among the range of popular deep learning mathematical libraries as the backend (e.g. used to perform the computation), such as TensorFlow, Theano, and later, CNTK. This allowed the power of these libraries to be harnessed (e.g. GPUs) with a very clean and simple interface.\n",
        "\n",
        "In 2019, Google released a new version of their TensorFlow deep learning library (TensorFlow 2) that integrated the Keras API directly and promoted this interface as the default or standard interface for deep learning development on the platform.\n",
        "\n",
        "This integration is commonly referred to as the tf.keras interface or API (“tf” is short for “TensorFlow“). This is to distinguish it from the so-called standalone Keras open source project.\n",
        "\n",
        "**Standalone Keras** The standalone open source project that supports TensorFlow, Theano and CNTK backends.\n",
        "\n",
        "**tf.keras** The Keras API integrated into TensorFlow 2.\n",
        "The Keras API implementation in Keras is referred to as “tf.keras” because this is the Python idiom used when referencing the API. First, the TensorFlow module is imported and named “tf“; then, Keras API elements are accessed via calls to tf.keras; for example:\n",
        "\n",
        "# example of tf.keras python\n",
        "import tensorflow as tf\n",
        "# use keras API\n",
        "model = tf.keras.Sequential()\n"
      ]
    },
    {
      "cell_type": "markdown",
      "metadata": {
        "id": "RTM8KkHCfW8M"
      },
      "source": [
        "### Building the model using tf.keras:\n",
        "\n"
      ]
    },
    {
      "cell_type": "code",
      "execution_count": 39,
      "metadata": {
        "id": "p_t8DsCDvs-t"
      },
      "outputs": [],
      "source": [
        "backend.clear_session()\n",
        "#Fixing the seed for random number generators so that we can ensure we receive the same output everytime\n",
        "np.random.seed(42)\n",
        "import random\n",
        "random.seed(42)\n",
        "tf.random.set_seed(42)"
      ]
    },
    {
      "cell_type": "code",
      "execution_count": 40,
      "metadata": {
        "id": "NyPLHXCqa_V9"
      },
      "outputs": [],
      "source": [
        "def build_model():\n",
        "  ## Initializing the ANN\n",
        "  model = Sequential()\n",
        "\n",
        "  # This adds the input layer (by specifying input dimension) AND the first hidden layer (units)\n",
        "  input_layer = Dense(32, input_shape=(X_train.shape[1],), activation='relu')\n",
        "  model.add(input_layer)\n",
        "\n",
        "  #Adding the hidden layer\n",
        "  # Notice that we do not need to specify input dim.\n",
        "  hidden_layer = Dense(64, activation='relu');\n",
        "  model.add(hidden_layer)\n",
        "\n",
        "  #Adding the output layer\n",
        "  # Notice that we do not need to specify input dim.\n",
        "  # Since we are predicting the price (Numerical value), we need to pass only one neuron in the output layer.\n",
        "  output_layer = Dense(1, activation='linear')\n",
        "  model.add(output_layer)\n",
        "\n",
        "  # Defining the optimizer\n",
        "  optimizer = tf.keras.optimizers.RMSprop(0.001)  # Defining the optimizer\n",
        "\n",
        "  # Compiling the model\n",
        "  model.compile(loss='mse',\n",
        "                optimizer=optimizer,\n",
        "                metrics=['mse'])  # Defining the loss function, optimizer and metrices\n",
        "  return model"
      ]
    },
    {
      "cell_type": "markdown",
      "metadata": {
        "id": "6x4o9vmCDrhh"
      },
      "source": [
        "Build the model and view the summary"
      ]
    },
    {
      "cell_type": "code",
      "execution_count": 41,
      "metadata": {
        "colab": {
          "base_uri": "https://localhost:8080/"
        },
        "id": "8XFXVLmPDruT",
        "outputId": "4f46e550-8797-47e9-cc0c-51e1bad9fa6e"
      },
      "outputs": [
        {
          "output_type": "stream",
          "name": "stdout",
          "text": [
            "Model: \"sequential\"\n",
            "_________________________________________________________________\n",
            " Layer (type)                Output Shape              Param #   \n",
            "=================================================================\n",
            " dense (Dense)               (None, 32)                352       \n",
            "                                                                 \n",
            " dense_1 (Dense)             (None, 64)                2112      \n",
            "                                                                 \n",
            " dense_2 (Dense)             (None, 1)                 65        \n",
            "                                                                 \n",
            "=================================================================\n",
            "Total params: 2529 (9.88 KB)\n",
            "Trainable params: 2529 (9.88 KB)\n",
            "Non-trainable params: 0 (0.00 Byte)\n",
            "_________________________________________________________________\n"
          ]
        }
      ],
      "source": [
        "#Getting the model summary. We are uisng standalone keras to build our model\n",
        "model = build_model()\n",
        "model.summary()"
      ]
    },
    {
      "cell_type": "markdown",
      "metadata": {
        "id": "mEHRg17HDver"
      },
      "source": [
        "Let’s now train the model for 50 epochs, and record the training and validation accuracy in ‘history’."
      ]
    },
    {
      "cell_type": "code",
      "execution_count": 42,
      "metadata": {
        "colab": {
          "base_uri": "https://localhost:8080/"
        },
        "id": "ZKT_6JzZDvrm",
        "outputId": "823e2571-e5c7-43bd-8dac-9e49f949b03d",
        "scrolled": true
      },
      "outputs": [
        {
          "output_type": "stream",
          "name": "stdout",
          "text": [
            "Epoch 1/15\n",
            "3/3 [==============================] - 2s 113ms/step - loss: 0.8207 - mse: 0.8207 - val_loss: 0.4112 - val_mse: 0.4112\n",
            "Epoch 2/15\n",
            "3/3 [==============================] - 0s 31ms/step - loss: 0.6148 - mse: 0.6148 - val_loss: 0.3215 - val_mse: 0.3215\n",
            "Epoch 3/15\n",
            "3/3 [==============================] - 0s 30ms/step - loss: 0.5046 - mse: 0.5046 - val_loss: 0.2638 - val_mse: 0.2638\n",
            "Epoch 4/15\n",
            "3/3 [==============================] - 0s 35ms/step - loss: 0.4315 - mse: 0.4315 - val_loss: 0.2233 - val_mse: 0.2233\n",
            "Epoch 5/15\n",
            "3/3 [==============================] - 0s 23ms/step - loss: 0.3759 - mse: 0.3759 - val_loss: 0.1934 - val_mse: 0.1934\n",
            "Epoch 6/15\n",
            "3/3 [==============================] - 0s 33ms/step - loss: 0.3353 - mse: 0.3353 - val_loss: 0.1726 - val_mse: 0.1726\n",
            "Epoch 7/15\n",
            "3/3 [==============================] - 0s 29ms/step - loss: 0.3038 - mse: 0.3038 - val_loss: 0.1598 - val_mse: 0.1598\n",
            "Epoch 8/15\n",
            "3/3 [==============================] - 0s 30ms/step - loss: 0.2793 - mse: 0.2793 - val_loss: 0.1475 - val_mse: 0.1475\n",
            "Epoch 9/15\n",
            "3/3 [==============================] - 0s 30ms/step - loss: 0.2557 - mse: 0.2557 - val_loss: 0.1357 - val_mse: 0.1357\n",
            "Epoch 10/15\n",
            "3/3 [==============================] - 0s 26ms/step - loss: 0.2408 - mse: 0.2408 - val_loss: 0.1297 - val_mse: 0.1297\n",
            "Epoch 11/15\n",
            "3/3 [==============================] - 0s 25ms/step - loss: 0.2295 - mse: 0.2295 - val_loss: 0.1290 - val_mse: 0.1290\n",
            "Epoch 12/15\n",
            "3/3 [==============================] - 0s 24ms/step - loss: 0.2143 - mse: 0.2143 - val_loss: 0.1265 - val_mse: 0.1265\n",
            "Epoch 13/15\n",
            "3/3 [==============================] - 0s 21ms/step - loss: 0.2040 - mse: 0.2040 - val_loss: 0.1229 - val_mse: 0.1229\n",
            "Epoch 14/15\n",
            "3/3 [==============================] - 0s 29ms/step - loss: 0.1982 - mse: 0.1982 - val_loss: 0.1275 - val_mse: 0.1275\n",
            "Epoch 15/15\n",
            "3/3 [==============================] - 0s 27ms/step - loss: 0.1886 - mse: 0.1886 - val_loss: 0.1240 - val_mse: 0.1240\n"
          ]
        }
      ],
      "source": [
        "#Definign the number of epochs\n",
        "EPOCHS = 15\n",
        "\n",
        "#fitting the model\n",
        "history = model.fit(X_train, y_train, epochs=EPOCHS, validation_split = 0.2, verbose=1)"
      ]
    },
    {
      "cell_type": "markdown",
      "metadata": {
        "id": "b99V-kZCnPlW"
      },
      "source": [
        "Let's plot the  validation and training loss"
      ]
    },
    {
      "cell_type": "code",
      "execution_count": 43,
      "metadata": {
        "colab": {
          "base_uri": "https://localhost:8080/",
          "height": 564
        },
        "id": "rC2n_0_wmcJH",
        "outputId": "83725131-42b2-4703-8f05-fad4c8e0a450"
      },
      "outputs": [
        {
          "output_type": "display_data",
          "data": {
            "text/plain": [
              "<Figure size 800x600 with 1 Axes>"
            ],
            "image/png": "[encoded data removed]"
          },
          "metadata": {}
        }
      ],
      "source": [
        "N = 15\n",
        "import pylab as plt\n",
        "plt.figure(figsize=(8,6))\n",
        "plt.plot(np.arange(0, N), history.history[\"loss\"], label=\"train_loss\")\n",
        "plt.plot(np.arange(0, N), history.history[\"val_loss\"], label=\"val_loss\")\n",
        "\n",
        "plt.title(\"Training Loss and Validation loss on the dataset\")\n",
        "plt.xlabel(\"Epoch #\")\n",
        "plt.ylabel(\"train_Loss/val_loss\")\n",
        "plt.legend(loc=\"upper right\")\n",
        "plt.show()"
      ]
    },
    {
      "cell_type": "markdown",
      "metadata": {
        "id": "uPydCrPCvs-u"
      },
      "source": [
        "From the above plot, we can say that the train and validation are having a smooth loss"
      ]
    },
    {
      "cell_type": "markdown",
      "metadata": {
        "id": "ny16YdKMEicj"
      },
      "source": [
        "#### Testing the model"
      ]
    },
    {
      "cell_type": "code",
      "execution_count": 44,
      "metadata": {
        "colab": {
          "base_uri": "https://localhost:8080/"
        },
        "id": "6WiP5-J2vs-v",
        "outputId": "05990697-e97e-41eb-d1b7-51643b96a7eb"
      },
      "outputs": [
        {
          "output_type": "stream",
          "name": "stdout",
          "text": [
            "2/2 [==============================] - 0s 7ms/step - loss: 0.1360 - mse: 0.1360\n"
          ]
        },
        {
          "output_type": "execute_result",
          "data": {
            "text/plain": [
              "[0.1360456645488739, 0.1360456645488739]"
            ]
          },
          "metadata": {},
          "execution_count": 44
        }
      ],
      "source": [
        "model.evaluate(X_test,y_test)"
      ]
    },
    {
      "cell_type": "markdown",
      "metadata": {
        "id": "HOuGwdr1Etu9"
      },
      "source": [
        "Let’s predict\n"
      ]
    },
    {
      "cell_type": "code",
      "execution_count": 45,
      "metadata": {
        "id": "S6EzZe-2Lnaa",
        "colab": {
          "base_uri": "https://localhost:8080/"
        },
        "outputId": "ac33f338-1adf-40d4-cf8a-80596723c5ce"
      },
      "outputs": [
        {
          "output_type": "stream",
          "name": "stdout",
          "text": [
            "2/2 [==============================] - 0s 6ms/step\n"
          ]
        }
      ],
      "source": [
        "#Lets Print the predicted prices\n",
        "test_predictionsk = model.predict(X_test)\n",
        "y_pred1 = target_scaler.inverse_transform(test_predictionsk.reshape(-1, 1))"
      ]
    },
    {
      "cell_type": "markdown",
      "metadata": {
        "id": "OW-6u_WKo6JV"
      },
      "source": [
        "Let's Calculate the R2 to evaluate the model"
      ]
    },
    {
      "cell_type": "code",
      "execution_count": 46,
      "metadata": {
        "colab": {
          "base_uri": "https://localhost:8080/"
        },
        "id": "P5gg0t4toj85",
        "outputId": "f2c27bc1-4b70-498a-8ec0-57784c6182d1"
      },
      "outputs": [
        {
          "output_type": "execute_result",
          "data": {
            "text/plain": [
              "0.7459570583133339"
            ]
          },
          "metadata": {},
          "execution_count": 46
        }
      ],
      "source": [
        "sklearn.metrics.r2_score(target_scaler.inverse_transform(y_test.reshape(-1, 1)),y_pred1)"
      ]
    },
    {
      "cell_type": "markdown",
      "metadata": {
        "id": "mset_vUAlTWe"
      },
      "source": [
        "R2 is 0.61 and it seems to be fine, But this can be improved."
      ]
    },
    {
      "cell_type": "markdown",
      "metadata": {
        "id": "AWk7udkcvs-w"
      },
      "source": [
        "Now let's try to increase the number of hidden layers and neurons in the hidden layers and see if we can get a good r2 score."
      ]
    },
    {
      "cell_type": "code",
      "execution_count": 77,
      "metadata": {
        "id": "S7k6PXE2vs-w"
      },
      "outputs": [],
      "source": [
        "backend.clear_session()\n",
        "#Fixing the seed for random number generators so that we can ensure we receive the same output everytime\n",
        "np.random.seed(42)\n",
        "import random\n",
        "random.seed(42)\n",
        "tf.random.set_seed(42)"
      ]
    },
    {
      "cell_type": "code",
      "execution_count": 78,
      "metadata": {
        "id": "4jcn2Ojivs-w"
      },
      "outputs": [],
      "source": [
        "# Initializing the model\n",
        "model_2 = Sequential()\n",
        "\n",
        "# Adding input layer with 14 variables and 64 neurons with relu as activation function\n",
        "model_2.add(Dense(64, activation='relu', input_shape=(10,)))\n",
        "\n",
        "# adding second hidden layer with 32 neurons and relu as activation function\n",
        "model_2.add(Dense(32, activation='relu'))\n",
        "\n",
        "# adding first hidden layer with 8 neurons and relu as activation function\n",
        "model_2.add(Dense(16, activation='relu'))\n",
        "\n",
        "# adding the output layer with 1 neuron and linear as activation function\n",
        "model_2.add(Dense(1, activation='linear'))"
      ]
    },
    {
      "cell_type": "code",
      "execution_count": 79,
      "metadata": {
        "colab": {
          "base_uri": "https://localhost:8080/"
        },
        "id": "KMn8QU6evs-w",
        "outputId": "db21b490-0579-478a-e250-721e17956be7"
      },
      "outputs": [
        {
          "output_type": "stream",
          "name": "stdout",
          "text": [
            "Model: \"sequential\"\n",
            "_________________________________________________________________\n",
            " Layer (type)                Output Shape              Param #   \n",
            "=================================================================\n",
            " dense (Dense)               (None, 64)                704       \n",
            "                                                                 \n",
            " dense_1 (Dense)             (None, 32)                2080      \n",
            "                                                                 \n",
            " dense_2 (Dense)             (None, 16)                528       \n",
            "                                                                 \n",
            " dense_3 (Dense)             (None, 1)                 17        \n",
            "                                                                 \n",
            "=================================================================\n",
            "Total params: 3329 (13.00 KB)\n",
            "Trainable params: 3329 (13.00 KB)\n",
            "Non-trainable params: 0 (0.00 Byte)\n",
            "_________________________________________________________________\n"
          ]
        }
      ],
      "source": [
        "# Summary of the model\n",
        "model_2.summary()"
      ]
    },
    {
      "cell_type": "code",
      "source": [
        "from tensorflow.keras.callbacks import EarlyStopping\n",
        "\n",
        "es = EarlyStopping(\n",
        "    monitor = \"val_loss\",\n",
        "    patience = 5,\n",
        "    restore_best_weights = True\n",
        ")"
      ],
      "metadata": {
        "id": "cOx-IVlSK7uP"
      },
      "execution_count": 80,
      "outputs": []
    },
    {
      "cell_type": "code",
      "execution_count": 81,
      "metadata": {
        "colab": {
          "base_uri": "https://localhost:8080/"
        },
        "id": "6eGF-VZyvs-x",
        "outputId": "8a9a9432-f162-4768-cf7d-954112ca8058"
      },
      "outputs": [
        {
          "output_type": "stream",
          "name": "stdout",
          "text": [
            "Epoch 1/100\n",
            "3/3 [==============================] - 1s 88ms/step - loss: 0.9509 - mae: 0.7510 - val_loss: 0.6511 - val_mae: 0.6169\n",
            "Epoch 2/100\n",
            "3/3 [==============================] - 0s 19ms/step - loss: 0.8201 - mae: 0.6928 - val_loss: 0.5610 - val_mae: 0.5697\n",
            "Epoch 3/100\n",
            "3/3 [==============================] - 0s 18ms/step - loss: 0.7183 - mae: 0.6413 - val_loss: 0.4781 - val_mae: 0.5274\n",
            "Epoch 4/100\n",
            "3/3 [==============================] - 0s 17ms/step - loss: 0.6221 - mae: 0.5883 - val_loss: 0.4037 - val_mae: 0.4878\n",
            "Epoch 5/100\n",
            "3/3 [==============================] - 0s 17ms/step - loss: 0.5356 - mae: 0.5405 - val_loss: 0.3393 - val_mae: 0.4499\n",
            "Epoch 6/100\n",
            "3/3 [==============================] - 0s 18ms/step - loss: 0.4593 - mae: 0.4958 - val_loss: 0.2897 - val_mae: 0.4143\n",
            "Epoch 7/100\n",
            "3/3 [==============================] - 0s 19ms/step - loss: 0.3921 - mae: 0.4583 - val_loss: 0.2504 - val_mae: 0.3823\n",
            "Epoch 8/100\n",
            "3/3 [==============================] - 0s 19ms/step - loss: 0.3386 - mae: 0.4354 - val_loss: 0.2180 - val_mae: 0.3538\n",
            "Epoch 9/100\n",
            "3/3 [==============================] - 0s 17ms/step - loss: 0.2914 - mae: 0.4091 - val_loss: 0.1910 - val_mae: 0.3306\n",
            "Epoch 10/100\n",
            "3/3 [==============================] - 0s 17ms/step - loss: 0.2595 - mae: 0.3930 - val_loss: 0.1677 - val_mae: 0.3159\n",
            "Epoch 11/100\n",
            "3/3 [==============================] - 0s 17ms/step - loss: 0.2275 - mae: 0.3727 - val_loss: 0.1505 - val_mae: 0.3021\n",
            "Epoch 12/100\n",
            "3/3 [==============================] - 0s 18ms/step - loss: 0.2024 - mae: 0.3521 - val_loss: 0.1397 - val_mae: 0.2908\n",
            "Epoch 13/100\n",
            "3/3 [==============================] - 0s 19ms/step - loss: 0.1850 - mae: 0.3376 - val_loss: 0.1355 - val_mae: 0.2840\n",
            "Epoch 14/100\n",
            "3/3 [==============================] - 0s 15ms/step - loss: 0.1763 - mae: 0.3268 - val_loss: 0.1359 - val_mae: 0.2973\n",
            "Epoch 15/100\n",
            "3/3 [==============================] - 0s 20ms/step - loss: 0.1696 - mae: 0.3181 - val_loss: 0.1379 - val_mae: 0.3045\n",
            "Epoch 16/100\n",
            "3/3 [==============================] - 0s 15ms/step - loss: 0.1680 - mae: 0.3150 - val_loss: 0.1397 - val_mae: 0.3088\n",
            "Epoch 17/100\n",
            "3/3 [==============================] - 0s 15ms/step - loss: 0.1657 - mae: 0.3108 - val_loss: 0.1392 - val_mae: 0.3051\n",
            "Epoch 18/100\n",
            "3/3 [==============================] - 0s 21ms/step - loss: 0.1615 - mae: 0.3058 - val_loss: 0.1388 - val_mae: 0.3032\n"
          ]
        }
      ],
      "source": [
        "# Defining the optimizer\n",
        "optimizer = tf.keras.optimizers.Adam(0.001)\n",
        "\n",
        "# Compiling the model\n",
        "model_2.compile(loss='mse',\n",
        "              optimizer=optimizer,\n",
        "              metrics=['mae'])\n",
        "\n",
        "# Fitting the model on train data\n",
        "history = model_2.fit(X_train, y_train, validation_split = 0.2, epochs=100, callbacks = [es])"
      ]
    },
    {
      "cell_type": "code",
      "execution_count": 82,
      "metadata": {
        "colab": {
          "base_uri": "https://localhost:8080/",
          "height": 452
        },
        "id": "0JgUPKvIvs-x",
        "outputId": "15281864-bc66-46fe-9f15-1e55e7d66d80"
      },
      "outputs": [
        {
          "output_type": "display_data",
          "data": {
            "text/plain": [
              "<Figure size 640x480 with 1 Axes>"
            ],
            "image/png": "[encoded data removed]"
          },
          "metadata": {}
        }
      ],
      "source": [
        "from matplotlib import pyplot\n",
        "pyplot.title('Training Loss and Validation loss on the dataset')\n",
        "pyplot.plot(history.history['loss'], label='train')\n",
        "pyplot.plot(history.history['val_loss'], label='validate')\n",
        "pyplot.legend()\n",
        "pyplot.show()"
      ]
    },
    {
      "cell_type": "markdown",
      "metadata": {
        "id": "rEx3jOeovs-x"
      },
      "source": [
        "From the above plot, we can observe that there is some noise in the validation data."
      ]
    },
    {
      "cell_type": "markdown",
      "metadata": {
        "id": "S0EUij5Lvs-x"
      },
      "source": [
        "Predicting on test data"
      ]
    },
    {
      "cell_type": "code",
      "execution_count": 83,
      "metadata": {
        "colab": {
          "base_uri": "https://localhost:8080/"
        },
        "id": "8KAf-7_Dvs-x",
        "outputId": "d8a4157c-39dc-40ed-962d-e40e59309df6"
      },
      "outputs": [
        {
          "output_type": "stream",
          "name": "stdout",
          "text": [
            "2/2 [==============================] - 0s 8ms/step - loss: 0.1185 - mae: 0.2791\n"
          ]
        },
        {
          "output_type": "execute_result",
          "data": {
            "text/plain": [
              "[0.11852512508630753, 0.2791402339935303]"
            ]
          },
          "metadata": {},
          "execution_count": 83
        }
      ],
      "source": [
        "model_2.evaluate(X_test, y_test)"
      ]
    },
    {
      "cell_type": "code",
      "execution_count": 84,
      "metadata": {
        "colab": {
          "base_uri": "https://localhost:8080/"
        },
        "id": "UK_rhBYYvs-x",
        "outputId": "b5754247-c954-4267-8b4d-52dcad89a44d"
      },
      "outputs": [
        {
          "output_type": "stream",
          "name": "stderr",
          "text": [
            "WARNING:tensorflow:6 out of the last 11 calls to <function Model.make_predict_function.<locals>.predict_function at 0x7bbbe8182f80> triggered tf.function retracing. Tracing is expensive and the excessive number of tracings could be due to (1) creating @tf.function repeatedly in a loop, (2) passing tensors with different shapes, (3) passing Python objects instead of tensors. For (1), please define your @tf.function outside of the loop. For (2), @tf.function has reduce_retracing=True option that can avoid unnecessary retracing. For (3), please refer to https://www.tensorflow.org/guide/function#controlling_retracing and https://www.tensorflow.org/api_docs/python/tf/function for  more details.\n"
          ]
        },
        {
          "output_type": "stream",
          "name": "stdout",
          "text": [
            "2/2 [==============================] - 0s 5ms/step\n"
          ]
        }
      ],
      "source": [
        "#Lets Print the predicted prices\n",
        "test_predictions_2=model_2.predict(X_test)\n",
        "y_pred_2=target_scaler.inverse_transform(test_predictions_2.reshape(-1, 1))"
      ]
    },
    {
      "cell_type": "code",
      "execution_count": 85,
      "metadata": {
        "colab": {
          "base_uri": "https://localhost:8080/"
        },
        "id": "G8I-coC0vs-y",
        "outputId": "f070d691-8dd5-4f74-fbe4-c0bfb4d932cd"
      },
      "outputs": [
        {
          "output_type": "execute_result",
          "data": {
            "text/plain": [
              "0.7786738313800108"
            ]
          },
          "metadata": {},
          "execution_count": 85
        }
      ],
      "source": [
        "sklearn.metrics.r2_score(target_scaler.inverse_transform(y_test.reshape(-1, 1)),y_pred_2)"
      ]
    },
    {
      "cell_type": "markdown",
      "metadata": {
        "id": "MW2Gin3tvs-y"
      },
      "source": [
        "We got 0.73 as an r2 score which is good when compared to the previous model score. Hence increasing the hidden layers work, and we can say that the second model is more generalized when compared to the first model."
      ]
    },
    {
      "cell_type": "code",
      "source": [
        "from sklearn.neural_network import MLPRegressor\n",
        "\n",
        "model_sk = MLPRegressor(\n",
        "    hidden_layer_sizes = (32, 32),\n",
        "    activation = \"logistic\",\n",
        "    solver = \"lbfgs\",\n",
        "    early_stopping = True,\n",
        "    n_iter_no_change = 5,\n",
        "    random_state = 42,\n",
        "    alpha = 2.5,\n",
        "    validation_fraction = 0.2,\n",
        "    learning_rate_init = 0.001,\n",
        "    max_iter = 200\n",
        ").fit(X_train, y_train)\n",
        "\n",
        "# Lets Print the predicted prices\n",
        "test_predictions_sk = model_sk.predict(X_test)\n",
        "y_pred_sk = target_scaler.inverse_transform(test_predictions_sk.reshape(-1, 1))\n",
        "\n",
        "# Lets Print the predicted prices\n",
        "train_predictions_sk = model_sk.predict(X_train)\n",
        "y_pred_train_sk = target_scaler.inverse_transform(train_predictions_sk.reshape(-1, 1))\n",
        "\n",
        "r2_test = sklearn.metrics.r2_score(target_scaler.inverse_transform(y_test.reshape(-1, 1)),y_pred_sk)\n",
        "r2_train = sklearn.metrics.r2_score(target_scaler.inverse_transform(y_train.reshape(-1, 1)),y_pred_train_sk)\n",
        "\n",
        "print(\"Train R2:\", r2_train)\n",
        "print(\"Test R2:\", r2_test)"
      ],
      "metadata": {
        "colab": {
          "base_uri": "https://localhost:8080/"
        },
        "id": "IbWRUk42MV_g",
        "outputId": "f947f849-756f-4a00-dc75-4c3dd58602e1"
      },
      "execution_count": 111,
      "outputs": [
        {
          "output_type": "stream",
          "name": "stdout",
          "text": [
            "Train R2: 0.806617004478257\n",
            "Test R2: 0.8015958398568207\n"
          ]
        }
      ]
    },
    {
      "cell_type": "code",
      "source": [],
      "metadata": {
        "id": "PnvwR9QQN2y6"
      },
      "execution_count": null,
      "outputs": []
    },
    {
      "cell_type": "markdown",
      "metadata": {
        "id": "R2fegjGWrMQV"
      },
      "source": [
        "**Conclusion:**\n",
        "\n",
        "- Cars which are manufactured recently are costly and have  less mileage.\n",
        "\n",
        "- Price of car is highly dependent on the mileage and the manufacturing year\n",
        "\n",
        "- Automatic cars have higher price range than manual type cars.\n",
        "\n",
        "- There is an increment in price of automatic cars between 2010 and 2015.\n",
        "\n",
        "\n",
        "\n"
      ]
    },
    {
      "cell_type": "markdown",
      "metadata": {
        "id": "X8xCBIesKGbY"
      },
      "source": [
        "We learnt creating a very simple regression models using Neural Networks on used cars data and predicted prices.\n",
        "\n",
        "\n",
        "## <i>Happy Learning!</i>"
      ]
    }
  ],
  "metadata": {
    "colab": {
      "provenance": [],
      "toc_visible": true,
      "gpuType": "T4"
    },
    "kernelspec": {
      "display_name": "Python 3",
      "name": "python3"
    },
    "language_info": {
      "codemirror_mode": {
        "name": "ipython",
        "version": 3
      },
      "file_extension": ".py",
      "mimetype": "text/x-python",
      "name": "python",
      "nbconvert_exporter": "python",
      "pygments_lexer": "ipython3",
      "version": "3.9.16"
    },
    "accelerator": "GPU"
  },
  "nbformat": 4,
  "nbformat_minor": 0
}