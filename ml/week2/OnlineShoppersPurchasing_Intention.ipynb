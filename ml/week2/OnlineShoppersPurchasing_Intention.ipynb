{
 "cells": [
  {
   "cell_type": "markdown",
   "metadata": {
    "id": "F-gdFnw9wY9N"
   },
   "source": [
    "<center><p float=\"center\">\n",
    "  <img src=\"https://upload.wikimedia.org/wikipedia/commons/e/e9/4_RGB_McCombs_School_Brand_Branded.png\" width=\"300\" height=\"100\"/>\n",
    "  <img src=\"https://mma.prnewswire.com/media/1458111/Great_Learning_Logo.jpg?p=facebook\" width=\"200\" height=\"100\"/>\n",
    "</p></center>\n",
    "\n",
    "<h1><center><font size=10>Artificial Intelligence and Machine Learning</center></font></h1>\n",
    "<h1><center>Supervised Learning Classification - Decision Tree - Week-2</center></h1>"
   ]
  },
  {
   "cell_type": "markdown",
   "metadata": {
    "id": "AMXhcIuOwu4n"
   },
   "source": [
    "<center><img src=\"https://cdn.pixabay.com/photo/2016/08/17/04/43/template-1599667_1280.png\" width=\"1080\" height=\"500\"></center>\n",
    "\n",
    "<b><h2><center> Online Shoppers Purchasing Intention </center></h2></b>"
   ]
  },
  {
   "cell_type": "markdown",
   "metadata": {
    "id": "_iTU2wjaaVB2"
   },
   "source": [
    "# Context\n",
    "\n",
    "Typically e-commerce datasets are proprietary and consequently hard to find among publicly available data.\n",
    "This is a transactional data set that contains all the transactions occurring in online retail.\n",
    "Ecommerce data contains information relating to the visitors and performance of an online shop. It's mostly used by marketers e.g. in understanding consumer behavior and enhancing conversion funnels."
   ]
  },
  {
   "cell_type": "markdown",
   "metadata": {
    "id": "dCdux8RWbDMN"
   },
   "source": [
    "# Objective\n",
    "\n",
    "The objective is to find out the features which have the most information context to differentiate the positive class and negative class and also build a model to predict whether a customer will buy a product or not."
   ]
  },
  {
   "cell_type": "markdown",
   "metadata": {
    "id": "R1vCghTUbuWj"
   },
   "source": [
    "# Dataset\n",
    "\n",
    "The data contains information on web sessions of a customer:\n",
    "\n",
    "--------------------------------------\n",
    "- **\"Administrative\", \"Administrative Duration\", \"Informational\", \"Informational Duration\", \"Product Related\" and \"Product Related Duration\"**: These represent the number of different types of pages visited by the visitor in that session and total time spent in each of these page categories.\n",
    "- The values of these features are derived from the URL information of the pages visited by the user and updated in real-time when a user takes an action, e.g. moving from one page to another.\n",
    "--------------------------------------\n",
    "- The **\"Bounce Rate\", \"Exit Rate\" and \"Page Value\"** features represent the metrics measured by \"Google Analytics\" for each page in the e-commerce site.\n",
    "- **Bounce Rate:** The value of \"Bounce Rate\" feature for a web page refers to the percentage of visitors who enter the site from that page and then leave (\"bounce\") without triggering any other requests to the analytics server during that session.\n",
    "\n",
    "- **Exit Rate:** The value of \"Exit Rate\" feature for a specific web page is calculated as for all pageviews to the page, the percentage that was the last in the session.\n",
    "\n",
    "- Dataset has average bounce rates and exit rates for a page customer landed on.\n",
    "\n",
    "Read more about **Bounce Rate** vs **Exit Rate** [here](https://support.google.com/analytics/answer/2525491?hl=en&ref_topic=6156780)\n",
    "- **Page Value:** The \"Page Value\" feature represents the average value for a web page that a user visited before completing an e-commerce transaction.\n",
    "\n",
    "Read more about **Page Value** [here](https://support.google.com/analytics/answer/2695658?hl=en).\n",
    "\n",
    "--------------------------------------\n",
    "- **Special Day:** The \"Special Day\" feature indicates the closeness of the site visiting time to a specific special day (e.g. Mother’s Day, Valentine's Day) in which the sessions are more likely to be finalized with the transaction.\n",
    "- The value of this attribute is determined by considering the dynamics of e-commerce such as the duration between the order date and delivery date.\n",
    "- For example, for Valentina’s day, this value takes a nonzero value between February 2 and February 12, zero before and after this date unless it is close to another special day, and its maximum value of 1 on February 8.\n",
    "--------------------------------------\n",
    "- The dataset also includes the operating system, browser, region, traffic type - these values are masked.\n",
    "\n",
    "- VisitorType: returning visitor, new visitor, or other types of customer.\n",
    "- weekend: a Boolean value indicating whether the date of the visit is weekend or not\n",
    "- month: month of the year"
   ]
  },
  {
   "cell_type": "markdown",
   "metadata": {
    "id": "vL8wmJEThU1y"
   },
   "source": [
    "### Import necessary libraries"
   ]
  },
  {
   "cell_type": "code",
   "execution_count": 36,
   "metadata": {
    "id": "2GA-2sgYwRtz"
   },
   "outputs": [],
   "source": [
    "# this will help in making the Python code more structured automatically (good coding practice)\n",
    "# %load_ext nb_black\n",
    "\n",
    "# Library to suppress warnings or deprecation notes\n",
    "import warnings\n",
    "\n",
    "warnings.filterwarnings(\"ignore\")\n",
    "\n",
    "# Libraries to help with reading and manipulating data\n",
    "import pandas as pd\n",
    "import numpy as np\n",
    "\n",
    "# Library to split data\n",
    "from sklearn.model_selection import train_test_split\n",
    "\n",
    "# libaries to help with data visualization\n",
    "import matplotlib.pyplot as plt\n",
    "import seaborn as sns\n",
    "plt.style.use(\"default\")\n",
    "\n",
    "# Removes the limit for the number of displayed columns\n",
    "pd.set_option(\"display.max_columns\", None)\n",
    "# Sets the limit for the number of displayed rows\n",
    "pd.set_option(\"display.max_rows\", 200)\n",
    "\n",
    "# Libraries to build decision tree classifier\n",
    "from sklearn.tree import DecisionTreeClassifier\n",
    "from sklearn import tree\n",
    "\n",
    "# To tune different models\n",
    "from sklearn.model_selection import GridSearchCV\n",
    "\n",
    "# To get diferent metric scores\n",
    "from sklearn.metrics import (\n",
    "    f1_score,\n",
    "    accuracy_score,\n",
    "    recall_score,\n",
    "    precision_score,\n",
    "    confusion_matrix,\n",
    "    make_scorer,\n",
    "    ConfusionMatrixDisplay\n",
    ")"
   ]
  },
  {
   "cell_type": "markdown",
   "metadata": {
    "id": "a9ZMNfUNhU14"
   },
   "source": [
    "### Read the dataset"
   ]
  },
  {
   "cell_type": "code",
   "execution_count": 37,
   "metadata": {
    "id": "1yJjnrhEwRt8"
   },
   "outputs": [],
   "source": [
    "shoppers = pd.read_csv(\"online_shoppers_intention.csv\")"
   ]
  },
  {
   "cell_type": "code",
   "execution_count": 38,
   "metadata": {
    "id": "ISGSZGHBwRt-"
   },
   "outputs": [],
   "source": [
    "# copying data to another varaible to avoid any changes to original data\n",
    "data = shoppers.copy()"
   ]
  },
  {
   "cell_type": "markdown",
   "metadata": {
    "id": "7_acd7KphU2U"
   },
   "source": [
    "### View the first and last 5 rows of the dataset."
   ]
  },
  {
   "cell_type": "code",
   "execution_count": 39,
   "metadata": {
    "colab": {
     "base_uri": "https://localhost:8080/",
     "height": 226
    },
    "id": "KgiRB3KSwRuC",
    "outputId": "c7bb875a-07a3-456e-8fdd-b9ee964aa89c"
   },
   "outputs": [
    {
     "data": {
      "text/html": [
       "<div>\n",
       "<style scoped>\n",
       "    .dataframe tbody tr th:only-of-type {\n",
       "        vertical-align: middle;\n",
       "    }\n",
       "\n",
       "    .dataframe tbody tr th {\n",
       "        vertical-align: top;\n",
       "    }\n",
       "\n",
       "    .dataframe thead th {\n",
       "        text-align: right;\n",
       "    }\n",
       "</style>\n",
       "<table border=\"1\" class=\"dataframe\">\n",
       "  <thead>\n",
       "    <tr style=\"text-align: right;\">\n",
       "      <th></th>\n",
       "      <th>Administrative</th>\n",
       "      <th>Administrative_Duration</th>\n",
       "      <th>Informational</th>\n",
       "      <th>Informational_Duration</th>\n",
       "      <th>ProductRelated</th>\n",
       "      <th>ProductRelated_Duration</th>\n",
       "      <th>BounceRates</th>\n",
       "      <th>ExitRates</th>\n",
       "      <th>PageValues</th>\n",
       "      <th>SpecialDay</th>\n",
       "      <th>Month</th>\n",
       "      <th>OperatingSystems</th>\n",
       "      <th>Browser</th>\n",
       "      <th>Region</th>\n",
       "      <th>TrafficType</th>\n",
       "      <th>VisitorType</th>\n",
       "      <th>Weekend</th>\n",
       "      <th>Revenue</th>\n",
       "    </tr>\n",
       "  </thead>\n",
       "  <tbody>\n",
       "    <tr>\n",
       "      <th>0</th>\n",
       "      <td>0</td>\n",
       "      <td>0.0</td>\n",
       "      <td>0</td>\n",
       "      <td>0.0</td>\n",
       "      <td>1</td>\n",
       "      <td>0.000000</td>\n",
       "      <td>0.20</td>\n",
       "      <td>0.20</td>\n",
       "      <td>0.0</td>\n",
       "      <td>0.0</td>\n",
       "      <td>Feb</td>\n",
       "      <td>1</td>\n",
       "      <td>1</td>\n",
       "      <td>1</td>\n",
       "      <td>1</td>\n",
       "      <td>Returning_Visitor</td>\n",
       "      <td>False</td>\n",
       "      <td>False</td>\n",
       "    </tr>\n",
       "    <tr>\n",
       "      <th>1</th>\n",
       "      <td>0</td>\n",
       "      <td>0.0</td>\n",
       "      <td>0</td>\n",
       "      <td>0.0</td>\n",
       "      <td>2</td>\n",
       "      <td>64.000000</td>\n",
       "      <td>0.00</td>\n",
       "      <td>0.10</td>\n",
       "      <td>0.0</td>\n",
       "      <td>0.0</td>\n",
       "      <td>Feb</td>\n",
       "      <td>2</td>\n",
       "      <td>2</td>\n",
       "      <td>1</td>\n",
       "      <td>2</td>\n",
       "      <td>Returning_Visitor</td>\n",
       "      <td>False</td>\n",
       "      <td>False</td>\n",
       "    </tr>\n",
       "    <tr>\n",
       "      <th>2</th>\n",
       "      <td>0</td>\n",
       "      <td>0.0</td>\n",
       "      <td>0</td>\n",
       "      <td>0.0</td>\n",
       "      <td>1</td>\n",
       "      <td>0.000000</td>\n",
       "      <td>0.20</td>\n",
       "      <td>0.20</td>\n",
       "      <td>0.0</td>\n",
       "      <td>0.0</td>\n",
       "      <td>Feb</td>\n",
       "      <td>4</td>\n",
       "      <td>1</td>\n",
       "      <td>9</td>\n",
       "      <td>3</td>\n",
       "      <td>Returning_Visitor</td>\n",
       "      <td>False</td>\n",
       "      <td>False</td>\n",
       "    </tr>\n",
       "    <tr>\n",
       "      <th>3</th>\n",
       "      <td>0</td>\n",
       "      <td>0.0</td>\n",
       "      <td>0</td>\n",
       "      <td>0.0</td>\n",
       "      <td>2</td>\n",
       "      <td>2.666667</td>\n",
       "      <td>0.05</td>\n",
       "      <td>0.14</td>\n",
       "      <td>0.0</td>\n",
       "      <td>0.0</td>\n",
       "      <td>Feb</td>\n",
       "      <td>3</td>\n",
       "      <td>2</td>\n",
       "      <td>2</td>\n",
       "      <td>4</td>\n",
       "      <td>Returning_Visitor</td>\n",
       "      <td>False</td>\n",
       "      <td>False</td>\n",
       "    </tr>\n",
       "    <tr>\n",
       "      <th>4</th>\n",
       "      <td>0</td>\n",
       "      <td>0.0</td>\n",
       "      <td>0</td>\n",
       "      <td>0.0</td>\n",
       "      <td>10</td>\n",
       "      <td>627.500000</td>\n",
       "      <td>0.02</td>\n",
       "      <td>0.05</td>\n",
       "      <td>0.0</td>\n",
       "      <td>0.0</td>\n",
       "      <td>Feb</td>\n",
       "      <td>3</td>\n",
       "      <td>3</td>\n",
       "      <td>1</td>\n",
       "      <td>4</td>\n",
       "      <td>Returning_Visitor</td>\n",
       "      <td>True</td>\n",
       "      <td>False</td>\n",
       "    </tr>\n",
       "  </tbody>\n",
       "</table>\n",
       "</div>"
      ],
      "text/plain": [
       "   Administrative  Administrative_Duration  Informational  \\\n",
       "0               0                      0.0              0   \n",
       "1               0                      0.0              0   \n",
       "2               0                      0.0              0   \n",
       "3               0                      0.0              0   \n",
       "4               0                      0.0              0   \n",
       "\n",
       "   Informational_Duration  ProductRelated  ProductRelated_Duration  \\\n",
       "0                     0.0               1                 0.000000   \n",
       "1                     0.0               2                64.000000   \n",
       "2                     0.0               1                 0.000000   \n",
       "3                     0.0               2                 2.666667   \n",
       "4                     0.0              10               627.500000   \n",
       "\n",
       "   BounceRates  ExitRates  PageValues  SpecialDay Month  OperatingSystems  \\\n",
       "0         0.20       0.20         0.0         0.0   Feb                 1   \n",
       "1         0.00       0.10         0.0         0.0   Feb                 2   \n",
       "2         0.20       0.20         0.0         0.0   Feb                 4   \n",
       "3         0.05       0.14         0.0         0.0   Feb                 3   \n",
       "4         0.02       0.05         0.0         0.0   Feb                 3   \n",
       "\n",
       "   Browser  Region  TrafficType        VisitorType  Weekend  Revenue  \n",
       "0        1       1            1  Returning_Visitor    False    False  \n",
       "1        2       1            2  Returning_Visitor    False    False  \n",
       "2        1       9            3  Returning_Visitor    False    False  \n",
       "3        2       2            4  Returning_Visitor    False    False  \n",
       "4        3       1            4  Returning_Visitor     True    False  "
      ]
     },
     "execution_count": 39,
     "metadata": {},
     "output_type": "execute_result"
    }
   ],
   "source": [
    "data.head()"
   ]
  },
  {
   "cell_type": "code",
   "execution_count": 40,
   "metadata": {
    "colab": {
     "base_uri": "https://localhost:8080/",
     "height": 226
    },
    "id": "DuBbCYefwRuD",
    "outputId": "3c2bb661-590f-4594-a9ea-feb6372fb377"
   },
   "outputs": [
    {
     "data": {
      "text/html": [
       "<div>\n",
       "<style scoped>\n",
       "    .dataframe tbody tr th:only-of-type {\n",
       "        vertical-align: middle;\n",
       "    }\n",
       "\n",
       "    .dataframe tbody tr th {\n",
       "        vertical-align: top;\n",
       "    }\n",
       "\n",
       "    .dataframe thead th {\n",
       "        text-align: right;\n",
       "    }\n",
       "</style>\n",
       "<table border=\"1\" class=\"dataframe\">\n",
       "  <thead>\n",
       "    <tr style=\"text-align: right;\">\n",
       "      <th></th>\n",
       "      <th>Administrative</th>\n",
       "      <th>Administrative_Duration</th>\n",
       "      <th>Informational</th>\n",
       "      <th>Informational_Duration</th>\n",
       "      <th>ProductRelated</th>\n",
       "      <th>ProductRelated_Duration</th>\n",
       "      <th>BounceRates</th>\n",
       "      <th>ExitRates</th>\n",
       "      <th>PageValues</th>\n",
       "      <th>SpecialDay</th>\n",
       "      <th>Month</th>\n",
       "      <th>OperatingSystems</th>\n",
       "      <th>Browser</th>\n",
       "      <th>Region</th>\n",
       "      <th>TrafficType</th>\n",
       "      <th>VisitorType</th>\n",
       "      <th>Weekend</th>\n",
       "      <th>Revenue</th>\n",
       "    </tr>\n",
       "  </thead>\n",
       "  <tbody>\n",
       "    <tr>\n",
       "      <th>12325</th>\n",
       "      <td>3</td>\n",
       "      <td>145.0</td>\n",
       "      <td>0</td>\n",
       "      <td>0.0</td>\n",
       "      <td>53</td>\n",
       "      <td>1783.791667</td>\n",
       "      <td>0.007143</td>\n",
       "      <td>0.029031</td>\n",
       "      <td>12.241717</td>\n",
       "      <td>0.0</td>\n",
       "      <td>Dec</td>\n",
       "      <td>4</td>\n",
       "      <td>6</td>\n",
       "      <td>1</td>\n",
       "      <td>1</td>\n",
       "      <td>Returning_Visitor</td>\n",
       "      <td>True</td>\n",
       "      <td>False</td>\n",
       "    </tr>\n",
       "    <tr>\n",
       "      <th>12326</th>\n",
       "      <td>0</td>\n",
       "      <td>0.0</td>\n",
       "      <td>0</td>\n",
       "      <td>0.0</td>\n",
       "      <td>5</td>\n",
       "      <td>465.750000</td>\n",
       "      <td>0.000000</td>\n",
       "      <td>0.021333</td>\n",
       "      <td>0.000000</td>\n",
       "      <td>0.0</td>\n",
       "      <td>Nov</td>\n",
       "      <td>3</td>\n",
       "      <td>2</td>\n",
       "      <td>1</td>\n",
       "      <td>8</td>\n",
       "      <td>Returning_Visitor</td>\n",
       "      <td>True</td>\n",
       "      <td>False</td>\n",
       "    </tr>\n",
       "    <tr>\n",
       "      <th>12327</th>\n",
       "      <td>0</td>\n",
       "      <td>0.0</td>\n",
       "      <td>0</td>\n",
       "      <td>0.0</td>\n",
       "      <td>6</td>\n",
       "      <td>184.250000</td>\n",
       "      <td>0.083333</td>\n",
       "      <td>0.086667</td>\n",
       "      <td>0.000000</td>\n",
       "      <td>0.0</td>\n",
       "      <td>Nov</td>\n",
       "      <td>3</td>\n",
       "      <td>2</td>\n",
       "      <td>1</td>\n",
       "      <td>13</td>\n",
       "      <td>Returning_Visitor</td>\n",
       "      <td>True</td>\n",
       "      <td>False</td>\n",
       "    </tr>\n",
       "    <tr>\n",
       "      <th>12328</th>\n",
       "      <td>4</td>\n",
       "      <td>75.0</td>\n",
       "      <td>0</td>\n",
       "      <td>0.0</td>\n",
       "      <td>15</td>\n",
       "      <td>346.000000</td>\n",
       "      <td>0.000000</td>\n",
       "      <td>0.021053</td>\n",
       "      <td>0.000000</td>\n",
       "      <td>0.0</td>\n",
       "      <td>Nov</td>\n",
       "      <td>2</td>\n",
       "      <td>2</td>\n",
       "      <td>3</td>\n",
       "      <td>11</td>\n",
       "      <td>Returning_Visitor</td>\n",
       "      <td>False</td>\n",
       "      <td>False</td>\n",
       "    </tr>\n",
       "    <tr>\n",
       "      <th>12329</th>\n",
       "      <td>0</td>\n",
       "      <td>0.0</td>\n",
       "      <td>0</td>\n",
       "      <td>0.0</td>\n",
       "      <td>3</td>\n",
       "      <td>21.250000</td>\n",
       "      <td>0.000000</td>\n",
       "      <td>0.066667</td>\n",
       "      <td>0.000000</td>\n",
       "      <td>0.0</td>\n",
       "      <td>Nov</td>\n",
       "      <td>3</td>\n",
       "      <td>2</td>\n",
       "      <td>1</td>\n",
       "      <td>2</td>\n",
       "      <td>New_Visitor</td>\n",
       "      <td>True</td>\n",
       "      <td>False</td>\n",
       "    </tr>\n",
       "  </tbody>\n",
       "</table>\n",
       "</div>"
      ],
      "text/plain": [
       "       Administrative  Administrative_Duration  Informational  \\\n",
       "12325               3                    145.0              0   \n",
       "12326               0                      0.0              0   \n",
       "12327               0                      0.0              0   \n",
       "12328               4                     75.0              0   \n",
       "12329               0                      0.0              0   \n",
       "\n",
       "       Informational_Duration  ProductRelated  ProductRelated_Duration  \\\n",
       "12325                     0.0              53              1783.791667   \n",
       "12326                     0.0               5               465.750000   \n",
       "12327                     0.0               6               184.250000   \n",
       "12328                     0.0              15               346.000000   \n",
       "12329                     0.0               3                21.250000   \n",
       "\n",
       "       BounceRates  ExitRates  PageValues  SpecialDay Month  OperatingSystems  \\\n",
       "12325     0.007143   0.029031   12.241717         0.0   Dec                 4   \n",
       "12326     0.000000   0.021333    0.000000         0.0   Nov                 3   \n",
       "12327     0.083333   0.086667    0.000000         0.0   Nov                 3   \n",
       "12328     0.000000   0.021053    0.000000         0.0   Nov                 2   \n",
       "12329     0.000000   0.066667    0.000000         0.0   Nov                 3   \n",
       "\n",
       "       Browser  Region  TrafficType        VisitorType  Weekend  Revenue  \n",
       "12325        6       1            1  Returning_Visitor     True    False  \n",
       "12326        2       1            8  Returning_Visitor     True    False  \n",
       "12327        2       1           13  Returning_Visitor     True    False  \n",
       "12328        2       3           11  Returning_Visitor    False    False  \n",
       "12329        2       1            2        New_Visitor     True    False  "
      ]
     },
     "execution_count": 40,
     "metadata": {},
     "output_type": "execute_result"
    }
   ],
   "source": [
    "data.tail()"
   ]
  },
  {
   "cell_type": "markdown",
   "metadata": {
    "id": "dEuSu6e4hU2e"
   },
   "source": [
    "### Understand the shape of the dataset."
   ]
  },
  {
   "cell_type": "code",
   "execution_count": 41,
   "metadata": {
    "colab": {
     "base_uri": "https://localhost:8080/"
    },
    "id": "7KZASLGWwRuH",
    "outputId": "a8a05902-bc33-4929-cf6f-c94931603b91"
   },
   "outputs": [
    {
     "data": {
      "text/plain": [
       "(12330, 18)"
      ]
     },
     "execution_count": 41,
     "metadata": {},
     "output_type": "execute_result"
    }
   ],
   "source": [
    "data.shape"
   ]
  },
  {
   "cell_type": "markdown",
   "metadata": {
    "id": "TFbuvH9-wRuI"
   },
   "source": [
    "* Dataset has 12330 rows and 18 columns"
   ]
  },
  {
   "cell_type": "markdown",
   "metadata": {
    "id": "2ndOsclUQolK"
   },
   "source": [
    "### Let's check the duplicate data. And if any, we should remove it."
   ]
  },
  {
   "cell_type": "code",
   "execution_count": 42,
   "metadata": {
    "colab": {
     "base_uri": "https://localhost:8080/"
    },
    "id": "dutvoq6kKsD3",
    "outputId": "00ebae99-116d-4225-e523-023990a5c6c6"
   },
   "outputs": [
    {
     "data": {
      "text/plain": [
       "Administrative             125\n",
       "Administrative_Duration    125\n",
       "Informational              125\n",
       "Informational_Duration     125\n",
       "ProductRelated             125\n",
       "ProductRelated_Duration    125\n",
       "BounceRates                125\n",
       "ExitRates                  125\n",
       "PageValues                 125\n",
       "SpecialDay                 125\n",
       "Month                      125\n",
       "OperatingSystems           125\n",
       "Browser                    125\n",
       "Region                     125\n",
       "TrafficType                125\n",
       "VisitorType                125\n",
       "Weekend                    125\n",
       "Revenue                    125\n",
       "dtype: int64"
      ]
     },
     "execution_count": 42,
     "metadata": {},
     "output_type": "execute_result"
    }
   ],
   "source": [
    "data[data.duplicated()].count()"
   ]
  },
  {
   "cell_type": "markdown",
   "metadata": {
    "id": "9JKpS3XvwRuM"
   },
   "source": [
    "* There are 125 duplicate values in the dataset"
   ]
  },
  {
   "cell_type": "markdown",
   "metadata": {
    "id": "kIzYcHyw2Rt8"
   },
   "source": [
    "#### Let's drop the duplicate values"
   ]
  },
  {
   "cell_type": "code",
   "execution_count": 43,
   "metadata": {
    "id": "d3nbBOv5K96i"
   },
   "outputs": [],
   "source": [
    "data.drop_duplicates(inplace=True)"
   ]
  },
  {
   "cell_type": "markdown",
   "metadata": {
    "id": "mwAu-vEwhU2m"
   },
   "source": [
    "### Check the data types of the columns for the dataset."
   ]
  },
  {
   "cell_type": "code",
   "execution_count": 44,
   "metadata": {
    "colab": {
     "base_uri": "https://localhost:8080/"
    },
    "id": "VaA5hzBwwRuR",
    "outputId": "a17324da-bc2a-46ff-813b-6f78411e43c3"
   },
   "outputs": [
    {
     "name": "stdout",
     "output_type": "stream",
     "text": [
      "<class 'pandas.core.frame.DataFrame'>\n",
      "Int64Index: 12205 entries, 0 to 12329\n",
      "Data columns (total 18 columns):\n",
      " #   Column                   Non-Null Count  Dtype  \n",
      "---  ------                   --------------  -----  \n",
      " 0   Administrative           12205 non-null  int64  \n",
      " 1   Administrative_Duration  12205 non-null  float64\n",
      " 2   Informational            12205 non-null  int64  \n",
      " 3   Informational_Duration   12205 non-null  float64\n",
      " 4   ProductRelated           12205 non-null  int64  \n",
      " 5   ProductRelated_Duration  12205 non-null  float64\n",
      " 6   BounceRates              12205 non-null  float64\n",
      " 7   ExitRates                12205 non-null  float64\n",
      " 8   PageValues               12205 non-null  float64\n",
      " 9   SpecialDay               12205 non-null  float64\n",
      " 10  Month                    12205 non-null  object \n",
      " 11  OperatingSystems         12205 non-null  int64  \n",
      " 12  Browser                  12205 non-null  int64  \n",
      " 13  Region                   12205 non-null  int64  \n",
      " 14  TrafficType              12205 non-null  int64  \n",
      " 15  VisitorType              12205 non-null  object \n",
      " 16  Weekend                  12205 non-null  bool   \n",
      " 17  Revenue                  12205 non-null  bool   \n",
      "dtypes: bool(2), float64(7), int64(7), object(2)\n",
      "memory usage: 1.6+ MB\n"
     ]
    }
   ],
   "source": [
    "data.info()"
   ]
  },
  {
   "cell_type": "markdown",
   "metadata": {
    "id": "QmQbPatnwRuT"
   },
   "source": [
    "### Insights:\n",
    "\n",
    "- Most of the data-types are either **int64** or **float64**.\n",
    "- 2 columns - Month and VisitorType are having data-types as an **object**, this means we need to convert these into suitable data-type before we feed our data into the model.\n",
    "- The last two columns: \"Weekend\" and \"Revenue\", have the data-type as a **bool**.\n",
    "\n",
    "### Think about it:\n",
    "\n",
    "- We already know that we convert the categorical data-types into suitable form using either the \"LabelEncoder\" or \"OneHotEncoding\".\n",
    "- But here we have a **bool** data type. What should we do here?\n",
    "- In Python, True and False are cast implicitly into integers:\n",
    "\n",
    "    `True == 1`\n",
    "    \n",
    "    `False == 0`\n",
    "    \n",
    "    This means that an algorithm running in Python should work without conversion."
   ]
  },
  {
   "cell_type": "code",
   "execution_count": 45,
   "metadata": {
    "colab": {
     "base_uri": "https://localhost:8080/"
    },
    "id": "7Uv2-swiiKBZ",
    "outputId": "0a6ec244-4f98-446b-bec1-b788f0ee034f"
   },
   "outputs": [
    {
     "data": {
      "text/plain": [
       "2"
      ]
     },
     "execution_count": 45,
     "metadata": {},
     "output_type": "execute_result"
    }
   ],
   "source": [
    "True + True"
   ]
  },
  {
   "cell_type": "markdown",
   "metadata": {
    "id": "Ie6gSJh8hU28"
   },
   "source": [
    "### Check for missing values"
   ]
  },
  {
   "cell_type": "code",
   "execution_count": 46,
   "metadata": {
    "colab": {
     "base_uri": "https://localhost:8080/"
    },
    "id": "hnykajwhwRua",
    "outputId": "166d9a22-9adb-4454-e8ff-c5385ea804c6"
   },
   "outputs": [
    {
     "data": {
      "text/plain": [
       "Administrative             0\n",
       "Administrative_Duration    0\n",
       "Informational              0\n",
       "Informational_Duration     0\n",
       "ProductRelated             0\n",
       "ProductRelated_Duration    0\n",
       "BounceRates                0\n",
       "ExitRates                  0\n",
       "PageValues                 0\n",
       "SpecialDay                 0\n",
       "Month                      0\n",
       "OperatingSystems           0\n",
       "Browser                    0\n",
       "Region                     0\n",
       "TrafficType                0\n",
       "VisitorType                0\n",
       "Weekend                    0\n",
       "Revenue                    0\n",
       "dtype: int64"
      ]
     },
     "execution_count": 46,
     "metadata": {},
     "output_type": "execute_result"
    }
   ],
   "source": [
    "data.isnull().sum()"
   ]
  },
  {
   "cell_type": "markdown",
   "metadata": {
    "id": "vSl0hReDwRub"
   },
   "source": [
    "* There are no missing values in the data."
   ]
  },
  {
   "cell_type": "markdown",
   "metadata": {
    "id": "UL5XFW8lwRuc"
   },
   "source": [
    "#### Let's create a list of numerical and categorical columns"
   ]
  },
  {
   "cell_type": "code",
   "execution_count": 47,
   "metadata": {
    "colab": {
     "base_uri": "https://localhost:8080/"
    },
    "id": "HZOgtyNUilwn",
    "outputId": "ed1c70fb-4ed5-4805-c560-7e0de35a252e"
   },
   "outputs": [
    {
     "data": {
      "text/plain": [
       "Index(['Month', 'VisitorType', 'Weekend', 'Revenue'], dtype='object')"
      ]
     },
     "execution_count": 47,
     "metadata": {},
     "output_type": "execute_result"
    }
   ],
   "source": [
    "data.select_dtypes(include = [\"object\", \"bool\"]).columns"
   ]
  },
  {
   "cell_type": "code",
   "execution_count": 48,
   "metadata": {
    "colab": {
     "base_uri": "https://localhost:8080/"
    },
    "id": "XvQ3kxPCwRuc",
    "outputId": "d838f44e-d1ae-4ee4-c56c-ddfd4119a9f2"
   },
   "outputs": [
    {
     "name": "stdout",
     "output_type": "stream",
     "text": [
      "Categorical Columns:      Index(['Month', 'VisitorType'], dtype='object')\n",
      "Numeric Columns:     Index(['Administrative', 'Administrative_Duration', 'Informational',\n",
      "       'Informational_Duration', 'ProductRelated', 'ProductRelated_Duration',\n",
      "       'BounceRates', 'ExitRates', 'PageValues', 'SpecialDay',\n",
      "       'OperatingSystems', 'Browser', 'Region', 'TrafficType'],\n",
      "      dtype='object')\n"
     ]
    }
   ],
   "source": [
    "numeric_cols = data.select_dtypes(include=[np.number]).columns\n",
    "cat_cols = data.describe(include=[\"object\"]).columns\n",
    "print(\"Categorical Columns:     \", cat_cols)\n",
    "print(\"Numeric Columns:    \", numeric_cols)"
   ]
  },
  {
   "cell_type": "markdown",
   "metadata": {
    "id": "GcPThvUPwRud"
   },
   "source": [
    "#### The below three functions need to be defined to carry out the Exploratory Data Analysis."
   ]
  },
  {
   "cell_type": "code",
   "execution_count": 49,
   "metadata": {
    "id": "OM8oYbQ7wRuf"
   },
   "outputs": [],
   "source": [
    "def histogram_boxplot(data, feature, figsize=(15, 10), kde=False, bins=None):\n",
    "    \"\"\"\n",
    "    Boxplot and histogram combined\n",
    "\n",
    "    data: dataframe\n",
    "    feature: dataframe column\n",
    "    figsize: size of figure (default (15,10))\n",
    "    kde: whether to show the density curve (default False)\n",
    "    bins: number of bins for histogram (default None)\n",
    "    \"\"\"\n",
    "    f2, (ax_box2, ax_hist2) = plt.subplots(\n",
    "        nrows=2,  # Number of rows of the subplot grid= 2\n",
    "        sharex=True,  # x-axis will be shared among all subplots\n",
    "        gridspec_kw={\"height_ratios\": (0.25, 0.75)},\n",
    "        figsize=figsize,\n",
    "    )  # creating the 2 subplots\n",
    "    sns.boxplot(\n",
    "        data=data, x=feature, ax=ax_box2, showmeans=True, color=\"violet\"\n",
    "    )  # boxplot will be created and a star will indicate the mean value of the column\n",
    "    sns.histplot(\n",
    "        data=data, x=feature, kde=kde, ax=ax_hist2, bins=bins, palette=\"winter\"\n",
    "    ) if bins else sns.histplot(\n",
    "        data=data, x=feature, kde=kde, ax=ax_hist2\n",
    "    )  # For histogram\n",
    "    ax_hist2.axvline(\n",
    "        data[feature].mean(), color=\"green\", linestyle=\"--\"\n",
    "    )  # Add mean to the histogram\n",
    "    ax_hist2.axvline(\n",
    "        data[feature].median(), color=\"black\", linestyle=\"-\"\n",
    "    )  # Add median to the histogram"
   ]
  },
  {
   "cell_type": "code",
   "execution_count": 50,
   "metadata": {
    "id": "T2kwhvLmwRug"
   },
   "outputs": [],
   "source": [
    "# function to create labeled barplots\n",
    "def labeled_barplot(data, feature, perc=False, n=None):\n",
    "    \"\"\"\n",
    "    Barplot with percentage at the top\n",
    "\n",
    "    data: dataframe\n",
    "    feature: dataframe column\n",
    "    perc: whether to display percentages instead of count (default is False)\n",
    "    n: displays the top n category levels (default is None, i.e., display all levels)\n",
    "    \"\"\"\n",
    "\n",
    "    total = len(data[feature])  # length of the column\n",
    "    count = data[feature].nunique()\n",
    "    if n is None:\n",
    "        plt.figure(figsize=(count + 2, 6))\n",
    "    else:\n",
    "        plt.figure(figsize=(n + 2, 6))\n",
    "\n",
    "    plt.xticks(rotation=90, fontsize=15)\n",
    "    ax = sns.countplot(\n",
    "        data=data,\n",
    "        x=feature,\n",
    "        palette=\"Paired\",\n",
    "        order=data[feature].value_counts().index[:n].sort_values(),\n",
    "    )\n",
    "\n",
    "    for p in ax.patches:\n",
    "        if perc == True:\n",
    "            label = \"{:.1f}%\".format(\n",
    "                100 * p.get_height() / total\n",
    "            )  # percentage of each class of the category\n",
    "        else:\n",
    "            label = p.get_height()  # count of each level of the category\n",
    "\n",
    "        x = p.get_x() + p.get_width() / 2  # width of the plot\n",
    "        y = p.get_height()  # height of the plot\n",
    "\n",
    "        ax.annotate(\n",
    "            label,\n",
    "            (x, y),\n",
    "            ha=\"center\",\n",
    "            va=\"center\",\n",
    "            size=12,\n",
    "            xytext=(0, 5),\n",
    "            textcoords=\"offset points\",\n",
    "        )  # annotate the percentage\n",
    "\n",
    "    plt.show()  # show the plot"
   ]
  },
  {
   "cell_type": "code",
   "execution_count": 51,
   "metadata": {
    "id": "_ZpscfWawRuj"
   },
   "outputs": [],
   "source": [
    "# function to plot stacked bar chart\n",
    "def stacked_barplot(data, predictor, target):\n",
    "    \"\"\"\n",
    "    Print the category counts and plot a stacked bar chart\n",
    "\n",
    "    data: dataframe\n",
    "    predictor: independent variable\n",
    "    target: target variable\n",
    "    \"\"\"\n",
    "    count = data[predictor].nunique()\n",
    "    sorter = data[target].value_counts().index[-1]\n",
    "    tab1 = pd.crosstab(data[predictor], data[target], margins=True).sort_values(\n",
    "        by=sorter, ascending=False\n",
    "    )\n",
    "    print(tab1)\n",
    "    print(\"-\" * 120)\n",
    "    tab = pd.crosstab(data[predictor], data[target], normalize=\"index\").sort_values(\n",
    "        by=sorter, ascending=False\n",
    "    )\n",
    "    tab.plot(kind=\"bar\", stacked=True, figsize=(count + 5, 6))\n",
    "    plt.legend(\n",
    "        loc=\"lower left\", frameon=False,\n",
    "    )\n",
    "    plt.legend(loc=\"upper left\", bbox_to_anchor=(1, 1))\n",
    "    plt.show()"
   ]
  },
  {
   "cell_type": "markdown",
   "metadata": {
    "id": "ogzvNXp5wRuk"
   },
   "source": [
    "### Note: The EDA section has been covered multiple times in the previous case studies. In this case study we will mainly focus on the model building aspect. So here we will look at the key observations from the EDA only. If you want to check out the detailed EDA, you can refer [here](#appendix)."
   ]
  },
  {
   "cell_type": "markdown",
   "metadata": {
    "id": "Axpm_S49wRul"
   },
   "source": [
    "<a id='eda'></a>\n",
    "### <a id='link1'>Executive Summary of EDA</a>\n",
    "**Data Description:**\n",
    "\n",
    "- There are 125 duplicate values in the dataset, which were dropped.\n",
    "- There are no missing values in the data.\n",
    "- Most of the data-types are either **int64** or **float64**.\n",
    "- 2 columns - Month and VisitorType are having data-types as an **object**, this means we need to convert these into suitable data-type before we feed our data into the model.\n",
    "- The two columns: \"Weekend\" and \"Revenue\", are of **bool** data-type."
   ]
  },
  {
   "cell_type": "markdown",
   "metadata": {
    "id": "OkM4nlUuwRum"
   },
   "source": [
    "### Observations from EDA"
   ]
  },
  {
   "cell_type": "markdown",
   "metadata": {
    "id": "dFXYnAmVwRun"
   },
   "source": [
    "**Insights from Categorical data**"
   ]
  },
  {
   "cell_type": "code",
   "execution_count": 52,
   "metadata": {
    "colab": {
     "base_uri": "https://localhost:8080/"
    },
    "id": "7L8cPLOywRuo",
    "outputId": "f29d707d-8df8-4598-d291-ed3bdd14c0be"
   },
   "outputs": [
    {
     "name": "stdout",
     "output_type": "stream",
     "text": [
      "Unique values in Month are :\n",
      "May     3329\n",
      "Nov     2982\n",
      "Mar     1860\n",
      "Dec     1706\n",
      "Oct      549\n",
      "Sep      448\n",
      "Aug      433\n",
      "Jul      432\n",
      "June     285\n",
      "Feb      181\n",
      "Name: Month, dtype: int64\n",
      "**************************************************\n",
      "May     0.272757\n",
      "Nov     0.244326\n",
      "Mar     0.152397\n",
      "Dec     0.139779\n",
      "Oct     0.044982\n",
      "Sep     0.036706\n",
      "Aug     0.035477\n",
      "Jul     0.035395\n",
      "June    0.023351\n",
      "Feb     0.014830\n",
      "Name: Month, dtype: float64\n",
      "**************************************************\n",
      "Unique values in VisitorType are :\n",
      "Returning_Visitor    10431\n",
      "New_Visitor           1693\n",
      "Other                   81\n",
      "Name: VisitorType, dtype: int64\n",
      "**************************************************\n",
      "Returning_Visitor    0.854650\n",
      "New_Visitor          0.138714\n",
      "Other                0.006637\n",
      "Name: VisitorType, dtype: float64\n",
      "**************************************************\n"
     ]
    }
   ],
   "source": [
    "# Checking value counts of categorical variables\n",
    "for i in cat_cols:\n",
    "    print(\"Unique values in\", i, \"are :\")\n",
    "    print(data[i].value_counts())\n",
    "    print(\"*\" * 50)\n",
    "    print(data[i].value_counts(1))\n",
    "    print(\"*\" * 50)"
   ]
  },
  {
   "cell_type": "markdown",
   "metadata": {
    "id": "XdEwYRqWwRup"
   },
   "source": [
    "*  `Month`: 27.3% of the users visited the website in the month of May followed by November with 24.4% of traffic. November and May are the months with largest contributions in the revenue. There are lesser sessions in November as compared to May but more conversions.\n",
    "* `VisitorType`: 85.5% of the customer are returning customers, indicating the website has a loyal base of customers. During these 10 months website also saw 13.9% of the customers visiting the website. Returning customers are the largest contributors to the revenue but interestingly New visitors end up having more conversion sessions."
   ]
  },
  {
   "cell_type": "markdown",
   "metadata": {
    "id": "xY9NRyo6wRuq"
   },
   "source": [
    "**Insights from numeric data**"
   ]
  },
  {
   "cell_type": "code",
   "execution_count": 53,
   "metadata": {
    "colab": {
     "base_uri": "https://localhost:8080/",
     "height": 488
    },
    "id": "ifQzjdSrwRur",
    "outputId": "e0d1105d-5743-4db4-a306-f1842b98ae48"
   },
   "outputs": [
    {
     "data": {
      "text/html": [
       "<div>\n",
       "<style scoped>\n",
       "    .dataframe tbody tr th:only-of-type {\n",
       "        vertical-align: middle;\n",
       "    }\n",
       "\n",
       "    .dataframe tbody tr th {\n",
       "        vertical-align: top;\n",
       "    }\n",
       "\n",
       "    .dataframe thead th {\n",
       "        text-align: right;\n",
       "    }\n",
       "</style>\n",
       "<table border=\"1\" class=\"dataframe\">\n",
       "  <thead>\n",
       "    <tr style=\"text-align: right;\">\n",
       "      <th></th>\n",
       "      <th>count</th>\n",
       "      <th>mean</th>\n",
       "      <th>std</th>\n",
       "      <th>min</th>\n",
       "      <th>25%</th>\n",
       "      <th>50%</th>\n",
       "      <th>75%</th>\n",
       "      <th>max</th>\n",
       "    </tr>\n",
       "  </thead>\n",
       "  <tbody>\n",
       "    <tr>\n",
       "      <th>Administrative</th>\n",
       "      <td>12205.0</td>\n",
       "      <td>2.338878</td>\n",
       "      <td>3.330436</td>\n",
       "      <td>0.0</td>\n",
       "      <td>0.000000</td>\n",
       "      <td>1.000000</td>\n",
       "      <td>4.000000</td>\n",
       "      <td>27.000000</td>\n",
       "    </tr>\n",
       "    <tr>\n",
       "      <th>Administrative_Duration</th>\n",
       "      <td>12205.0</td>\n",
       "      <td>81.646331</td>\n",
       "      <td>177.491845</td>\n",
       "      <td>0.0</td>\n",
       "      <td>0.000000</td>\n",
       "      <td>9.000000</td>\n",
       "      <td>94.700000</td>\n",
       "      <td>3398.750000</td>\n",
       "    </tr>\n",
       "    <tr>\n",
       "      <th>Informational</th>\n",
       "      <td>12205.0</td>\n",
       "      <td>0.508726</td>\n",
       "      <td>1.275617</td>\n",
       "      <td>0.0</td>\n",
       "      <td>0.000000</td>\n",
       "      <td>0.000000</td>\n",
       "      <td>0.000000</td>\n",
       "      <td>24.000000</td>\n",
       "    </tr>\n",
       "    <tr>\n",
       "      <th>Informational_Duration</th>\n",
       "      <td>12205.0</td>\n",
       "      <td>34.825454</td>\n",
       "      <td>141.424807</td>\n",
       "      <td>0.0</td>\n",
       "      <td>0.000000</td>\n",
       "      <td>0.000000</td>\n",
       "      <td>0.000000</td>\n",
       "      <td>2549.375000</td>\n",
       "    </tr>\n",
       "    <tr>\n",
       "      <th>ProductRelated</th>\n",
       "      <td>12205.0</td>\n",
       "      <td>32.045637</td>\n",
       "      <td>44.593649</td>\n",
       "      <td>0.0</td>\n",
       "      <td>8.000000</td>\n",
       "      <td>18.000000</td>\n",
       "      <td>38.000000</td>\n",
       "      <td>705.000000</td>\n",
       "    </tr>\n",
       "    <tr>\n",
       "      <th>ProductRelated_Duration</th>\n",
       "      <td>12205.0</td>\n",
       "      <td>1206.982457</td>\n",
       "      <td>1919.601400</td>\n",
       "      <td>0.0</td>\n",
       "      <td>193.000000</td>\n",
       "      <td>608.942857</td>\n",
       "      <td>1477.154762</td>\n",
       "      <td>63973.522230</td>\n",
       "    </tr>\n",
       "    <tr>\n",
       "      <th>BounceRates</th>\n",
       "      <td>12205.0</td>\n",
       "      <td>0.020370</td>\n",
       "      <td>0.045255</td>\n",
       "      <td>0.0</td>\n",
       "      <td>0.000000</td>\n",
       "      <td>0.002899</td>\n",
       "      <td>0.016667</td>\n",
       "      <td>0.200000</td>\n",
       "    </tr>\n",
       "    <tr>\n",
       "      <th>ExitRates</th>\n",
       "      <td>12205.0</td>\n",
       "      <td>0.041466</td>\n",
       "      <td>0.046163</td>\n",
       "      <td>0.0</td>\n",
       "      <td>0.014231</td>\n",
       "      <td>0.025000</td>\n",
       "      <td>0.048529</td>\n",
       "      <td>0.200000</td>\n",
       "    </tr>\n",
       "    <tr>\n",
       "      <th>PageValues</th>\n",
       "      <td>12205.0</td>\n",
       "      <td>5.949574</td>\n",
       "      <td>18.653671</td>\n",
       "      <td>0.0</td>\n",
       "      <td>0.000000</td>\n",
       "      <td>0.000000</td>\n",
       "      <td>0.000000</td>\n",
       "      <td>361.763742</td>\n",
       "    </tr>\n",
       "    <tr>\n",
       "      <th>SpecialDay</th>\n",
       "      <td>12205.0</td>\n",
       "      <td>0.061942</td>\n",
       "      <td>0.199666</td>\n",
       "      <td>0.0</td>\n",
       "      <td>0.000000</td>\n",
       "      <td>0.000000</td>\n",
       "      <td>0.000000</td>\n",
       "      <td>1.000000</td>\n",
       "    </tr>\n",
       "    <tr>\n",
       "      <th>OperatingSystems</th>\n",
       "      <td>12205.0</td>\n",
       "      <td>2.124211</td>\n",
       "      <td>0.906823</td>\n",
       "      <td>1.0</td>\n",
       "      <td>2.000000</td>\n",
       "      <td>2.000000</td>\n",
       "      <td>3.000000</td>\n",
       "      <td>8.000000</td>\n",
       "    </tr>\n",
       "    <tr>\n",
       "      <th>Browser</th>\n",
       "      <td>12205.0</td>\n",
       "      <td>2.357804</td>\n",
       "      <td>1.710114</td>\n",
       "      <td>1.0</td>\n",
       "      <td>2.000000</td>\n",
       "      <td>2.000000</td>\n",
       "      <td>2.000000</td>\n",
       "      <td>13.000000</td>\n",
       "    </tr>\n",
       "    <tr>\n",
       "      <th>Region</th>\n",
       "      <td>12205.0</td>\n",
       "      <td>3.153298</td>\n",
       "      <td>2.402340</td>\n",
       "      <td>1.0</td>\n",
       "      <td>1.000000</td>\n",
       "      <td>3.000000</td>\n",
       "      <td>4.000000</td>\n",
       "      <td>9.000000</td>\n",
       "    </tr>\n",
       "    <tr>\n",
       "      <th>TrafficType</th>\n",
       "      <td>12205.0</td>\n",
       "      <td>4.073904</td>\n",
       "      <td>4.016654</td>\n",
       "      <td>1.0</td>\n",
       "      <td>2.000000</td>\n",
       "      <td>2.000000</td>\n",
       "      <td>4.000000</td>\n",
       "      <td>20.000000</td>\n",
       "    </tr>\n",
       "  </tbody>\n",
       "</table>\n",
       "</div>"
      ],
      "text/plain": [
       "                           count         mean          std  min         25%  \\\n",
       "Administrative           12205.0     2.338878     3.330436  0.0    0.000000   \n",
       "Administrative_Duration  12205.0    81.646331   177.491845  0.0    0.000000   \n",
       "Informational            12205.0     0.508726     1.275617  0.0    0.000000   \n",
       "Informational_Duration   12205.0    34.825454   141.424807  0.0    0.000000   \n",
       "ProductRelated           12205.0    32.045637    44.593649  0.0    8.000000   \n",
       "ProductRelated_Duration  12205.0  1206.982457  1919.601400  0.0  193.000000   \n",
       "BounceRates              12205.0     0.020370     0.045255  0.0    0.000000   \n",
       "ExitRates                12205.0     0.041466     0.046163  0.0    0.014231   \n",
       "PageValues               12205.0     5.949574    18.653671  0.0    0.000000   \n",
       "SpecialDay               12205.0     0.061942     0.199666  0.0    0.000000   \n",
       "OperatingSystems         12205.0     2.124211     0.906823  1.0    2.000000   \n",
       "Browser                  12205.0     2.357804     1.710114  1.0    2.000000   \n",
       "Region                   12205.0     3.153298     2.402340  1.0    1.000000   \n",
       "TrafficType              12205.0     4.073904     4.016654  1.0    2.000000   \n",
       "\n",
       "                                50%          75%           max  \n",
       "Administrative             1.000000     4.000000     27.000000  \n",
       "Administrative_Duration    9.000000    94.700000   3398.750000  \n",
       "Informational              0.000000     0.000000     24.000000  \n",
       "Informational_Duration     0.000000     0.000000   2549.375000  \n",
       "ProductRelated            18.000000    38.000000    705.000000  \n",
       "ProductRelated_Duration  608.942857  1477.154762  63973.522230  \n",
       "BounceRates                0.002899     0.016667      0.200000  \n",
       "ExitRates                  0.025000     0.048529      0.200000  \n",
       "PageValues                 0.000000     0.000000    361.763742  \n",
       "SpecialDay                 0.000000     0.000000      1.000000  \n",
       "OperatingSystems           2.000000     3.000000      8.000000  \n",
       "Browser                    2.000000     2.000000     13.000000  \n",
       "Region                     3.000000     4.000000      9.000000  \n",
       "TrafficType                2.000000     4.000000     20.000000  "
      ]
     },
     "execution_count": 53,
     "metadata": {},
     "output_type": "execute_result"
    }
   ],
   "source": [
    "# Summary of numeric data\n",
    "data.describe().T"
   ]
  },
  {
   "cell_type": "markdown",
   "metadata": {
    "id": "sHMN8DriwRus"
   },
   "source": [
    "* `Administrative` and `Administrative_Duration`: 46.2% of the customers have not visited the administrative page. From the boxplot of Administrative_Duration we can see that the third quartile(Q3) is equal to 94 which means 75% of customers stay less than 94 seconds on Administrative pages in a session.\n",
    "* `Informational` and `Informational_Duration`: * 78.4% of the customers have not visited the Informational page. On average customers have spent 35 seconds on the informational page.\n",
    "* `ProductRelated`and `ProductRelated_Duration`: Only 0.3% of customers have not visited the product related pages. From the boxplot pf ProductRelated we can see that the third quartile(Q3) is equal to 38 which means 75% of customers have visited less than 38 pages and on average a customer visits 32 pages. On average customers have spent 1206 seconds (~20 minutes) on the ProductRelated page which is way more than the administrative page and informational page.\n",
    "* `PageValues`: On average the customers visit 6 pages before finally landing on the transaction page. Higher PageValue contributes to more revenue.\n",
    "* `Special Day`: Th SpecialDays suggests that most customers have visited the website on days which were not close to a special occasion.\n",
    "* `Operating System`: * The Operating systems shows most of the customers accessed the website using 2nd operating system.\n",
    "* `Browser` : Most of the customers accessed the website using 2nd browser.\n"
   ]
  },
  {
   "cell_type": "markdown",
   "metadata": {
    "id": "TYJ_UHouwRut"
   },
   "source": [
    "**Bivariate Analysis**\n",
    "\n"
   ]
  },
  {
   "cell_type": "markdown",
   "metadata": {
    "id": "TAAQYvRvwRuu"
   },
   "source": [
    "* `Revenue vs PageValues:`"
   ]
  },
  {
   "cell_type": "code",
   "execution_count": 54,
   "metadata": {
    "colab": {
     "base_uri": "https://localhost:8080/",
     "height": 465
    },
    "id": "MWsdqmlSwRuu",
    "outputId": "a8cc72ac-1475-4fc4-d386-f72e03c84564"
   },
   "outputs": [
    {
     "data": {
      "image/png": "[encoded data removed]",
      "text/plain": [
       "<Figure size 1000x500 with 1 Axes>"
      ]
     },
     "metadata": {},
     "output_type": "display_data"
    }
   ],
   "source": [
    "plt.figure(figsize=(10, 5))\n",
    "sns.boxplot(x = data[\"Revenue\"], y = data[\"PageValues\"])\n",
    "plt.show()"
   ]
  },
  {
   "cell_type": "markdown",
   "metadata": {
    "id": "gmp8xcS8wRuw"
   },
   "source": [
    "* Higher PageValues means higher contribution to revenue."
   ]
  },
  {
   "cell_type": "markdown",
   "metadata": {
    "id": "2YOgBFkFwRux"
   },
   "source": [
    "* `Revenue vs VisitorType:`"
   ]
  },
  {
   "cell_type": "code",
   "execution_count": 55,
   "metadata": {
    "colab": {
     "base_uri": "https://localhost:8080/",
     "height": 788
    },
    "id": "Wpr7rtABwRuy",
    "outputId": "d47308b4-7b93-4100-aede-89367bb91cd7"
   },
   "outputs": [
    {
     "name": "stdout",
     "output_type": "stream",
     "text": [
      "Revenue            False  True    All\n",
      "VisitorType                          \n",
      "All                10297  1908  12205\n",
      "Returning_Visitor   8961  1470  10431\n",
      "New_Visitor         1271   422   1693\n",
      "Other                 65    16     81\n",
      "------------------------------------------------------------------------------------------------------------------------\n"
     ]
    },
    {
     "data": {
      "image/png": "[encoded data removed]",
      "text/plain": [
       "<Figure size 800x600 with 1 Axes>"
      ]
     },
     "metadata": {},
     "output_type": "display_data"
    }
   ],
   "source": [
    "stacked_barplot(data, \"VisitorType\", \"Revenue\")"
   ]
  },
  {
   "cell_type": "markdown",
   "metadata": {
    "id": "gL7c4YJ6wRuz"
   },
   "source": [
    "* Returning customers are the largest contributors to the revenue but interestingly New visitors end up having more conversion sessions."
   ]
  },
  {
   "cell_type": "markdown",
   "metadata": {
    "id": "A44umojgwRu0"
   },
   "source": [
    "* `Revenue vs Special Day`:"
   ]
  },
  {
   "cell_type": "code",
   "execution_count": 21,
   "metadata": {
    "colab": {
     "base_uri": "https://localhost:8080/",
     "height": 690
    },
    "id": "ZDHS8tNYwRu0",
    "outputId": "e206d260-2cac-44b6-f805-ee7bfdc66e8b"
   },
   "outputs": [
    {
     "name": "stdout",
     "output_type": "stream",
     "text": [
      "Revenue     False  True    All\n",
      "SpecialDay                    \n",
      "All         10297  1908  12205\n",
      "0.0          9125  1831  10956\n",
      "0.6           321    29    350\n",
      "0.2           164    14    178\n",
      "0.4           230    13    243\n",
      "0.8           313    11    324\n",
      "1.0           144    10    154\n",
      "------------------------------------------------------------------------------------------------------------------------\n"
     ]
    },
    {
     "data": {
      "image/png": "[encoded data removed]",
      "text/plain": [
       "<Figure size 1100x600 with 1 Axes>"
      ]
     },
     "metadata": {},
     "output_type": "display_data"
    }
   ],
   "source": [
    "stacked_barplot(data, \"SpecialDay\", \"Revenue\")"
   ]
  },
  {
   "cell_type": "code",
   "execution_count": 22,
   "metadata": {
    "colab": {
     "base_uri": "https://localhost:8080/"
    },
    "id": "lqyrJKw1wRu1",
    "outputId": "4866e95b-89ab-40a7-d7ed-b5b40f1c582b"
   },
   "outputs": [
    {
     "data": {
      "text/plain": [
       "Month  SpecialDay\n",
       "Aug    0.0            76\n",
       "Dec    0.0           216\n",
       "Feb    0.0             1\n",
       "       0.8             1\n",
       "       1.0             1\n",
       "Jul    0.0            66\n",
       "June   0.0            29\n",
       "Mar    0.0           192\n",
       "May    0.0           290\n",
       "       0.2            14\n",
       "       0.4            13\n",
       "       0.6            29\n",
       "       0.8            10\n",
       "       1.0             9\n",
       "Nov    0.0           760\n",
       "Oct    0.0           115\n",
       "Sep    0.0            86\n",
       "Name: Revenue, dtype: int64"
      ]
     },
     "execution_count": 22,
     "metadata": {},
     "output_type": "execute_result"
    }
   ],
   "source": [
    "revenue_data = data[data[\"Revenue\"] == True]\n",
    "revenue_data.groupby([\"Month\", \"SpecialDay\"])[\"Revenue\"].count()"
   ]
  },
  {
   "cell_type": "markdown",
   "metadata": {
    "id": "OX7xfdZnwRu3"
   },
   "source": [
    "* `Revenue vs Different Pages`:\n",
    "    * Customers who have visited Administrative, Informational and ProductRelated pages more times contribute to the revenue as compared to the one's who visited less pages.\n",
    "    * Those customers who spend more time on the Administrative, Informational and ProductRelated pages help in generating the revenue.\n",
    "    * There is clear distinction between the customers - visiting more pages and spending more time on pages contributes to the revenue."
   ]
  },
  {
   "cell_type": "code",
   "execution_count": 23,
   "metadata": {
    "colab": {
     "base_uri": "https://localhost:8080/",
     "height": 537
    },
    "id": "139PwD2ewRu4",
    "outputId": "3ff43b0b-88c2-403f-a306-0037401f509f"
   },
   "outputs": [
    {
     "data": {
      "image/png": "[encoded data removed]",
      "text/plain": [
       "<Figure size 1200x700 with 6 Axes>"
      ]
     },
     "metadata": {},
     "output_type": "display_data"
    }
   ],
   "source": [
    "cols = data[\n",
    "    [\n",
    "        \"Administrative\",\n",
    "        \"Administrative_Duration\",\n",
    "        \"Informational\",\n",
    "        \"Informational_Duration\",\n",
    "        \"ProductRelated\",\n",
    "        \"ProductRelated_Duration\",\n",
    "    ]\n",
    "].columns.tolist()\n",
    "plt.figure(figsize=(12, 7))\n",
    "\n",
    "for i, variable in enumerate(cols):\n",
    "    plt.subplot(3, 2, i + 1)\n",
    "    sns.boxplot(x = data[\"Revenue\"], y = data[variable], palette=\"PuBu\", showfliers=False)\n",
    "    plt.tight_layout()\n",
    "    plt.title(variable)\n",
    "plt.show()"
   ]
  },
  {
   "cell_type": "markdown",
   "metadata": {
    "id": "UfiNfXC9wRu5"
   },
   "source": [
    "* Customers leaving the website without triggering any response on server(definition of bounce rate) wouldn't be contributing to the revenue, which makes sense."
   ]
  },
  {
   "cell_type": "code",
   "execution_count": 24,
   "metadata": {
    "colab": {
     "base_uri": "https://localhost:8080/",
     "height": 461
    },
    "id": "dZJtSdvcwRu6",
    "outputId": "a878bc26-434b-4298-c457-8bf391b2c1db"
   },
   "outputs": [
    {
     "data": {
      "image/png": "[encoded data removed]",
      "text/plain": [
       "<Figure size 1000x500 with 2 Axes>"
      ]
     },
     "metadata": {},
     "output_type": "display_data"
    }
   ],
   "source": [
    "cols = data[['BounceRates','ExitRates']].columns.tolist()\n",
    "plt.figure(figsize=(10,5))\n",
    "\n",
    "for i, variable in enumerate(cols):\n",
    "                     plt.subplot(1,2,i+1)\n",
    "                     sns.boxplot(x = data[\"Revenue\"], y = data[variable],palette=\"PuBu\")\n",
    "                     plt.tight_layout()\n",
    "                     plt.title(variable)\n",
    "plt.show()\n"
   ]
  },
  {
   "cell_type": "markdown",
   "metadata": {
    "id": "g3PLY5PJwRu8"
   },
   "source": [
    "* Customer-Level Analysis\n",
    "* New visitors who have visited more administrative pages and spent more time on them have not contributed to the revenue - This indicates that the administrative pages need to be user friendly and simplified.\n",
    "* Returning customers visiting informational pages have contributed to revenue - The informational pages are doing well to provide customers with all the required information.\n",
    "* ProductRelated pages are doing a fair job.\n",
    "* November and December saw most new customers, but the proportion of new customers to returning customers is highest in October and September."
   ]
  },
  {
   "cell_type": "code",
   "execution_count": 25,
   "metadata": {
    "colab": {
     "base_uri": "https://localhost:8080/",
     "height": 602
    },
    "id": "OPrsdZAfwRu9",
    "outputId": "14fbd85f-d4e0-458c-ec28-c55902d22e26"
   },
   "outputs": [
    {
     "data": {
      "image/png": "[encoded data removed]",
      "text/plain": [
       "<Figure size 1200x1000 with 6 Axes>"
      ]
     },
     "metadata": {},
     "output_type": "display_data"
    }
   ],
   "source": [
    "cols = data[\n",
    "    [\n",
    "        \"Administrative\",\n",
    "        \"Administrative_Duration\",\n",
    "        \"Informational\",\n",
    "        \"Informational_Duration\",\n",
    "        \"ProductRelated\",\n",
    "        \"ProductRelated_Duration\",\n",
    "    ]\n",
    "].columns.tolist()\n",
    "plt.figure(figsize=(12, 10))\n",
    "\n",
    "for i, variable in enumerate(cols):\n",
    "    plt.subplot(4, 2, i + 1)\n",
    "    sns.boxplot(\n",
    "        x = data[\"VisitorType\"],\n",
    "        y = data[variable],\n",
    "        hue=data[\"Revenue\"],\n",
    "        palette=\"PuBu\",\n",
    "        showfliers=False,  # turning-off outliers\n",
    "    )\n",
    "    plt.tight_layout()\n",
    "    plt.legend(loc=\"upper left\", bbox_to_anchor=(1, 1))\n",
    "    plt.title(variable)\n",
    "plt.show()"
   ]
  },
  {
   "cell_type": "markdown",
   "metadata": {
    "id": "oGoM7dqAwRu-"
   },
   "source": [
    "<a id='data_preparation'></a>\n",
    "### Actions for data preparation:\n",
    "\n",
    "* PageValues column has information related to the transaction activity of a customer and would create a bias in model if used in prediction. So, we will drop it."
   ]
  },
  {
   "cell_type": "markdown",
   "metadata": {
    "id": "zRRadkavwRu_"
   },
   "source": [
    "### Data Preparation"
   ]
  },
  {
   "cell_type": "code",
   "execution_count": 26,
   "metadata": {
    "id": "_1Z9x7KmwRvE"
   },
   "outputs": [],
   "source": [
    "# dropping PageValues\n",
    "data = data.drop([\"PageValues\"], axis=1)"
   ]
  },
  {
   "cell_type": "code",
   "execution_count": 27,
   "metadata": {
    "colab": {
     "base_uri": "https://localhost:8080/",
     "height": 226
    },
    "id": "frFuz-sRTr0b",
    "outputId": "42b88784-3409-4273-90f2-a569bda400e7"
   },
   "outputs": [
    {
     "data": {
      "text/html": [
       "<div>\n",
       "<style scoped>\n",
       "    .dataframe tbody tr th:only-of-type {\n",
       "        vertical-align: middle;\n",
       "    }\n",
       "\n",
       "    .dataframe tbody tr th {\n",
       "        vertical-align: top;\n",
       "    }\n",
       "\n",
       "    .dataframe thead th {\n",
       "        text-align: right;\n",
       "    }\n",
       "</style>\n",
       "<table border=\"1\" class=\"dataframe\">\n",
       "  <thead>\n",
       "    <tr style=\"text-align: right;\">\n",
       "      <th></th>\n",
       "      <th>Administrative</th>\n",
       "      <th>Administrative_Duration</th>\n",
       "      <th>Informational</th>\n",
       "      <th>Informational_Duration</th>\n",
       "      <th>ProductRelated</th>\n",
       "      <th>ProductRelated_Duration</th>\n",
       "      <th>BounceRates</th>\n",
       "      <th>ExitRates</th>\n",
       "      <th>TrafficType</th>\n",
       "      <th>Revenue</th>\n",
       "      <th>Month_Dec</th>\n",
       "      <th>Month_Feb</th>\n",
       "      <th>Month_Jul</th>\n",
       "      <th>Month_June</th>\n",
       "      <th>Month_Mar</th>\n",
       "      <th>Month_May</th>\n",
       "      <th>Month_Nov</th>\n",
       "      <th>Month_Oct</th>\n",
       "      <th>Month_Sep</th>\n",
       "      <th>VisitorType_Other</th>\n",
       "      <th>VisitorType_Returning_Visitor</th>\n",
       "      <th>Weekend_True</th>\n",
       "      <th>Region_2</th>\n",
       "      <th>Region_3</th>\n",
       "      <th>Region_4</th>\n",
       "      <th>Region_5</th>\n",
       "      <th>Region_6</th>\n",
       "      <th>Region_7</th>\n",
       "      <th>Region_8</th>\n",
       "      <th>Region_9</th>\n",
       "      <th>Browser_2</th>\n",
       "      <th>Browser_3</th>\n",
       "      <th>Browser_4</th>\n",
       "      <th>Browser_5</th>\n",
       "      <th>Browser_6</th>\n",
       "      <th>Browser_7</th>\n",
       "      <th>Browser_8</th>\n",
       "      <th>Browser_9</th>\n",
       "      <th>Browser_10</th>\n",
       "      <th>Browser_11</th>\n",
       "      <th>Browser_12</th>\n",
       "      <th>Browser_13</th>\n",
       "      <th>OperatingSystems_2</th>\n",
       "      <th>OperatingSystems_3</th>\n",
       "      <th>OperatingSystems_4</th>\n",
       "      <th>OperatingSystems_5</th>\n",
       "      <th>OperatingSystems_6</th>\n",
       "      <th>OperatingSystems_7</th>\n",
       "      <th>OperatingSystems_8</th>\n",
       "      <th>SpecialDay_0.2</th>\n",
       "      <th>SpecialDay_0.4</th>\n",
       "      <th>SpecialDay_0.6</th>\n",
       "      <th>SpecialDay_0.8</th>\n",
       "      <th>SpecialDay_1.0</th>\n",
       "    </tr>\n",
       "  </thead>\n",
       "  <tbody>\n",
       "    <tr>\n",
       "      <th>0</th>\n",
       "      <td>0</td>\n",
       "      <td>0.0</td>\n",
       "      <td>0</td>\n",
       "      <td>0.0</td>\n",
       "      <td>1</td>\n",
       "      <td>0.000000</td>\n",
       "      <td>0.20</td>\n",
       "      <td>0.20</td>\n",
       "      <td>1</td>\n",
       "      <td>False</td>\n",
       "      <td>0</td>\n",
       "      <td>1</td>\n",
       "      <td>0</td>\n",
       "      <td>0</td>\n",
       "      <td>0</td>\n",
       "      <td>0</td>\n",
       "      <td>0</td>\n",
       "      <td>0</td>\n",
       "      <td>0</td>\n",
       "      <td>0</td>\n",
       "      <td>1</td>\n",
       "      <td>0</td>\n",
       "      <td>0</td>\n",
       "      <td>0</td>\n",
       "      <td>0</td>\n",
       "      <td>0</td>\n",
       "      <td>0</td>\n",
       "      <td>0</td>\n",
       "      <td>0</td>\n",
       "      <td>0</td>\n",
       "      <td>0</td>\n",
       "      <td>0</td>\n",
       "      <td>0</td>\n",
       "      <td>0</td>\n",
       "      <td>0</td>\n",
       "      <td>0</td>\n",
       "      <td>0</td>\n",
       "      <td>0</td>\n",
       "      <td>0</td>\n",
       "      <td>0</td>\n",
       "      <td>0</td>\n",
       "      <td>0</td>\n",
       "      <td>0</td>\n",
       "      <td>0</td>\n",
       "      <td>0</td>\n",
       "      <td>0</td>\n",
       "      <td>0</td>\n",
       "      <td>0</td>\n",
       "      <td>0</td>\n",
       "      <td>0</td>\n",
       "      <td>0</td>\n",
       "      <td>0</td>\n",
       "      <td>0</td>\n",
       "      <td>0</td>\n",
       "    </tr>\n",
       "    <tr>\n",
       "      <th>1</th>\n",
       "      <td>0</td>\n",
       "      <td>0.0</td>\n",
       "      <td>0</td>\n",
       "      <td>0.0</td>\n",
       "      <td>2</td>\n",
       "      <td>64.000000</td>\n",
       "      <td>0.00</td>\n",
       "      <td>0.10</td>\n",
       "      <td>2</td>\n",
       "      <td>False</td>\n",
       "      <td>0</td>\n",
       "      <td>1</td>\n",
       "      <td>0</td>\n",
       "      <td>0</td>\n",
       "      <td>0</td>\n",
       "      <td>0</td>\n",
       "      <td>0</td>\n",
       "      <td>0</td>\n",
       "      <td>0</td>\n",
       "      <td>0</td>\n",
       "      <td>1</td>\n",
       "      <td>0</td>\n",
       "      <td>0</td>\n",
       "      <td>0</td>\n",
       "      <td>0</td>\n",
       "      <td>0</td>\n",
       "      <td>0</td>\n",
       "      <td>0</td>\n",
       "      <td>0</td>\n",
       "      <td>0</td>\n",
       "      <td>1</td>\n",
       "      <td>0</td>\n",
       "      <td>0</td>\n",
       "      <td>0</td>\n",
       "      <td>0</td>\n",
       "      <td>0</td>\n",
       "      <td>0</td>\n",
       "      <td>0</td>\n",
       "      <td>0</td>\n",
       "      <td>0</td>\n",
       "      <td>0</td>\n",
       "      <td>0</td>\n",
       "      <td>1</td>\n",
       "      <td>0</td>\n",
       "      <td>0</td>\n",
       "      <td>0</td>\n",
       "      <td>0</td>\n",
       "      <td>0</td>\n",
       "      <td>0</td>\n",
       "      <td>0</td>\n",
       "      <td>0</td>\n",
       "      <td>0</td>\n",
       "      <td>0</td>\n",
       "      <td>0</td>\n",
       "    </tr>\n",
       "    <tr>\n",
       "      <th>2</th>\n",
       "      <td>0</td>\n",
       "      <td>0.0</td>\n",
       "      <td>0</td>\n",
       "      <td>0.0</td>\n",
       "      <td>1</td>\n",
       "      <td>0.000000</td>\n",
       "      <td>0.20</td>\n",
       "      <td>0.20</td>\n",
       "      <td>3</td>\n",
       "      <td>False</td>\n",
       "      <td>0</td>\n",
       "      <td>1</td>\n",
       "      <td>0</td>\n",
       "      <td>0</td>\n",
       "      <td>0</td>\n",
       "      <td>0</td>\n",
       "      <td>0</td>\n",
       "      <td>0</td>\n",
       "      <td>0</td>\n",
       "      <td>0</td>\n",
       "      <td>1</td>\n",
       "      <td>0</td>\n",
       "      <td>0</td>\n",
       "      <td>0</td>\n",
       "      <td>0</td>\n",
       "      <td>0</td>\n",
       "      <td>0</td>\n",
       "      <td>0</td>\n",
       "      <td>0</td>\n",
       "      <td>1</td>\n",
       "      <td>0</td>\n",
       "      <td>0</td>\n",
       "      <td>0</td>\n",
       "      <td>0</td>\n",
       "      <td>0</td>\n",
       "      <td>0</td>\n",
       "      <td>0</td>\n",
       "      <td>0</td>\n",
       "      <td>0</td>\n",
       "      <td>0</td>\n",
       "      <td>0</td>\n",
       "      <td>0</td>\n",
       "      <td>0</td>\n",
       "      <td>0</td>\n",
       "      <td>1</td>\n",
       "      <td>0</td>\n",
       "      <td>0</td>\n",
       "      <td>0</td>\n",
       "      <td>0</td>\n",
       "      <td>0</td>\n",
       "      <td>0</td>\n",
       "      <td>0</td>\n",
       "      <td>0</td>\n",
       "      <td>0</td>\n",
       "    </tr>\n",
       "    <tr>\n",
       "      <th>3</th>\n",
       "      <td>0</td>\n",
       "      <td>0.0</td>\n",
       "      <td>0</td>\n",
       "      <td>0.0</td>\n",
       "      <td>2</td>\n",
       "      <td>2.666667</td>\n",
       "      <td>0.05</td>\n",
       "      <td>0.14</td>\n",
       "      <td>4</td>\n",
       "      <td>False</td>\n",
       "      <td>0</td>\n",
       "      <td>1</td>\n",
       "      <td>0</td>\n",
       "      <td>0</td>\n",
       "      <td>0</td>\n",
       "      <td>0</td>\n",
       "      <td>0</td>\n",
       "      <td>0</td>\n",
       "      <td>0</td>\n",
       "      <td>0</td>\n",
       "      <td>1</td>\n",
       "      <td>0</td>\n",
       "      <td>1</td>\n",
       "      <td>0</td>\n",
       "      <td>0</td>\n",
       "      <td>0</td>\n",
       "      <td>0</td>\n",
       "      <td>0</td>\n",
       "      <td>0</td>\n",
       "      <td>0</td>\n",
       "      <td>1</td>\n",
       "      <td>0</td>\n",
       "      <td>0</td>\n",
       "      <td>0</td>\n",
       "      <td>0</td>\n",
       "      <td>0</td>\n",
       "      <td>0</td>\n",
       "      <td>0</td>\n",
       "      <td>0</td>\n",
       "      <td>0</td>\n",
       "      <td>0</td>\n",
       "      <td>0</td>\n",
       "      <td>0</td>\n",
       "      <td>1</td>\n",
       "      <td>0</td>\n",
       "      <td>0</td>\n",
       "      <td>0</td>\n",
       "      <td>0</td>\n",
       "      <td>0</td>\n",
       "      <td>0</td>\n",
       "      <td>0</td>\n",
       "      <td>0</td>\n",
       "      <td>0</td>\n",
       "      <td>0</td>\n",
       "    </tr>\n",
       "    <tr>\n",
       "      <th>4</th>\n",
       "      <td>0</td>\n",
       "      <td>0.0</td>\n",
       "      <td>0</td>\n",
       "      <td>0.0</td>\n",
       "      <td>10</td>\n",
       "      <td>627.500000</td>\n",
       "      <td>0.02</td>\n",
       "      <td>0.05</td>\n",
       "      <td>4</td>\n",
       "      <td>False</td>\n",
       "      <td>0</td>\n",
       "      <td>1</td>\n",
       "      <td>0</td>\n",
       "      <td>0</td>\n",
       "      <td>0</td>\n",
       "      <td>0</td>\n",
       "      <td>0</td>\n",
       "      <td>0</td>\n",
       "      <td>0</td>\n",
       "      <td>0</td>\n",
       "      <td>1</td>\n",
       "      <td>1</td>\n",
       "      <td>0</td>\n",
       "      <td>0</td>\n",
       "      <td>0</td>\n",
       "      <td>0</td>\n",
       "      <td>0</td>\n",
       "      <td>0</td>\n",
       "      <td>0</td>\n",
       "      <td>0</td>\n",
       "      <td>0</td>\n",
       "      <td>1</td>\n",
       "      <td>0</td>\n",
       "      <td>0</td>\n",
       "      <td>0</td>\n",
       "      <td>0</td>\n",
       "      <td>0</td>\n",
       "      <td>0</td>\n",
       "      <td>0</td>\n",
       "      <td>0</td>\n",
       "      <td>0</td>\n",
       "      <td>0</td>\n",
       "      <td>0</td>\n",
       "      <td>1</td>\n",
       "      <td>0</td>\n",
       "      <td>0</td>\n",
       "      <td>0</td>\n",
       "      <td>0</td>\n",
       "      <td>0</td>\n",
       "      <td>0</td>\n",
       "      <td>0</td>\n",
       "      <td>0</td>\n",
       "      <td>0</td>\n",
       "      <td>0</td>\n",
       "    </tr>\n",
       "  </tbody>\n",
       "</table>\n",
       "</div>"
      ],
      "text/plain": [
       "   Administrative  Administrative_Duration  Informational  \\\n",
       "0               0                      0.0              0   \n",
       "1               0                      0.0              0   \n",
       "2               0                      0.0              0   \n",
       "3               0                      0.0              0   \n",
       "4               0                      0.0              0   \n",
       "\n",
       "   Informational_Duration  ProductRelated  ProductRelated_Duration  \\\n",
       "0                     0.0               1                 0.000000   \n",
       "1                     0.0               2                64.000000   \n",
       "2                     0.0               1                 0.000000   \n",
       "3                     0.0               2                 2.666667   \n",
       "4                     0.0              10               627.500000   \n",
       "\n",
       "   BounceRates  ExitRates  TrafficType  Revenue  Month_Dec  Month_Feb  \\\n",
       "0         0.20       0.20            1    False          0          1   \n",
       "1         0.00       0.10            2    False          0          1   \n",
       "2         0.20       0.20            3    False          0          1   \n",
       "3         0.05       0.14            4    False          0          1   \n",
       "4         0.02       0.05            4    False          0          1   \n",
       "\n",
       "   Month_Jul  Month_June  Month_Mar  Month_May  Month_Nov  Month_Oct  \\\n",
       "0          0           0          0          0          0          0   \n",
       "1          0           0          0          0          0          0   \n",
       "2          0           0          0          0          0          0   \n",
       "3          0           0          0          0          0          0   \n",
       "4          0           0          0          0          0          0   \n",
       "\n",
       "   Month_Sep  VisitorType_Other  VisitorType_Returning_Visitor  Weekend_True  \\\n",
       "0          0                  0                              1             0   \n",
       "1          0                  0                              1             0   \n",
       "2          0                  0                              1             0   \n",
       "3          0                  0                              1             0   \n",
       "4          0                  0                              1             1   \n",
       "\n",
       "   Region_2  Region_3  Region_4  Region_5  Region_6  Region_7  Region_8  \\\n",
       "0         0         0         0         0         0         0         0   \n",
       "1         0         0         0         0         0         0         0   \n",
       "2         0         0         0         0         0         0         0   \n",
       "3         1         0         0         0         0         0         0   \n",
       "4         0         0         0         0         0         0         0   \n",
       "\n",
       "   Region_9  Browser_2  Browser_3  Browser_4  Browser_5  Browser_6  Browser_7  \\\n",
       "0         0          0          0          0          0          0          0   \n",
       "1         0          1          0          0          0          0          0   \n",
       "2         1          0          0          0          0          0          0   \n",
       "3         0          1          0          0          0          0          0   \n",
       "4         0          0          1          0          0          0          0   \n",
       "\n",
       "   Browser_8  Browser_9  Browser_10  Browser_11  Browser_12  Browser_13  \\\n",
       "0          0          0           0           0           0           0   \n",
       "1          0          0           0           0           0           0   \n",
       "2          0          0           0           0           0           0   \n",
       "3          0          0           0           0           0           0   \n",
       "4          0          0           0           0           0           0   \n",
       "\n",
       "   OperatingSystems_2  OperatingSystems_3  OperatingSystems_4  \\\n",
       "0                   0                   0                   0   \n",
       "1                   1                   0                   0   \n",
       "2                   0                   0                   1   \n",
       "3                   0                   1                   0   \n",
       "4                   0                   1                   0   \n",
       "\n",
       "   OperatingSystems_5  OperatingSystems_6  OperatingSystems_7  \\\n",
       "0                   0                   0                   0   \n",
       "1                   0                   0                   0   \n",
       "2                   0                   0                   0   \n",
       "3                   0                   0                   0   \n",
       "4                   0                   0                   0   \n",
       "\n",
       "   OperatingSystems_8  SpecialDay_0.2  SpecialDay_0.4  SpecialDay_0.6  \\\n",
       "0                   0               0               0               0   \n",
       "1                   0               0               0               0   \n",
       "2                   0               0               0               0   \n",
       "3                   0               0               0               0   \n",
       "4                   0               0               0               0   \n",
       "\n",
       "   SpecialDay_0.8  SpecialDay_1.0  \n",
       "0               0               0  \n",
       "1               0               0  \n",
       "2               0               0  \n",
       "3               0               0  \n",
       "4               0               0  "
      ]
     },
     "execution_count": 27,
     "metadata": {},
     "output_type": "execute_result"
    }
   ],
   "source": [
    "# creating dummy varibles\n",
    "dummy_data = pd.get_dummies(\n",
    "    data,\n",
    "    columns=[\n",
    "        \"Month\",\n",
    "        \"VisitorType\",\n",
    "        \"Weekend\",\n",
    "        \"Region\",\n",
    "        \"Browser\",\n",
    "        \"OperatingSystems\",\n",
    "        \"SpecialDay\",\n",
    "    ],\n",
    "    drop_first=True,\n",
    ")\n",
    "dummy_data.head()"
   ]
  },
  {
   "cell_type": "markdown",
   "metadata": {
    "id": "0L-oAMItxLP-"
   },
   "source": [
    "## Split Data"
   ]
  },
  {
   "cell_type": "code",
   "execution_count": 28,
   "metadata": {
    "colab": {
     "base_uri": "https://localhost:8080/"
    },
    "id": "gyp-OtW3lYyU",
    "outputId": "e96fd518-3bf2-4f1b-b5c6-936151c83d54"
   },
   "outputs": [
    {
     "data": {
      "text/plain": [
       "False    0.843671\n",
       "True     0.156329\n",
       "Name: Revenue, dtype: float64"
      ]
     },
     "execution_count": 28,
     "metadata": {},
     "output_type": "execute_result"
    }
   ],
   "source": [
    "data[\"Revenue\"].value_counts(1)"
   ]
  },
  {
   "cell_type": "code",
   "execution_count": 29,
   "metadata": {
    "id": "RcvtsOOulKu4"
   },
   "outputs": [],
   "source": [
    "X = dummy_data.drop(\"Revenue\", axis=1)  # Features\n",
    "y = dummy_data[\"Revenue\"].astype(\"int64\")  # Labels (Target Variable)\n",
    "# converting target to integers - since some functions might not work with bool type"
   ]
  },
  {
   "cell_type": "code",
   "execution_count": 30,
   "metadata": {
    "colab": {
     "base_uri": "https://localhost:8080/"
    },
    "id": "SRY__pCfwRvH",
    "outputId": "cb2bd3e1-32db-4286-cdf3-9780d3a22f4c"
   },
   "outputs": [
    {
     "name": "stdout",
     "output_type": "stream",
     "text": [
      "(8543, 53) (3662, 53)\n"
     ]
    }
   ],
   "source": [
    "# Splitting data into training and test set:\n",
    "X_train, X_test, y_train, y_test = train_test_split(X, y, test_size=0.3, random_state=1, stratify = y)\n",
    "print(X_train.shape, X_test.shape)"
   ]
  },
  {
   "cell_type": "code",
   "execution_count": 31,
   "metadata": {
    "colab": {
     "base_uri": "https://localhost:8080/"
    },
    "id": "XAEBt1_3wRvI",
    "outputId": "5dfe982f-56f1-4163-93f3-eff1e716157e"
   },
   "outputs": [
    {
     "name": "stdout",
     "output_type": "stream",
     "text": [
      "Number of rows in train data = 8543\n",
      "Number of rows in test data = 3662\n"
     ]
    }
   ],
   "source": [
    "print(\"Number of rows in train data =\", X_train.shape[0])\n",
    "print(\"Number of rows in test data =\", X_test.shape[0])"
   ]
  },
  {
   "cell_type": "code",
   "execution_count": 32,
   "metadata": {
    "colab": {
     "base_uri": "https://localhost:8080/"
    },
    "id": "Wyk8H530wRvJ",
    "outputId": "3069c7eb-5c6b-4210-a24d-657fc556de39"
   },
   "outputs": [
    {
     "name": "stdout",
     "output_type": "stream",
     "text": [
      "Percentage of classes in training set:\n",
      "0    0.843615\n",
      "1    0.156385\n",
      "Name: Revenue, dtype: float64\n",
      "Percentage of classes in test set:\n",
      "0    0.843801\n",
      "1    0.156199\n",
      "Name: Revenue, dtype: float64\n"
     ]
    }
   ],
   "source": [
    "print(\"Percentage of classes in training set:\")\n",
    "print(y_train.value_counts(normalize=True))\n",
    "print(\"Percentage of classes in test set:\")\n",
    "print(y_test.value_counts(normalize=True))"
   ]
  },
  {
   "cell_type": "markdown",
   "metadata": {
    "id": "o1IvW-7mwRvK"
   },
   "source": [
    "### Model evaluation criterion\n",
    "\n",
    "### Model can make wrong predictions as:\n",
    "\n",
    "1. Predicting a customer will contribute to the revenue but in reality the customer would not have contribute to the revenue. - Loss of resources\n",
    "\n",
    "2. Predicting a customer will not contribute to revenue but in reality the customer would have contributed to revenue. - Loss of opportunity\n",
    "\n",
    "### Which case is more important?\n",
    "\n",
    "* If we predict a customer who was going to contribute to the revenue as a customer who will not contribute to the revenue.\n",
    "\n",
    "### How to reduce this loss i.e need to reduce False Negatives?\n",
    "*  `recall` should be maximized, the greater the recall higher the chances of minimizing the false negatives."
   ]
  },
  {
   "cell_type": "markdown",
   "metadata": {
    "id": "UMGzfgbMwRvL"
   },
   "source": [
    "#### First, let's create functions to calculate different metrics and confusion matrix so that we don't have to use the same code repeatedly for each model.\n",
    "* The get_recall_score function will be used to check the model performance of models.\n",
    "* The make_confusion_matrix function will be used to plot confusion matrix."
   ]
  },
  {
   "cell_type": "code",
   "execution_count": 33,
   "metadata": {
    "id": "AU72P4ztwRvM"
   },
   "outputs": [],
   "source": [
    "##  Function to calculate recall score\n",
    "def get_recall_score(model, predictors, target):\n",
    "    \"\"\"\n",
    "    model: classifier\n",
    "    predictors: independent variables\n",
    "    target: dependent variable\n",
    "\n",
    "    \"\"\"\n",
    "    prediction = model.predict(predictors)\n",
    "    return recall_score(target, prediction)"
   ]
  },
  {
   "cell_type": "code",
   "execution_count": 34,
   "metadata": {
    "id": "75VlY2YAwRvM"
   },
   "outputs": [],
   "source": [
    "def confusion_matrix_sklearn(model, predictors, target):\n",
    "    \"\"\"\n",
    "    To plot the confusion_matrix with percentages\n",
    "\n",
    "    model: classifier\n",
    "    predictors: independent variables\n",
    "    target: dependent variable\n",
    "    \"\"\"\n",
    "    y_pred = model.predict(predictors)\n",
    "    cm = confusion_matrix(target, y_pred)\n",
    "    labels = np.asarray(\n",
    "        [\n",
    "            [\"{0:0.0f}\".format(item) + \"\\n{0:.2%}\".format(item / cm.flatten().sum())]\n",
    "            for item in cm.flatten()\n",
    "        ]\n",
    "    ).reshape(2, 2)\n",
    "\n",
    "    plt.figure(figsize=(6, 4))\n",
    "    sns.heatmap(cm, annot=labels, fmt=\"\")\n",
    "    plt.ylabel(\"True label\")\n",
    "    plt.xlabel(\"Predicted label\")"
   ]
  },
  {
   "cell_type": "code",
   "execution_count": 35,
   "metadata": {
    "id": "1xIc2XyCnatt"
   },
   "outputs": [
    {
     "ename": "ModuleNotFoundError",
     "evalue": "No module named 'Utils'",
     "output_type": "error",
     "traceback": [
      "\u001b[1;31m---------------------------------------------------------------------------\u001b[0m",
      "\u001b[1;31mModuleNotFoundError\u001b[0m                       Traceback (most recent call last)",
      "Cell \u001b[1;32mIn[35], line 1\u001b[0m\n\u001b[1;32m----> 1\u001b[0m \u001b[38;5;28;01mfrom\u001b[39;00m \u001b[38;5;21;01mUtils\u001b[39;00m \u001b[38;5;28;01mimport\u001b[39;00m \u001b[38;5;241m*\u001b[39m\n",
      "\u001b[1;31mModuleNotFoundError\u001b[0m: No module named 'Utils'"
     ]
    }
   ],
   "source": [
    "from Utils import *"
   ]
  },
  {
   "cell_type": "markdown",
   "metadata": {
    "id": "U_imjVzRxLQC"
   },
   "source": [
    "## Build Decision Tree Model"
   ]
  },
  {
   "cell_type": "markdown",
   "metadata": {
    "id": "fUTe3bPVxLQD"
   },
   "source": [
    "* We will build our model using the DecisionTreeClassifier function. Using default 'gini' criteria to split.\n",
    "* If the frequency of class A is 10% and the frequency of class B is 90%, then class B will become the dominant class and the decision tree will become biased toward the dominant classes.\n",
    "\n",
    "* In this case, we can pass a dictionary {0:0.15,1:0.85} to the model to specify the weight of each class and the decision tree will give more weightage to class 1.\n",
    "\n",
    "* class_weight is a hyperparameter for the decision tree classifier."
   ]
  },
  {
   "cell_type": "code",
   "execution_count": null,
   "metadata": {
    "id": "LYsH6SEbR2Zv"
   },
   "outputs": [],
   "source": [
    "model = DecisionTreeClassifier(\n",
    "    criterion=\"gini\", class_weight = \"balanced\", random_state=1\n",
    ")"
   ]
  },
  {
   "cell_type": "code",
   "execution_count": null,
   "metadata": {
    "colab": {
     "base_uri": "https://localhost:8080/",
     "height": 75
    },
    "id": "9_SMEn87wRvP",
    "outputId": "b00cc0f5-e02c-4963-8472-b7a4a3e417b8"
   },
   "outputs": [],
   "source": [
    "model.fit(X_train, y_train)"
   ]
  },
  {
   "cell_type": "markdown",
   "metadata": {
    "id": "m6jdcwApwRvP"
   },
   "source": [
    "#### Checking model performance on training set"
   ]
  },
  {
   "cell_type": "code",
   "execution_count": null,
   "metadata": {
    "colab": {
     "base_uri": "https://localhost:8080/",
     "height": 388
    },
    "id": "eLMgk1zWwRvQ",
    "outputId": "120e360a-ed90-4c3e-acbc-df762bf26e90"
   },
   "outputs": [],
   "source": [
    "confusion_matrix_sklearn(model, X_train, y_train)"
   ]
  },
  {
   "cell_type": "code",
   "execution_count": null,
   "metadata": {
    "colab": {
     "base_uri": "https://localhost:8080/"
    },
    "id": "7AzlFNfFwRvR",
    "outputId": "c9d2cbff-9046-47df-f9f7-2c5f9acad7a4"
   },
   "outputs": [],
   "source": [
    "decision_tree_perf_train = get_recall_score(model, X_train, y_train)\n",
    "\n",
    "print(\"Recall Score:\", decision_tree_perf_train)"
   ]
  },
  {
   "cell_type": "markdown",
   "metadata": {
    "id": "PvQtjXN8wRvS"
   },
   "source": [
    "* Model is able to perfectly classify all the data points on the training set.\n",
    "* 0 errors on the training set, each sample has been classified correctly.\n",
    "* As we know a decision tree will continue to grow and classify each data point correctly if no restrictions are applied as the trees will learn all the patterns in the training set.\n",
    "* This generally leads to overfitting of the model as Decision Tree will perform well on the training set but will fail to replicate the performance on the test set."
   ]
  },
  {
   "cell_type": "markdown",
   "metadata": {
    "id": "DCbaTWyxwRvS"
   },
   "source": [
    "#### Checking model performance on test set"
   ]
  },
  {
   "cell_type": "code",
   "execution_count": null,
   "metadata": {
    "colab": {
     "base_uri": "https://localhost:8080/",
     "height": 388
    },
    "id": "3HY2nwLdwRvT",
    "outputId": "30bb8982-c726-477b-e647-f998c8f3d6e5"
   },
   "outputs": [],
   "source": [
    "confusion_matrix_sklearn(model, X_test, y_test)"
   ]
  },
  {
   "cell_type": "code",
   "execution_count": null,
   "metadata": {
    "colab": {
     "base_uri": "https://localhost:8080/"
    },
    "id": "dG7BJYX1wRvU",
    "outputId": "30394c2e-2d21-44ba-8d7f-ff5bacb846d4"
   },
   "outputs": [],
   "source": [
    "decision_tree_perf_test = get_recall_score(model, X_test, y_test)\n",
    "print(\"Recall Score:\", decision_tree_perf_test)"
   ]
  },
  {
   "cell_type": "code",
   "execution_count": null,
   "metadata": {
    "colab": {
     "base_uri": "https://localhost:8080/",
     "height": 466
    },
    "id": "lH28xpYnoWWE",
    "outputId": "e6ee18fb-44bd-4444-a520-b78e03c6dc04"
   },
   "outputs": [],
   "source": [
    "ConfusionMatrixDisplay.from_estimator(model, X_test, y_test, normalize = \"true\")"
   ]
  },
  {
   "cell_type": "markdown",
   "metadata": {
    "id": "Gh8p_k6ZwRvU"
   },
   "source": [
    "* There is a huge disparity in performance of model on training set and test set, which suggests that the model is overfiiting."
   ]
  },
  {
   "cell_type": "markdown",
   "metadata": {
    "id": "WGn7w06uxLQP"
   },
   "source": [
    "## Visualizing the Decision Tree"
   ]
  },
  {
   "cell_type": "code",
   "execution_count": null,
   "metadata": {
    "id": "6Z9TcL3_wRvV"
   },
   "outputs": [],
   "source": [
    "## creating a list of column names\n",
    "feature_names = X_train.columns.to_list()"
   ]
  },
  {
   "cell_type": "code",
   "execution_count": null,
   "metadata": {
    "colab": {
     "base_uri": "https://localhost:8080/",
     "height": 1000
    },
    "id": "QZ5jacQYwRvW",
    "outputId": "29697639-b20b-4823-b9c1-91ad02a054e0"
   },
   "outputs": [],
   "source": [
    "plt.figure(figsize=(20, 30))\n",
    "out = tree.plot_tree(\n",
    "    model,\n",
    "    feature_names=feature_names,\n",
    "    filled=True,\n",
    "    fontsize=9,\n",
    "    node_ids=False,\n",
    "    class_names=None,\n",
    ")\n",
    "# below code will add arrows to the decision tree split if they are missing\n",
    "for o in out:\n",
    "    arrow = o.arrow_patch\n",
    "    if arrow is not None:\n",
    "        arrow.set_edgecolor(\"black\")\n",
    "        arrow.set_linewidth(1)\n",
    "plt.show()"
   ]
  },
  {
   "cell_type": "code",
   "execution_count": null,
   "metadata": {
    "colab": {
     "base_uri": "https://localhost:8080/"
    },
    "id": "oV0VZM8IxLQU",
    "outputId": "eb222a10-ba9f-4d17-8289-ddb6898f6512"
   },
   "outputs": [],
   "source": [
    "# Text report showing the rules of a decision tree -\n",
    "print(tree.export_text(model, feature_names=feature_names, show_weights=True))"
   ]
  },
  {
   "cell_type": "markdown",
   "metadata": {
    "id": "iYbZ0yXDwRvX"
   },
   "source": [
    "* The tree above is very complex and difficult to interpret."
   ]
  },
  {
   "cell_type": "code",
   "execution_count": null,
   "metadata": {
    "colab": {
     "base_uri": "https://localhost:8080/"
    },
    "id": "U7sE1kpqxLQW",
    "outputId": "9292a184-1402-4beb-f5c8-d311ff1fa16f",
    "scrolled": true
   },
   "outputs": [],
   "source": [
    "# importance of features in the tree building ( The importance of a feature is computed as the\n",
    "# (normalized) total reduction of the criterion brought by that feature. It is also known as the Gini importance )\n",
    "\n",
    "print(\n",
    "    pd.DataFrame(\n",
    "        model.feature_importances_, columns=[\"Imp\"], index=X_train.columns\n",
    "    ).sort_values(by=\"Imp\", ascending=False)\n",
    ")"
   ]
  },
  {
   "cell_type": "code",
   "execution_count": null,
   "metadata": {
    "colab": {
     "base_uri": "https://localhost:8080/",
     "height": 796
    },
    "id": "fhzWBE4uxLQY",
    "outputId": "accbdc22-2892-4e26-ed75-eed2f86396ce"
   },
   "outputs": [],
   "source": [
    "importances = model.feature_importances_\n",
    "indices = np.argsort(importances)\n",
    "\n",
    "plt.figure(figsize=(12, 12))\n",
    "plt.title(\"Feature Importances\")\n",
    "plt.barh(range(len(indices)), importances[indices], color=\"violet\", align=\"center\")\n",
    "plt.yticks(range(len(indices)), [feature_names[i] for i in indices])\n",
    "plt.xlabel(\"Relative Importance\")\n",
    "plt.show()"
   ]
  },
  {
   "cell_type": "markdown",
   "metadata": {
    "id": "3Sdxbd9ywRvZ"
   },
   "source": [
    "* According to the decision tree model, ExitRates is the most important variable for predicting the Revenue."
   ]
  },
  {
   "cell_type": "markdown",
   "metadata": {
    "id": "gRH934E6xLQb"
   },
   "source": [
    "### Reducing over fitting"
   ]
  },
  {
   "cell_type": "markdown",
   "metadata": {
    "id": "6Ep6lGxpxLQr"
   },
   "source": [
    "#### Using GridSearch for Hyperparameter tuning of our tree model"
   ]
  },
  {
   "cell_type": "markdown",
   "metadata": {
    "id": "sAZ5rgWrxLQs"
   },
   "source": [
    "* Hyperparameter tuning is also tricky in the sense that there is no direct way to calculate how a change in the\n",
    "  hyperparameter value will reduce the loss of your model, so we usually resort to experimentation. i.e we'll use Grid search\n",
    "* Grid search is a tuning technique that attempts to compute the optimum values of hyperparameters.\n",
    "* It is an exhaustive search that is performed on a the specific parameter values of a model.\n",
    "* The parameters of the estimator/model used to apply these methods are optimized by cross-validated grid-search over a parameter grid."
   ]
  },
  {
   "cell_type": "code",
   "execution_count": null,
   "metadata": {
    "id": "ls0ivEvZvp6U"
   },
   "outputs": [],
   "source": [
    "from sklearn.model_selection import RandomizedSearchCV"
   ]
  },
  {
   "cell_type": "code",
   "execution_count": null,
   "metadata": {
    "colab": {
     "base_uri": "https://localhost:8080/",
     "height": 109
    },
    "id": "EGJOqdZUxLQu",
    "outputId": "fba4d130-34e3-4c6b-db59-54db2d1467cc"
   },
   "outputs": [],
   "source": [
    "# Choose the type of classifier.\n",
    "estimator = DecisionTreeClassifier(random_state=1, class_weight=\"balanced\")\n",
    "\n",
    "# Grid of parameters to choose from\n",
    "parameters = {\n",
    "    \"max_depth\": [5, 10, 15, None],\n",
    "    \"criterion\": [\"entropy\", \"gini\"],\n",
    "    \"splitter\": [\"best\", \"random\"],\n",
    "    \"min_impurity_decrease\": [0.00001, 0.0001, 0.01]\n",
    "}\n",
    "\n",
    "# Type of scoring used to compare parameter combinations\n",
    "scorer = make_scorer(recall_score)\n",
    "\n",
    "# Run the grid search\n",
    "grid_obj = RandomizedSearchCV(estimator, parameters, scoring=scorer, cv=5, verbose = 1)\n",
    "grid_obj = grid_obj.fit(X_train, y_train)\n",
    "\n",
    "# Set the clf to the best combination of parameters\n",
    "estimator = grid_obj.best_estimator_\n",
    "\n",
    "# Fit the best algorithm to the data.\n",
    "estimator.fit(X_train, y_train)"
   ]
  },
  {
   "cell_type": "markdown",
   "metadata": {
    "id": "iAYgLYqjwRvg"
   },
   "source": [
    "#### Checking performance on training set"
   ]
  },
  {
   "cell_type": "code",
   "execution_count": null,
   "metadata": {
    "colab": {
     "base_uri": "https://localhost:8080/",
     "height": 388
    },
    "id": "noLhlSp7wRvg",
    "outputId": "754719b1-4cbc-4484-a163-07bde8fe8064"
   },
   "outputs": [],
   "source": [
    "confusion_matrix_sklearn(estimator, X_train, y_train)"
   ]
  },
  {
   "cell_type": "code",
   "execution_count": null,
   "metadata": {
    "colab": {
     "base_uri": "https://localhost:8080/"
    },
    "id": "dMCEqtrCwRvh",
    "outputId": "2deff4a3-8e4c-46e7-c93e-49c93c6f3873"
   },
   "outputs": [],
   "source": [
    "decision_tree_tune_perf_train = get_recall_score(estimator, X_train, y_train)\n",
    "print(\"Recall Score:\", decision_tree_tune_perf_train)"
   ]
  },
  {
   "cell_type": "markdown",
   "metadata": {
    "id": "JbKApiuXwRvi"
   },
   "source": [
    "#### Checking performance on test set"
   ]
  },
  {
   "cell_type": "code",
   "execution_count": null,
   "metadata": {
    "colab": {
     "base_uri": "https://localhost:8080/",
     "height": 388
    },
    "id": "3ajVARSJwRvi",
    "outputId": "fc1894d3-4c24-49e5-f0ee-006727b45c55"
   },
   "outputs": [],
   "source": [
    "confusion_matrix_sklearn(estimator, X_test, y_test)"
   ]
  },
  {
   "cell_type": "code",
   "execution_count": null,
   "metadata": {
    "colab": {
     "base_uri": "https://localhost:8080/"
    },
    "id": "VTq4WWdwwRvj",
    "outputId": "197c2d1d-af55-4ac3-c859-e463c5fbba52"
   },
   "outputs": [],
   "source": [
    "decision_tree_tune_perf_test = get_recall_score(estimator, X_test, y_test)\n",
    "print(\"Recall Score:\", decision_tree_tune_perf_test)"
   ]
  },
  {
   "cell_type": "markdown",
   "metadata": {
    "id": "s6wXraSawRvk"
   },
   "source": [
    "* The model is giving a generalized result now."
   ]
  },
  {
   "cell_type": "markdown",
   "metadata": {
    "id": "iZc2s9S1wRvk"
   },
   "source": [
    "## Visualizing the Decision Tree"
   ]
  },
  {
   "cell_type": "code",
   "execution_count": null,
   "metadata": {
    "colab": {
     "base_uri": "https://localhost:8080/",
     "height": 590
    },
    "id": "IxKpGSqcxLQ2",
    "outputId": "00925f00-4e8b-4696-b168-75e704b794f0"
   },
   "outputs": [],
   "source": [
    "plt.figure(figsize=(15, 10))\n",
    "out = tree.plot_tree(\n",
    "    estimator,\n",
    "    feature_names=feature_names,\n",
    "    filled=True,\n",
    "    fontsize=9,\n",
    "    node_ids=False,\n",
    "    class_names=None,\n",
    ")\n",
    "for o in out:\n",
    "    arrow = o.arrow_patch\n",
    "    if arrow is not None:\n",
    "        arrow.set_edgecolor(\"black\")\n",
    "        arrow.set_linewidth(1)\n",
    "plt.show()"
   ]
  },
  {
   "cell_type": "code",
   "execution_count": null,
   "metadata": {
    "colab": {
     "base_uri": "https://localhost:8080/"
    },
    "id": "YqGstFy-xLQ4",
    "outputId": "1a795399-7e16-4dad-ab83-8d0e260280df"
   },
   "outputs": [],
   "source": [
    "# Text report showing the rules of a decision tree -\n",
    "\n",
    "print(tree.export_text(estimator, feature_names=feature_names, show_weights=True))"
   ]
  },
  {
   "cell_type": "markdown",
   "metadata": {
    "id": "QOwZwzAZwRvn"
   },
   "source": [
    "**Observations from the tree:**\n",
    "\n",
    "Using the above extracted decision rules we can make interpretations from the decision tree model like:\n",
    "\n",
    "* If a customer lands on a page with exit rate less than 0.04 and spends less than 315 seconds on the product related page and the month is not May, March or December then the customer will be contributing to the revenue. But if the month is December then the customer will not contribute to the revenue.\n",
    "\n",
    "`Interpretations from other decision rules can be made similarly`"
   ]
  },
  {
   "cell_type": "code",
   "execution_count": null,
   "metadata": {
    "colab": {
     "base_uri": "https://localhost:8080/"
    },
    "id": "yXiqGoL1xLQ5",
    "outputId": "aea1cf54-3db6-4e93-edd0-a87c5016002c"
   },
   "outputs": [],
   "source": [
    "# importance of features in the tree building ( The importance of a feature is computed as the\n",
    "# (normalized) total reduction of the 'criterion' brought by that feature. It is also known as the Gini importance )\n",
    "\n",
    "print(\n",
    "    pd.DataFrame(\n",
    "        estimator.feature_importances_, columns=[\"Imp\"], index=X_train.columns\n",
    "    ).sort_values(by=\"Imp\", ascending=False)\n",
    ")\n",
    "\n",
    "# Here we will see that importance of features has increased"
   ]
  },
  {
   "cell_type": "code",
   "execution_count": null,
   "metadata": {
    "colab": {
     "base_uri": "https://localhost:8080/",
     "height": 796
    },
    "id": "0Gz4AU0SxLQ7",
    "outputId": "24a0e015-4d18-4160-81a5-c92eff8d70e7"
   },
   "outputs": [],
   "source": [
    "importances = estimator.feature_importances_\n",
    "indices = np.argsort(importances)\n",
    "\n",
    "plt.figure(figsize=(12, 12))\n",
    "plt.title(\"Feature Importances\")\n",
    "plt.barh(range(len(indices)), importances[indices], color=\"violet\", align=\"center\")\n",
    "plt.yticks(range(len(indices)), [feature_names[i] for i in indices])\n",
    "plt.xlabel(\"Relative Importance\")\n",
    "plt.show()"
   ]
  },
  {
   "cell_type": "markdown",
   "metadata": {
    "id": "xAn_TFo-wRvq"
   },
   "source": [
    "* In tuned decision tree ExitRates is the most important feature followed by ProductRelated_Duration."
   ]
  },
  {
   "cell_type": "markdown",
   "metadata": {
    "id": "guc7EuIJxLQ-"
   },
   "source": [
    "## Cost Complexity Pruning"
   ]
  },
  {
   "cell_type": "markdown",
   "metadata": {
    "id": "S5SILm-NxLQ-"
   },
   "source": [
    "\n",
    "The `DecisionTreeClassifier` provides parameters such as\n",
    "``min_samples_leaf`` and ``max_depth`` to prevent a tree from overfiting. Cost\n",
    "complexity pruning provides another option to control the size of a tree. In\n",
    "`DecisionTreeClassifier`, this pruning technique is parameterized by the\n",
    "cost complexity parameter, ``ccp_alpha``. Greater values of ``ccp_alpha``\n",
    "increase the number of nodes pruned. Here we only show the effect of\n",
    "``ccp_alpha`` on regularizing the trees and how to choose a ``ccp_alpha``\n",
    "based on validation scores."
   ]
  },
  {
   "cell_type": "markdown",
   "metadata": {
    "id": "fd5MKlSmxLQ_"
   },
   "source": [
    "Total impurity of leaves vs effective alphas of pruned tree\n",
    "---------------------------------------------------------------\n",
    "Minimal cost complexity pruning recursively finds the node with the \"weakest\n",
    "link\". The weakest link is characterized by an effective alpha, where the\n",
    "nodes with the smallest effective alpha are pruned first. To get an idea of\n",
    "what values of ``ccp_alpha`` could be appropriate, scikit-learn provides\n",
    "`DecisionTreeClassifier.cost_complexity_pruning_path` that returns the\n",
    "effective alphas and the corresponding total leaf impurities at each step of\n",
    "the pruning process. As alpha increases, more of the tree is pruned, which\n",
    "increases the total impurity of its leaves."
   ]
  },
  {
   "cell_type": "code",
   "execution_count": null,
   "metadata": {
    "id": "498-a5xCxLQ_"
   },
   "outputs": [],
   "source": [
    "clf = DecisionTreeClassifier(random_state=1, class_weight=\"balanced\")\n",
    "path = clf.cost_complexity_pruning_path(X_train, y_train)\n",
    "ccp_alphas, impurities = path.ccp_alphas, path.impurities"
   ]
  },
  {
   "cell_type": "code",
   "execution_count": null,
   "metadata": {
    "colab": {
     "base_uri": "https://localhost:8080/",
     "height": 424
    },
    "id": "J4XkCPSWxLRB",
    "outputId": "a03d86ee-4634-4ca0-a960-995f966b1ed7"
   },
   "outputs": [],
   "source": [
    "pd.DataFrame(path)"
   ]
  },
  {
   "cell_type": "code",
   "execution_count": null,
   "metadata": {
    "colab": {
     "base_uri": "https://localhost:8080/",
     "height": 487
    },
    "id": "i_Wed1SXxLRE",
    "outputId": "8be6c5e5-dc48-455f-d9c2-b11de0b1d893"
   },
   "outputs": [],
   "source": [
    "fig, ax = plt.subplots(figsize=(10, 5))\n",
    "ax.plot(ccp_alphas[:-1], impurities[:-1], marker=\"o\", drawstyle=\"steps-post\")\n",
    "ax.set_xlabel(\"effective alpha\")\n",
    "ax.set_ylabel(\"total impurity of leaves\")\n",
    "ax.set_title(\"Total Impurity vs effective alpha for training set\")\n",
    "plt.show()"
   ]
  },
  {
   "cell_type": "markdown",
   "metadata": {
    "id": "-QsO1CYIxLRG"
   },
   "source": [
    "Next, we train a decision tree using the effective alphas. The last value\n",
    "in ``ccp_alphas`` is the alpha value that prunes the whole tree,\n",
    "leaving the tree, ``clfs[-1]``, with one node."
   ]
  },
  {
   "cell_type": "code",
   "execution_count": null,
   "metadata": {
    "colab": {
     "base_uri": "https://localhost:8080/"
    },
    "id": "4L-P50vSxLRH",
    "outputId": "bec12aea-e716-4781-d2e5-3addac1e134e"
   },
   "outputs": [],
   "source": [
    "clfs = []\n",
    "for ccp_alpha in ccp_alphas:\n",
    "    clf = DecisionTreeClassifier(\n",
    "        random_state=1, ccp_alpha=ccp_alpha, class_weight={0: 0.15, 1: 0.85}\n",
    "    )\n",
    "    clf.fit(X_train, y_train)\n",
    "    clfs.append(clf)\n",
    "print(\n",
    "    \"Number of nodes in the last tree is: {} with ccp_alpha: {}\".format(\n",
    "        clfs[-1].tree_.node_count, ccp_alphas[-1]\n",
    "    )\n",
    ")"
   ]
  },
  {
   "cell_type": "markdown",
   "metadata": {
    "id": "WKsOMwt2xLRJ"
   },
   "source": [
    "\n",
    "For the remainder, we remove the last element in\n",
    "``clfs`` and ``ccp_alphas``, because it is the trivial tree with only one\n",
    "node. Here we show that the number of nodes and tree depth decreases as alpha\n",
    "increases."
   ]
  },
  {
   "cell_type": "code",
   "execution_count": null,
   "metadata": {
    "colab": {
     "base_uri": "https://localhost:8080/",
     "height": 642
    },
    "id": "QU2un6_sxLRJ",
    "outputId": "b9ecf496-e743-44c3-a941-67608ec401c0"
   },
   "outputs": [],
   "source": [
    "clfs = clfs[:-1]\n",
    "ccp_alphas = ccp_alphas[:-1]\n",
    "\n",
    "node_counts = [clf.tree_.node_count for clf in clfs]\n",
    "depth = [clf.tree_.max_depth for clf in clfs]\n",
    "fig, ax = plt.subplots(2, 1, figsize=(10, 7))\n",
    "ax[0].plot(ccp_alphas, node_counts, marker=\"o\", drawstyle=\"steps-post\")\n",
    "ax[0].set_xlabel(\"alpha\")\n",
    "ax[0].set_ylabel(\"number of nodes\")\n",
    "ax[0].set_title(\"Number of nodes vs alpha\")\n",
    "ax[1].plot(ccp_alphas, depth, marker=\"o\", drawstyle=\"steps-post\")\n",
    "ax[1].set_xlabel(\"alpha\")\n",
    "ax[1].set_ylabel(\"depth of tree\")\n",
    "ax[1].set_title(\"Depth vs alpha\")\n",
    "fig.tight_layout()"
   ]
  },
  {
   "cell_type": "code",
   "execution_count": null,
   "metadata": {
    "id": "kFy56kcixLRS"
   },
   "outputs": [],
   "source": [
    "recall_train = []\n",
    "for clf in clfs:\n",
    "    pred_train = clf.predict(X_train)\n",
    "    values_train = recall_score(y_train, pred_train)\n",
    "    recall_train.append(values_train)"
   ]
  },
  {
   "cell_type": "code",
   "execution_count": null,
   "metadata": {
    "id": "E5VEnQ8pxLRT"
   },
   "outputs": [],
   "source": [
    "recall_test = []\n",
    "for clf in clfs:\n",
    "    pred_test = clf.predict(X_test)\n",
    "    values_test = recall_score(y_test, pred_test)\n",
    "    recall_test.append(values_test)"
   ]
  },
  {
   "cell_type": "code",
   "execution_count": null,
   "metadata": {
    "id": "8qCoixVKwRw2"
   },
   "outputs": [],
   "source": [
    "train_scores = [clf.score(X_train, y_train) for clf in clfs]\n",
    "test_scores = [clf.score(X_test, y_test) for clf in clfs]"
   ]
  },
  {
   "cell_type": "code",
   "execution_count": null,
   "metadata": {
    "colab": {
     "base_uri": "https://localhost:8080/",
     "height": 358
    },
    "id": "eB0uDF0GxLRW",
    "outputId": "07e63160-9d95-4495-b940-6ad95443c472"
   },
   "outputs": [],
   "source": [
    "ig, ax = plt.subplots(figsize=(15, 5))\n",
    "ax.set_xlabel(\"alpha\")\n",
    "ax.set_ylabel(\"Recall\")\n",
    "ax.set_title(\"Recall vs alpha for training and testing sets\")\n",
    "ax.plot(\n",
    "    ccp_alphas, recall_train, marker=\"o\", label=\"train\", drawstyle=\"steps-post\",\n",
    ")\n",
    "ax.plot(ccp_alphas, recall_test, marker=\"o\", label=\"test\", drawstyle=\"steps-post\")\n",
    "ax.legend()\n",
    "plt.show()"
   ]
  },
  {
   "cell_type": "markdown",
   "metadata": {
    "id": "z6eoEB8RwRw4"
   },
   "source": [
    "**Maximum value of Recall is at 0.014 alpha, but if we choose decision tree will only have a root node and we would lose the buisness rules, instead we can choose alpha 0.002 retaining information and getting higher recall.**"
   ]
  },
  {
   "cell_type": "code",
   "execution_count": null,
   "metadata": {
    "colab": {
     "base_uri": "https://localhost:8080/"
    },
    "id": "_uIVrmaGxLRZ",
    "outputId": "3d9e8061-03ff-4ee8-f236-ab4723d04984",
    "scrolled": true
   },
   "outputs": [],
   "source": [
    "# creating the model where we get highest train and test recall\n",
    "index_best_model = np.argmax(recall_test)\n",
    "best_model = clfs[index_best_model]\n",
    "print(best_model)"
   ]
  },
  {
   "cell_type": "code",
   "execution_count": null,
   "metadata": {
    "colab": {
     "base_uri": "https://localhost:8080/",
     "height": 92
    },
    "id": "8uvbe6SHwRw6",
    "outputId": "b9f5fa75-8b90-46da-c17f-dea8b9205d03"
   },
   "outputs": [],
   "source": [
    "best_model.fit(X_train, y_train)"
   ]
  },
  {
   "cell_type": "markdown",
   "metadata": {
    "id": "7q08heaCwRw6"
   },
   "source": [
    "#### checking performance on training set"
   ]
  },
  {
   "cell_type": "code",
   "execution_count": null,
   "metadata": {
    "colab": {
     "base_uri": "https://localhost:8080/",
     "height": 388
    },
    "id": "XjwAKhbnwRw7",
    "outputId": "7f294ebd-0bad-449e-e98e-da67f3f8bec7"
   },
   "outputs": [],
   "source": [
    "confusion_matrix_sklearn(best_model, X_train, y_train)"
   ]
  },
  {
   "cell_type": "code",
   "execution_count": null,
   "metadata": {
    "colab": {
     "base_uri": "https://localhost:8080/"
    },
    "id": "Jbz6p6vewRw8",
    "outputId": "256bb8f7-66eb-42c1-9747-a2d41eaf675f"
   },
   "outputs": [],
   "source": [
    "print(\"Recall Score:\", get_recall_score(best_model, X_train, y_train))"
   ]
  },
  {
   "cell_type": "markdown",
   "metadata": {
    "id": "1fuqYTZvwRw8"
   },
   "source": [
    "#### checking performance on test set"
   ]
  },
  {
   "cell_type": "code",
   "execution_count": null,
   "metadata": {
    "colab": {
     "base_uri": "https://localhost:8080/",
     "height": 388
    },
    "id": "nQKdm9IjwRw9",
    "outputId": "3e95a541-8d46-47ad-d219-c859b09b640e"
   },
   "outputs": [],
   "source": [
    "confusion_matrix_sklearn(best_model, X_test, y_test)"
   ]
  },
  {
   "cell_type": "code",
   "execution_count": null,
   "metadata": {
    "colab": {
     "base_uri": "https://localhost:8080/"
    },
    "id": "iPaIDaQMwRw-",
    "outputId": "9eda281b-9a79-40ed-dee6-85639e189184"
   },
   "outputs": [],
   "source": [
    "print(\"Recall Score:\", get_recall_score(best_model, X_test, y_test))"
   ]
  },
  {
   "cell_type": "markdown",
   "metadata": {
    "id": "hqV-VhftwRw-"
   },
   "source": [
    "### Visualizing the Decision Tree"
   ]
  },
  {
   "cell_type": "code",
   "execution_count": null,
   "metadata": {
    "colab": {
     "base_uri": "https://localhost:8080/",
     "height": 422
    },
    "id": "cRRrogVyxLRg",
    "outputId": "bff29c97-f2db-47cd-9c0c-998afd826882"
   },
   "outputs": [],
   "source": [
    "plt.figure(figsize=(5, 5))\n",
    "\n",
    "out = tree.plot_tree(\n",
    "    best_model,\n",
    "    feature_names=feature_names,\n",
    "    filled=True,\n",
    "    fontsize=9,\n",
    "    node_ids=False,\n",
    "    class_names=None,\n",
    ")\n",
    "for o in out:\n",
    "    arrow = o.arrow_patch\n",
    "    if arrow is not None:\n",
    "        arrow.set_edgecolor(\"black\")\n",
    "        arrow.set_linewidth(1)\n",
    "plt.show()"
   ]
  },
  {
   "cell_type": "markdown",
   "metadata": {
    "id": "ggWyIJOAwRxA"
   },
   "source": [
    "* This model might be giving the highest recall but a buisness would not be able to use it to actually target the potential customers."
   ]
  },
  {
   "cell_type": "markdown",
   "metadata": {
    "id": "gQdpw162wRxA"
   },
   "source": [
    "**Creating model with 0.002 ccp_alpha**"
   ]
  },
  {
   "cell_type": "code",
   "execution_count": null,
   "metadata": {
    "colab": {
     "base_uri": "https://localhost:8080/",
     "height": 75
    },
    "id": "RG3A0u_RwRxB",
    "outputId": "f525a7e6-3b4f-46b1-811c-06e18573ecbb"
   },
   "outputs": [],
   "source": [
    "best_model2 = DecisionTreeClassifier(\n",
    "    ccp_alpha=0.002, class_weight=\"balanced\", random_state=1\n",
    ")\n",
    "best_model2.fit(X_train, y_train)"
   ]
  },
  {
   "cell_type": "markdown",
   "metadata": {
    "id": "mk5txBJRwRxC"
   },
   "source": [
    "#### Checking performance on the training set"
   ]
  },
  {
   "cell_type": "code",
   "execution_count": null,
   "metadata": {
    "colab": {
     "base_uri": "https://localhost:8080/",
     "height": 388
    },
    "id": "UYcXrFbYwRxC",
    "outputId": "4f6dcb11-e418-4d11-e836-6068cb1e3eca"
   },
   "outputs": [],
   "source": [
    "confusion_matrix_sklearn(best_model2, X_train, y_train)"
   ]
  },
  {
   "cell_type": "code",
   "execution_count": null,
   "metadata": {
    "colab": {
     "base_uri": "https://localhost:8080/"
    },
    "id": "9SP-MS1rwRxD",
    "outputId": "6ce3f80c-cde5-4def-8a2c-33efa34e6751"
   },
   "outputs": [],
   "source": [
    "decision_tree_postpruned_perf_train = get_recall_score(best_model2, X_train, y_train)\n",
    "print(\"Recall Score:\", decision_tree_postpruned_perf_train)"
   ]
  },
  {
   "cell_type": "markdown",
   "metadata": {
    "id": "ywiIWkGJwRxE"
   },
   "source": [
    "#### Checking performance on the test set"
   ]
  },
  {
   "cell_type": "code",
   "execution_count": null,
   "metadata": {
    "colab": {
     "base_uri": "https://localhost:8080/",
     "height": 392
    },
    "id": "UeftKU3CwRxE",
    "outputId": "7ee660b0-9d0f-470e-c55b-08bc4d7c541d"
   },
   "outputs": [],
   "source": [
    "confusion_matrix_sklearn(best_model2, X_test, y_test)"
   ]
  },
  {
   "cell_type": "code",
   "execution_count": null,
   "metadata": {
    "colab": {
     "base_uri": "https://localhost:8080/"
    },
    "id": "FxFOeP8uwRxF",
    "outputId": "b811c085-0245-4039-8877-482e852542b8"
   },
   "outputs": [],
   "source": [
    "decision_tree_postpruned_perf_test = get_recall_score(best_model2, X_test, y_test)\n",
    "print(\"Recall Score:\", decision_tree_postpruned_perf_test)"
   ]
  },
  {
   "cell_type": "markdown",
   "metadata": {
    "id": "FA6qbZd8wRxF"
   },
   "source": [
    "* The results have improved from the initial model.\n",
    "* The performance is comparable to the  hyperparameter tuned model.\n",
    "* The model is giving a generalized performance on training and test set."
   ]
  },
  {
   "cell_type": "markdown",
   "metadata": {
    "id": "ZfxDB3s8wRxG"
   },
   "source": [
    "### Visualizing the Decision Tree"
   ]
  },
  {
   "cell_type": "code",
   "execution_count": null,
   "metadata": {
    "colab": {
     "base_uri": "https://localhost:8080/",
     "height": 610
    },
    "id": "woyI-s9iwRxG",
    "outputId": "c8f1bd22-7500-4988-e699-6f66365635db"
   },
   "outputs": [],
   "source": [
    "plt.figure(figsize=(15, 10))\n",
    "\n",
    "out = tree.plot_tree(\n",
    "    best_model2,\n",
    "    feature_names=feature_names,\n",
    "    filled=True,\n",
    "    fontsize=9,\n",
    "    node_ids=False,\n",
    "    class_names=None,\n",
    ")\n",
    "for o in out:\n",
    "    arrow = o.arrow_patch\n",
    "    if arrow is not None:\n",
    "        arrow.set_edgecolor(\"black\")\n",
    "        arrow.set_linewidth(1)\n",
    "plt.show()"
   ]
  },
  {
   "cell_type": "code",
   "execution_count": null,
   "metadata": {
    "colab": {
     "base_uri": "https://localhost:8080/"
    },
    "id": "jDZUOj5BxLRi",
    "outputId": "b2c0a632-c2ba-44d5-f680-66d69429fd99",
    "scrolled": true
   },
   "outputs": [],
   "source": [
    "# Text report showing the rules of a decision tree -\n",
    "\n",
    "print(tree.export_text(best_model2, feature_names=feature_names, show_weights=True))"
   ]
  },
  {
   "cell_type": "code",
   "execution_count": null,
   "metadata": {
    "colab": {
     "base_uri": "https://localhost:8080/"
    },
    "id": "DSCypYd3xLRj",
    "outputId": "5b67d943-3c6e-4a83-976a-7079e8d7bdda"
   },
   "outputs": [],
   "source": [
    "# importance of features in the tree building ( The importance of a feature is computed as the\n",
    "# (normalized) total reduction of the 'criterion' brought by that feature. It is also known as the Gini importance )\n",
    "\n",
    "print(\n",
    "    pd.DataFrame(\n",
    "        best_model2.feature_importances_, columns=[\"Imp\"], index=X_train.columns\n",
    "    ).sort_values(by=\"Imp\", ascending=False)\n",
    ")"
   ]
  },
  {
   "cell_type": "code",
   "execution_count": null,
   "metadata": {
    "colab": {
     "base_uri": "https://localhost:8080/",
     "height": 796
    },
    "id": "n_nDT7r8xLRl",
    "outputId": "62ffcf98-ac53-43d1-f676-7e0f5761f760"
   },
   "outputs": [],
   "source": [
    "importances = best_model2.feature_importances_\n",
    "indices = np.argsort(importances)\n",
    "\n",
    "plt.figure(figsize=(12, 12))\n",
    "plt.title(\"Feature Importances\")\n",
    "plt.barh(range(len(indices)), importances[indices], color=\"violet\", align=\"center\")\n",
    "plt.yticks(range(len(indices)), [feature_names[i] for i in indices])\n",
    "plt.xlabel(\"Relative Importance\")\n",
    "plt.show()"
   ]
  },
  {
   "cell_type": "markdown",
   "metadata": {
    "id": "StEYNZ14wRxJ"
   },
   "source": [
    "* Exit rates and ProductRelated duration are the top two important features to predict customer sessions contributing to Revenue."
   ]
  },
  {
   "cell_type": "markdown",
   "metadata": {
    "id": "wY-AzE7dwRxJ"
   },
   "source": [
    "### Comparing all the decision tree models"
   ]
  },
  {
   "cell_type": "code",
   "execution_count": null,
   "metadata": {
    "colab": {
     "base_uri": "https://localhost:8080/",
     "height": 161
    },
    "id": "3RSI9nsEwRxJ",
    "outputId": "4476732e-f438-42d9-80e3-3c2d2066a8ea"
   },
   "outputs": [],
   "source": [
    "# training performance comparison\n",
    "\n",
    "models_train_comp_df = pd.DataFrame(\n",
    "    [\n",
    "        decision_tree_perf_train,\n",
    "        decision_tree_tune_perf_train,\n",
    "        decision_tree_postpruned_perf_train,\n",
    "    ],\n",
    "    columns=[\"Recall on training set\"],\n",
    ")\n",
    "\n",
    "print(\"Training performance comparison:\")\n",
    "models_train_comp_df"
   ]
  },
  {
   "cell_type": "code",
   "execution_count": null,
   "metadata": {
    "colab": {
     "base_uri": "https://localhost:8080/",
     "height": 161
    },
    "id": "1frrXEqjwRxK",
    "outputId": "2b838312-fc12-4333-d42d-94a95d13887a"
   },
   "outputs": [],
   "source": [
    "# testing performance comparison\n",
    "\n",
    "models_test_comp_df = pd.DataFrame(\n",
    "    [\n",
    "        decision_tree_perf_test,\n",
    "        decision_tree_tune_perf_test,\n",
    "        decision_tree_postpruned_perf_test,\n",
    "    ],\n",
    "    columns=[\"Recall on testing set\"],\n",
    ")\n",
    "\n",
    "print(\"Test performance comparison:\")\n",
    "models_test_comp_df"
   ]
  },
  {
   "cell_type": "markdown",
   "metadata": {
    "id": "1Ju2cQ0EwRxL"
   },
   "source": [
    "* Decision tree model with pre-pruning has given the best recall score on training data.\n",
    "* The pre-pruned and the post-pruned models have reduced overfitting and the model is giving a generalized performance."
   ]
  },
  {
   "cell_type": "markdown",
   "metadata": {
    "id": "a_mAK3TtwRxM"
   },
   "source": [
    "### Conclusions"
   ]
  },
  {
   "cell_type": "markdown",
   "metadata": {
    "id": "Ji_oOkE9wRxM"
   },
   "source": [
    "- We analyzed the \"Online Shoppers Purchasing Intention\" using different techniques and used Decision Tree Classifier to build a predictive model for the same.\n",
    "- The model built can be used to predict if a customer is going to contribute to Revenue generation (by purchasing) or not.\n",
    "- We visualized different trees and their confusion matrix to get a better understanding of the model. Easy interpretation is one of the key benefits of Decision Trees.\n",
    "- We verified the fact that how much less data preparation is needed for Decision Trees and such a simple model gave good results even with outliers and imbalanced classes which shows the robustness of Decision Trees.\n",
    "- ExitRates, ProductRelated_Duration, Month_Nov and BounceRates are the most important variable in predicting the customers that will contribute to the revenue.\n",
    "- We established the importance of hyper-parameters/ pruning to reduce overfitting."
   ]
  },
  {
   "cell_type": "markdown",
   "metadata": {
    "id": "puqbi9HUwRxN"
   },
   "source": [
    "### Recommendations"
   ]
  },
  {
   "cell_type": "markdown",
   "metadata": {
    "id": "VCrXgYs7wRxN"
   },
   "source": [
    "* According to the decision tree model -\n",
    "\n",
    "    a) If a customer lands on a page with an exit rate greater than 0.041 there's a very high chance the customer will not be contributing to the revenue.\n",
    "\n",
    "    b) If a customer lands on a page with an exit rate less than 0.041 and spends more than ~5 minutes on a product related page then there is a very high chance that the customer is going to buy something and contribute to the revenue.\n",
    "\n",
    "\n",
    "* It is observed that the more time the customers spend on Administrative, Informational and ProductRelated pages more is the likelihood of them contributing to the revenue. Although the website can not control the time spent by customers it can enhance the user experience on the website to engage them more on the website.\n",
    "\n",
    "* Browsing Customers - Employ the predictive model to predict potential customers (customers who can buy the product), Offer limited-time coupons/discounts on a real-time basis only to those customers. This can also be employed for the customers in months like March, May, November, and December, as in those months, the traffic is higher so these months have potential buying users.\n",
    "\n",
    "* It is observed that most of the traffic that the website sees is on the non-special days, While there is little to none traffic and revenue sessions on special days - the website should initiate schemes/offers on the special days to attract more customers on such days.\n",
    "\n",
    "* May and November were the months where the website saw the highest traffic with further data it should be investigated what portfolios were running in those months and an inspiration to create more such portfolios can be drawn and implemented.\n",
    "\n",
    "* Customer retention - Member Loyalty programs initiatives like special discounts, coupons, etc can be provided.\n",
    "\n",
    "* Better resource management - Regular days (Non-weekend) days is when the website sees the most traffic, resources such as customer care services can be allocated more for these days.\n",
    "\n",
    "* Website should be made more friendly, easily accessible, and feasible for other operating systems and browsers as new visitors seem to struggle with administrative pages.\n",
    "\n",
    "* Site Engagement - Version of the site for slower-internet users, Consistent and user-friendly mobile website design for more browsers and operating systems."
   ]
  },
  {
   "cell_type": "markdown",
   "metadata": {
    "id": "9-72m1tRwRxO"
   },
   "source": [
    "<a id= 'appendix'></a>\n",
    "### APPENDIX"
   ]
  },
  {
   "cell_type": "markdown",
   "metadata": {
    "id": "kUJ_B5KxhU3D"
   },
   "source": [
    "### EDA"
   ]
  },
  {
   "cell_type": "markdown",
   "metadata": {
    "id": "St0YA_lXwRxP"
   },
   "source": [
    "### Summary of the dataset"
   ]
  },
  {
   "cell_type": "code",
   "execution_count": null,
   "metadata": {
    "id": "daYS6MgIwRxP"
   },
   "outputs": [],
   "source": [
    "data.describe().T"
   ]
  },
  {
   "cell_type": "markdown",
   "metadata": {
    "id": "Uri0j2GtwRxQ"
   },
   "source": [
    "* All the numerical variables seem to be right-skewed.\n",
    "* Most time spent by customers is on the ProductRelated pages.\n",
    "* There are some customers who haven't visited the administrative page and informational pages."
   ]
  },
  {
   "cell_type": "code",
   "execution_count": null,
   "metadata": {
    "id": "UrCcktrHwRxQ"
   },
   "outputs": [],
   "source": [
    "data.describe(include=[\"object\", \"bool\"])"
   ]
  },
  {
   "cell_type": "code",
   "execution_count": null,
   "metadata": {
    "id": "50GltnsfwRxR"
   },
   "outputs": [],
   "source": [
    "cat_columns = [\"Month\", \"VisitorType\", \"Weekend\", \"Revenue\"]\n",
    "for i in cat_columns:\n",
    "    print(data[i].value_counts())\n",
    "    print(\"*\" * 50)"
   ]
  },
  {
   "cell_type": "markdown",
   "metadata": {
    "id": "5pgYwzYCwRxR"
   },
   "source": [
    "* Data is of 10 months January and April's data is not available with us.\n",
    "* In May the website had the most active customers.\n",
    "* Most of the customers are returning type customers which is a good thing for the business.\n",
    "* Most traffic on the website is generally on the weekdays.\n",
    "* Website is only able to generate revenue from a small portion of customers."
   ]
  },
  {
   "cell_type": "markdown",
   "metadata": {
    "id": "7Rwx-1ZuhU3D"
   },
   "source": [
    "### Univariate analysis"
   ]
  },
  {
   "cell_type": "markdown",
   "metadata": {
    "id": "wCM8z1ZtwRxS"
   },
   "source": [
    "### Observations on Administrative_Duration"
   ]
  },
  {
   "cell_type": "code",
   "execution_count": null,
   "metadata": {
    "id": "-7lXo7VnwRxS"
   },
   "outputs": [],
   "source": [
    "histogram_boxplot(data, \"Administrative_Duration\", bins=70)"
   ]
  },
  {
   "cell_type": "code",
   "execution_count": null,
   "metadata": {
    "id": "wsULhvY0wRxT"
   },
   "outputs": [],
   "source": [
    "histogram_boxplot(data, \"Administrative_Duration\")"
   ]
  },
  {
   "cell_type": "markdown",
   "metadata": {
    "id": "D-WH1rLTwRxU"
   },
   "source": [
    "* The distribution of Administrative_Duration is right-skewed.\n",
    "* There are outliers in this variable.\n",
    "* From the boxplot we can see that the third quartile(Q3) is equal to 94 which means 75% of customers stay less than 94 seconds on Administrative pages in a session."
   ]
  },
  {
   "cell_type": "markdown",
   "metadata": {
    "id": "WkF8F3J2wRxX"
   },
   "source": [
    "### Observations on Informational"
   ]
  },
  {
   "cell_type": "code",
   "execution_count": null,
   "metadata": {
    "id": "VdO3iSV4wRxX"
   },
   "outputs": [],
   "source": [
    "histogram_boxplot(data, \"Informational\")"
   ]
  },
  {
   "cell_type": "code",
   "execution_count": null,
   "metadata": {
    "id": "B0JMwnqZwRxY"
   },
   "outputs": [],
   "source": [
    "histogram_boxplot(data, \"Informational\")"
   ]
  },
  {
   "cell_type": "markdown",
   "metadata": {
    "id": "e7QgIeDOwRxY"
   },
   "source": [
    "* The distribution of Informational is right-skewed.\n",
    "* There are outliers in this variable.\n",
    "* Very few customers have visited the informational page."
   ]
  },
  {
   "cell_type": "markdown",
   "metadata": {
    "id": "RZt9tCnbwRxZ"
   },
   "source": [
    "### Observations on Informational_Duration"
   ]
  },
  {
   "cell_type": "code",
   "execution_count": null,
   "metadata": {
    "id": "HwaaPhLjwRxZ"
   },
   "outputs": [],
   "source": [
    "histogram_boxplot(data, \"Informational_Duration\")"
   ]
  },
  {
   "cell_type": "markdown",
   "metadata": {
    "id": "2vMFwj-bwRxZ"
   },
   "source": [
    "* The distribution of Informational_Duration is right-skewed.\n",
    "* There are outliers in this variable.\n",
    "* On average customers have spent 35 seconds on the informational page."
   ]
  },
  {
   "cell_type": "markdown",
   "metadata": {
    "id": "q0upjHAywRxa"
   },
   "source": [
    "### Observations on ProductRelated"
   ]
  },
  {
   "cell_type": "code",
   "execution_count": null,
   "metadata": {
    "id": "aD2o2g9twRxa"
   },
   "outputs": [],
   "source": [
    "histogram_boxplot(data, \"ProductRelated\")"
   ]
  },
  {
   "cell_type": "markdown",
   "metadata": {
    "id": "pVlqC8VIwRxa"
   },
   "source": [
    "* The distribution of ProductRelated is right-skewed.\n",
    "* There are outliers in this variable.\n",
    "* From the boxplot we can see that the third quartile(Q3) is equal to 38 which means 75% of customers have visited less than 38 pages and on average a customer visits 32 pages."
   ]
  },
  {
   "cell_type": "markdown",
   "metadata": {
    "id": "3FBb4nzbwRxb"
   },
   "source": [
    "### Observations on ProductRelated_Duration"
   ]
  },
  {
   "cell_type": "code",
   "execution_count": null,
   "metadata": {
    "id": "ni0KWfM9wRxb"
   },
   "outputs": [],
   "source": [
    "histogram_boxplot(data, \"ProductRelated_Duration\")"
   ]
  },
  {
   "cell_type": "markdown",
   "metadata": {
    "id": "Dx0YSU0pwRxc"
   },
   "source": [
    "* The distribution of ProductRelated_Duration is right-skewed.\n",
    "* There are outliers in this variable.\n",
    "* On average customers have spent 1206 seconds (~20 minutes) on the ProductRelated page which is way more than the administrative page and informational page."
   ]
  },
  {
   "cell_type": "markdown",
   "metadata": {
    "id": "fQ-5G50-wRxc"
   },
   "source": [
    "### Observations on BounceRates"
   ]
  },
  {
   "cell_type": "code",
   "execution_count": null,
   "metadata": {
    "id": "ywrO5wXDwRxc"
   },
   "outputs": [],
   "source": [
    "histogram_boxplot(data, \"BounceRates\")"
   ]
  },
  {
   "cell_type": "markdown",
   "metadata": {
    "id": "s8GkjNRywRxd"
   },
   "source": [
    "* The distribution of BounceRates is right-skewed.\n",
    "* There are outliers in this variable.\n",
    "* On average the bounce rate of a webpage is 0.022."
   ]
  },
  {
   "cell_type": "markdown",
   "metadata": {
    "id": "oCxVhp5AwRxd"
   },
   "source": [
    "### Observations on ExitRates"
   ]
  },
  {
   "cell_type": "code",
   "execution_count": null,
   "metadata": {
    "id": "0AbUPRNJwRxd"
   },
   "outputs": [],
   "source": [
    "histogram_boxplot(data, \"ExitRates\")"
   ]
  },
  {
   "cell_type": "markdown",
   "metadata": {
    "id": "EIAUXXqswRxd"
   },
   "source": [
    "* The distribution of ExitRates is right-skewed.\n",
    "* There are outliers in this variable.\n",
    "* On average the bounce rate of a webpage is 0.041."
   ]
  },
  {
   "cell_type": "markdown",
   "metadata": {
    "id": "NAtAjooIwRxe"
   },
   "source": [
    "### In case the PageValues column was dropped earlier, kindly run the below code cell to bring that column back into the dataset."
   ]
  },
  {
   "cell_type": "code",
   "execution_count": null,
   "metadata": {
    "id": "BG8VkM5XwRxe"
   },
   "outputs": [],
   "source": [
    "data = pd.read_csv(\"online_shoppers_intention.csv\")\n",
    "data.drop_duplicates(inplace=True)"
   ]
  },
  {
   "cell_type": "markdown",
   "metadata": {
    "id": "XKN9ZeXkwRxe"
   },
   "source": [
    "### Observations on PageValues"
   ]
  },
  {
   "cell_type": "code",
   "execution_count": null,
   "metadata": {
    "id": "z844u_axwRxf"
   },
   "outputs": [],
   "source": [
    "histogram_boxplot(data, \"PageValues\")"
   ]
  },
  {
   "cell_type": "markdown",
   "metadata": {
    "id": "ZZ59flOUwRxf"
   },
   "source": [
    "* The distribution of PageValues is right-skewed.\n",
    "* There are outliers in this variable.\n",
    "* On average the customers visit 6 pages before finally landing on the transaction page."
   ]
  },
  {
   "cell_type": "markdown",
   "metadata": {
    "id": "_3TTthLwwRxg"
   },
   "source": [
    "### Observations on SpecialDay"
   ]
  },
  {
   "cell_type": "code",
   "execution_count": null,
   "metadata": {
    "id": "LIbo2NVXwRxg"
   },
   "outputs": [],
   "source": [
    "histogram_boxplot(data, \"SpecialDay\")"
   ]
  },
  {
   "cell_type": "markdown",
   "metadata": {
    "id": "ettqd7azwRxg"
   },
   "source": [
    "* The distribution of SpecialDays suggests that most customers have visited the website on days which were not close to a special occasion.\n",
    "* The distribution of SpecialDays also suggests we should look at it as a category to extract more information."
   ]
  },
  {
   "cell_type": "markdown",
   "metadata": {
    "id": "NPw9mLhuwRxh"
   },
   "source": [
    "### Observations on OperatingSystems"
   ]
  },
  {
   "cell_type": "code",
   "execution_count": null,
   "metadata": {
    "id": "cX73iRYmwRxi"
   },
   "outputs": [],
   "source": [
    "histogram_boxplot(data, \"OperatingSystems\")"
   ]
  },
  {
   "cell_type": "markdown",
   "metadata": {
    "id": "wWBunnGBwRxi"
   },
   "source": [
    "* The distribution of Operating systems shows most of the customers accessed the website using 2nd operating system.\n",
    "* These values are masked so it is difficult to comment on it.\n",
    "* The distribution of Operating systems also suggests we should look at it as a category to extract more information."
   ]
  },
  {
   "cell_type": "markdown",
   "metadata": {
    "id": "FGxfWii6wRxp"
   },
   "source": [
    "### Observations on Browser"
   ]
  },
  {
   "cell_type": "code",
   "execution_count": null,
   "metadata": {
    "id": "medbFspPwRxq"
   },
   "outputs": [],
   "source": [
    "histogram_boxplot(data, \"Browser\")"
   ]
  },
  {
   "cell_type": "markdown",
   "metadata": {
    "id": "lSgIiksrwRxq"
   },
   "source": [
    "* The distribution of Browser shows most of the customers accessed the website using 2nd browser.\n",
    "* These values are masked so it is difficult to comment on it.\n",
    "* The distribution of Browser also suggests we should look at it as a category to extract more information."
   ]
  },
  {
   "cell_type": "markdown",
   "metadata": {
    "id": "Qcn24NLRwRxq"
   },
   "source": [
    "### Observations on Region"
   ]
  },
  {
   "cell_type": "code",
   "execution_count": null,
   "metadata": {
    "id": "1WwT6vgnwRxr"
   },
   "outputs": [],
   "source": [
    "histogram_boxplot(data, \"Region\")"
   ]
  },
  {
   "cell_type": "markdown",
   "metadata": {
    "id": "KzaK5XJFwRxr"
   },
   "source": [
    "* The distribution of Region shows most of the customers accessed the website from Region 1.\n",
    "* These values are masked so it is difficult to comment on it.\n",
    "* The distribution of Region also suggests we should look at it as a category to extract more information."
   ]
  },
  {
   "cell_type": "markdown",
   "metadata": {
    "id": "Qho-bZafwRxr"
   },
   "source": [
    "### Observations on TrafficType"
   ]
  },
  {
   "cell_type": "code",
   "execution_count": null,
   "metadata": {
    "id": "RksDJOwnwRxs"
   },
   "outputs": [],
   "source": [
    "histogram_boxplot(data, \"TrafficType\")"
   ]
  },
  {
   "cell_type": "markdown",
   "metadata": {
    "id": "LpWNuO6YwRxs"
   },
   "source": [
    "* The distribution of TrafficType shows most of types of traffic the website gets is '2.\n",
    "* These values are masked so it is difficult to comment on it.\n",
    "* The distribution of Traffic also suggests we should look at it as a category to extract more information."
   ]
  },
  {
   "cell_type": "markdown",
   "metadata": {
    "id": "3c3kMGBMwRxs"
   },
   "source": [
    "### Observations on Month"
   ]
  },
  {
   "cell_type": "code",
   "execution_count": null,
   "metadata": {
    "id": "Dy8Ds2_NwRxt"
   },
   "outputs": [],
   "source": [
    "labeled_barplot(data, \"Month\", perc=True)"
   ]
  },
  {
   "cell_type": "markdown",
   "metadata": {
    "id": "bhVPl2fDwRxt"
   },
   "source": [
    "* 27.3% of the users visited the website in the month of May followed by November with 24.4% of traffic."
   ]
  },
  {
   "cell_type": "markdown",
   "metadata": {
    "id": "mx5oJerNwRxt"
   },
   "source": [
    "### Observations on VisitorType"
   ]
  },
  {
   "cell_type": "code",
   "execution_count": null,
   "metadata": {
    "id": "ivymNh22wRxt"
   },
   "outputs": [],
   "source": [
    "labeled_barplot(data, \"VisitorType\", perc=True)"
   ]
  },
  {
   "cell_type": "markdown",
   "metadata": {
    "id": "1n-YK9M1wRxu"
   },
   "source": [
    "* 85.5% of the customer are returning customers, indicating the website has a loyal base of customers.\n",
    "* During these 10 months website also saw 13.9% of the customers visiting the website."
   ]
  },
  {
   "cell_type": "markdown",
   "metadata": {
    "id": "9PyzC6VbwRxu"
   },
   "source": [
    "### Observations on SpecialDay"
   ]
  },
  {
   "cell_type": "code",
   "execution_count": null,
   "metadata": {
    "id": "8A2CoQ02wRxu"
   },
   "outputs": [],
   "source": [
    "labeled_barplot(data, \"SpecialDay\", perc=True)"
   ]
  },
  {
   "cell_type": "markdown",
   "metadata": {
    "id": "DSg8w3eewRxu"
   },
   "source": [
    "* 89.9% of the website sessions are on Non-Special days."
   ]
  },
  {
   "cell_type": "markdown",
   "metadata": {
    "id": "q08RTyz4wRxv"
   },
   "source": [
    "### Observations on OperatingSystems"
   ]
  },
  {
   "cell_type": "code",
   "execution_count": null,
   "metadata": {
    "id": "8n-sJ_ZNwRxv"
   },
   "outputs": [],
   "source": [
    "labeled_barplot(data, \"OperatingSystems\", perc=True)"
   ]
  },
  {
   "cell_type": "markdown",
   "metadata": {
    "id": "5cY8yJOdwRxv"
   },
   "source": [
    "* 53.6% of the customers use '2' operating system."
   ]
  },
  {
   "cell_type": "markdown",
   "metadata": {
    "id": "ExKcWoM7wRxw"
   },
   "source": [
    "### Observations on Region"
   ]
  },
  {
   "cell_type": "code",
   "execution_count": null,
   "metadata": {
    "id": "bXEZQ7s5wRxw"
   },
   "outputs": [],
   "source": [
    "labeled_barplot(data, \"Region\", perc=True)"
   ]
  },
  {
   "cell_type": "markdown",
   "metadata": {
    "id": "5W4CqQOewRxw"
   },
   "source": [
    "* 38.6% of the website sessions are from customers of Region 1."
   ]
  },
  {
   "cell_type": "markdown",
   "metadata": {
    "id": "km9wSQ7ewRxw"
   },
   "source": [
    "### Observations on TrafficType"
   ]
  },
  {
   "cell_type": "code",
   "execution_count": null,
   "metadata": {
    "id": "nn_WbeT0wRxx"
   },
   "outputs": [],
   "source": [
    "# limiting to only top 5 ocuurences\n",
    "labeled_barplot(data, \"TrafficType\", perc=True, n=5)"
   ]
  },
  {
   "cell_type": "markdown",
   "metadata": {
    "id": "jPbQZ8VcwRxx"
   },
   "source": [
    "* 32% of the traffic on website is of type 2."
   ]
  },
  {
   "cell_type": "markdown",
   "metadata": {
    "id": "5d-i4K5kwRxx"
   },
   "source": [
    "### Observations on Weekend"
   ]
  },
  {
   "cell_type": "code",
   "execution_count": null,
   "metadata": {
    "id": "LYZI7rB1wRxx"
   },
   "outputs": [],
   "source": [
    "labeled_barplot(data, \"Weekend\", perc=True)"
   ]
  },
  {
   "cell_type": "markdown",
   "metadata": {
    "id": "TAqoeN3PwRxy"
   },
   "source": [
    "* 76.6% of the website sessions are on Non-weekend days."
   ]
  },
  {
   "cell_type": "markdown",
   "metadata": {
    "id": "JzYHry9QwRxy"
   },
   "source": [
    "### Observations on Revenue"
   ]
  },
  {
   "cell_type": "code",
   "execution_count": null,
   "metadata": {
    "id": "vDPRVSzbwRxy"
   },
   "outputs": [],
   "source": [
    "labeled_barplot(data, \"Revenue\", perc=True)"
   ]
  },
  {
   "cell_type": "markdown",
   "metadata": {
    "id": "abWiZPuIwRxz"
   },
   "source": [
    "* Website is able to generate revenue from only 15.6% of the customers."
   ]
  },
  {
   "cell_type": "markdown",
   "metadata": {
    "id": "sri4PCULwRxz"
   },
   "source": [
    "### Observations on Administrative"
   ]
  },
  {
   "cell_type": "code",
   "execution_count": null,
   "metadata": {
    "id": "OGVOX2VFwRxz"
   },
   "outputs": [],
   "source": [
    "labeled_barplot(data, \"Administrative\", perc=True, n=10)"
   ]
  },
  {
   "cell_type": "markdown",
   "metadata": {
    "id": "0NM7ylVnwRx0"
   },
   "source": [
    "* 46.2% of the customers have not visited the administrative page."
   ]
  },
  {
   "cell_type": "markdown",
   "metadata": {
    "id": "MzILNefNwRx0"
   },
   "source": [
    "### Observations on Informational"
   ]
  },
  {
   "cell_type": "code",
   "execution_count": null,
   "metadata": {
    "id": "5_Z2hr2gwRx0"
   },
   "outputs": [],
   "source": [
    "labeled_barplot(data, \"Informational\", perc=True, n=10)"
   ]
  },
  {
   "cell_type": "markdown",
   "metadata": {
    "id": "TE3Y5xb0wRx0"
   },
   "source": [
    "* 78.4% of the customers have not visited the Informational page."
   ]
  },
  {
   "cell_type": "markdown",
   "metadata": {
    "id": "HtXnmI-6wRx1"
   },
   "source": [
    "### Observations on ProductRelated"
   ]
  },
  {
   "cell_type": "code",
   "execution_count": null,
   "metadata": {
    "id": "Bf6P_RO6wRx1"
   },
   "outputs": [],
   "source": [
    "labeled_barplot(data, \"ProductRelated\", n=20, perc=True)"
   ]
  },
  {
   "cell_type": "code",
   "execution_count": null,
   "metadata": {
    "id": "u_z8FA7FwRx4"
   },
   "outputs": [],
   "source": [
    "(len(data[data[\"ProductRelated\"] == 0][\"ProductRelated\"]) / len(data)) * 100"
   ]
  },
  {
   "cell_type": "markdown",
   "metadata": {
    "id": "DCMDSMyawRx4"
   },
   "source": [
    "* Only 0.3% of customers have not visited the product related pages."
   ]
  },
  {
   "cell_type": "markdown",
   "metadata": {
    "id": "beo_tDmVhU3-"
   },
   "source": [
    "## Bivariate Analysis"
   ]
  },
  {
   "cell_type": "code",
   "execution_count": null,
   "metadata": {
    "id": "bDU4PQVrwRx5"
   },
   "outputs": [],
   "source": [
    "plt.figure(figsize=(15, 7))\n",
    "sns.heatmap(data.corr(), annot=True, vmin=-1, vmax=1, cmap=\"Spectral\")\n",
    "plt.show()"
   ]
  },
  {
   "cell_type": "markdown",
   "metadata": {
    "id": "4jwsu_bQwRx5"
   },
   "source": [
    "* Revenue shows the highest correlation with PageValues (0.49) simply because PageValues takes in account the pages visited before reaching the 'transaction' page.\n",
    "* Administrative, Informational and ProductRelated pages are correlated with the Administrative, Informational and ProductRelated time durations spent on them which is understandable.\n",
    "* BounceRates and ExitRates are very highly correlated(0.9) with each other."
   ]
  },
  {
   "cell_type": "code",
   "execution_count": null,
   "metadata": {
    "id": "wDhtvZhMwRx5"
   },
   "outputs": [],
   "source": [
    "sns.pairplot(data=data, hue=\"Revenue\")\n",
    "plt.show()"
   ]
  },
  {
   "cell_type": "markdown",
   "metadata": {
    "id": "ythwVQIhwRx6"
   },
   "source": [
    "* We can see varying distributions in variables for revenue, we should investigate it further."
   ]
  },
  {
   "cell_type": "markdown",
   "metadata": {
    "id": "xg99eOqZwRx6"
   },
   "source": [
    "### Revenue vs Administrative, Informational and ProductRelated pages and time spent on these pages"
   ]
  },
  {
   "cell_type": "code",
   "execution_count": null,
   "metadata": {
    "id": "23nstjFKwRx6"
   },
   "outputs": [],
   "source": [
    "cols = data[\n",
    "    [\n",
    "        \"Administrative\",\n",
    "        \"Administrative_Duration\",\n",
    "        \"Informational\",\n",
    "        \"Informational_Duration\",\n",
    "        \"ProductRelated\",\n",
    "        \"ProductRelated_Duration\",\n",
    "    ]\n",
    "].columns.tolist()\n",
    "plt.figure(figsize=(12, 7))\n",
    "\n",
    "for i, variable in enumerate(cols):\n",
    "    plt.subplot(3, 2, i + 1)\n",
    "    sns.boxplot(data[\"Revenue\"], data[variable], palette=\"PuBu\")\n",
    "    plt.tight_layout()\n",
    "    plt.title(variable)\n",
    "plt.show()"
   ]
  },
  {
   "cell_type": "markdown",
   "metadata": {
    "id": "ZJ8mLzrDwRx7"
   },
   "source": [
    "**It is difficult to make an interpretation from the graphs above let's visualize them by removing these outliers (for visualization not from orignal data) to get a better understanding**"
   ]
  },
  {
   "cell_type": "code",
   "execution_count": null,
   "metadata": {
    "id": "JVIggnR5wRx7"
   },
   "outputs": [],
   "source": [
    "cols = data[\n",
    "    [\n",
    "        \"Administrative\",\n",
    "        \"Administrative_Duration\",\n",
    "        \"Informational\",\n",
    "        \"Informational_Duration\",\n",
    "        \"ProductRelated\",\n",
    "        \"ProductRelated_Duration\",\n",
    "    ]\n",
    "].columns.tolist()\n",
    "plt.figure(figsize=(12, 7))\n",
    "\n",
    "for i, variable in enumerate(cols):\n",
    "    plt.subplot(3, 2, i + 1)\n",
    "    sns.boxplot(data[\"Revenue\"], data[variable], palette=\"PuBu\", showfliers=False)\n",
    "    plt.tight_layout()\n",
    "    plt.title(variable)\n",
    "plt.show()"
   ]
  },
  {
   "cell_type": "markdown",
   "metadata": {
    "id": "8szaEW51wRx7"
   },
   "source": [
    "* Customers who have visited Administrative, Informational and ProductRelated pages more times contribute to the revenue as compared to the one's who visited less pages.\n",
    "* Those customers who spend more time on the Administrative, Informational and ProductRelated pages help in generating the revenue.\n",
    "* But in both cases - visiting the page and spending more time on pages have many outliers.\n",
    "* There is clear distinction between the customers - visiting more pages and spending more time on pages contributes to the revenue."
   ]
  },
  {
   "cell_type": "markdown",
   "metadata": {
    "id": "58MoAYqBwRx8"
   },
   "source": [
    "### Revenue vs Bounce Rates,Exit Rates"
   ]
  },
  {
   "cell_type": "code",
   "execution_count": null,
   "metadata": {
    "id": "fExToOkhwRx8"
   },
   "outputs": [],
   "source": [
    "cols = data[['BounceRates','ExitRates']].columns.tolist()\n",
    "plt.figure(figsize=(10,5))\n",
    "\n",
    "for i, variable in enumerate(cols):\n",
    "                     plt.subplot(1,2,i+1)\n",
    "                     sns.boxplot(data[\"Revenue\"],data[variable],palette=\"PuBu\")\n",
    "                     plt.tight_layout()\n",
    "                     plt.title(variable)\n",
    "plt.show()\n"
   ]
  },
  {
   "cell_type": "markdown",
   "metadata": {
    "id": "5quX49u1wRx8"
   },
   "source": [
    "* It is logical that customers who leave the website withouth triggering any response on server(definition of bounce rate) wouldn't be contributing to the revenue, similarly for the exit rates."
   ]
  },
  {
   "cell_type": "markdown",
   "metadata": {
    "id": "vLhLqAocwRx9"
   },
   "source": [
    "### Revenue vs PageValues"
   ]
  },
  {
   "cell_type": "code",
   "execution_count": null,
   "metadata": {
    "id": "eTwh5f0ZwRx9"
   },
   "outputs": [],
   "source": [
    "plt.figure(figsize=(10, 5))\n",
    "sns.boxplot(data[\"Revenue\"], data[\"PageValues\"])\n",
    "plt.show()"
   ]
  },
  {
   "cell_type": "markdown",
   "metadata": {
    "id": "_xApRLCFwRx9"
   },
   "source": [
    "* Higher PageValues means higher contribution to revenue."
   ]
  },
  {
   "cell_type": "markdown",
   "metadata": {
    "id": "2WsQtqDVwRx9"
   },
   "source": [
    "### Revenue vs SpecialDay"
   ]
  },
  {
   "cell_type": "code",
   "execution_count": null,
   "metadata": {
    "id": "YLZa_7QmwRx-"
   },
   "outputs": [],
   "source": [
    "# function to plot stacked bar chart\n",
    "\n",
    "\n",
    "def stacked_barplot(data, predictor, target):\n",
    "    \"\"\"\n",
    "    Print the category counts and plot a stacked bar chart\n",
    "\n",
    "    data: dataframe\n",
    "    predictor: independent variable\n",
    "    target: target variable\n",
    "    \"\"\"\n",
    "    count = data[predictor].nunique()\n",
    "    sorter = data[target].value_counts().index[-1]\n",
    "    tab1 = pd.crosstab(data[predictor], data[target], margins=True).sort_values(\n",
    "        by=sorter, ascending=False\n",
    "    )\n",
    "    print(tab1)\n",
    "    print(\"-\" * 120)\n",
    "    tab = pd.crosstab(data[predictor], data[target], normalize=\"index\").sort_values(\n",
    "        by=sorter, ascending=False\n",
    "    )\n",
    "    tab.plot(kind=\"bar\", stacked=True, figsize=(count + 5, 6))\n",
    "    plt.legend(\n",
    "        loc=\"lower left\", frameon=False,\n",
    "    )\n",
    "    plt.legend(loc=\"upper left\", bbox_to_anchor=(1, 1))\n",
    "    plt.show()"
   ]
  },
  {
   "cell_type": "code",
   "execution_count": null,
   "metadata": {
    "id": "-svoRhEHwRx-"
   },
   "outputs": [],
   "source": [
    "stacked_barplot(data, \"SpecialDay\", \"Revenue\")"
   ]
  },
  {
   "cell_type": "markdown",
   "metadata": {
    "id": "ZMZ4iv1lwRx-"
   },
   "source": [
    "* Regular days contribute more to the revenue instead of special occasions which is understandable as most days are non-special days, but there are very few conversion sessions on special days."
   ]
  },
  {
   "cell_type": "markdown",
   "metadata": {
    "id": "G1HZL-6TwRx_"
   },
   "source": [
    "### Revenue vs Month"
   ]
  },
  {
   "cell_type": "code",
   "execution_count": null,
   "metadata": {
    "id": "YTEOl_YzwRx_"
   },
   "outputs": [],
   "source": [
    "stacked_barplot(data, \"Month\", \"Revenue\")"
   ]
  },
  {
   "cell_type": "markdown",
   "metadata": {
    "id": "2fTOQgtawRx_"
   },
   "source": [
    "* November and May are the months with largest contributions in the revenue.\n",
    "* There are lesser sessions in November as compared to May but more conversions."
   ]
  },
  {
   "cell_type": "code",
   "execution_count": null,
   "metadata": {
    "id": "vfF9J2s0wRx_"
   },
   "outputs": [],
   "source": [
    "revenue_data = data[data[\"Revenue\"] == True]\n",
    "revenue_data.groupby([\"Month\", \"SpecialDay\"])[\"Revenue\"].count()"
   ]
  },
  {
   "cell_type": "markdown",
   "metadata": {
    "id": "ssDJ-ynawRyA"
   },
   "source": [
    "* Revenue sessions on or around Special day were only observed in May, this means website is not able to capitalize on the special occasions."
   ]
  },
  {
   "cell_type": "markdown",
   "metadata": {
    "id": "om6_-NNXwRyA"
   },
   "source": [
    "### Revenue vs OperatingSystems"
   ]
  },
  {
   "cell_type": "code",
   "execution_count": null,
   "metadata": {
    "id": "hsNaiQsJwRyA"
   },
   "outputs": [],
   "source": [
    "stacked_barplot(data, \"OperatingSystems\", \"Revenue\")"
   ]
  },
  {
   "cell_type": "markdown",
   "metadata": {
    "id": "hKot5IAzwRyA"
   },
   "source": [
    "* Custoemrs using operating system '2' are the highest contributors to revenue, approximately 20% (1155)."
   ]
  },
  {
   "cell_type": "markdown",
   "metadata": {
    "id": "wbJjrHDXwRyB"
   },
   "source": [
    "### Revenue vs Browser"
   ]
  },
  {
   "cell_type": "code",
   "execution_count": null,
   "metadata": {
    "id": "RQ8-9Jx-wRyB"
   },
   "outputs": [],
   "source": [
    "stacked_barplot(data, \"Browser\", \"Revenue\")"
   ]
  },
  {
   "cell_type": "markdown",
   "metadata": {
    "id": "Bzw2Az72wRyB"
   },
   "source": [
    "* Approximately 20%(1223 customers) of cutomers using Browser '2' contribute to the revenue."
   ]
  },
  {
   "cell_type": "markdown",
   "metadata": {
    "id": "kpOb2YWzwRyB"
   },
   "source": [
    "### Revenue vs Region"
   ]
  },
  {
   "cell_type": "code",
   "execution_count": null,
   "metadata": {
    "id": "uJuq_1n4wRyC"
   },
   "outputs": [],
   "source": [
    "stacked_barplot(data, \"Region\", \"Revenue\")"
   ]
  },
  {
   "cell_type": "markdown",
   "metadata": {
    "id": "IKVga94awRyE"
   },
   "source": [
    "* There is a similar distrbution in regions."
   ]
  },
  {
   "cell_type": "code",
   "execution_count": null,
   "metadata": {
    "id": "_lWrJNakwRyF"
   },
   "outputs": [],
   "source": [
    "stacked_barplot(data, \"TrafficType\", \"Revenue\")"
   ]
  },
  {
   "cell_type": "markdown",
   "metadata": {
    "id": "49aHEKYqwRyF"
   },
   "source": [
    "* There is a varying pattern of revenue sessions among different traffic sources, although traffic coming source 2 has the highest proportion of revenue sessions."
   ]
  },
  {
   "cell_type": "markdown",
   "metadata": {
    "id": "ma63MwfRwRyF"
   },
   "source": [
    "### Revenue vs VisitorType"
   ]
  },
  {
   "cell_type": "code",
   "execution_count": null,
   "metadata": {
    "id": "IIbIDwp2wRyG"
   },
   "outputs": [],
   "source": [
    "stacked_barplot(data, \"VisitorType\", \"Revenue\")"
   ]
  },
  {
   "cell_type": "markdown",
   "metadata": {
    "id": "kr-AWOBzwRyG"
   },
   "source": [
    "* Returning customers are the largest contributors to the revenue but interestingly New visitors end up having more conversion sessions."
   ]
  },
  {
   "cell_type": "markdown",
   "metadata": {
    "id": "7WTSMR85wRyG"
   },
   "source": [
    "### Revenue vs Weekend"
   ]
  },
  {
   "cell_type": "code",
   "execution_count": null,
   "metadata": {
    "id": "424BQiKTwRyH"
   },
   "outputs": [],
   "source": [
    "stacked_barplot(data, \"Weekend\", \"Revenue\")"
   ]
  },
  {
   "cell_type": "markdown",
   "metadata": {
    "id": "oDWVqXHDwRyH"
   },
   "source": [
    "* There is not much difference in weekend and week-day sessions."
   ]
  },
  {
   "cell_type": "markdown",
   "metadata": {
    "id": "AadmQC4WwRyH"
   },
   "source": [
    "### Customer-Level Analysis"
   ]
  },
  {
   "cell_type": "code",
   "execution_count": null,
   "metadata": {
    "id": "NZ1a3EMVwRyH"
   },
   "outputs": [],
   "source": [
    "cols = data[\n",
    "    [\n",
    "        \"Administrative\",\n",
    "        \"Administrative_Duration\",\n",
    "        \"Informational\",\n",
    "        \"Informational_Duration\",\n",
    "        \"ProductRelated\",\n",
    "        \"ProductRelated_Duration\",\n",
    "    ]\n",
    "].columns.tolist()\n",
    "plt.figure(figsize=(12, 10))\n",
    "\n",
    "for i, variable in enumerate(cols):\n",
    "    plt.subplot(4, 2, i + 1)\n",
    "    sns.boxplot(\n",
    "        data[\"VisitorType\"],\n",
    "        data[variable],\n",
    "        hue=data[\"Revenue\"],\n",
    "        palette=\"PuBu\",\n",
    "        showfliers=False,  # turning-off outliers\n",
    "    )\n",
    "    plt.tight_layout()\n",
    "    plt.legend(loc=\"upper left\", bbox_to_anchor=(1, 1))\n",
    "    plt.title(variable)\n",
    "plt.show()"
   ]
  },
  {
   "cell_type": "markdown",
   "metadata": {
    "id": "JzUE5dxIwRyI"
   },
   "source": [
    "* New visitors who have visited more administrative pages and spent more time on them have not contributed to the revenue - This indicates that the administrative pages need to be user friendly and simplified.\n",
    "* Returning customers visiting informational pages have contributed to revenue - The informational pages are doing well to provide customers with all the required information.\n",
    "* ProductRelated pages are doing a fair job."
   ]
  },
  {
   "cell_type": "code",
   "execution_count": null,
   "metadata": {
    "id": "UeWjakOawRyI"
   },
   "outputs": [],
   "source": [
    "stacked_barplot(data, \"Month\", \"VisitorType\")"
   ]
  },
  {
   "cell_type": "markdown",
   "metadata": {
    "id": "akjOl196wRyJ"
   },
   "source": [
    "* November and December saw most new customers, but the proportion of new customers to returning customers is highest in October and September."
   ]
  },
  {
   "cell_type": "markdown",
   "metadata": {
    "id": "R4Ejf5yOwRyJ"
   },
   "source": [
    "### To jump back to the EDA summary section, click [here](#eda)."
   ]
  },
  {
   "cell_type": "markdown",
   "metadata": {
    "id": "WTVuVFjuwRyJ"
   },
   "source": [
    "### To jump back to the Data preparation section, click [here](#data_preparation)."
   ]
  }
 ],
 "metadata": {
  "colab": {
   "provenance": [],
   "toc_visible": true
  },
  "kernelspec": {
   "display_name": "Python 3 (ipykernel)",
   "language": "python",
   "name": "python3"
  },
  "language_info": {
   "codemirror_mode": {
    "name": "ipython",
    "version": 3
   },
   "file_extension": ".py",
   "mimetype": "text/x-python",
   "name": "python",
   "nbconvert_exporter": "python",
   "pygments_lexer": "ipython3",
   "version": "3.10.12"
  }
 },
 "nbformat": 4,
 "nbformat_minor": 4
}
