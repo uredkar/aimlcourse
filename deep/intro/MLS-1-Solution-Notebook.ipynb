{
 "cells": [
  {
   "cell_type": "markdown",
   "metadata": {
    "id": "kf37d5GRU4PU"
   },
   "source": [
    "### **Context**\n",
    "\n",
    "The production rates of cars have been rising progressively during the past decade, with almost 92 million cars\n",
    "being produced in the year 2019. This big rise has allowed the used car market to now come\n",
    "into the picture as a growing industry. The manufacture fixes the costs of recent cars within the industry together with some additional costs that are\n",
    "incurred by the govt. majorly within the various types of taxes. So, customers that buy a replacement car remain\n",
    "assured of the money that they invest to be righteous. But because of such increase in prices of the new\n",
    "cars and therefore the inability of the many customers to shop for a replacement car thanks to the dearth of\n",
    "sufficient funds, they like used cars which has resulted into a world increase within the sales of used cars.\n",
    "Therefore, there's a necessity to possess a second hand car price prediction model to accurately determine the\n",
    "worthiness of the car considering a range of features."
   ]
  },
  {
   "cell_type": "markdown",
   "metadata": {
    "id": "783YLK7Fe7yV"
   },
   "source": [
    "## **Problem statement**\n",
    "\n",
    "A company named **Ucars** predicts the price of used cars. Lots of customers approach them to get an estimate of the price of the used car that they want to buy. You working aa a Data Scientist in the Ucars team developing the model that can predict the price of these used cars."
   ]
  },
  {
   "cell_type": "markdown",
   "metadata": {
    "id": "IwAnuKeBgyhF"
   },
   "source": [
    "#### **Data Dictionary**\n",
    "\n",
    "We are using the cars dataset from Kaggle, and the description of the features is given below:\n",
    "\n",
    "**Model**: The brand and model of the car\n",
    "\n",
    "**Year**: The year or edition of the model\n",
    "\n",
    "**Transmission**: The type of transmission used by the car (Automatic / Manual)\n",
    "\n",
    "**Mileage**: The standard mileage offered by the car company in kmpl or km/kg\n",
    "\n",
    "**Price**: The price of the car\n",
    "\n",
    "**Color**: Color of the car"
   ]
  },
  {
   "cell_type": "markdown",
   "metadata": {
    "id": "ykQXiPSPF_rf"
   },
   "source": [
    " Now, let us install the latest version of tensorflow.\n"
   ]
  },
  {
   "cell_type": "code",
   "execution_count": null,
   "metadata": {
    "colab": {
     "base_uri": "https://localhost:8080/"
    },
    "id": "tvNefLdVoZNz",
    "outputId": "9dd44f61-e126-4590-d597-2445758f0422"
   },
   "outputs": [
    {
     "name": "stdout",
     "output_type": "stream",
     "text": [
      "Requirement already satisfied: tensorflow in /usr/local/lib/python3.7/dist-packages (2.5.0)\n",
      "Requirement already satisfied: flatbuffers~=1.12.0 in /usr/local/lib/python3.7/dist-packages (from tensorflow) (1.12)\n",
      "Requirement already satisfied: six~=1.15.0 in /usr/local/lib/python3.7/dist-packages (from tensorflow) (1.15.0)\n",
      "Requirement already satisfied: termcolor~=1.1.0 in /usr/local/lib/python3.7/dist-packages (from tensorflow) (1.1.0)\n",
      "Requirement already satisfied: protobuf>=3.9.2 in /usr/local/lib/python3.7/dist-packages (from tensorflow) (3.12.4)\n",
      "Requirement already satisfied: typing-extensions~=3.7.4 in /usr/local/lib/python3.7/dist-packages (from tensorflow) (3.7.4.3)\n",
      "Requirement already satisfied: keras-nightly~=2.5.0.dev in /usr/local/lib/python3.7/dist-packages (from tensorflow) (2.5.0.dev2021032900)\n",
      "Requirement already satisfied: tensorboard~=2.5 in /usr/local/lib/python3.7/dist-packages (from tensorflow) (2.5.0)\n",
      "Requirement already satisfied: opt-einsum~=3.3.0 in /usr/local/lib/python3.7/dist-packages (from tensorflow) (3.3.0)\n",
      "Requirement already satisfied: h5py~=3.1.0 in /usr/local/lib/python3.7/dist-packages (from tensorflow) (3.1.0)\n",
      "Requirement already satisfied: gast==0.4.0 in /usr/local/lib/python3.7/dist-packages (from tensorflow) (0.4.0)\n",
      "Requirement already satisfied: wheel~=0.35 in /usr/local/lib/python3.7/dist-packages (from tensorflow) (0.36.2)\n",
      "Requirement already satisfied: tensorflow-estimator<2.6.0,>=2.5.0rc0 in /usr/local/lib/python3.7/dist-packages (from tensorflow) (2.5.0)\n",
      "Requirement already satisfied: keras-preprocessing~=1.1.2 in /usr/local/lib/python3.7/dist-packages (from tensorflow) (1.1.2)\n",
      "Requirement already satisfied: absl-py~=0.10 in /usr/local/lib/python3.7/dist-packages (from tensorflow) (0.12.0)\n",
      "Requirement already satisfied: grpcio~=1.34.0 in /usr/local/lib/python3.7/dist-packages (from tensorflow) (1.34.1)\n",
      "Requirement already satisfied: astunparse~=1.6.3 in /usr/local/lib/python3.7/dist-packages (from tensorflow) (1.6.3)\n",
      "Requirement already satisfied: google-pasta~=0.2 in /usr/local/lib/python3.7/dist-packages (from tensorflow) (0.2.0)\n",
      "Requirement already satisfied: numpy~=1.19.2 in /usr/local/lib/python3.7/dist-packages (from tensorflow) (1.19.5)\n",
      "Requirement already satisfied: wrapt~=1.12.1 in /usr/local/lib/python3.7/dist-packages (from tensorflow) (1.12.1)\n",
      "Requirement already satisfied: setuptools in /usr/local/lib/python3.7/dist-packages (from protobuf>=3.9.2->tensorflow) (57.0.0)\n",
      "Requirement already satisfied: markdown>=2.6.8 in /usr/local/lib/python3.7/dist-packages (from tensorboard~=2.5->tensorflow) (3.3.4)\n",
      "Requirement already satisfied: tensorboard-plugin-wit>=1.6.0 in /usr/local/lib/python3.7/dist-packages (from tensorboard~=2.5->tensorflow) (1.8.0)\n",
      "Requirement already satisfied: tensorboard-data-server<0.7.0,>=0.6.0 in /usr/local/lib/python3.7/dist-packages (from tensorboard~=2.5->tensorflow) (0.6.1)\n",
      "Requirement already satisfied: requests<3,>=2.21.0 in /usr/local/lib/python3.7/dist-packages (from tensorboard~=2.5->tensorflow) (2.23.0)\n",
      "Requirement already satisfied: werkzeug>=0.11.15 in /usr/local/lib/python3.7/dist-packages (from tensorboard~=2.5->tensorflow) (1.0.1)\n",
      "Requirement already satisfied: google-auth-oauthlib<0.5,>=0.4.1 in /usr/local/lib/python3.7/dist-packages (from tensorboard~=2.5->tensorflow) (0.4.4)\n",
      "Requirement already satisfied: google-auth<2,>=1.6.3 in /usr/local/lib/python3.7/dist-packages (from tensorboard~=2.5->tensorflow) (1.31.0)\n",
      "Requirement already satisfied: cached-property; python_version < \"3.8\" in /usr/local/lib/python3.7/dist-packages (from h5py~=3.1.0->tensorflow) (1.5.2)\n",
      "Requirement already satisfied: importlib-metadata; python_version < \"3.8\" in /usr/local/lib/python3.7/dist-packages (from markdown>=2.6.8->tensorboard~=2.5->tensorflow) (4.5.0)\n",
      "Requirement already satisfied: idna<3,>=2.5 in /usr/local/lib/python3.7/dist-packages (from requests<3,>=2.21.0->tensorboard~=2.5->tensorflow) (2.10)\n",
      "Requirement already satisfied: urllib3!=1.25.0,!=1.25.1,<1.26,>=1.21.1 in /usr/local/lib/python3.7/dist-packages (from requests<3,>=2.21.0->tensorboard~=2.5->tensorflow) (1.24.3)\n",
      "Requirement already satisfied: chardet<4,>=3.0.2 in /usr/local/lib/python3.7/dist-packages (from requests<3,>=2.21.0->tensorboard~=2.5->tensorflow) (3.0.4)\n",
      "Requirement already satisfied: certifi>=2017.4.17 in /usr/local/lib/python3.7/dist-packages (from requests<3,>=2.21.0->tensorboard~=2.5->tensorflow) (2021.5.30)\n",
      "Requirement already satisfied: requests-oauthlib>=0.7.0 in /usr/local/lib/python3.7/dist-packages (from google-auth-oauthlib<0.5,>=0.4.1->tensorboard~=2.5->tensorflow) (1.3.0)\n",
      "Requirement already satisfied: cachetools<5.0,>=2.0.0 in /usr/local/lib/python3.7/dist-packages (from google-auth<2,>=1.6.3->tensorboard~=2.5->tensorflow) (4.2.2)\n",
      "Requirement already satisfied: pyasn1-modules>=0.2.1 in /usr/local/lib/python3.7/dist-packages (from google-auth<2,>=1.6.3->tensorboard~=2.5->tensorflow) (0.2.8)\n",
      "Requirement already satisfied: rsa<5,>=3.1.4; python_version >= \"3.6\" in /usr/local/lib/python3.7/dist-packages (from google-auth<2,>=1.6.3->tensorboard~=2.5->tensorflow) (4.7.2)\n",
      "Requirement already satisfied: zipp>=0.5 in /usr/local/lib/python3.7/dist-packages (from importlib-metadata; python_version < \"3.8\"->markdown>=2.6.8->tensorboard~=2.5->tensorflow) (3.4.1)\n",
      "Requirement already satisfied: oauthlib>=3.0.0 in /usr/local/lib/python3.7/dist-packages (from requests-oauthlib>=0.7.0->google-auth-oauthlib<0.5,>=0.4.1->tensorboard~=2.5->tensorflow) (3.1.1)\n",
      "Requirement already satisfied: pyasn1<0.5.0,>=0.4.6 in /usr/local/lib/python3.7/dist-packages (from pyasn1-modules>=0.2.1->google-auth<2,>=1.6.3->tensorboard~=2.5->tensorflow) (0.4.8)\n"
     ]
    }
   ],
   "source": [
    "!pip install tensorflow"
   ]
  },
  {
   "cell_type": "markdown",
   "metadata": {
    "id": "ycFapGk6GTSi"
   },
   "source": [
    "#### Import required libraries"
   ]
  },
  {
   "cell_type": "code",
   "execution_count": 1,
   "metadata": {},
   "outputs": [],
   "source": [
    "# Libraries to help with reading and manipulating data\n",
    "import pandas as pd\n",
    "import numpy as np\n",
    "# Library to split data\n",
    "from sklearn.model_selection import train_test_split\n",
    "# Library to encode the variables\n",
    "from sklearn import preprocessing\n",
    "# To plot confusion matrix\n",
    "from sklearn.metrics import confusion_matrix\n",
    "# libaries to help with data visualization\n",
    "import matplotlib.pyplot as plt\n",
    "import seaborn as sns\n",
    "# library to import to standardize the data\n",
    "from sklearn.preprocessing import StandardScaler\n",
    "#To import different metrics \n",
    "from sklearn import metrics\n",
    "import sklearn \n",
    "from tensorflow.keras import backend\n",
    "# Library to avoid the warnings\n",
    "import warnings\n",
    "warnings.filterwarnings(\"ignore\")\n",
    "# importing different functions to build models\n",
    "from tensorflow.keras.models import Sequential\n",
    "from tensorflow.keras.layers import Dense\n",
    "import tensorflow as tf"
   ]
  },
  {
   "cell_type": "markdown",
   "metadata": {
    "id": "fBYVOvFIkfdm"
   },
   "source": [
    "#### Reading the Dataset"
   ]
  },
  {
   "cell_type": "code",
   "execution_count": 2,
   "metadata": {},
   "outputs": [
    {
     "data": {
      "text/html": [
       "<div>\n",
       "<style scoped>\n",
       "    .dataframe tbody tr th:only-of-type {\n",
       "        vertical-align: middle;\n",
       "    }\n",
       "\n",
       "    .dataframe tbody tr th {\n",
       "        vertical-align: top;\n",
       "    }\n",
       "\n",
       "    .dataframe thead th {\n",
       "        text-align: right;\n",
       "    }\n",
       "</style>\n",
       "<table border=\"1\" class=\"dataframe\">\n",
       "  <thead>\n",
       "    <tr style=\"text-align: right;\">\n",
       "      <th></th>\n",
       "      <th>year</th>\n",
       "      <th>model</th>\n",
       "      <th>price</th>\n",
       "      <th>mileage</th>\n",
       "      <th>color</th>\n",
       "      <th>transmission</th>\n",
       "    </tr>\n",
       "  </thead>\n",
       "  <tbody>\n",
       "    <tr>\n",
       "      <th>0</th>\n",
       "      <td>2011</td>\n",
       "      <td>SEL</td>\n",
       "      <td>21992</td>\n",
       "      <td>7413</td>\n",
       "      <td>Gray</td>\n",
       "      <td>AUTO</td>\n",
       "    </tr>\n",
       "    <tr>\n",
       "      <th>1</th>\n",
       "      <td>2011</td>\n",
       "      <td>SEL</td>\n",
       "      <td>20995</td>\n",
       "      <td>10926</td>\n",
       "      <td>Gray</td>\n",
       "      <td>AUTO</td>\n",
       "    </tr>\n",
       "    <tr>\n",
       "      <th>2</th>\n",
       "      <td>2011</td>\n",
       "      <td>SEL</td>\n",
       "      <td>19995</td>\n",
       "      <td>7351</td>\n",
       "      <td>Silver</td>\n",
       "      <td>AUTO</td>\n",
       "    </tr>\n",
       "    <tr>\n",
       "      <th>3</th>\n",
       "      <td>2011</td>\n",
       "      <td>SEL</td>\n",
       "      <td>17809</td>\n",
       "      <td>11613</td>\n",
       "      <td>Gray</td>\n",
       "      <td>AUTO</td>\n",
       "    </tr>\n",
       "    <tr>\n",
       "      <th>4</th>\n",
       "      <td>2011</td>\n",
       "      <td>SE</td>\n",
       "      <td>17500</td>\n",
       "      <td>8367</td>\n",
       "      <td>White</td>\n",
       "      <td>AUTO</td>\n",
       "    </tr>\n",
       "  </tbody>\n",
       "</table>\n",
       "</div>"
      ],
      "text/plain": [
       "   year model  price  mileage   color transmission\n",
       "0  2011   SEL  21992     7413    Gray         AUTO\n",
       "1  2011   SEL  20995    10926    Gray         AUTO\n",
       "2  2011   SEL  19995     7351  Silver         AUTO\n",
       "3  2011   SEL  17809    11613    Gray         AUTO\n",
       "4  2011    SE  17500     8367   White         AUTO"
      ]
     },
     "execution_count": 2,
     "metadata": {},
     "output_type": "execute_result"
    }
   ],
   "source": [
    "cars_data = pd.read_csv('usedcars.csv')\n",
    "cars_data.head()"
   ]
  },
  {
   "cell_type": "markdown",
   "metadata": {
    "id": "TSs1V-H6Mqpl"
   },
   "source": [
    "##### Overview of Dataset"
   ]
  },
  {
   "cell_type": "markdown",
   "metadata": {
    "id": "0-FOadOi4aU1"
   },
   "source": [
    "Let's check the null values in each column of the dataset"
   ]
  },
  {
   "cell_type": "code",
   "execution_count": 3,
   "metadata": {
    "colab": {
     "base_uri": "https://localhost:8080/"
    },
    "id": "nX1zbyI75RMi",
    "outputId": "562982f3-3a21-410f-ff18-a3785bfab8ba"
   },
   "outputs": [
    {
     "data": {
      "text/plain": [
       "year            0\n",
       "model           0\n",
       "price           0\n",
       "mileage         0\n",
       "color           0\n",
       "transmission    0\n",
       "dtype: int64"
      ]
     },
     "execution_count": 3,
     "metadata": {},
     "output_type": "execute_result"
    }
   ],
   "source": [
    "cars_data.isna().sum()"
   ]
  },
  {
   "cell_type": "markdown",
   "metadata": {
    "id": "EqHbbtu2ii7k"
   },
   "source": [
    "* As you can see, there are no null values in any of the column"
   ]
  },
  {
   "cell_type": "markdown",
   "metadata": {
    "id": "OKflWRQOkUyJ"
   },
   "source": [
    "Exploring the column names"
   ]
  },
  {
   "cell_type": "code",
   "execution_count": 4,
   "metadata": {
    "colab": {
     "base_uri": "https://localhost:8080/"
    },
    "id": "y4YBIUaZ5zG4",
    "outputId": "fd518475-07a0-443f-99dd-8bd2198bf9ec"
   },
   "outputs": [
    {
     "data": {
      "text/plain": [
       "Index(['year', 'model', 'price', 'mileage', 'color', 'transmission'], dtype='object')"
      ]
     },
     "execution_count": 4,
     "metadata": {},
     "output_type": "execute_result"
    }
   ],
   "source": [
    "cars_data.columns"
   ]
  },
  {
   "cell_type": "markdown",
   "metadata": {
    "id": "2LzGCuYnieMm"
   },
   "source": [
    "### Univariate Analysis"
   ]
  },
  {
   "cell_type": "markdown",
   "metadata": {
    "id": "Yn6vpOVVFpeP"
   },
   "source": [
    "It’s always good to get some insight about the target variable. The target or dependent variable is price in our case.\n"
   ]
  },
  {
   "cell_type": "code",
   "execution_count": 5,
   "metadata": {
    "colab": {
     "base_uri": "https://localhost:8080/"
    },
    "id": "_ggwGlB_E_mD",
    "outputId": "ab330cb4-cc57-408b-e62e-59c7e2e4993e"
   },
   "outputs": [
    {
     "name": "stdout",
     "output_type": "stream",
     "text": [
      "12961.933333333332\n",
      "13591.5\n"
     ]
    }
   ],
   "source": [
    "df=cars_data\n",
    "print(df.price.mean())\n",
    "print(df.price.median())"
   ]
  },
  {
   "cell_type": "markdown",
   "metadata": {
    "id": "jP0_SbMEFx68"
   },
   "source": [
    "Mean is slightly  lesser than median which indicates there are few outliers or extreme values. Let’s also check maximum and minimum values:"
   ]
  },
  {
   "cell_type": "code",
   "execution_count": 6,
   "metadata": {
    "colab": {
     "base_uri": "https://localhost:8080/"
    },
    "id": "zMfZWVhYFCzL",
    "outputId": "8090d709-e306-486b-acbe-531b49d68c58"
   },
   "outputs": [
    {
     "name": "stdout",
     "output_type": "stream",
     "text": [
      "21992\n",
      "3800\n"
     ]
    }
   ],
   "source": [
    "print(df.price.max())\n",
    "print(df.price.min())"
   ]
  },
  {
   "cell_type": "code",
   "execution_count": 7,
   "metadata": {
    "id": "-HV0zdqSo0xO"
   },
   "outputs": [],
   "source": [
    "# function to plot a boxplot and a histogram along the same scale.\n",
    "\n",
    "\n",
    "def histogram_boxplot(data, feature, figsize=(12, 7), kde=False, bins=None):\n",
    "    \"\"\"\n",
    "    Boxplot and histogram combined\n",
    "\n",
    "    data: dataframe\n",
    "    feature: dataframe column\n",
    "    figsize: size of figure (default (12,7))\n",
    "    kde: whether to show the density curve (default False)\n",
    "    bins: number of bins for histogram (default None)\n",
    "    \"\"\"\n",
    "    f2, (ax_box2, ax_hist2) = plt.subplots(\n",
    "        nrows=2,  # Number of rows of the subplot grid= 2\n",
    "        sharex=True,  # x-axis will be shared among all subplots\n",
    "        gridspec_kw={\"height_ratios\": (0.25, 0.75)},\n",
    "        figsize=figsize,\n",
    "    )  # creating the 2 subplots\n",
    "    sns.boxplot(\n",
    "        data=data, x=feature, ax=ax_box2, showmeans=True, color=\"violet\"\n",
    "    )  # boxplot will be created and a star will indicate the mean value of the column\n",
    "    sns.histplot(\n",
    "        data=data, x=feature, kde=kde, ax=ax_hist2, bins=bins, palette=\"winter\"\n",
    "    ) if bins else sns.histplot(\n",
    "        data=data, x=feature, kde=kde, ax=ax_hist2\n",
    "    )  # For histogram\n",
    "    ax_hist2.axvline(\n",
    "        data[feature].mean(), color=\"green\", linestyle=\"--\"\n",
    "    )  # Add mean to the histogram\n",
    "    ax_hist2.axvline(\n",
    "        data[feature].median(), color=\"black\", linestyle=\"-\"\n",
    "    )  # Add median to the histogram"
   ]
  },
  {
   "cell_type": "code",
   "execution_count": 8,
   "metadata": {
    "colab": {
     "base_uri": "https://localhost:8080/"
    },
    "id": "bFWNtRk4o8Ud",
    "outputId": "0fa412dc-1063-481d-a4a3-d25098e83972"
   },
   "outputs": [
    {
     "data": {
      "image/png": "[encoded data removed]",
      "text/plain": [
       "<Figure size 864x504 with 2 Axes>"
      ]
     },
     "metadata": {
      "needs_background": "light"
     },
     "output_type": "display_data"
    }
   ],
   "source": [
    "histogram_boxplot(df, \"price\")"
   ]
  },
  {
   "cell_type": "markdown",
   "metadata": {
    "id": "DpPhF8aZGeL8"
   },
   "source": [
    "It can be seen from the graph that the data is looking approx symmetric and the peak is around 10000-15000. Another way of checking the distribution and outliers is boxplot:"
   ]
  },
  {
   "cell_type": "markdown",
   "metadata": {
    "id": "6FEJ78DGLoVP"
   },
   "source": [
    "#### Removing Outliers \n",
    "\n",
    "Dependent variable \"price\" contains  4 data points which are outliers. The loss function which will be used for regression is MSE and it tries to model the mean of the dependent variable. Having outliers in the response variable might give biased model. Let's remove these data points .\n",
    "\n",
    "\n",
    "\n"
   ]
  },
  {
   "cell_type": "code",
   "execution_count": 9,
   "metadata": {
    "id": "yI8NP_tGKC-k"
   },
   "outputs": [],
   "source": [
    "#Removing the outlier datapoints because these point might disrupt the modelling\n",
    "df.drop(df[df.price>20000].index,inplace=True,axis=0)"
   ]
  },
  {
   "cell_type": "markdown",
   "metadata": {
    "id": "7u__iOsOijWW"
   },
   "source": [
    "### Bivariate analysis"
   ]
  },
  {
   "cell_type": "markdown",
   "metadata": {
    "id": "eGEUMkqqX6DZ"
   },
   "source": [
    "Manual and Automatic Cars"
   ]
  },
  {
   "cell_type": "code",
   "execution_count": 10,
   "metadata": {
    "colab": {
     "base_uri": "https://localhost:8080/"
    },
    "id": "ILfsLrekURMt",
    "outputId": "fe5e04aa-bb32-4a6f-f2a3-afbcb676bd03"
   },
   "outputs": [
    {
     "data": {
      "image/png": "[encoded data removed]",
      "text/plain": [
       "<Figure size 834.75x756 with 12 Axes>"
      ]
     },
     "metadata": {
      "needs_background": "light"
     },
     "output_type": "display_data"
    }
   ],
   "source": [
    "sns.pairplot(df,hue = 'transmission',diag_kind = \"kde\",kind = \"scatter\",palette = \"husl\",height=3.5)\n",
    "plt.show()"
   ]
  },
  {
   "cell_type": "markdown",
   "metadata": {
    "id": "OlKxUNMtWEem"
   },
   "source": [
    "We can see that automatic cars have higher price range than manual type cars though the distribution of automatic cars were skewed to the right. We can also see the increament in price of automatic cars between 2010 and 2015. "
   ]
  },
  {
   "cell_type": "markdown",
   "metadata": {
    "id": "Ee3q4POBFDFo"
   },
   "source": [
    "Let’s try to have a quick look at the joint distribution of a few pairs of columns from the training set."
   ]
  },
  {
   "cell_type": "code",
   "execution_count": 11,
   "metadata": {
    "colab": {
     "base_uri": "https://localhost:8080/"
    },
    "id": "LaOcz09Dk2Ql",
    "outputId": "8de3d7db-65d5-4938-c477-713dc9867cf1"
   },
   "outputs": [
    {
     "data": {
      "text/plain": [
       "<seaborn.axisgrid.PairGrid at 0x20bb3277100>"
      ]
     },
     "execution_count": 11,
     "metadata": {},
     "output_type": "execute_result"
    },
    {
     "data": {
      "image/png": "[encoded data removed]",
      "text/plain": [
       "<Figure size 540x540 with 12 Axes>"
      ]
     },
     "metadata": {
      "needs_background": "light"
     },
     "output_type": "display_data"
    }
   ],
   "source": [
    "sns.pairplot(df[['year', 'price', 'mileage']], diag_kind=\"kde\")"
   ]
  },
  {
   "cell_type": "markdown",
   "metadata": {
    "id": "3HECmt2Wpmx0"
   },
   "source": [
    "* year and price have some amount of linear relationship which means cars which are manufactured recently are costly\n",
    "\n",
    "* price and mileage are having linear relationship with negative slope which means costly cars have less mileage."
   ]
  },
  {
   "cell_type": "markdown",
   "metadata": {
    "id": "3ltIeMQD6zK5"
   },
   "source": [
    "Lets visualize  the correlation between the features "
   ]
  },
  {
   "cell_type": "code",
   "execution_count": 12,
   "metadata": {},
   "outputs": [
    {
     "data": {
      "text/plain": [
       "<AxesSubplot:>"
      ]
     },
     "execution_count": 12,
     "metadata": {},
     "output_type": "execute_result"
    },
    {
     "data": {
      "image/png": "[encoded data removed]",
      "text/plain": [
       "<Figure size 1080x1080 with 2 Axes>"
      ]
     },
     "metadata": {
      "needs_background": "light"
     },
     "output_type": "display_data"
    }
   ],
   "source": [
    "fig, ax = plt.subplots(figsize=(15,15))\n",
    "sns.heatmap(df.corr(),cmap=\"Spectral\",ax=ax,annot=True)"
   ]
  },
  {
   "cell_type": "markdown",
   "metadata": {
    "id": "Up-Jb9QmoV2V"
   },
   "source": [
    "* year and price are having high positive correlation. \n",
    "\n",
    "* mileage and price are having high negative corrlation. \n",
    "\n",
    "* year and mileage are having high negative correlation.\n"
   ]
  },
  {
   "cell_type": "markdown",
   "metadata": {
    "id": "ISvXubVWmeee"
   },
   "source": [
    "### Separate the features from labels\n",
    "\n"
   ]
  },
  {
   "cell_type": "code",
   "execution_count": 13,
   "metadata": {
    "id": "8Glng4BjmvBr"
   },
   "outputs": [],
   "source": [
    "#getting the features and labels and finally splitting the test and train data.\n",
    "X = df.drop('price',axis=1)\n",
    "Y = df['price']"
   ]
  },
  {
   "cell_type": "markdown",
   "metadata": {
    "id": "uA0vS4tHm4tg"
   },
   "source": [
    "#### Splitting the dataset"
   ]
  },
  {
   "cell_type": "code",
   "execution_count": 14,
   "metadata": {
    "id": "xhihQaPY6LfN"
   },
   "outputs": [],
   "source": [
    "#Splitting the training and test set\n",
    "X_train, X_test, y_train, y_test = train_test_split(X, Y, test_size=0.30, random_state=1,shuffle=True)"
   ]
  },
  {
   "cell_type": "markdown",
   "metadata": {},
   "source": [
    "Notice that the last three columns (color, Transmission, Model) are not numerical values, but categorical entries?\n",
    "\n",
    "To utilise the columns, we’ll need to find a way to make them numerical, and a perfect technique is One-hot Encoding"
   ]
  },
  {
   "cell_type": "code",
   "execution_count": 15,
   "metadata": {},
   "outputs": [],
   "source": [
    "X_train = pd.get_dummies(X_train,columns= ['model','color','transmission','year'],drop_first =True)\n",
    "X_test = pd.get_dummies(X_test,columns= ['model','color','transmission','year'],drop_first =True)"
   ]
  },
  {
   "cell_type": "code",
   "execution_count": 16,
   "metadata": {},
   "outputs": [
    {
     "name": "stdout",
     "output_type": "stream",
     "text": [
      "(103, 14)\n",
      "(45, 14)\n"
     ]
    }
   ],
   "source": [
    "# Checking the shape of train and test data\n",
    "print(X_train.shape)\n",
    "print(X_test.shape)"
   ]
  },
  {
   "cell_type": "markdown",
   "metadata": {
    "id": "LRffP2lZHIX_"
   },
   "source": [
    "#### Normalizing the train and test data separately"
   ]
  },
  {
   "cell_type": "code",
   "execution_count": 17,
   "metadata": {},
   "outputs": [],
   "source": [
    "sc=StandardScaler()\n",
    "temp = sc.fit(X_train[[\"mileage\"]])\n",
    "X_train[[\"mileage\"]] = temp.transform(X_train[[\"mileage\"]])\n",
    "X_test[[\"mileage\"]] = temp.transform(X_test[[\"mileage\"]])"
   ]
  },
  {
   "cell_type": "markdown",
   "metadata": {},
   "source": [
    "We need to scale the target column since it is a numerical column."
   ]
  },
  {
   "cell_type": "code",
   "execution_count": 18,
   "metadata": {
    "id": "rr_uUi6iHHnK"
   },
   "outputs": [],
   "source": [
    "# create target scaler object\n",
    "target_scaler = preprocessing.StandardScaler()\n",
    "y_train = target_scaler.fit_transform(y_train.values.reshape(-1,1))\n",
    "y_test = target_scaler.transform(y_test.values.reshape(-1,1))"
   ]
  },
  {
   "cell_type": "markdown",
   "metadata": {
    "id": "0-rlwxfvDBMd"
   },
   "source": [
    "### Model building"
   ]
  },
  {
   "cell_type": "markdown",
   "metadata": {
    "id": "XvxfRLOhDPin"
   },
   "source": [
    "#### Lets build a build using Keras"
   ]
  },
  {
   "cell_type": "markdown",
   "metadata": {
    "id": "aT-msCH6EN8x"
   },
   "source": [
    "We’ll use a Sequential model with  multiple connected hidden layers, and an output layer that returns a single, continuous value."
   ]
  },
  {
   "cell_type": "markdown",
   "metadata": {
    "id": "gxjwVDINfzbn"
   },
   "source": [
    "**What Are Keras and tf.keras?**\n",
    "\n",
    "\n",
    "Keras is an open-source deep learning library written in Python.\n",
    "\n",
    "The project was started in 2015 by Francois Chollet. It quickly became a popular framework for developers, becoming one of, if not the most, popular deep learning libraries.\n",
    "\n",
    "During the period of 2015-2019, developing deep learning models using mathematical libraries like TensorFlow, Theano, and PyTorch was cumbersome, requiring tens or even hundreds of lines of code to achieve the simplest tasks. The focus of these libraries was on research, flexibility, and speed, not ease of use.\n",
    "\n",
    "Keras was popular because the API was clean and simple, allowing standard deep learning models to be defined, fit, and evaluated in just a few lines of code.\n",
    "\n",
    "A secondary reason Keras took-off was because it allowed you to use any one among the range of popular deep learning mathematical libraries as the backend (e.g. used to perform the computation), such as TensorFlow, Theano, and later, CNTK. This allowed the power of these libraries to be harnessed (e.g. GPUs) with a very clean and simple interface.\n",
    "\n",
    "In 2019, Google released a new version of their TensorFlow deep learning library (TensorFlow 2) that integrated the Keras API directly and promoted this interface as the default or standard interface for deep learning development on the platform.\n",
    "\n",
    "This integration is commonly referred to as the tf.keras interface or API (“tf” is short for “TensorFlow“). This is to distinguish it from the so-called standalone Keras open source project.\n",
    "\n",
    "**Standalone Keras** The standalone open source project that supports TensorFlow, Theano and CNTK backends.\n",
    "\n",
    "**tf.keras** The Keras API integrated into TensorFlow 2.\n",
    "The Keras API implementation in Keras is referred to as “tf.keras” because this is the Python idiom used when referencing the API. First, the TensorFlow module is imported and named “tf“; then, Keras API elements are accessed via calls to tf.keras; for example:\n",
    "\n",
    "# example of tf.keras python \n",
    "import tensorflow as tf\n",
    "# use keras API\n",
    "model = tf.keras.Sequential()\n"
   ]
  },
  {
   "cell_type": "markdown",
   "metadata": {
    "id": "RTM8KkHCfW8M"
   },
   "source": [
    "### Building the model using tf.keras: \n",
    "\n"
   ]
  },
  {
   "cell_type": "code",
   "execution_count": 19,
   "metadata": {},
   "outputs": [],
   "source": [
    "backend.clear_session()\n",
    "#Fixing the seed for random number generators so that we can ensure we receive the same output everytime\n",
    "np.random.seed(42)\n",
    "import random\n",
    "random.seed(42)\n",
    "tf.random.set_seed(42)"
   ]
  },
  {
   "cell_type": "code",
   "execution_count": 20,
   "metadata": {
    "id": "NyPLHXCqa_V9"
   },
   "outputs": [],
   "source": [
    "def build_model():\n",
    "  ## Initializing the ANN\n",
    "  model = Sequential() \n",
    "  # This adds the input layer (by specifying input dimension) AND the first hidden layer (units)\n",
    "  input_layer = Dense(32, input_shape=(X_train.shape[1],),activation='relu')\n",
    "  model.add(input_layer) # \n",
    "  #Adding the hidden layer\n",
    "  # Notice that we do not need to specify input dim. \n",
    "  hidden_layer = Dense(64, activation='relu'); \n",
    "  model.add(hidden_layer) \n",
    "  #Adding the output layer\n",
    "  # Notice that we do not need to specify input dim. \n",
    "  # Since we are predicting the price (Numerical value), we need to pass only one neuron in the output layer.\n",
    "  output_layer = Dense(1, activation='linear') \n",
    "  model.add(output_layer)\n",
    "\n",
    "  # Defining the optimizer\n",
    "  optimizer = tf.keras.optimizers.RMSprop(0.001)  # Defining the optimizer \n",
    "  # Compiling the model\n",
    "  model.compile(loss='mse',\n",
    "                optimizer=optimizer,\n",
    "                metrics=[ 'mse'])  # Defining the loss function, optimizer and metrices \n",
    "  return model"
   ]
  },
  {
   "cell_type": "markdown",
   "metadata": {
    "id": "6x4o9vmCDrhh"
   },
   "source": [
    "Build the model and view the summary"
   ]
  },
  {
   "cell_type": "code",
   "execution_count": 21,
   "metadata": {
    "colab": {
     "base_uri": "https://localhost:8080/"
    },
    "id": "8XFXVLmPDruT",
    "outputId": "956c5381-63ae-4ab3-fc9d-019d3233075f"
   },
   "outputs": [
    {
     "name": "stdout",
     "output_type": "stream",
     "text": [
      "Model: \"sequential\"\n",
      "_________________________________________________________________\n",
      " Layer (type)                Output Shape              Param #   \n",
      "=================================================================\n",
      " dense (Dense)               (None, 32)                480       \n",
      "                                                                 \n",
      " dense_1 (Dense)             (None, 64)                2112      \n",
      "                                                                 \n",
      " dense_2 (Dense)             (None, 1)                 65        \n",
      "                                                                 \n",
      "=================================================================\n",
      "Total params: 2,657\n",
      "Trainable params: 2,657\n",
      "Non-trainable params: 0\n",
      "_________________________________________________________________\n"
     ]
    }
   ],
   "source": [
    "#Getting the model summary. We are uisng standalone keras to build our model\n",
    "model = build_model()\n",
    "model.summary()"
   ]
  },
  {
   "cell_type": "markdown",
   "metadata": {
    "id": "mEHRg17HDver"
   },
   "source": [
    "Let’s now train the model for 50 epochs, and record the training and validation accuracy in ‘history’."
   ]
  },
  {
   "cell_type": "code",
   "execution_count": 22,
   "metadata": {
    "colab": {
     "base_uri": "https://localhost:8080/"
    },
    "id": "ZKT_6JzZDvrm",
    "outputId": "e602177b-463f-4523-d3a5-3f9655eacba8",
    "scrolled": true
   },
   "outputs": [
    {
     "name": "stdout",
     "output_type": "stream",
     "text": [
      "Epoch 1/50\n",
      "3/3 [==============================] - 1s 69ms/step - loss: 0.4612 - mse: 0.4612 - val_loss: 0.3139 - val_mse: 0.3139\n",
      "Epoch 2/50\n",
      "3/3 [==============================] - 0s 10ms/step - loss: 0.2312 - mse: 0.2312 - val_loss: 0.2055 - val_mse: 0.2055\n",
      "Epoch 3/50\n",
      "3/3 [==============================] - 0s 15ms/step - loss: 0.1484 - mse: 0.1484 - val_loss: 0.1349 - val_mse: 0.1349\n",
      "Epoch 4/50\n",
      "3/3 [==============================] - 0s 12ms/step - loss: 0.0994 - mse: 0.0994 - val_loss: 0.0945 - val_mse: 0.0945\n",
      "Epoch 5/50\n",
      "3/3 [==============================] - 0s 7ms/step - loss: 0.0727 - mse: 0.0727 - val_loss: 0.0684 - val_mse: 0.0684\n",
      "Epoch 6/50\n",
      "3/3 [==============================] - 0s 14ms/step - loss: 0.0557 - mse: 0.0557 - val_loss: 0.0527 - val_mse: 0.0527\n",
      "Epoch 7/50\n",
      "3/3 [==============================] - 0s 13ms/step - loss: 0.0463 - mse: 0.0463 - val_loss: 0.0456 - val_mse: 0.0456\n",
      "Epoch 8/50\n",
      "3/3 [==============================] - 0s 12ms/step - loss: 0.0384 - mse: 0.0384 - val_loss: 0.0380 - val_mse: 0.0380\n",
      "Epoch 9/50\n",
      "3/3 [==============================] - 0s 9ms/step - loss: 0.0322 - mse: 0.0322 - val_loss: 0.0319 - val_mse: 0.0319\n",
      "Epoch 10/50\n",
      "3/3 [==============================] - 0s 15ms/step - loss: 0.0274 - mse: 0.0274 - val_loss: 0.0283 - val_mse: 0.0283\n",
      "Epoch 11/50\n",
      "3/3 [==============================] - 0s 12ms/step - loss: 0.0237 - mse: 0.0237 - val_loss: 0.0258 - val_mse: 0.0258\n",
      "Epoch 12/50\n",
      "3/3 [==============================] - 0s 10ms/step - loss: 0.0208 - mse: 0.0208 - val_loss: 0.0238 - val_mse: 0.0238\n",
      "Epoch 13/50\n",
      "3/3 [==============================] - 0s 10ms/step - loss: 0.0181 - mse: 0.0181 - val_loss: 0.0225 - val_mse: 0.0225\n",
      "Epoch 14/50\n",
      "3/3 [==============================] - 0s 11ms/step - loss: 0.0165 - mse: 0.0165 - val_loss: 0.0215 - val_mse: 0.0215\n",
      "Epoch 15/50\n",
      "3/3 [==============================] - 0s 15ms/step - loss: 0.0149 - mse: 0.0149 - val_loss: 0.0217 - val_mse: 0.0217\n",
      "Epoch 16/50\n",
      "3/3 [==============================] - 0s 10ms/step - loss: 0.0139 - mse: 0.0139 - val_loss: 0.0209 - val_mse: 0.0209\n",
      "Epoch 17/50\n",
      "3/3 [==============================] - 0s 15ms/step - loss: 0.0120 - mse: 0.0120 - val_loss: 0.0209 - val_mse: 0.0209\n",
      "Epoch 18/50\n",
      "3/3 [==============================] - 0s 10ms/step - loss: 0.0119 - mse: 0.0119 - val_loss: 0.0209 - val_mse: 0.0209\n",
      "Epoch 19/50\n",
      "3/3 [==============================] - 0s 10ms/step - loss: 0.0100 - mse: 0.0100 - val_loss: 0.0203 - val_mse: 0.0203\n",
      "Epoch 20/50\n",
      "3/3 [==============================] - 0s 15ms/step - loss: 0.0092 - mse: 0.0092 - val_loss: 0.0202 - val_mse: 0.0202\n",
      "Epoch 21/50\n",
      "3/3 [==============================] - 0s 10ms/step - loss: 0.0084 - mse: 0.0084 - val_loss: 0.0209 - val_mse: 0.0209\n",
      "Epoch 22/50\n",
      "3/3 [==============================] - 0s 11ms/step - loss: 0.0078 - mse: 0.0078 - val_loss: 0.0200 - val_mse: 0.0200\n",
      "Epoch 23/50\n",
      "3/3 [==============================] - 0s 10ms/step - loss: 0.0075 - mse: 0.0075 - val_loss: 0.0198 - val_mse: 0.0198\n",
      "Epoch 24/50\n",
      "3/3 [==============================] - 0s 13ms/step - loss: 0.0070 - mse: 0.0070 - val_loss: 0.0200 - val_mse: 0.0200\n",
      "Epoch 25/50\n",
      "3/3 [==============================] - 0s 10ms/step - loss: 0.0061 - mse: 0.0061 - val_loss: 0.0200 - val_mse: 0.0200\n",
      "Epoch 26/50\n",
      "3/3 [==============================] - 0s 15ms/step - loss: 0.0056 - mse: 0.0056 - val_loss: 0.0193 - val_mse: 0.0193\n",
      "Epoch 27/50\n",
      "3/3 [==============================] - 0s 13ms/step - loss: 0.0054 - mse: 0.0054 - val_loss: 0.0204 - val_mse: 0.0204\n",
      "Epoch 28/50\n",
      "3/3 [==============================] - 0s 12ms/step - loss: 0.0056 - mse: 0.0056 - val_loss: 0.0193 - val_mse: 0.0193\n",
      "Epoch 29/50\n",
      "3/3 [==============================] - 0s 10ms/step - loss: 0.0045 - mse: 0.0045 - val_loss: 0.0201 - val_mse: 0.0201\n",
      "Epoch 30/50\n",
      "3/3 [==============================] - 0s 10ms/step - loss: 0.0040 - mse: 0.0040 - val_loss: 0.0212 - val_mse: 0.0212\n",
      "Epoch 31/50\n",
      "3/3 [==============================] - 0s 13ms/step - loss: 0.0056 - mse: 0.0056 - val_loss: 0.0187 - val_mse: 0.0187\n",
      "Epoch 32/50\n",
      "3/3 [==============================] - 0s 10ms/step - loss: 0.0035 - mse: 0.0035 - val_loss: 0.0225 - val_mse: 0.0225\n",
      "Epoch 33/50\n",
      "3/3 [==============================] - 0s 15ms/step - loss: 0.0043 - mse: 0.0043 - val_loss: 0.0191 - val_mse: 0.0191\n",
      "Epoch 34/50\n",
      "3/3 [==============================] - 0s 14ms/step - loss: 0.0034 - mse: 0.0034 - val_loss: 0.0200 - val_mse: 0.0200\n",
      "Epoch 35/50\n",
      "3/3 [==============================] - 0s 10ms/step - loss: 0.0028 - mse: 0.0028 - val_loss: 0.0187 - val_mse: 0.0187\n",
      "Epoch 36/50\n",
      "3/3 [==============================] - 0s 10ms/step - loss: 0.0029 - mse: 0.0029 - val_loss: 0.0187 - val_mse: 0.0187\n",
      "Epoch 37/50\n",
      "3/3 [==============================] - 0s 15ms/step - loss: 0.0033 - mse: 0.0033 - val_loss: 0.0196 - val_mse: 0.0196\n",
      "Epoch 38/50\n",
      "3/3 [==============================] - 0s 15ms/step - loss: 0.0027 - mse: 0.0027 - val_loss: 0.0218 - val_mse: 0.0218\n",
      "Epoch 39/50\n",
      "3/3 [==============================] - ETA: 0s - loss: 0.0029 - mse: 0.002 - 0s 20ms/step - loss: 0.0033 - mse: 0.0033 - val_loss: 0.0194 - val_mse: 0.0194\n",
      "Epoch 40/50\n",
      "3/3 [==============================] - 0s 10ms/step - loss: 0.0021 - mse: 0.0021 - val_loss: 0.0189 - val_mse: 0.0189\n",
      "Epoch 41/50\n",
      "3/3 [==============================] - 0s 16ms/step - loss: 0.0022 - mse: 0.0022 - val_loss: 0.0182 - val_mse: 0.0182\n",
      "Epoch 42/50\n",
      "3/3 [==============================] - 0s 13ms/step - loss: 0.0034 - mse: 0.0034 - val_loss: 0.0198 - val_mse: 0.0198\n",
      "Epoch 43/50\n",
      "3/3 [==============================] - 0s 10ms/step - loss: 0.0022 - mse: 0.0022 - val_loss: 0.0201 - val_mse: 0.0201\n",
      "Epoch 44/50\n",
      "3/3 [==============================] - 0s 10ms/step - loss: 0.0020 - mse: 0.0020 - val_loss: 0.0190 - val_mse: 0.0190\n",
      "Epoch 45/50\n",
      "3/3 [==============================] - 0s 10ms/step - loss: 0.0019 - mse: 0.0019 - val_loss: 0.0178 - val_mse: 0.0178\n",
      "Epoch 46/50\n",
      "3/3 [==============================] - 0s 10ms/step - loss: 0.0028 - mse: 0.0028 - val_loss: 0.0218 - val_mse: 0.0218\n",
      "Epoch 47/50\n",
      "3/3 [==============================] - 0s 10ms/step - loss: 0.0019 - mse: 0.0019 - val_loss: 0.0188 - val_mse: 0.0188\n",
      "Epoch 48/50\n",
      "3/3 [==============================] - 0s 8ms/step - loss: 0.0017 - mse: 0.0017 - val_loss: 0.0187 - val_mse: 0.0187\n",
      "Epoch 49/50\n",
      "3/3 [==============================] - 0s 12ms/step - loss: 0.0015 - mse: 0.0015 - val_loss: 0.0189 - val_mse: 0.0189\n",
      "Epoch 50/50\n",
      "3/3 [==============================] - 0s 12ms/step - loss: 0.0019 - mse: 0.0019 - val_loss: 0.0183 - val_mse: 0.0183\n"
     ]
    }
   ],
   "source": [
    "#Definign the number of epochs\n",
    "EPOCHS = 50\n",
    "#fitting the model\n",
    "history = model.fit(X_train, y_train,epochs=EPOCHS, validation_split = 0.2, verbose=1)"
   ]
  },
  {
   "cell_type": "markdown",
   "metadata": {
    "id": "b99V-kZCnPlW"
   },
   "source": [
    "Let's plot the  validation and training loss"
   ]
  },
  {
   "cell_type": "code",
   "execution_count": 23,
   "metadata": {
    "colab": {
     "base_uri": "https://localhost:8080/"
    },
    "id": "rC2n_0_wmcJH",
    "outputId": "149e4a3d-5408-47bd-fb08-b46b5dd3ac0b"
   },
   "outputs": [
    {
     "data": {
      "image/png": "[encoded data removed]",
      "text/plain": [
       "<Figure size 576x432 with 1 Axes>"
      ]
     },
     "metadata": {
      "needs_background": "light"
     },
     "output_type": "display_data"
    }
   ],
   "source": [
    "N = 50\n",
    "import pylab as plt\n",
    "plt.figure(figsize=(8,6))\n",
    "plt.plot(np.arange(0, N), history.history[\"loss\"], label=\"train_loss\")\n",
    "plt.plot(np.arange(0, N), history.history[\"val_loss\"], label=\"val_loss\")\n",
    "\n",
    "plt.title(\"Training Loss and Validation loss on the dataset\")\n",
    "plt.xlabel(\"Epoch #\")\n",
    "plt.ylabel(\"train_Loss/val_loss\")\n",
    "plt.legend(loc=\"upper right\")\n",
    "plt.show()"
   ]
  },
  {
   "cell_type": "markdown",
   "metadata": {},
   "source": [
    "From the above plot, we can say that the train and validation are having a smooth loss"
   ]
  },
  {
   "cell_type": "markdown",
   "metadata": {
    "id": "ny16YdKMEicj"
   },
   "source": [
    "#### Testing the model"
   ]
  },
  {
   "cell_type": "code",
   "execution_count": 24,
   "metadata": {},
   "outputs": [
    {
     "name": "stdout",
     "output_type": "stream",
     "text": [
      "2/2 [==============================] - 0s 9ms/step - loss: 0.0084 - mse: 0.0084\n"
     ]
    },
    {
     "data": {
      "text/plain": [
       "[0.008410665206611156, 0.008410665206611156]"
      ]
     },
     "execution_count": 24,
     "metadata": {},
     "output_type": "execute_result"
    }
   ],
   "source": [
    "model.evaluate(X_test,y_test)"
   ]
  },
  {
   "cell_type": "markdown",
   "metadata": {
    "id": "HOuGwdr1Etu9"
   },
   "source": [
    "Let’s predict\n"
   ]
  },
  {
   "cell_type": "code",
   "execution_count": 25,
   "metadata": {
    "id": "S6EzZe-2Lnaa"
   },
   "outputs": [],
   "source": [
    "#Lets Print the predicted prices \n",
    "test_predictionsk=model.predict(X_test)\n",
    "y_pred1=target_scaler.inverse_transform(test_predictionsk.reshape(-1, 1))"
   ]
  },
  {
   "cell_type": "markdown",
   "metadata": {
    "id": "OW-6u_WKo6JV"
   },
   "source": [
    "Let's Calculate the R2 to evaluate the model"
   ]
  },
  {
   "cell_type": "code",
   "execution_count": 26,
   "metadata": {
    "colab": {
     "base_uri": "https://localhost:8080/"
    },
    "id": "P5gg0t4toj85",
    "outputId": "050cbcce-6b9e-47f7-8de3-0e514ac6b2c8"
   },
   "outputs": [
    {
     "data": {
      "text/plain": [
       "0.6179743523403624"
      ]
     },
     "execution_count": 26,
     "metadata": {},
     "output_type": "execute_result"
    }
   ],
   "source": [
    "sklearn.metrics.r2_score(target_scaler.inverse_transform(y_test.reshape(-1, 1)),y_pred1)"
   ]
  },
  {
   "cell_type": "markdown",
   "metadata": {
    "id": "mset_vUAlTWe"
   },
   "source": [
    "R2 is 0.61 and it seems to be fine, But this can be improved."
   ]
  },
  {
   "cell_type": "markdown",
   "metadata": {},
   "source": [
    "Now let's try to increase the number of hidden layers and neurons in the hidden layers and see if we can get a good r2 score."
   ]
  },
  {
   "cell_type": "code",
   "execution_count": 27,
   "metadata": {},
   "outputs": [],
   "source": [
    "backend.clear_session()\n",
    "#Fixing the seed for random number generators so that we can ensure we receive the same output everytime\n",
    "np.random.seed(42)\n",
    "import random\n",
    "random.seed(42)\n",
    "tf.random.set_seed(42)"
   ]
  },
  {
   "cell_type": "code",
   "execution_count": 28,
   "metadata": {},
   "outputs": [],
   "source": [
    "# Initializing the model\n",
    "model_2 = Sequential()\n",
    "# Adding input layer with 14 variables and 64 neurons with relu as activation function\n",
    "model_2.add(Dense(64, activation='relu', input_shape=(14,)))\n",
    "# adding second hidden layer with 32 neurons and relu as activation function\n",
    "model_2.add(Dense(32, activation='relu'))\n",
    "# adding first hidden layer with 8 neurons and relu as activation function\n",
    "model_2.add(Dense(8, activation='relu'))\n",
    "# adding the output layer with 1 neuron and linear as activation function\n",
    "model_2.add(Dense(1, activation='linear'))"
   ]
  },
  {
   "cell_type": "code",
   "execution_count": 29,
   "metadata": {},
   "outputs": [
    {
     "name": "stdout",
     "output_type": "stream",
     "text": [
      "Model: \"sequential\"\n",
      "_________________________________________________________________\n",
      " Layer (type)                Output Shape              Param #   \n",
      "=================================================================\n",
      " dense (Dense)               (None, 64)                960       \n",
      "                                                                 \n",
      " dense_1 (Dense)             (None, 32)                2080      \n",
      "                                                                 \n",
      " dense_2 (Dense)             (None, 8)                 264       \n",
      "                                                                 \n",
      " dense_3 (Dense)             (None, 1)                 9         \n",
      "                                                                 \n",
      "=================================================================\n",
      "Total params: 3,313\n",
      "Trainable params: 3,313\n",
      "Non-trainable params: 0\n",
      "_________________________________________________________________\n"
     ]
    }
   ],
   "source": [
    "# Summary of the model\n",
    "model_2.summary()"
   ]
  },
  {
   "cell_type": "code",
   "execution_count": 30,
   "metadata": {},
   "outputs": [
    {
     "name": "stdout",
     "output_type": "stream",
     "text": [
      "Epoch 1/50\n",
      "3/3 [==============================] - 0s 69ms/step - loss: 0.2155 - mae: 0.4292 - val_loss: 0.1394 - val_mae: 0.3383\n",
      "Epoch 2/50\n",
      "3/3 [==============================] - 0s 7ms/step - loss: 0.1615 - mae: 0.3555 - val_loss: 0.0969 - val_mae: 0.2664\n",
      "Epoch 3/50\n",
      "3/3 [==============================] - 0s 10ms/step - loss: 0.1130 - mae: 0.2913 - val_loss: 0.0663 - val_mae: 0.2107\n",
      "Epoch 4/50\n",
      "3/3 [==============================] - 0s 10ms/step - loss: 0.0796 - mae: 0.2358 - val_loss: 0.0472 - val_mae: 0.1642\n",
      "Epoch 5/50\n",
      "3/3 [==============================] - 0s 15ms/step - loss: 0.0572 - mae: 0.1944 - val_loss: 0.0391 - val_mae: 0.1559\n",
      "Epoch 6/50\n",
      "3/3 [==============================] - 0s 12ms/step - loss: 0.0424 - mae: 0.1687 - val_loss: 0.0379 - val_mae: 0.1593\n",
      "Epoch 7/50\n",
      "3/3 [==============================] - 0s 11ms/step - loss: 0.0351 - mae: 0.1583 - val_loss: 0.0397 - val_mae: 0.1623\n",
      "Epoch 8/50\n",
      "3/3 [==============================] - 0s 11ms/step - loss: 0.0280 - mae: 0.1407 - val_loss: 0.0403 - val_mae: 0.1648\n",
      "Epoch 9/50\n",
      "3/3 [==============================] - 0s 12ms/step - loss: 0.0222 - mae: 0.1253 - val_loss: 0.0387 - val_mae: 0.1650\n",
      "Epoch 10/50\n",
      "3/3 [==============================] - 0s 12ms/step - loss: 0.0177 - mae: 0.1086 - val_loss: 0.0356 - val_mae: 0.1592\n",
      "Epoch 11/50\n",
      "3/3 [==============================] - 0s 12ms/step - loss: 0.0138 - mae: 0.0954 - val_loss: 0.0323 - val_mae: 0.1508\n",
      "Epoch 12/50\n",
      "3/3 [==============================] - 0s 17ms/step - loss: 0.0123 - mae: 0.0883 - val_loss: 0.0294 - val_mae: 0.1439\n",
      "Epoch 13/50\n",
      "3/3 [==============================] - 0s 10ms/step - loss: 0.0121 - mae: 0.0863 - val_loss: 0.0274 - val_mae: 0.1373\n",
      "Epoch 14/50\n",
      "3/3 [==============================] - 0s 10ms/step - loss: 0.0113 - mae: 0.0829 - val_loss: 0.0262 - val_mae: 0.1326\n",
      "Epoch 15/50\n",
      "3/3 [==============================] - 0s 13ms/step - loss: 0.0103 - mae: 0.0788 - val_loss: 0.0255 - val_mae: 0.1296\n",
      "Epoch 16/50\n",
      "3/3 [==============================] - 0s 15ms/step - loss: 0.0091 - mae: 0.0743 - val_loss: 0.0251 - val_mae: 0.1288\n",
      "Epoch 17/50\n",
      "3/3 [==============================] - 0s 14ms/step - loss: 0.0079 - mae: 0.0694 - val_loss: 0.0249 - val_mae: 0.1281\n",
      "Epoch 18/50\n",
      "3/3 [==============================] - 0s 11ms/step - loss: 0.0070 - mae: 0.0653 - val_loss: 0.0248 - val_mae: 0.1278\n",
      "Epoch 19/50\n",
      "3/3 [==============================] - 0s 12ms/step - loss: 0.0065 - mae: 0.0638 - val_loss: 0.0248 - val_mae: 0.1277\n",
      "Epoch 20/50\n",
      "3/3 [==============================] - 0s 16ms/step - loss: 0.0064 - mae: 0.0630 - val_loss: 0.0246 - val_mae: 0.1269\n",
      "Epoch 21/50\n",
      "3/3 [==============================] - 0s 14ms/step - loss: 0.0060 - mae: 0.0617 - val_loss: 0.0243 - val_mae: 0.1267\n",
      "Epoch 22/50\n",
      "3/3 [==============================] - 0s 15ms/step - loss: 0.0058 - mae: 0.0608 - val_loss: 0.0238 - val_mae: 0.1264\n",
      "Epoch 23/50\n",
      "3/3 [==============================] - 0s 13ms/step - loss: 0.0056 - mae: 0.0593 - val_loss: 0.0235 - val_mae: 0.1258\n",
      "Epoch 24/50\n",
      "3/3 [==============================] - 0s 12ms/step - loss: 0.0053 - mae: 0.0576 - val_loss: 0.0233 - val_mae: 0.1254\n",
      "Epoch 25/50\n",
      "3/3 [==============================] - 0s 11ms/step - loss: 0.0052 - mae: 0.0562 - val_loss: 0.0231 - val_mae: 0.1251\n",
      "Epoch 26/50\n",
      "3/3 [==============================] - 0s 10ms/step - loss: 0.0049 - mae: 0.0550 - val_loss: 0.0232 - val_mae: 0.1249\n",
      "Epoch 27/50\n",
      "3/3 [==============================] - 0s 15ms/step - loss: 0.0048 - mae: 0.0541 - val_loss: 0.0232 - val_mae: 0.1247\n",
      "Epoch 28/50\n",
      "3/3 [==============================] - 0s 15ms/step - loss: 0.0046 - mae: 0.0532 - val_loss: 0.0233 - val_mae: 0.1245\n",
      "Epoch 29/50\n",
      "3/3 [==============================] - 0s 14ms/step - loss: 0.0044 - mae: 0.0523 - val_loss: 0.0232 - val_mae: 0.1241\n",
      "Epoch 30/50\n",
      "3/3 [==============================] - 0s 12ms/step - loss: 0.0043 - mae: 0.0516 - val_loss: 0.0233 - val_mae: 0.1236\n",
      "Epoch 31/50\n",
      "3/3 [==============================] - 0s 16ms/step - loss: 0.0042 - mae: 0.0510 - val_loss: 0.0232 - val_mae: 0.1231\n",
      "Epoch 32/50\n",
      "3/3 [==============================] - 0s 15ms/step - loss: 0.0041 - mae: 0.0500 - val_loss: 0.0230 - val_mae: 0.1224\n",
      "Epoch 33/50\n",
      "3/3 [==============================] - 0s 13ms/step - loss: 0.0040 - mae: 0.0490 - val_loss: 0.0227 - val_mae: 0.1218\n",
      "Epoch 34/50\n",
      "3/3 [==============================] - 0s 15ms/step - loss: 0.0038 - mae: 0.0480 - val_loss: 0.0225 - val_mae: 0.1210\n",
      "Epoch 35/50\n",
      "3/3 [==============================] - 0s 15ms/step - loss: 0.0038 - mae: 0.0477 - val_loss: 0.0223 - val_mae: 0.1204\n",
      "Epoch 36/50\n",
      "3/3 [==============================] - 0s 13ms/step - loss: 0.0037 - mae: 0.0464 - val_loss: 0.0220 - val_mae: 0.1199\n",
      "Epoch 37/50\n",
      "3/3 [==============================] - 0s 15ms/step - loss: 0.0036 - mae: 0.0456 - val_loss: 0.0217 - val_mae: 0.1195\n",
      "Epoch 38/50\n",
      "3/3 [==============================] - 0s 15ms/step - loss: 0.0035 - mae: 0.0452 - val_loss: 0.0216 - val_mae: 0.1192\n",
      "Epoch 39/50\n",
      "3/3 [==============================] - 0s 10ms/step - loss: 0.0035 - mae: 0.0446 - val_loss: 0.0215 - val_mae: 0.1190\n",
      "Epoch 40/50\n",
      "3/3 [==============================] - 0s 8ms/step - loss: 0.0034 - mae: 0.0438 - val_loss: 0.0216 - val_mae: 0.1185\n",
      "Epoch 41/50\n",
      "3/3 [==============================] - 0s 17ms/step - loss: 0.0033 - mae: 0.0435 - val_loss: 0.0215 - val_mae: 0.1179\n",
      "Epoch 42/50\n",
      "3/3 [==============================] - 0s 10ms/step - loss: 0.0032 - mae: 0.0431 - val_loss: 0.0213 - val_mae: 0.1175\n",
      "Epoch 43/50\n",
      "3/3 [==============================] - 0s 15ms/step - loss: 0.0031 - mae: 0.0428 - val_loss: 0.0211 - val_mae: 0.1171\n",
      "Epoch 44/50\n",
      "3/3 [==============================] - 0s 15ms/step - loss: 0.0031 - mae: 0.0422 - val_loss: 0.0209 - val_mae: 0.1169\n",
      "Epoch 45/50\n",
      "3/3 [==============================] - 0s 15ms/step - loss: 0.0030 - mae: 0.0416 - val_loss: 0.0207 - val_mae: 0.1165\n",
      "Epoch 46/50\n",
      "3/3 [==============================] - 0s 12ms/step - loss: 0.0029 - mae: 0.0412 - val_loss: 0.0205 - val_mae: 0.1163\n",
      "Epoch 47/50\n",
      "3/3 [==============================] - 0s 10ms/step - loss: 0.0029 - mae: 0.0408 - val_loss: 0.0205 - val_mae: 0.1162\n",
      "Epoch 48/50\n",
      "3/3 [==============================] - 0s 20ms/step - loss: 0.0029 - mae: 0.0404 - val_loss: 0.0205 - val_mae: 0.1160\n",
      "Epoch 49/50\n",
      "3/3 [==============================] - 0s 15ms/step - loss: 0.0028 - mae: 0.0402 - val_loss: 0.0203 - val_mae: 0.1157\n",
      "Epoch 50/50\n",
      "3/3 [==============================] - 0s 15ms/step - loss: 0.0027 - mae: 0.0397 - val_loss: 0.0201 - val_mae: 0.1155\n"
     ]
    }
   ],
   "source": [
    "# Defining the optimizer\n",
    "optimizer = tf.keras.optimizers.Adam(0.001) \n",
    "# Compiling the model\n",
    "model_2.compile(loss='mse',\n",
    "              optimizer=optimizer,\n",
    "              metrics=['mae'])\n",
    "# Fitting the model on train data\n",
    "history = model_2.fit(X_train, y_train, validation_split = 0.2, epochs=50)"
   ]
  },
  {
   "cell_type": "code",
   "execution_count": 31,
   "metadata": {},
   "outputs": [
    {
     "data": {
      "image/png": "[encoded data removed]",
      "text/plain": [
       "<Figure size 432x288 with 1 Axes>"
      ]
     },
     "metadata": {
      "needs_background": "light"
     },
     "output_type": "display_data"
    }
   ],
   "source": [
    "from matplotlib import pyplot\n",
    "pyplot.title('Training Loss and Validation loss on the dataset')\n",
    "pyplot.plot(history.history['loss'], label='train')\n",
    "pyplot.plot(history.history['val_loss'], label='validate')\n",
    "pyplot.legend()\n",
    "pyplot.show()"
   ]
  },
  {
   "cell_type": "markdown",
   "metadata": {},
   "source": [
    "From the above plot, we can observe that there is some noise in the validation data."
   ]
  },
  {
   "cell_type": "markdown",
   "metadata": {},
   "source": [
    "Predicting on test data"
   ]
  },
  {
   "cell_type": "code",
   "execution_count": 32,
   "metadata": {},
   "outputs": [
    {
     "name": "stdout",
     "output_type": "stream",
     "text": [
      "2/2 [==============================] - 0s 0s/step - loss: 0.0059 - mae: 0.0629\n"
     ]
    },
    {
     "data": {
      "text/plain": [
       "[0.0059036985039711, 0.06294739991426468]"
      ]
     },
     "execution_count": 32,
     "metadata": {},
     "output_type": "execute_result"
    }
   ],
   "source": [
    "model_2.evaluate(X_test,y_test)"
   ]
  },
  {
   "cell_type": "code",
   "execution_count": 33,
   "metadata": {},
   "outputs": [],
   "source": [
    "#Lets Print the predicted prices \n",
    "test_predictions_2=model_2.predict(X_test)\n",
    "y_pred_2=target_scaler.inverse_transform(test_predictions_2.reshape(-1, 1))"
   ]
  },
  {
   "cell_type": "code",
   "execution_count": 34,
   "metadata": {},
   "outputs": [
    {
     "data": {
      "text/plain": [
       "0.7318446891254543"
      ]
     },
     "execution_count": 34,
     "metadata": {},
     "output_type": "execute_result"
    }
   ],
   "source": [
    "sklearn.metrics.r2_score(target_scaler.inverse_transform(y_test.reshape(-1, 1)),y_pred_2)"
   ]
  },
  {
   "cell_type": "markdown",
   "metadata": {},
   "source": [
    "We got 0.73 as an r2 score which is good when compared to the previous model score. Hence increasing the hidden layers work, and we can say that the second model is more generalized when compared to the first model."
   ]
  },
  {
   "cell_type": "markdown",
   "metadata": {
    "id": "R2fegjGWrMQV"
   },
   "source": [
    "**Conclusion:** \n",
    "\n",
    "- Cars which are manufactured recently are costly and have  less mileage.\n",
    "\n",
    "- Price of car is highly dependent on the mileage and the manufacturing year\n",
    "\n",
    "- Automatic cars have higher price range than manual type cars. \n",
    "\n",
    "- There is an increment in price of automatic cars between 2010 and 2015. \n",
    "\n",
    "\n",
    "\n"
   ]
  },
  {
   "cell_type": "markdown",
   "metadata": {
    "id": "X8xCBIesKGbY"
   },
   "source": [
    "We learnt creating a very simple regression models using Neural Networks on used cars data and predicted prices. \n",
    "\n",
    "\n",
    "## <i>Happy Learning!</i>"
   ]
  }
 ],
 "metadata": {
  "colab": {
   "collapsed_sections": [],
   "name": "Tensorflow_Mentor_Session_Case_Study_W1_Intro_to_Neura_Network-1_S.ipynb",
   "provenance": []
  },
  "kernelspec": {
   "display_name": "Python 3",
   "language": "python",
   "name": "python3"
  },
  "language_info": {
   "codemirror_mode": {
    "name": "ipython",
    "version": 3
   },
   "file_extension": ".py",
   "mimetype": "text/x-python",
   "name": "python",
   "nbconvert_exporter": "python",
   "pygments_lexer": "ipython3",
   "version": "3.8.8"
  }
 },
 "nbformat": 4,
 "nbformat_minor": 1
}
