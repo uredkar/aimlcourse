{
 "cells": [
  {
   "cell_type": "markdown",
   "metadata": {
    "colab_type": "text",
    "id": "8OQfbkF2qf5W"
   },
   "source": [
    " #  <p style=\"text-align: center;\">Technical Support Data Analysis"
   ]
  },
  {
   "cell_type": "markdown",
   "metadata": {
    "colab_type": "text",
    "id": "h1CyfJ0yqf5Z"
   },
   "source": [
    "Technical support data can often be a rich source of information on opportunities for improving customer experience. The lesser the trouble customers have with the product the better. Even better when the customers are able to overcome\n",
    "technical challenge quickly with minimal effort. Let us analyze the tech support data and do some basic analysis on problem types, time to resolve the problem and channel of suppor that is most suitable"
   ]
  },
  {
   "cell_type": "markdown",
   "metadata": {
    "colab_type": "text",
    "id": "ozpdWvkQqf5b"
   },
   "source": [
    "## Loading the Dataset"
   ]
  },
  {
   "cell_type": "code",
   "execution_count": 66,
   "metadata": {
    "colab": {},
    "colab_type": "code",
    "id": "-S9w2oBpqf5d",
    "outputId": "1c586e99-a114-4744-f627-0886fe5f76d9",
    "scrolled": true
   },
   "outputs": [
    {
     "data": {
      "text/plain": [
       "PROBLEM_TYPE              object\n",
       "no_of_cases                int64\n",
       "Avg_pending_calls        float64\n",
       "Avg_resol_time             int64\n",
       "recurrence_freq          float64\n",
       "Replace_percent          float64\n",
       "In_warranty_percent        int64\n",
       "Post_warranty_percent      int64\n",
       "dtype: object"
      ]
     },
     "execution_count": 66,
     "metadata": {},
     "output_type": "execute_result"
    }
   ],
   "source": [
    "import pandas as pd\n",
    "import numpy as np\n",
    "import os\n",
    "os.environ['OMP_NUM_THREADS'] = '1'\n",
    "import matplotlib.pylab as plt\n",
    "%matplotlib inline\n",
    "\n",
    "import seaborn as sns\n",
    "from sklearn.model_selection  import train_test_split\n",
    "from sklearn.cluster import KMeans\n",
    "\n",
    "from scipy.stats import zscore\n",
    "\n",
    "#import sklearn.metrics\n",
    "\n",
    "tech_supp_df = pd.read_csv(\"technical_support_data.csv\")\n",
    "tech_supp_df.dtypes"
   ]
  },
  {
   "cell_type": "markdown",
   "metadata": {
    "colab_type": "text",
    "id": "eW88bjuvqf5o"
   },
   "source": [
    "The dataset contains one record for each unique problem type. It has metrics for each type like count, average calls to resolve, average resolution time etc."
   ]
  },
  {
   "cell_type": "code",
   "execution_count": 67,
   "metadata": {},
   "outputs": [
    {
     "data": {
      "text/plain": [
       "(23, 8)"
      ]
     },
     "execution_count": 67,
     "metadata": {},
     "output_type": "execute_result"
    }
   ],
   "source": [
    "tech_supp_df.shape"
   ]
  },
  {
   "cell_type": "code",
   "execution_count": 68,
   "metadata": {
    "colab": {},
    "colab_type": "code",
    "id": "DFBxs9Syqf5q",
    "outputId": "bd72e031-6f39-4639-d5d0-152b50c38ffe"
   },
   "outputs": [
    {
     "data": {
      "text/html": [
       "<div>\n",
       "<style scoped>\n",
       "    .dataframe tbody tr th:only-of-type {\n",
       "        vertical-align: middle;\n",
       "    }\n",
       "\n",
       "    .dataframe tbody tr th {\n",
       "        vertical-align: top;\n",
       "    }\n",
       "\n",
       "    .dataframe thead th {\n",
       "        text-align: right;\n",
       "    }\n",
       "</style>\n",
       "<table border=\"1\" class=\"dataframe\">\n",
       "  <thead>\n",
       "    <tr style=\"text-align: right;\">\n",
       "      <th></th>\n",
       "      <th>PROBLEM_TYPE</th>\n",
       "      <th>no_of_cases</th>\n",
       "      <th>Avg_pending_calls</th>\n",
       "      <th>Avg_resol_time</th>\n",
       "      <th>recurrence_freq</th>\n",
       "      <th>Replace_percent</th>\n",
       "      <th>In_warranty_percent</th>\n",
       "      <th>Post_warranty_percent</th>\n",
       "    </tr>\n",
       "  </thead>\n",
       "  <tbody>\n",
       "    <tr>\n",
       "      <th>0</th>\n",
       "      <td>Temperature control not working</td>\n",
       "      <td>170</td>\n",
       "      <td>1.3</td>\n",
       "      <td>32</td>\n",
       "      <td>0.04</td>\n",
       "      <td>0.0</td>\n",
       "      <td>75</td>\n",
       "      <td>25</td>\n",
       "    </tr>\n",
       "    <tr>\n",
       "      <th>1</th>\n",
       "      <td>power chord does not tightly fit</td>\n",
       "      <td>12</td>\n",
       "      <td>2.0</td>\n",
       "      <td>150</td>\n",
       "      <td>0.01</td>\n",
       "      <td>0.5</td>\n",
       "      <td>5</td>\n",
       "      <td>95</td>\n",
       "    </tr>\n",
       "    <tr>\n",
       "      <th>2</th>\n",
       "      <td>Fan swing not working</td>\n",
       "      <td>5</td>\n",
       "      <td>1.0</td>\n",
       "      <td>35</td>\n",
       "      <td>0.02</td>\n",
       "      <td>0.2</td>\n",
       "      <td>90</td>\n",
       "      <td>10</td>\n",
       "    </tr>\n",
       "    <tr>\n",
       "      <th>3</th>\n",
       "      <td>Main switch does not on</td>\n",
       "      <td>3</td>\n",
       "      <td>2.0</td>\n",
       "      <td>8</td>\n",
       "      <td>0.01</td>\n",
       "      <td>0.7</td>\n",
       "      <td>5</td>\n",
       "      <td>95</td>\n",
       "    </tr>\n",
       "    <tr>\n",
       "      <th>4</th>\n",
       "      <td>Forgot mobile app password</td>\n",
       "      <td>45</td>\n",
       "      <td>2.3</td>\n",
       "      <td>54</td>\n",
       "      <td>0.15</td>\n",
       "      <td>0.0</td>\n",
       "      <td>99</td>\n",
       "      <td>1</td>\n",
       "    </tr>\n",
       "  </tbody>\n",
       "</table>\n",
       "</div>"
      ],
      "text/plain": [
       "                       PROBLEM_TYPE  no_of_cases  Avg_pending_calls  \\\n",
       "0   Temperature control not working          170                1.3   \n",
       "1  power chord does not tightly fit           12                2.0   \n",
       "2             Fan swing not working            5                1.0   \n",
       "3           Main switch does not on            3                2.0   \n",
       "4        Forgot mobile app password           45                2.3   \n",
       "\n",
       "   Avg_resol_time  recurrence_freq  Replace_percent  In_warranty_percent  \\\n",
       "0              32             0.04              0.0                   75   \n",
       "1             150             0.01              0.5                    5   \n",
       "2              35             0.02              0.2                   90   \n",
       "3               8             0.01              0.7                    5   \n",
       "4              54             0.15              0.0                   99   \n",
       "\n",
       "   Post_warranty_percent  \n",
       "0                     25  \n",
       "1                     95  \n",
       "2                     10  \n",
       "3                     95  \n",
       "4                      1  "
      ]
     },
     "execution_count": 68,
     "metadata": {},
     "output_type": "execute_result"
    }
   ],
   "source": [
    "tech_supp_df.head()\n"
   ]
  },
  {
   "cell_type": "code",
   "execution_count": 81,
   "metadata": {},
   "outputs": [
    {
     "ename": "TypeError",
     "evalue": "unsupported operand type(s) for /: 'str' and 'int'",
     "output_type": "error",
     "traceback": [
      "\u001b[1;31m----------------------------------------------------------------------\u001b[0m",
      "\u001b[1;31mTypeError\u001b[0m                            Traceback (most recent call last)",
      "Cell \u001b[1;32mIn[81], line 2\u001b[0m\n\u001b[0;32m      1\u001b[0m techSuppAttr\u001b[38;5;241m=\u001b[39mtech_supp_df\u001b[38;5;241m.\u001b[39miloc[:,\u001b[38;5;241m1\u001b[39m:]\n\u001b[1;32m----> 2\u001b[0m techSuppScaled\u001b[38;5;241m=\u001b[39m\u001b[43mtechSuppAttr\u001b[49m\u001b[38;5;241;43m.\u001b[39;49m\u001b[43mapply\u001b[49m\u001b[43m(\u001b[49m\u001b[43mzscore\u001b[49m\u001b[43m)\u001b[49m\n",
      "File \u001b[1;32m~\\anaconda3\\lib\\site-packages\\pandas\\core\\frame.py:10037\u001b[0m, in \u001b[0;36mDataFrame.apply\u001b[1;34m(self, func, axis, raw, result_type, args, by_row, **kwargs)\u001b[0m\n\u001b[0;32m  10025\u001b[0m \u001b[38;5;28;01mfrom\u001b[39;00m \u001b[38;5;21;01mpandas\u001b[39;00m\u001b[38;5;21;01m.\u001b[39;00m\u001b[38;5;21;01mcore\u001b[39;00m\u001b[38;5;21;01m.\u001b[39;00m\u001b[38;5;21;01mapply\u001b[39;00m \u001b[38;5;28;01mimport\u001b[39;00m frame_apply\n\u001b[0;32m  10027\u001b[0m op \u001b[38;5;241m=\u001b[39m frame_apply(\n\u001b[0;32m  10028\u001b[0m     \u001b[38;5;28mself\u001b[39m,\n\u001b[0;32m  10029\u001b[0m     func\u001b[38;5;241m=\u001b[39mfunc,\n\u001b[1;32m   (...)\u001b[0m\n\u001b[0;32m  10035\u001b[0m     kwargs\u001b[38;5;241m=\u001b[39mkwargs,\n\u001b[0;32m  10036\u001b[0m )\n\u001b[1;32m> 10037\u001b[0m \u001b[38;5;28;01mreturn\u001b[39;00m \u001b[43mop\u001b[49m\u001b[38;5;241;43m.\u001b[39;49m\u001b[43mapply\u001b[49m\u001b[43m(\u001b[49m\u001b[43m)\u001b[49m\u001b[38;5;241m.\u001b[39m__finalize__(\u001b[38;5;28mself\u001b[39m, method\u001b[38;5;241m=\u001b[39m\u001b[38;5;124m\"\u001b[39m\u001b[38;5;124mapply\u001b[39m\u001b[38;5;124m\"\u001b[39m)\n",
      "File \u001b[1;32m~\\anaconda3\\lib\\site-packages\\pandas\\core\\apply.py:831\u001b[0m, in \u001b[0;36mFrameApply.apply\u001b[1;34m(self)\u001b[0m\n\u001b[0;32m    828\u001b[0m \u001b[38;5;28;01melif\u001b[39;00m \u001b[38;5;28mself\u001b[39m\u001b[38;5;241m.\u001b[39mraw:\n\u001b[0;32m    829\u001b[0m     \u001b[38;5;28;01mreturn\u001b[39;00m \u001b[38;5;28mself\u001b[39m\u001b[38;5;241m.\u001b[39mapply_raw()\n\u001b[1;32m--> 831\u001b[0m \u001b[38;5;28;01mreturn\u001b[39;00m \u001b[38;5;28;43mself\u001b[39;49m\u001b[38;5;241;43m.\u001b[39;49m\u001b[43mapply_standard\u001b[49m\u001b[43m(\u001b[49m\u001b[43m)\u001b[49m\n",
      "File \u001b[1;32m~\\anaconda3\\lib\\site-packages\\pandas\\core\\apply.py:957\u001b[0m, in \u001b[0;36mFrameApply.apply_standard\u001b[1;34m(self)\u001b[0m\n\u001b[0;32m    956\u001b[0m \u001b[38;5;28;01mdef\u001b[39;00m \u001b[38;5;21mapply_standard\u001b[39m(\u001b[38;5;28mself\u001b[39m):\n\u001b[1;32m--> 957\u001b[0m     results, res_index \u001b[38;5;241m=\u001b[39m \u001b[38;5;28;43mself\u001b[39;49m\u001b[38;5;241;43m.\u001b[39;49m\u001b[43mapply_series_generator\u001b[49m\u001b[43m(\u001b[49m\u001b[43m)\u001b[49m\n\u001b[0;32m    959\u001b[0m     \u001b[38;5;66;03m# wrap results\u001b[39;00m\n\u001b[0;32m    960\u001b[0m     \u001b[38;5;28;01mreturn\u001b[39;00m \u001b[38;5;28mself\u001b[39m\u001b[38;5;241m.\u001b[39mwrap_results(results, res_index)\n",
      "File \u001b[1;32m~\\anaconda3\\lib\\site-packages\\pandas\\core\\apply.py:973\u001b[0m, in \u001b[0;36mFrameApply.apply_series_generator\u001b[1;34m(self)\u001b[0m\n\u001b[0;32m    970\u001b[0m \u001b[38;5;28;01mwith\u001b[39;00m option_context(\u001b[38;5;124m\"\u001b[39m\u001b[38;5;124mmode.chained_assignment\u001b[39m\u001b[38;5;124m\"\u001b[39m, \u001b[38;5;28;01mNone\u001b[39;00m):\n\u001b[0;32m    971\u001b[0m     \u001b[38;5;28;01mfor\u001b[39;00m i, v \u001b[38;5;129;01min\u001b[39;00m \u001b[38;5;28menumerate\u001b[39m(series_gen):\n\u001b[0;32m    972\u001b[0m         \u001b[38;5;66;03m# ignore SettingWithCopy here in case the user mutates\u001b[39;00m\n\u001b[1;32m--> 973\u001b[0m         results[i] \u001b[38;5;241m=\u001b[39m \u001b[38;5;28mself\u001b[39m\u001b[38;5;241m.\u001b[39mfunc(v, \u001b[38;5;241m*\u001b[39m\u001b[38;5;28mself\u001b[39m\u001b[38;5;241m.\u001b[39margs, \u001b[38;5;241m*\u001b[39m\u001b[38;5;241m*\u001b[39m\u001b[38;5;28mself\u001b[39m\u001b[38;5;241m.\u001b[39mkwargs)\n\u001b[0;32m    974\u001b[0m         \u001b[38;5;28;01mif\u001b[39;00m \u001b[38;5;28misinstance\u001b[39m(results[i], ABCSeries):\n\u001b[0;32m    975\u001b[0m             \u001b[38;5;66;03m# If we have a view on v, we need to make a copy because\u001b[39;00m\n\u001b[0;32m    976\u001b[0m             \u001b[38;5;66;03m#  series_generator will swap out the underlying data\u001b[39;00m\n\u001b[0;32m    977\u001b[0m             results[i] \u001b[38;5;241m=\u001b[39m results[i]\u001b[38;5;241m.\u001b[39mcopy(deep\u001b[38;5;241m=\u001b[39m\u001b[38;5;28;01mFalse\u001b[39;00m)\n",
      "File \u001b[1;32m~\\anaconda3\\lib\\site-packages\\scipy\\stats\\_stats_py.py:2973\u001b[0m, in \u001b[0;36mzscore\u001b[1;34m(a, axis, ddof, nan_policy)\u001b[0m\n\u001b[0;32m   2891\u001b[0m \u001b[38;5;28;01mdef\u001b[39;00m \u001b[38;5;21mzscore\u001b[39m(a, axis\u001b[38;5;241m=\u001b[39m\u001b[38;5;241m0\u001b[39m, ddof\u001b[38;5;241m=\u001b[39m\u001b[38;5;241m0\u001b[39m, nan_policy\u001b[38;5;241m=\u001b[39m\u001b[38;5;124m'\u001b[39m\u001b[38;5;124mpropagate\u001b[39m\u001b[38;5;124m'\u001b[39m):\n\u001b[0;32m   2892\u001b[0m \u001b[38;5;250m    \u001b[39m\u001b[38;5;124;03m\"\"\"\u001b[39;00m\n\u001b[0;32m   2893\u001b[0m \u001b[38;5;124;03m    Compute the z score.\u001b[39;00m\n\u001b[0;32m   2894\u001b[0m \n\u001b[1;32m   (...)\u001b[0m\n\u001b[0;32m   2971\u001b[0m \u001b[38;5;124;03m           [-0.91611681, -0.89090508,  1.4983032 ,  0.88731639, -0.5785977 ]])\u001b[39;00m\n\u001b[0;32m   2972\u001b[0m \u001b[38;5;124;03m    \"\"\"\u001b[39;00m\n\u001b[1;32m-> 2973\u001b[0m     \u001b[38;5;28;01mreturn\u001b[39;00m \u001b[43mzmap\u001b[49m\u001b[43m(\u001b[49m\u001b[43ma\u001b[49m\u001b[43m,\u001b[49m\u001b[43m \u001b[49m\u001b[43ma\u001b[49m\u001b[43m,\u001b[49m\u001b[43m \u001b[49m\u001b[43maxis\u001b[49m\u001b[38;5;241;43m=\u001b[39;49m\u001b[43maxis\u001b[49m\u001b[43m,\u001b[49m\u001b[43m \u001b[49m\u001b[43mddof\u001b[49m\u001b[38;5;241;43m=\u001b[39;49m\u001b[43mddof\u001b[49m\u001b[43m,\u001b[49m\u001b[43m \u001b[49m\u001b[43mnan_policy\u001b[49m\u001b[38;5;241;43m=\u001b[39;49m\u001b[43mnan_policy\u001b[49m\u001b[43m)\u001b[49m\n",
      "File \u001b[1;32m~\\anaconda3\\lib\\site-packages\\scipy\\stats\\_stats_py.py:3137\u001b[0m, in \u001b[0;36mzmap\u001b[1;34m(scores, compare, axis, ddof, nan_policy)\u001b[0m\n\u001b[0;32m   3135\u001b[0m         isconst \u001b[38;5;241m=\u001b[39m np\u001b[38;5;241m.\u001b[39mapply_along_axis(_isconst, axis, a)\n\u001b[0;32m   3136\u001b[0m \u001b[38;5;28;01melse\u001b[39;00m:\n\u001b[1;32m-> 3137\u001b[0m     mn \u001b[38;5;241m=\u001b[39m \u001b[43ma\u001b[49m\u001b[38;5;241;43m.\u001b[39;49m\u001b[43mmean\u001b[49m\u001b[43m(\u001b[49m\u001b[43maxis\u001b[49m\u001b[38;5;241;43m=\u001b[39;49m\u001b[43maxis\u001b[49m\u001b[43m,\u001b[49m\u001b[43m \u001b[49m\u001b[43mkeepdims\u001b[49m\u001b[38;5;241;43m=\u001b[39;49m\u001b[38;5;28;43;01mTrue\u001b[39;49;00m\u001b[43m)\u001b[49m\n\u001b[0;32m   3138\u001b[0m     std \u001b[38;5;241m=\u001b[39m a\u001b[38;5;241m.\u001b[39mstd(axis\u001b[38;5;241m=\u001b[39maxis, ddof\u001b[38;5;241m=\u001b[39mddof, keepdims\u001b[38;5;241m=\u001b[39m\u001b[38;5;28;01mTrue\u001b[39;00m)\n\u001b[0;32m   3139\u001b[0m     \u001b[38;5;28;01mif\u001b[39;00m axis \u001b[38;5;129;01mis\u001b[39;00m \u001b[38;5;28;01mNone\u001b[39;00m:\n",
      "File \u001b[1;32m~\\anaconda3\\lib\\site-packages\\numpy\\core\\_methods.py:184\u001b[0m, in \u001b[0;36m_mean\u001b[1;34m(a, axis, dtype, out, keepdims, where)\u001b[0m\n\u001b[0;32m    182\u001b[0m \u001b[38;5;28;01mif\u001b[39;00m \u001b[38;5;28misinstance\u001b[39m(ret, mu\u001b[38;5;241m.\u001b[39mndarray):\n\u001b[0;32m    183\u001b[0m     \u001b[38;5;28;01mwith\u001b[39;00m _no_nep50_warning():\n\u001b[1;32m--> 184\u001b[0m         ret \u001b[38;5;241m=\u001b[39m \u001b[43mum\u001b[49m\u001b[38;5;241;43m.\u001b[39;49m\u001b[43mtrue_divide\u001b[49m\u001b[43m(\u001b[49m\n\u001b[0;32m    185\u001b[0m \u001b[43m                \u001b[49m\u001b[43mret\u001b[49m\u001b[43m,\u001b[49m\u001b[43m \u001b[49m\u001b[43mrcount\u001b[49m\u001b[43m,\u001b[49m\u001b[43m \u001b[49m\u001b[43mout\u001b[49m\u001b[38;5;241;43m=\u001b[39;49m\u001b[43mret\u001b[49m\u001b[43m,\u001b[49m\u001b[43m \u001b[49m\u001b[43mcasting\u001b[49m\u001b[38;5;241;43m=\u001b[39;49m\u001b[38;5;124;43m'\u001b[39;49m\u001b[38;5;124;43munsafe\u001b[39;49m\u001b[38;5;124;43m'\u001b[39;49m\u001b[43m,\u001b[49m\u001b[43m \u001b[49m\u001b[43msubok\u001b[49m\u001b[38;5;241;43m=\u001b[39;49m\u001b[38;5;28;43;01mFalse\u001b[39;49;00m\u001b[43m)\u001b[49m\n\u001b[0;32m    186\u001b[0m     \u001b[38;5;28;01mif\u001b[39;00m is_float16_result \u001b[38;5;129;01mand\u001b[39;00m out \u001b[38;5;129;01mis\u001b[39;00m \u001b[38;5;28;01mNone\u001b[39;00m:\n\u001b[0;32m    187\u001b[0m         ret \u001b[38;5;241m=\u001b[39m arr\u001b[38;5;241m.\u001b[39mdtype\u001b[38;5;241m.\u001b[39mtype(ret)\n",
      "\u001b[1;31mTypeError\u001b[0m: unsupported operand type(s) for /: 'str' and 'int'"
     ]
    }
   ],
   "source": [
    "techSuppAttr=tech_supp_df.iloc[:,1:]\n",
    "techSuppScaled=techSuppAttr.apply(zscore)\n"
   ]
  },
  {
   "cell_type": "code",
   "execution_count": null,
   "metadata": {},
   "outputs": [],
   "source": [
    "sns.pairplot(techSuppScaled,diag_kind='kde')"
   ]
  },
  {
   "cell_type": "markdown",
   "metadata": {
    "colab_type": "text",
    "id": "dbn46iRuqf5v"
   },
   "source": [
    "## Group Data into similar clusters\n",
    "\n",
    "Now, we will use K-Means clustering to group data based on their attribute. First, we need to determine the optimal number of groups. For that we conduct the knee test to see where the knee happens."
   ]
  },
  {
   "cell_type": "code",
   "execution_count": 70,
   "metadata": {
    "colab": {},
    "colab_type": "code",
    "id": "GJ_z7Buwqf5x",
    "outputId": "2fe63549-869d-419f-cd19-ff1242268b8b",
    "scrolled": true
   },
   "outputs": [
    {
     "data": {
      "text/plain": [
       "Text(0.5, 1.0, 'Selecting k with the Elbow Method')"
      ]
     },
     "execution_count": 70,
     "metadata": {},
     "output_type": "execute_result"
    },
    {
     "data": {
      "image/png": "[encoded data removed]",
      "text/plain": [
       "<Figure size 640x480 with 1 Axes>"
      ]
     },
     "metadata": {},
     "output_type": "display_data"
    }
   ],
   "source": [
    "#Finding optimal no. of clusters\n",
    "from scipy.spatial.distance import cdist\n",
    "clusters=range(2,10)\n",
    "meanDistortions=[]\n",
    "\n",
    "for k in clusters:\n",
    "    model=KMeans(n_clusters=k,n_init=10)\n",
    "    model.fit(techSuppScaled)\n",
    "    prediction=model.predict(techSuppScaled)\n",
    "    meanDistortions.append(sum(np.min(cdist(techSuppScaled, model.cluster_centers_, 'euclidean'), \n",
    "                                      axis=1)) / techSuppScaled.shape[0])\n",
    "\n",
    "\n",
    "plt.plot(clusters, meanDistortions, 'bx-')\n",
    "plt.xlabel('k')\n",
    "plt.ylabel('Average distortion')\n",
    "plt.title('Selecting k with the Elbow Method')\n"
   ]
  },
  {
   "cell_type": "markdown",
   "metadata": {
    "colab_type": "text",
    "id": "LeWqzIRNqf54"
   },
   "source": [
    "Though the bend is not coming out clearly as there are many bends, let us look at 3 clusters and 5 clusters"
   ]
  },
  {
   "cell_type": "code",
   "execution_count": 71,
   "metadata": {
    "colab": {},
    "colab_type": "code",
    "id": "EsP8_LBKqf56",
    "outputId": "1a8bd8e4-b729-46c8-dc27-3755c010ad56"
   },
   "outputs": [
    {
     "name": "stdout",
     "output_type": "stream",
     "text": [
      "Groups Assigned : \n",
      "\n"
     ]
    },
    {
     "data": {
      "text/html": [
       "<div>\n",
       "<style scoped>\n",
       "    .dataframe tbody tr th:only-of-type {\n",
       "        vertical-align: middle;\n",
       "    }\n",
       "\n",
       "    .dataframe tbody tr th {\n",
       "        vertical-align: top;\n",
       "    }\n",
       "\n",
       "    .dataframe thead th {\n",
       "        text-align: right;\n",
       "    }\n",
       "</style>\n",
       "<table border=\"1\" class=\"dataframe\">\n",
       "  <thead>\n",
       "    <tr style=\"text-align: right;\">\n",
       "      <th></th>\n",
       "      <th>PROBLEM_TYPE</th>\n",
       "      <th>no_of_cases</th>\n",
       "      <th>Avg_pending_calls</th>\n",
       "      <th>Avg_resol_time</th>\n",
       "      <th>recurrence_freq</th>\n",
       "      <th>Replace_percent</th>\n",
       "      <th>In_warranty_percent</th>\n",
       "      <th>Post_warranty_percent</th>\n",
       "      <th>GROUP</th>\n",
       "    </tr>\n",
       "  </thead>\n",
       "  <tbody>\n",
       "    <tr>\n",
       "      <th>0</th>\n",
       "      <td>Temperature control not working</td>\n",
       "      <td>170</td>\n",
       "      <td>1.3</td>\n",
       "      <td>32</td>\n",
       "      <td>0.04</td>\n",
       "      <td>0.0</td>\n",
       "      <td>75</td>\n",
       "      <td>25</td>\n",
       "      <td>1</td>\n",
       "    </tr>\n",
       "    <tr>\n",
       "      <th>1</th>\n",
       "      <td>power chord does not tightly fit</td>\n",
       "      <td>12</td>\n",
       "      <td>2.0</td>\n",
       "      <td>150</td>\n",
       "      <td>0.01</td>\n",
       "      <td>0.5</td>\n",
       "      <td>5</td>\n",
       "      <td>95</td>\n",
       "      <td>2</td>\n",
       "    </tr>\n",
       "    <tr>\n",
       "      <th>2</th>\n",
       "      <td>Fan swing not working</td>\n",
       "      <td>5</td>\n",
       "      <td>1.0</td>\n",
       "      <td>35</td>\n",
       "      <td>0.02</td>\n",
       "      <td>0.2</td>\n",
       "      <td>90</td>\n",
       "      <td>10</td>\n",
       "      <td>1</td>\n",
       "    </tr>\n",
       "    <tr>\n",
       "      <th>3</th>\n",
       "      <td>Main switch does not on</td>\n",
       "      <td>3</td>\n",
       "      <td>2.0</td>\n",
       "      <td>8</td>\n",
       "      <td>0.01</td>\n",
       "      <td>0.7</td>\n",
       "      <td>5</td>\n",
       "      <td>95</td>\n",
       "      <td>2</td>\n",
       "    </tr>\n",
       "    <tr>\n",
       "      <th>4</th>\n",
       "      <td>Forgot mobile app password</td>\n",
       "      <td>45</td>\n",
       "      <td>2.3</td>\n",
       "      <td>54</td>\n",
       "      <td>0.15</td>\n",
       "      <td>0.0</td>\n",
       "      <td>99</td>\n",
       "      <td>1</td>\n",
       "      <td>0</td>\n",
       "    </tr>\n",
       "  </tbody>\n",
       "</table>\n",
       "</div>"
      ],
      "text/plain": [
       "                       PROBLEM_TYPE  no_of_cases  Avg_pending_calls  \\\n",
       "0   Temperature control not working          170                1.3   \n",
       "1  power chord does not tightly fit           12                2.0   \n",
       "2             Fan swing not working            5                1.0   \n",
       "3           Main switch does not on            3                2.0   \n",
       "4        Forgot mobile app password           45                2.3   \n",
       "\n",
       "   Avg_resol_time  recurrence_freq  Replace_percent  In_warranty_percent  \\\n",
       "0              32             0.04              0.0                   75   \n",
       "1             150             0.01              0.5                    5   \n",
       "2              35             0.02              0.2                   90   \n",
       "3               8             0.01              0.7                    5   \n",
       "4              54             0.15              0.0                   99   \n",
       "\n",
       "   Post_warranty_percent  GROUP  \n",
       "0                     25      1  \n",
       "1                     95      2  \n",
       "2                     10      1  \n",
       "3                     95      2  \n",
       "4                      1      0  "
      ]
     },
     "execution_count": 71,
     "metadata": {},
     "output_type": "execute_result"
    }
   ],
   "source": [
    "# Let us first start with K = 3\n",
    "final_model=KMeans(3,n_init=10)\n",
    "final_model.fit(techSuppScaled)\n",
    "prediction=final_model.predict(techSuppScaled)\n",
    "\n",
    "#Append the prediction \n",
    "tech_supp_df[\"GROUP\"] = prediction\n",
    "techSuppScaled[\"GROUP\"] = prediction\n",
    "print(\"Groups Assigned : \\n\")\n",
    "tech_supp_df.head()"
   ]
  },
  {
   "cell_type": "code",
   "execution_count": 72,
   "metadata": {},
   "outputs": [
    {
     "name": "stdout",
     "output_type": "stream",
     "text": [
      "<class 'pandas.core.frame.DataFrame'>\n",
      "RangeIndex: 23 entries, 0 to 22\n",
      "Data columns (total 8 columns):\n",
      " #   Column                 Non-Null Count  Dtype  \n",
      "---  ------                 --------------  -----  \n",
      " 0   no_of_cases            23 non-null     float64\n",
      " 1   Avg_pending_calls      23 non-null     float64\n",
      " 2   Avg_resol_time         23 non-null     float64\n",
      " 3   recurrence_freq        23 non-null     float64\n",
      " 4   Replace_percent        23 non-null     float64\n",
      " 5   In_warranty_percent    23 non-null     float64\n",
      " 6   Post_warranty_percent  23 non-null     float64\n",
      " 7   GROUP                  23 non-null     int32  \n",
      "dtypes: float64(7), int32(1)\n",
      "memory usage: 1.5 KB\n"
     ]
    }
   ],
   "source": [
    "techSuppScaled.info()"
   ]
  },
  {
   "cell_type": "markdown",
   "metadata": {
    "colab_type": "text",
    "id": "ck4XGXSjqf6C"
   },
   "source": [
    "### Analyze the distribution of the data among the two groups (K = 3). One of the most informative visual tool is boxplot.\n"
   ]
  },
  {
   "cell_type": "code",
   "execution_count": null,
   "metadata": {},
   "outputs": [],
   "source": []
  },
  {
   "cell_type": "code",
   "execution_count": 73,
   "metadata": {},
   "outputs": [
    {
     "data": {
      "text/html": [
       "<div>\n",
       "<style scoped>\n",
       "    .dataframe tbody tr th:only-of-type {\n",
       "        vertical-align: middle;\n",
       "    }\n",
       "\n",
       "    .dataframe tbody tr th {\n",
       "        vertical-align: top;\n",
       "    }\n",
       "\n",
       "    .dataframe thead th {\n",
       "        text-align: right;\n",
       "    }\n",
       "</style>\n",
       "<table border=\"1\" class=\"dataframe\">\n",
       "  <thead>\n",
       "    <tr style=\"text-align: right;\">\n",
       "      <th></th>\n",
       "      <th>PROBLEM_TYPE</th>\n",
       "      <th>no_of_cases</th>\n",
       "      <th>Avg_pending_calls</th>\n",
       "      <th>Avg_resol_time</th>\n",
       "      <th>recurrence_freq</th>\n",
       "      <th>Replace_percent</th>\n",
       "      <th>In_warranty_percent</th>\n",
       "      <th>Post_warranty_percent</th>\n",
       "      <th>GROUP</th>\n",
       "    </tr>\n",
       "  </thead>\n",
       "  <tbody>\n",
       "    <tr>\n",
       "      <th>0</th>\n",
       "      <td>Temperature control not working</td>\n",
       "      <td>170</td>\n",
       "      <td>1.3</td>\n",
       "      <td>32</td>\n",
       "      <td>0.04</td>\n",
       "      <td>0.0</td>\n",
       "      <td>75</td>\n",
       "      <td>25</td>\n",
       "      <td>1</td>\n",
       "    </tr>\n",
       "    <tr>\n",
       "      <th>1</th>\n",
       "      <td>power chord does not tightly fit</td>\n",
       "      <td>12</td>\n",
       "      <td>2.0</td>\n",
       "      <td>150</td>\n",
       "      <td>0.01</td>\n",
       "      <td>0.5</td>\n",
       "      <td>5</td>\n",
       "      <td>95</td>\n",
       "      <td>2</td>\n",
       "    </tr>\n",
       "    <tr>\n",
       "      <th>2</th>\n",
       "      <td>Fan swing not working</td>\n",
       "      <td>5</td>\n",
       "      <td>1.0</td>\n",
       "      <td>35</td>\n",
       "      <td>0.02</td>\n",
       "      <td>0.2</td>\n",
       "      <td>90</td>\n",
       "      <td>10</td>\n",
       "      <td>1</td>\n",
       "    </tr>\n",
       "    <tr>\n",
       "      <th>3</th>\n",
       "      <td>Main switch does not on</td>\n",
       "      <td>3</td>\n",
       "      <td>2.0</td>\n",
       "      <td>8</td>\n",
       "      <td>0.01</td>\n",
       "      <td>0.7</td>\n",
       "      <td>5</td>\n",
       "      <td>95</td>\n",
       "      <td>2</td>\n",
       "    </tr>\n",
       "    <tr>\n",
       "      <th>4</th>\n",
       "      <td>Forgot mobile app password</td>\n",
       "      <td>45</td>\n",
       "      <td>2.3</td>\n",
       "      <td>54</td>\n",
       "      <td>0.15</td>\n",
       "      <td>0.0</td>\n",
       "      <td>99</td>\n",
       "      <td>1</td>\n",
       "      <td>0</td>\n",
       "    </tr>\n",
       "  </tbody>\n",
       "</table>\n",
       "</div>"
      ],
      "text/plain": [
       "                       PROBLEM_TYPE  no_of_cases  Avg_pending_calls  \\\n",
       "0   Temperature control not working          170                1.3   \n",
       "1  power chord does not tightly fit           12                2.0   \n",
       "2             Fan swing not working            5                1.0   \n",
       "3           Main switch does not on            3                2.0   \n",
       "4        Forgot mobile app password           45                2.3   \n",
       "\n",
       "   Avg_resol_time  recurrence_freq  Replace_percent  In_warranty_percent  \\\n",
       "0              32             0.04              0.0                   75   \n",
       "1             150             0.01              0.5                    5   \n",
       "2              35             0.02              0.2                   90   \n",
       "3               8             0.01              0.7                    5   \n",
       "4              54             0.15              0.0                   99   \n",
       "\n",
       "   Post_warranty_percent  GROUP  \n",
       "0                     25      1  \n",
       "1                     95      2  \n",
       "2                     10      1  \n",
       "3                     95      2  \n",
       "4                      1      0  "
      ]
     },
     "execution_count": 73,
     "metadata": {},
     "output_type": "execute_result"
    }
   ],
   "source": [
    "tech_supp_df.head()"
   ]
  },
  {
   "cell_type": "code",
   "execution_count": 74,
   "metadata": {},
   "outputs": [
    {
     "data": {
      "text/html": [
       "<div>\n",
       "<style scoped>\n",
       "    .dataframe tbody tr th:only-of-type {\n",
       "        vertical-align: middle;\n",
       "    }\n",
       "\n",
       "    .dataframe tbody tr th {\n",
       "        vertical-align: top;\n",
       "    }\n",
       "\n",
       "    .dataframe thead th {\n",
       "        text-align: right;\n",
       "    }\n",
       "</style>\n",
       "<table border=\"1\" class=\"dataframe\">\n",
       "  <thead>\n",
       "    <tr style=\"text-align: right;\">\n",
       "      <th></th>\n",
       "      <th>no_of_cases</th>\n",
       "      <th>Avg_pending_calls</th>\n",
       "      <th>Avg_resol_time</th>\n",
       "      <th>recurrence_freq</th>\n",
       "      <th>Replace_percent</th>\n",
       "      <th>In_warranty_percent</th>\n",
       "      <th>Post_warranty_percent</th>\n",
       "    </tr>\n",
       "    <tr>\n",
       "      <th>GROUP</th>\n",
       "      <th></th>\n",
       "      <th></th>\n",
       "      <th></th>\n",
       "      <th></th>\n",
       "      <th></th>\n",
       "      <th></th>\n",
       "      <th></th>\n",
       "    </tr>\n",
       "  </thead>\n",
       "  <tbody>\n",
       "    <tr>\n",
       "      <th>0</th>\n",
       "      <td>35.000000</td>\n",
       "      <td>3.157143</td>\n",
       "      <td>132.571429</td>\n",
       "      <td>0.125714</td>\n",
       "      <td>0.021429</td>\n",
       "      <td>99.142857</td>\n",
       "      <td>0.857143</td>\n",
       "    </tr>\n",
       "    <tr>\n",
       "      <th>1</th>\n",
       "      <td>250.444444</td>\n",
       "      <td>1.166667</td>\n",
       "      <td>20.666667</td>\n",
       "      <td>0.125556</td>\n",
       "      <td>0.026667</td>\n",
       "      <td>85.555556</td>\n",
       "      <td>14.444444</td>\n",
       "    </tr>\n",
       "    <tr>\n",
       "      <th>2</th>\n",
       "      <td>112.142857</td>\n",
       "      <td>1.828571</td>\n",
       "      <td>47.857143</td>\n",
       "      <td>0.165714</td>\n",
       "      <td>0.272857</td>\n",
       "      <td>20.714286</td>\n",
       "      <td>79.285714</td>\n",
       "    </tr>\n",
       "  </tbody>\n",
       "</table>\n",
       "</div>"
      ],
      "text/plain": [
       "       no_of_cases  Avg_pending_calls  Avg_resol_time  recurrence_freq  \\\n",
       "GROUP                                                                    \n",
       "0        35.000000           3.157143      132.571429         0.125714   \n",
       "1       250.444444           1.166667       20.666667         0.125556   \n",
       "2       112.142857           1.828571       47.857143         0.165714   \n",
       "\n",
       "       Replace_percent  In_warranty_percent  Post_warranty_percent  \n",
       "GROUP                                                               \n",
       "0             0.021429            99.142857               0.857143  \n",
       "1             0.026667            85.555556              14.444444  \n",
       "2             0.272857            20.714286              79.285714  "
      ]
     },
     "execution_count": 74,
     "metadata": {},
     "output_type": "execute_result"
    }
   ],
   "source": [
    "techSuppClust = tech_supp_df.drop([\"PROBLEM_TYPE\"],axis=1).groupby('GROUP')\n",
    "techSuppClust.mean()"
   ]
  },
  {
   "cell_type": "code",
   "execution_count": 75,
   "metadata": {
    "colab": {},
    "colab_type": "code",
    "id": "QzlZMEEaqf6E",
    "outputId": "920d7ccb-5c96-4c35-e601-94e64e55e1da"
   },
   "outputs": [
    {
     "data": {
      "text/plain": [
       "array([[<Axes: title={'center': 'Avg_pending_calls'}, xlabel='[GROUP]'>,\n",
       "        <Axes: title={'center': 'Avg_resol_time'}, xlabel='[GROUP]'>,\n",
       "        <Axes: title={'center': 'In_warranty_percent'}, xlabel='[GROUP]'>,\n",
       "        <Axes: title={'center': 'Post_warranty_percent'}, xlabel='[GROUP]'>],\n",
       "       [<Axes: title={'center': 'Replace_percent'}, xlabel='[GROUP]'>,\n",
       "        <Axes: title={'center': 'no_of_cases'}, xlabel='[GROUP]'>,\n",
       "        <Axes: title={'center': 'recurrence_freq'}, xlabel='[GROUP]'>,\n",
       "        <Axes: >]], dtype=object)"
      ]
     },
     "execution_count": 75,
     "metadata": {},
     "output_type": "execute_result"
    },
    {
     "data": {
      "image/png": "[encoded data removed]",
      "text/plain": [
       "<Figure size 1500x1000 with 8 Axes>"
      ]
     },
     "metadata": {},
     "output_type": "display_data"
    }
   ],
   "source": [
    "techSuppScaled.boxplot(by='GROUP', layout = (2,4),figsize=(15,10))"
   ]
  },
  {
   "cell_type": "code",
   "execution_count": 76,
   "metadata": {
    "colab": {},
    "colab_type": "code",
    "id": "CqpJwcybqf6M"
   },
   "outputs": [],
   "source": [
    "#  Let us next try with K = 5, the next elbow point"
   ]
  },
  {
   "cell_type": "code",
   "execution_count": 77,
   "metadata": {
    "colab": {},
    "colab_type": "code",
    "id": "HsmQzYLzqf6T",
    "outputId": "d8faa25b-43a2-4783-db03-159c30f90cbd"
   },
   "outputs": [
    {
     "name": "stdout",
     "output_type": "stream",
     "text": [
      "Groups Assigned : \n",
      "\n"
     ]
    },
    {
     "data": {
      "text/html": [
       "<div>\n",
       "<style scoped>\n",
       "    .dataframe tbody tr th:only-of-type {\n",
       "        vertical-align: middle;\n",
       "    }\n",
       "\n",
       "    .dataframe tbody tr th {\n",
       "        vertical-align: top;\n",
       "    }\n",
       "\n",
       "    .dataframe thead th {\n",
       "        text-align: right;\n",
       "    }\n",
       "</style>\n",
       "<table border=\"1\" class=\"dataframe\">\n",
       "  <thead>\n",
       "    <tr style=\"text-align: right;\">\n",
       "      <th></th>\n",
       "      <th>PROBLEM_TYPE</th>\n",
       "      <th>no_of_cases</th>\n",
       "      <th>Avg_pending_calls</th>\n",
       "      <th>Avg_resol_time</th>\n",
       "      <th>recurrence_freq</th>\n",
       "      <th>Replace_percent</th>\n",
       "      <th>In_warranty_percent</th>\n",
       "      <th>Post_warranty_percent</th>\n",
       "      <th>GROUP</th>\n",
       "    </tr>\n",
       "  </thead>\n",
       "  <tbody>\n",
       "    <tr>\n",
       "      <th>0</th>\n",
       "      <td>Temperature control not working</td>\n",
       "      <td>170</td>\n",
       "      <td>1.3</td>\n",
       "      <td>32</td>\n",
       "      <td>0.04</td>\n",
       "      <td>0.0</td>\n",
       "      <td>75</td>\n",
       "      <td>25</td>\n",
       "      <td>[0 4 0 4 2 2 2 0 3 2 2 1 0 2 3 3 1 0 2 3 1 1 1]</td>\n",
       "    </tr>\n",
       "    <tr>\n",
       "      <th>1</th>\n",
       "      <td>power chord does not tightly fit</td>\n",
       "      <td>12</td>\n",
       "      <td>2.0</td>\n",
       "      <td>150</td>\n",
       "      <td>0.01</td>\n",
       "      <td>0.5</td>\n",
       "      <td>5</td>\n",
       "      <td>95</td>\n",
       "      <td>[0 4 0 4 2 2 2 0 3 2 2 1 0 2 3 3 1 0 2 3 1 1 1]</td>\n",
       "    </tr>\n",
       "    <tr>\n",
       "      <th>2</th>\n",
       "      <td>Fan swing not working</td>\n",
       "      <td>5</td>\n",
       "      <td>1.0</td>\n",
       "      <td>35</td>\n",
       "      <td>0.02</td>\n",
       "      <td>0.2</td>\n",
       "      <td>90</td>\n",
       "      <td>10</td>\n",
       "      <td>[0 4 0 4 2 2 2 0 3 2 2 1 0 2 3 3 1 0 2 3 1 1 1]</td>\n",
       "    </tr>\n",
       "    <tr>\n",
       "      <th>3</th>\n",
       "      <td>Main switch does not on</td>\n",
       "      <td>3</td>\n",
       "      <td>2.0</td>\n",
       "      <td>8</td>\n",
       "      <td>0.01</td>\n",
       "      <td>0.7</td>\n",
       "      <td>5</td>\n",
       "      <td>95</td>\n",
       "      <td>[0 4 0 4 2 2 2 0 3 2 2 1 0 2 3 3 1 0 2 3 1 1 1]</td>\n",
       "    </tr>\n",
       "    <tr>\n",
       "      <th>4</th>\n",
       "      <td>Forgot mobile app password</td>\n",
       "      <td>45</td>\n",
       "      <td>2.3</td>\n",
       "      <td>54</td>\n",
       "      <td>0.15</td>\n",
       "      <td>0.0</td>\n",
       "      <td>99</td>\n",
       "      <td>1</td>\n",
       "      <td>[0 4 0 4 2 2 2 0 3 2 2 1 0 2 3 3 1 0 2 3 1 1 1]</td>\n",
       "    </tr>\n",
       "  </tbody>\n",
       "</table>\n",
       "</div>"
      ],
      "text/plain": [
       "                       PROBLEM_TYPE  no_of_cases  Avg_pending_calls  \\\n",
       "0   Temperature control not working          170                1.3   \n",
       "1  power chord does not tightly fit           12                2.0   \n",
       "2             Fan swing not working            5                1.0   \n",
       "3           Main switch does not on            3                2.0   \n",
       "4        Forgot mobile app password           45                2.3   \n",
       "\n",
       "   Avg_resol_time  recurrence_freq  Replace_percent  In_warranty_percent  \\\n",
       "0              32             0.04              0.0                   75   \n",
       "1             150             0.01              0.5                    5   \n",
       "2              35             0.02              0.2                   90   \n",
       "3               8             0.01              0.7                    5   \n",
       "4              54             0.15              0.0                   99   \n",
       "\n",
       "   Post_warranty_percent                                            GROUP  \n",
       "0                     25  [0 4 0 4 2 2 2 0 3 2 2 1 0 2 3 3 1 0 2 3 1 1 1]  \n",
       "1                     95  [0 4 0 4 2 2 2 0 3 2 2 1 0 2 3 3 1 0 2 3 1 1 1]  \n",
       "2                     10  [0 4 0 4 2 2 2 0 3 2 2 1 0 2 3 3 1 0 2 3 1 1 1]  \n",
       "3                     95  [0 4 0 4 2 2 2 0 3 2 2 1 0 2 3 3 1 0 2 3 1 1 1]  \n",
       "4                      1  [0 4 0 4 2 2 2 0 3 2 2 1 0 2 3 3 1 0 2 3 1 1 1]  "
      ]
     },
     "execution_count": 77,
     "metadata": {},
     "output_type": "execute_result"
    }
   ],
   "source": [
    "# Let us first start with K = 5\n",
    "final_model=KMeans(5,n_init=10)\n",
    "final_model.fit(techSuppScaled)\n",
    "prediction=final_model.predict(techSuppScaled)\n",
    "\n",
    "#Append the prediction \n",
    "tech_supp_df[\"GROUP\"] = str(prediction)\n",
    "techSuppScaled[\"GROUP\"] = str(prediction)\n",
    "print(\"Groups Assigned : \\n\")\n",
    "tech_supp_df.head()"
   ]
  },
  {
   "cell_type": "code",
   "execution_count": 79,
   "metadata": {},
   "outputs": [
    {
     "data": {
      "text/html": [
       "<div>\n",
       "<style scoped>\n",
       "    .dataframe tbody tr th:only-of-type {\n",
       "        vertical-align: middle;\n",
       "    }\n",
       "\n",
       "    .dataframe tbody tr th {\n",
       "        vertical-align: top;\n",
       "    }\n",
       "\n",
       "    .dataframe thead th {\n",
       "        text-align: right;\n",
       "    }\n",
       "</style>\n",
       "<table border=\"1\" class=\"dataframe\">\n",
       "  <thead>\n",
       "    <tr style=\"text-align: right;\">\n",
       "      <th></th>\n",
       "      <th>no_of_cases</th>\n",
       "      <th>Avg_pending_calls</th>\n",
       "      <th>Avg_resol_time</th>\n",
       "      <th>recurrence_freq</th>\n",
       "      <th>Replace_percent</th>\n",
       "      <th>In_warranty_percent</th>\n",
       "      <th>Post_warranty_percent</th>\n",
       "    </tr>\n",
       "    <tr>\n",
       "      <th>GROUP</th>\n",
       "      <th></th>\n",
       "      <th></th>\n",
       "      <th></th>\n",
       "      <th></th>\n",
       "      <th></th>\n",
       "      <th></th>\n",
       "      <th></th>\n",
       "    </tr>\n",
       "  </thead>\n",
       "  <tbody>\n",
       "    <tr>\n",
       "      <th>[0 4 0 4 2 2 2 0 3 2 2 1 0 2 3 3 1 0 2 3 1 1 1]</th>\n",
       "      <td>142.782609</td>\n",
       "      <td>1.973913</td>\n",
       "      <td>63.0</td>\n",
       "      <td>0.137826</td>\n",
       "      <td>0.1</td>\n",
       "      <td>69.956522</td>\n",
       "      <td>30.043478</td>\n",
       "    </tr>\n",
       "  </tbody>\n",
       "</table>\n",
       "</div>"
      ],
      "text/plain": [
       "                                                 no_of_cases  \\\n",
       "GROUP                                                          \n",
       "[0 4 0 4 2 2 2 0 3 2 2 1 0 2 3 3 1 0 2 3 1 1 1]   142.782609   \n",
       "\n",
       "                                                 Avg_pending_calls  \\\n",
       "GROUP                                                                \n",
       "[0 4 0 4 2 2 2 0 3 2 2 1 0 2 3 3 1 0 2 3 1 1 1]           1.973913   \n",
       "\n",
       "                                                 Avg_resol_time  \\\n",
       "GROUP                                                             \n",
       "[0 4 0 4 2 2 2 0 3 2 2 1 0 2 3 3 1 0 2 3 1 1 1]            63.0   \n",
       "\n",
       "                                                 recurrence_freq  \\\n",
       "GROUP                                                              \n",
       "[0 4 0 4 2 2 2 0 3 2 2 1 0 2 3 3 1 0 2 3 1 1 1]         0.137826   \n",
       "\n",
       "                                                 Replace_percent  \\\n",
       "GROUP                                                              \n",
       "[0 4 0 4 2 2 2 0 3 2 2 1 0 2 3 3 1 0 2 3 1 1 1]              0.1   \n",
       "\n",
       "                                                 In_warranty_percent  \\\n",
       "GROUP                                                                  \n",
       "[0 4 0 4 2 2 2 0 3 2 2 1 0 2 3 3 1 0 2 3 1 1 1]            69.956522   \n",
       "\n",
       "                                                 Post_warranty_percent  \n",
       "GROUP                                                                   \n",
       "[0 4 0 4 2 2 2 0 3 2 2 1 0 2 3 3 1 0 2 3 1 1 1]              30.043478  "
      ]
     },
     "execution_count": 79,
     "metadata": {},
     "output_type": "execute_result"
    }
   ],
   "source": [
    "techSuppClust = tech_supp_df.drop([\"PROBLEM_TYPE\"],axis=1).groupby('GROUP')\n",
    "techSuppClust.mean()"
   ]
  },
  {
   "cell_type": "code",
   "execution_count": 80,
   "metadata": {
    "colab": {},
    "colab_type": "code",
    "id": "86Ypg_PHqf6a",
    "outputId": "2753099c-25b9-4e1d-be5f-fe9685ca6b7a"
   },
   "outputs": [
    {
     "data": {
      "text/plain": [
       "array([[<Axes: title={'center': 'Avg_pending_calls'}, xlabel='[GROUP]'>,\n",
       "        <Axes: title={'center': 'Avg_resol_time'}, xlabel='[GROUP]'>,\n",
       "        <Axes: title={'center': 'In_warranty_percent'}, xlabel='[GROUP]'>,\n",
       "        <Axes: title={'center': 'Post_warranty_percent'}, xlabel='[GROUP]'>],\n",
       "       [<Axes: title={'center': 'Replace_percent'}, xlabel='[GROUP]'>,\n",
       "        <Axes: title={'center': 'no_of_cases'}, xlabel='[GROUP]'>,\n",
       "        <Axes: title={'center': 'recurrence_freq'}, xlabel='[GROUP]'>,\n",
       "        <Axes: >]], dtype=object)"
      ]
     },
     "execution_count": 80,
     "metadata": {},
     "output_type": "execute_result"
    },
    {
     "data": {
      "image/png": "[encoded data removed]",
      "text/plain": [
       "<Figure size 1500x1000 with 8 Axes>"
      ]
     },
     "metadata": {},
     "output_type": "display_data"
    }
   ],
   "source": [
    "techSuppScaled.boxplot(by='GROUP', layout = (2,4),figsize=(15,10))"
   ]
  },
  {
   "cell_type": "code",
   "execution_count": null,
   "metadata": {},
   "outputs": [],
   "source": []
  }
 ],
 "metadata": {
  "colab": {
   "name": "tech_supp_analysis.ipynb",
   "provenance": [],
   "version": "0.3.2"
  },
  "kernelspec": {
   "display_name": "Python 3 (ipykernel)",
   "language": "python",
   "name": "python3"
  },
  "language_info": {
   "codemirror_mode": {
    "name": "ipython",
    "version": 3
   },
   "file_extension": ".py",
   "mimetype": "text/x-python",
   "name": "python",
   "nbconvert_exporter": "python",
   "pygments_lexer": "ipython3",
   "version": "3.10.12"
  }
 },
 "nbformat": 4,
 "nbformat_minor": 4
}
