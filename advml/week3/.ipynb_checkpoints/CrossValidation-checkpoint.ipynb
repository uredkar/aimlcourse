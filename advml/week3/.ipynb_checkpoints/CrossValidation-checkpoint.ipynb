{
 "cells": [
  {
   "cell_type": "code",
   "execution_count": 8,
   "id": "dcbb911d-98df-49de-881d-d74e31b254a4",
   "metadata": {},
   "outputs": [],
   "source": [
    "import pandas as pd\n",
    "data = pd.read_csv(\"Loanclients.csv\")\n",
    "\n",
    "data[\"phone_operator\"] = data[\"phone_operator\"].astype(\"category\")\n",
    "data[\"product_type\"] = data[\"product_type\"].astype(\"category\")\n",
    "data[\"education\"] = data[\"education\"].astype(\"category\")"
   ]
  },
  {
   "cell_type": "code",
   "execution_count": 12,
   "id": "f3fa6ed8-4bcc-4ca9-aae3-575fdb3346cc",
   "metadata": {},
   "outputs": [],
   "source": [
    "X = data.drop([\"target\"], axis=1)\n",
    "Y = data[\"target\"]\n",
    "\n",
    "# creating dummy variables\n",
    "#X = pd.get_dummies(X, drop_first=True)"
   ]
  },
  {
   "cell_type": "code",
   "execution_count": 14,
   "id": "a7c66ab5-5e07-4863-af77-fcb86713f6b1",
   "metadata": {},
   "outputs": [
    {
     "name": "stderr",
     "output_type": "stream",
     "text": [
      "C:\\Users\\unmes\\anaconda3\\lib\\site-packages\\sklearn\\preprocessing\\_encoders.py:972: FutureWarning: `sparse` was renamed to `sparse_output` in version 1.2 and will be removed in 1.4. `sparse_output` is ignored unless you leave `sparse` to its default value.\n",
      "  warnings.warn(\n"
     ]
    }
   ],
   "source": [
    "\n",
    "from sklearn.model_selection import train_test_split\n",
    "from sklearn.preprocessing import OneHotEncoder\n",
    "\n",
    "# Split the data into training and testing sets\n",
    "X_train, X_test, y_train, y_test = train_test_split(X, Y, test_size=0.2, random_state=1)\n",
    "\n",
    "# Identify categorical columns that need one-hot encoding\n",
    "categorical_columns = [\"phone_operator\", \"product_type\",\"education\"]\n",
    "\n",
    "# Perform one-hot encoding on the training set\n",
    "encoder = OneHotEncoder(sparse=False, drop='first')  # 'drop' removes one column to avoid multicollinearity\n",
    "X_train_encoded = encoder.fit_transform(X_train[categorical_columns])\n",
    "\n",
    "# Transform the testing set using the same encoder\n",
    "X_test_encoded = encoder.transform(X_test[categorical_columns])\n",
    "\n",
    "# Combine encoded features with the original features\n",
    "X_train_encoded = pd.DataFrame(X_train_encoded, columns=encoder.get_feature_names_out(categorical_columns))\n",
    "X_test_encoded = pd.DataFrame(X_test_encoded, columns=encoder.get_feature_names_out(categorical_columns))\n",
    "\n",
    "# Concatenate encoded features with the original features\n",
    "X_train = pd.concat([X_train.drop(categorical_columns, axis=1), X_train_encoded], axis=1)\n",
    "X_test = pd.concat([X_test.drop(categorical_columns, axis=1), X_test_encoded], axis=1)\n"
   ]
  },
  {
   "cell_type": "code",
   "execution_count": null,
   "id": "e33c41a8-0902-4e22-bb3c-06ae30f661ee",
   "metadata": {},
   "outputs": [],
   "source": []
  }
 ],
 "metadata": {
  "kernelspec": {
   "display_name": "Python 3 (ipykernel)",
   "language": "python",
   "name": "python3"
  },
  "language_info": {
   "codemirror_mode": {
    "name": "ipython",
    "version": 3
   },
   "file_extension": ".py",
   "mimetype": "text/x-python",
   "name": "python",
   "nbconvert_exporter": "python",
   "pygments_lexer": "ipython3",
   "version": "3.10.12"
  }
 },
 "nbformat": 4,
 "nbformat_minor": 5
}
