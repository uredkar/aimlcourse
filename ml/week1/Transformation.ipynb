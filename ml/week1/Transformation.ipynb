{
 "cells": [
  {
   "cell_type": "code",
   "execution_count": null,
   "id": "1ffe7b2d",
   "metadata": {},
   "outputs": [],
   "source": [
    "from pyspark.sql import SparkSession\n",
    "\n",
    "# Create a Spark session\n",
    "spark = SparkSession.builder.appName(\"InnerJoinExample\").getOrCreate()\n",
    "\n",
    "# Create DataFrame 1\n",
    "data1 = [(\"Alice\", 25),\n",
    "         (\"Bob\", 30),\n",
    "         (\"Charlie\", 28)]\n",
    "columns1 = [\"Name\", \"Age\"]\n",
    "df1 = spark.createDataFrame(data1, columns1)\n",
    "\n",
    "# Create DataFrame 2\n",
    "data2 = [(\"Alice\", \"Engineer\"),\n",
    "         (\"Charlie\", \"Designer\"),\n",
    "         (\"David\", \"Analyst\")]\n",
    "columns2 = [\"Name\", \"Occupation\"]\n",
    "df2 = spark.createDataFrame(data2, columns2)\n",
    "\n",
    "# Perform inner join\n",
    "result_df = df1.join(df2, on=\"Name\", how=\"inner\")\n",
    "\n",
    "# Show the result\n",
    "result_df.show()\n",
    "\n",
    "# Stop the Spark session\n",
    "spark.stop()"
   ]
  },
  {
   "cell_type": "code",
   "execution_count": null,
   "id": "798c0806",
   "metadata": {},
   "outputs": [],
   "source": []
  }
 ],
 "metadata": {
  "kernelspec": {
   "display_name": "PySpark3",
   "language": "",
   "name": "pyspark3kernel"
  }
 },
 "nbformat": 4,
 "nbformat_minor": 5
}
